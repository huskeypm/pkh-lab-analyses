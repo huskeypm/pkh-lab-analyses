{
 "cells": [
  {
   "cell_type": "markdown",
   "metadata": {},
   "source": [
    "Analysis of unrestrained trajectories.\n",
    "\n",
    "Based on `p20201102a_free.ipynb`.\n",
    "\n",
    "And borrowing some stuff from:\n",
    "\n",
    "- `p20201130b_wdens_dlocal_pmf.ipynb`\n",
    "- `zeolites` repo `p20201203a_plots.ipynb`"
   ]
  },
  {
   "cell_type": "markdown",
   "metadata": {},
   "source": [
    "## Setup"
   ]
  },
  {
   "cell_type": "code",
   "execution_count": 1,
   "metadata": {},
   "outputs": [],
   "source": [
    "import os\n",
    "import os.path as osp"
   ]
  },
  {
   "cell_type": "code",
   "execution_count": 2,
   "metadata": {},
   "outputs": [],
   "source": [
    "import numpy as np"
   ]
  },
  {
   "cell_type": "code",
   "execution_count": 3,
   "metadata": {},
   "outputs": [],
   "source": [
    "import pandas as pd"
   ]
  },
  {
   "cell_type": "code",
   "execution_count": 4,
   "metadata": {},
   "outputs": [],
   "source": [
    "from datetime import datetime"
   ]
  },
  {
   "cell_type": "code",
   "execution_count": 5,
   "metadata": {},
   "outputs": [],
   "source": [
    "import matplotlib as mpl\n",
    "import matplotlib.pyplot as plt"
   ]
  },
  {
   "cell_type": "code",
   "execution_count": 6,
   "metadata": {},
   "outputs": [],
   "source": [
    "%matplotlib inline"
   ]
  },
  {
   "cell_type": "code",
   "execution_count": 7,
   "metadata": {},
   "outputs": [],
   "source": [
    "# mpl.rcParams['figure.dpi']= 300"
   ]
  },
  {
   "cell_type": "code",
   "execution_count": 8,
   "metadata": {},
   "outputs": [],
   "source": [
    "mpl.rcParams['xtick.labelsize']=\"large\"\n",
    "mpl.rcParams['ytick.labelsize']=\"large\""
   ]
  },
  {
   "cell_type": "code",
   "execution_count": 9,
   "metadata": {},
   "outputs": [],
   "source": [
    "from collections import namedtuple"
   ]
  },
  {
   "cell_type": "code",
   "execution_count": 10,
   "metadata": {},
   "outputs": [],
   "source": [
    "from scipy.optimize import curve_fit"
   ]
  },
  {
   "cell_type": "markdown",
   "metadata": {},
   "source": [
    "## Constants"
   ]
  },
  {
   "cell_type": "code",
   "execution_count": 11,
   "metadata": {},
   "outputs": [],
   "source": [
    "input_fname=\"920_msd.csv.xz\""
   ]
  },
  {
   "cell_type": "code",
   "execution_count": 12,
   "metadata": {},
   "outputs": [],
   "source": [
    "tag_list=[\"01\",\"02\",\"03\"]"
   ]
  },
  {
   "cell_type": "code",
   "execution_count": 13,
   "metadata": {},
   "outputs": [],
   "source": [
    "coordcols=['xsq','ysq','zsq']"
   ]
  },
  {
   "cell_type": "code",
   "execution_count": 14,
   "metadata": {},
   "outputs": [],
   "source": [
    "framenames=[\"A\",\"B\",\"C\"]"
   ]
  },
  {
   "cell_type": "code",
   "execution_count": 15,
   "metadata": {},
   "outputs": [
    {
     "data": {
      "text/plain": [
       "{'01': 'A', '02': 'B', '03': 'C'}"
      ]
     },
     "execution_count": 15,
     "metadata": {},
     "output_type": "execute_result"
    }
   ],
   "source": [
    "frametags=dict(zip(tag_list,framenames))\n",
    "frametags"
   ]
  },
  {
   "cell_type": "code",
   "execution_count": 16,
   "metadata": {},
   "outputs": [],
   "source": [
    "plot_fname=\"msd_plot.png\""
   ]
  },
  {
   "cell_type": "code",
   "execution_count": 17,
   "metadata": {},
   "outputs": [],
   "source": [
    "presplot_fname=\"msd_presplot.png\""
   ]
  },
  {
   "cell_type": "code",
   "execution_count": 18,
   "metadata": {},
   "outputs": [],
   "source": [
    "outdata_fname=\"D_from_msd.yaml\""
   ]
  },
  {
   "cell_type": "markdown",
   "metadata": {},
   "source": [
    "## Data file paths"
   ]
  },
  {
   "cell_type": "code",
   "execution_count": 19,
   "metadata": {},
   "outputs": [],
   "source": [
    "top_folder=\"../jobs/run/bulk03\""
   ]
  },
  {
   "cell_type": "code",
   "execution_count": 20,
   "metadata": {},
   "outputs": [],
   "source": [
    "infpaths={tag:osp.join(top_folder,tag,input_fname) for tag in tag_list}"
   ]
  },
  {
   "cell_type": "code",
   "execution_count": 21,
   "metadata": {},
   "outputs": [
    {
     "data": {
      "text/plain": [
       "{'01': True, '02': True, '03': True}"
      ]
     },
     "execution_count": 21,
     "metadata": {},
     "output_type": "execute_result"
    }
   ],
   "source": [
    "exist_dict={tag:osp.isfile(fpath) for tag,fpath in infpaths.items()}\n",
    "exist_dict"
   ]
  },
  {
   "cell_type": "code",
   "execution_count": 22,
   "metadata": {},
   "outputs": [],
   "source": [
    "assert all(exist_dict.values())"
   ]
  },
  {
   "cell_type": "markdown",
   "metadata": {},
   "source": [
    "## Output data folder and paths"
   ]
  },
  {
   "cell_type": "code",
   "execution_count": 23,
   "metadata": {},
   "outputs": [],
   "source": [
    "outdir_top=\"../postproc/from_notebooks\"\n",
    "assert osp.isdir(outdir_top)"
   ]
  },
  {
   "cell_type": "code",
   "execution_count": 24,
   "metadata": {},
   "outputs": [
    {
     "data": {
      "text/plain": [
       "'2020_12_04'"
      ]
     },
     "execution_count": 24,
     "metadata": {},
     "output_type": "execute_result"
    }
   ],
   "source": [
    "datestr=datetime.now().strftime(\"%Y_%m_%d\")\n",
    "datestr"
   ]
  },
  {
   "cell_type": "code",
   "execution_count": 25,
   "metadata": {},
   "outputs": [],
   "source": [
    "outdir=osp.join(outdir_top,datestr)"
   ]
  },
  {
   "cell_type": "code",
   "execution_count": 26,
   "metadata": {},
   "outputs": [],
   "source": [
    "if not osp.isdir(outdir):\n",
    "  os.makedirs(outdir)\n",
    "assert osp.isdir(outdir)"
   ]
  },
  {
   "cell_type": "code",
   "execution_count": 27,
   "metadata": {},
   "outputs": [],
   "source": [
    "plot_fpath=osp.join(outdir,plot_fname)\n",
    "presplot_fpath=osp.join(outdir,presplot_fname)"
   ]
  },
  {
   "cell_type": "code",
   "execution_count": 28,
   "metadata": {},
   "outputs": [],
   "source": [
    "outdata_fpath=osp.join(outdir,outdata_fname)"
   ]
  },
  {
   "cell_type": "markdown",
   "metadata": {},
   "source": [
    "## Load data"
   ]
  },
  {
   "cell_type": "code",
   "execution_count": 29,
   "metadata": {},
   "outputs": [],
   "source": [
    "trajframes={tag:pd.read_csv(fpath) for tag,fpath in infpaths.items()}"
   ]
  },
  {
   "cell_type": "code",
   "execution_count": 30,
   "metadata": {},
   "outputs": [
    {
     "data": {
      "text/plain": [
       "Index(['t', 'x', 'y', 'z', 'xsq', 'ysq', 'zsq'], dtype='object')"
      ]
     },
     "execution_count": 30,
     "metadata": {},
     "output_type": "execute_result"
    }
   ],
   "source": [
    "trajframes[tag_list[0]].columns"
   ]
  },
  {
   "cell_type": "code",
   "execution_count": 31,
   "metadata": {},
   "outputs": [
    {
     "data": {
      "text/plain": [
       "(800001, 7)"
      ]
     },
     "execution_count": 31,
     "metadata": {},
     "output_type": "execute_result"
    }
   ],
   "source": [
    "trajframes[tag_list[0]].shape"
   ]
  },
  {
   "cell_type": "markdown",
   "metadata": {},
   "source": [
    "## Create dataframe with sum of squared deviations for each trial"
   ]
  },
  {
   "cell_type": "code",
   "execution_count": 32,
   "metadata": {},
   "outputs": [],
   "source": [
    "framecols=['t','t_ns']+framenames"
   ]
  },
  {
   "cell_type": "code",
   "execution_count": 33,
   "metadata": {},
   "outputs": [],
   "source": [
    "def do_ns(row):\n",
    "  return row['t']/1000.0"
   ]
  },
  {
   "cell_type": "code",
   "execution_count": 34,
   "metadata": {},
   "outputs": [],
   "source": [
    "newframe=pd.DataFrame(trajframes[tag_list[0]].loc[:,'t'],columns=framecols)\n",
    "newframe['t_ns']=newframe.apply(do_ns,axis=1)\n",
    "for col in framenames:\n",
    "  newframe[col]=0"
   ]
  },
  {
   "cell_type": "code",
   "execution_count": 35,
   "metadata": {},
   "outputs": [
    {
     "data": {
      "text/plain": [
       "t       20.00\n",
       "t_ns     0.02\n",
       "A        0.00\n",
       "B        0.00\n",
       "C        0.00\n",
       "Name: 1000, dtype: float64"
      ]
     },
     "execution_count": 35,
     "metadata": {},
     "output_type": "execute_result"
    }
   ],
   "source": [
    "newframe.loc[1000,:]"
   ]
  },
  {
   "cell_type": "code",
   "execution_count": 36,
   "metadata": {},
   "outputs": [],
   "source": [
    "for col in coordcols:  \n",
    "  for tag,df in trajframes.items():\n",
    "    newframe.loc[:,frametags[tag]] += df.loc[:,col]"
   ]
  },
  {
   "cell_type": "code",
   "execution_count": 37,
   "metadata": {},
   "outputs": [
    {
     "data": {
      "text/plain": [
       "t       20.000000\n",
       "t_ns     0.020000\n",
       "A        0.633664\n",
       "B        0.119345\n",
       "C        0.442439\n",
       "Name: 1000, dtype: float64"
      ]
     },
     "execution_count": 37,
     "metadata": {},
     "output_type": "execute_result"
    }
   ],
   "source": [
    "newframe.loc[1000,:]"
   ]
  },
  {
   "cell_type": "markdown",
   "metadata": {},
   "source": [
    "## Plots"
   ]
  },
  {
   "cell_type": "code",
   "execution_count": 38,
   "metadata": {},
   "outputs": [],
   "source": [
    "framecolors={\"A\":\"r\",\"B\":\"g\",\"C\":\"b\"}"
   ]
  },
  {
   "cell_type": "code",
   "execution_count": 39,
   "metadata": {},
   "outputs": [],
   "source": [
    "def plot_3msd_frames(df,cutoff=-1,suffix=\"\",ylabel=\"Radial Mean Squared Deviation [nm$^2$]\",lines=None,fpath=None):\n",
    "  fig,ax=plt.subplots(figsize=(8,6))\n",
    "  for frame,color in framecolors.items():\n",
    "    o=ax.plot(df['t_ns'][:cutoff],df[frame+suffix][:cutoff],color+'-',label=frame)\n",
    "  for frame,color in framecolors.items():\n",
    "    if lines is not None:\n",
    "      m=lines[frame]\n",
    "      tmax=df.iloc[cutoff,1]\n",
    "      o=ax.plot([0,tmax],[0,m*tmax],color+\"--\",label=\"%s fit\"%frame)\n",
    "  o=ax.set_xlabel(\"time [nsec]\",fontsize=16)\n",
    "  o=ax.set_ylabel(ylabel,fontsize=16)\n",
    "  o=ax.legend(loc=\"upper left\",fontsize=16)\n",
    "  if fpath is not None:\n",
    "    fig.savefig(fpath,dpi=150)\n",
    "  return"
   ]
  },
  {
   "cell_type": "code",
   "execution_count": 40,
   "metadata": {},
   "outputs": [
    {
     "data": {
      "image/png": "[encoded data removed]",
      "text/plain": [
       "<Figure size 576x432 with 1 Axes>"
      ]
     },
     "metadata": {
      "needs_background": "light"
     },
     "output_type": "display_data"
    }
   ],
   "source": [
    "plot_3msd_frames(newframe)"
   ]
  },
  {
   "cell_type": "markdown",
   "metadata": {},
   "source": [
    "## Fit line(s)"
   ]
  },
  {
   "cell_type": "code",
   "execution_count": 41,
   "metadata": {},
   "outputs": [],
   "source": [
    "def fitfunc(t,m):\n",
    "  return m*t"
   ]
  },
  {
   "cell_type": "code",
   "execution_count": 42,
   "metadata": {},
   "outputs": [],
   "source": [
    "arg_order=['m']\n",
    "fitparams=namedtuple('fitparams',arg_order)\n",
    "errortup=fitparams(*[None for itm in arg_order])"
   ]
  },
  {
   "cell_type": "code",
   "execution_count": 43,
   "metadata": {},
   "outputs": [],
   "source": [
    "results_dict={}\n",
    "perrs_dict={}\n",
    "tdata=newframe['t_ns']\n",
    "for fn in framenames:\n",
    "  try:\n",
    "    popt,pcov=curve_fit(fitfunc,tdata,newframe[fn])\n",
    "    results_dict[fn]=fitparams(*popt)\n",
    "    perrs_dict[fn]=fitparams(*np.sqrt(np.diag(pcov)))\n",
    "  except RuntimeError:\n",
    "    results_dict[fn]=errortup\n",
    "    perrs_dict[fn]=errortup"
   ]
  },
  {
   "cell_type": "code",
   "execution_count": 44,
   "metadata": {},
   "outputs": [
    {
     "data": {
      "text/plain": [
       "{'A': fitparams(m=14.348511884147117),\n",
       " 'B': fitparams(m=7.261509889413928),\n",
       " 'C': fitparams(m=27.041937974384467)}"
      ]
     },
     "execution_count": 44,
     "metadata": {},
     "output_type": "execute_result"
    }
   ],
   "source": [
    "results_dict"
   ]
  },
  {
   "cell_type": "code",
   "execution_count": 45,
   "metadata": {},
   "outputs": [
    {
     "data": {
      "text/plain": [
       "{'A': fitparams(m=0.005036469087934094),\n",
       " 'B': fitparams(m=0.007020390131802154),\n",
       " 'C': fitparams(m=0.013589119654315238)}"
      ]
     },
     "execution_count": 45,
     "metadata": {},
     "output_type": "execute_result"
    }
   ],
   "source": [
    "perrs_dict"
   ]
  },
  {
   "cell_type": "code",
   "execution_count": 46,
   "metadata": {},
   "outputs": [],
   "source": [
    "Dvals_dict={}\n",
    "for fn in framenames:\n",
    "  Dvals_dict[fn]=results_dict[fn].m/6.0"
   ]
  },
  {
   "cell_type": "code",
   "execution_count": 47,
   "metadata": {},
   "outputs": [
    {
     "data": {
      "text/plain": [
       "{'A': 2.391418647357853, 'B': 1.2102516482356547, 'C': 4.5069896623974115}"
      ]
     },
     "execution_count": 47,
     "metadata": {},
     "output_type": "execute_result"
    }
   ],
   "source": [
    "Dvals_dict"
   ]
  },
  {
   "cell_type": "code",
   "execution_count": 48,
   "metadata": {},
   "outputs": [],
   "source": [
    "lines={fn:results_dict[fn].m for fn in framenames}"
   ]
  },
  {
   "cell_type": "markdown",
   "metadata": {},
   "source": [
    "## Plot with fits"
   ]
  },
  {
   "cell_type": "code",
   "execution_count": 49,
   "metadata": {},
   "outputs": [
    {
     "data": {
      "image/png": "[encoded data removed]",
      "text/plain": [
       "<Figure size 576x432 with 1 Axes>"
      ]
     },
     "metadata": {
      "needs_background": "light"
     },
     "output_type": "display_data"
    }
   ],
   "source": [
    "plot_3msd_frames(newframe,lines=lines,fpath=plot_fpath)"
   ]
  },
  {
   "cell_type": "code",
   "execution_count": 50,
   "metadata": {},
   "outputs": [],
   "source": [
    "def plot_3msd_frames_pres(df,cutoff=-1,suffix=\"\",\n",
    "                          ylabel=\"Radial MSD\",lines=None,fpath=None):\n",
    "  fig,ax=plt.subplots(figsize=(4,3))\n",
    "  for frame,color in framecolors.items():\n",
    "    o=ax.plot(df['t_ns'][:cutoff],df[frame+suffix][:cutoff],color+'-',label=frame)\n",
    "  for frame,color in framecolors.items():\n",
    "    if lines is not None:\n",
    "      m=lines[frame]\n",
    "      tmax=df.iloc[cutoff,1]\n",
    "      o=ax.plot([0,tmax],[0,m*tmax],color+\"--\",label=\"%s fit\"%frame)\n",
    "  o=ax.set_xlabel(\"time\",fontsize=20)\n",
    "  o=ax.set_ylabel(ylabel,fontsize=20)\n",
    "  o=ax.set_xticks([])\n",
    "  o=ax.set_yticks([])\n",
    "  ##o=ax.legend(loc=\"upper left\",fontsize=16)\n",
    "  if fpath is not None:\n",
    "    fig.savefig(fpath)\n",
    "  return"
   ]
  },
  {
   "cell_type": "code",
   "execution_count": 51,
   "metadata": {},
   "outputs": [
    {
     "data": {
      "image/png": "[encoded data removed]",
      "text/plain": [
       "<Figure size 288x216 with 1 Axes>"
      ]
     },
     "metadata": {},
     "output_type": "display_data"
    }
   ],
   "source": [
    "plot_3msd_frames_pres(newframe,lines=lines,fpath=presplot_fpath)"
   ]
  },
  {
   "cell_type": "markdown",
   "metadata": {},
   "source": [
    "## Write D values to file"
   ]
  },
  {
   "cell_type": "code",
   "execution_count": 52,
   "metadata": {},
   "outputs": [],
   "source": [
    "with open(outdata_fpath,\"w\") as fp:\n",
    "  fp.write(\"%YAML 1.2\\n---\\n\")\n",
    "  fp.write(\"#D in units of nm^2/nsec\\n\")\n",
    "  for fn,Dval in Dvals_dict.items():\n",
    "    fp.write(\"{fn}: {Dval}\\n\".format(fn=fn,Dval=Dval))"
   ]
  },
  {
   "cell_type": "code",
   "execution_count": null,
   "metadata": {},
   "outputs": [],
   "source": []
  }
 ],
 "metadata": {
  "kernelspec": {
   "display_name": "Python 3",
   "language": "python",
   "name": "python3"
  },
  "language_info": {
   "codemirror_mode": {
    "name": "ipython",
    "version": 3
   },
   "file_extension": ".py",
   "mimetype": "text/x-python",
   "name": "python",
   "nbconvert_exporter": "python",
   "pygments_lexer": "ipython3",
   "version": "3.8.6"
  }
 },
 "nbformat": 4,
 "nbformat_minor": 4
}
