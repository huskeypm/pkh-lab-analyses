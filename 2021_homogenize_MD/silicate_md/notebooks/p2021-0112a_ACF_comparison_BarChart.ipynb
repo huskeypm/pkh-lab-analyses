{
 "cells": [
  {
   "cell_type": "markdown",
   "metadata": {},
   "source": [
    "Compare the ACF (and MSD) from bulk water trajectories under two different force fields.\n",
    "\n",
    "Continuing from `p20201204b_ACF_comparison.ipynb`."
   ]
  },
  {
   "cell_type": "markdown",
   "metadata": {},
   "source": [
    "## Setup"
   ]
  },
  {
   "cell_type": "code",
   "execution_count": 1,
   "metadata": {},
   "outputs": [],
   "source": [
    "import os\n",
    "import os.path as osp"
   ]
  },
  {
   "cell_type": "code",
   "execution_count": 2,
   "metadata": {},
   "outputs": [],
   "source": [
    "import sys"
   ]
  },
  {
   "cell_type": "code",
   "execution_count": 3,
   "metadata": {},
   "outputs": [],
   "source": [
    "sys.path.append('../modules')"
   ]
  },
  {
   "cell_type": "code",
   "execution_count": 4,
   "metadata": {},
   "outputs": [],
   "source": [
    "import xvg_conversion as xvg"
   ]
  },
  {
   "cell_type": "code",
   "execution_count": 5,
   "metadata": {},
   "outputs": [],
   "source": [
    "import numpy as np"
   ]
  },
  {
   "cell_type": "code",
   "execution_count": 6,
   "metadata": {},
   "outputs": [],
   "source": [
    "import pandas as pd"
   ]
  },
  {
   "cell_type": "code",
   "execution_count": 7,
   "metadata": {},
   "outputs": [],
   "source": [
    "import matplotlib.pyplot as plt"
   ]
  },
  {
   "cell_type": "code",
   "execution_count": 8,
   "metadata": {},
   "outputs": [],
   "source": [
    "%matplotlib inline"
   ]
  },
  {
   "cell_type": "code",
   "execution_count": 9,
   "metadata": {},
   "outputs": [],
   "source": [
    "import matplotlib as mpl\n",
    "mpl.rcParams['figure.dpi']= 300"
   ]
  },
  {
   "cell_type": "code",
   "execution_count": 10,
   "metadata": {},
   "outputs": [],
   "source": [
    "from datetime import datetime"
   ]
  },
  {
   "cell_type": "code",
   "execution_count": 11,
   "metadata": {},
   "outputs": [],
   "source": [
    "from ruamel.yaml import YAML"
   ]
  },
  {
   "cell_type": "code",
   "execution_count": 12,
   "metadata": {},
   "outputs": [],
   "source": [
    "yaml=YAML(typ=\"safe\",pure=True)"
   ]
  },
  {
   "cell_type": "code",
   "execution_count": 13,
   "metadata": {},
   "outputs": [],
   "source": [
    "import scipy.constants"
   ]
  },
  {
   "cell_type": "code",
   "execution_count": 14,
   "metadata": {},
   "outputs": [],
   "source": [
    "physical_constants=scipy.constants.physical_constants"
   ]
  },
  {
   "cell_type": "code",
   "execution_count": 15,
   "metadata": {},
   "outputs": [],
   "source": [
    "def readfile(fpath,multidoc=False):\n",
    "  with open(fpath,\"r\") as fp:\n",
    "    dat=fp.read()\n",
    "  if multidoc:\n",
    "    allobj=yaml.load_all(dat)\n",
    "  else:\n",
    "    allobj=yaml.load(dat)\n",
    "  return allobj"
   ]
  },
  {
   "cell_type": "markdown",
   "metadata": {},
   "source": [
    "## Output plot paths"
   ]
  },
  {
   "cell_type": "code",
   "execution_count": 16,
   "metadata": {},
   "outputs": [],
   "source": [
    "outdir_top=\"../postproc/from_notebooks\"\n",
    "assert osp.isdir(outdir_top)"
   ]
  },
  {
   "cell_type": "code",
   "execution_count": 17,
   "metadata": {},
   "outputs": [
    {
     "data": {
      "text/plain": [
       "'2021_01_12'"
      ]
     },
     "execution_count": 17,
     "metadata": {},
     "output_type": "execute_result"
    }
   ],
   "source": [
    "datestr=datetime.now().strftime(\"%Y_%m_%d\")\n",
    "datestr"
   ]
  },
  {
   "cell_type": "code",
   "execution_count": 18,
   "metadata": {},
   "outputs": [],
   "source": [
    "outdir=osp.join(outdir_top,datestr)"
   ]
  },
  {
   "cell_type": "code",
   "execution_count": 19,
   "metadata": {},
   "outputs": [],
   "source": [
    "if not osp.isdir(outdir):\n",
    "  os.makedirs(outdir)"
   ]
  },
  {
   "cell_type": "code",
   "execution_count": 20,
   "metadata": {},
   "outputs": [],
   "source": [
    "assert osp.isdir(outdir)"
   ]
  },
  {
   "cell_type": "markdown",
   "metadata": {},
   "source": [
    "## Constants"
   ]
  },
  {
   "cell_type": "code",
   "execution_count": 21,
   "metadata": {},
   "outputs": [],
   "source": [
    "basic_columns=['t','x','y','z']\n",
    "corrheadings=[['t','x'], ['t','y'], ['t','z']]\n",
    "acf_structure=[2,2,2]\n",
    "traj_structure=[4]"
   ]
  },
  {
   "cell_type": "code",
   "execution_count": 22,
   "metadata": {},
   "outputs": [],
   "source": [
    "Temperature = 298 #K"
   ]
  },
  {
   "cell_type": "code",
   "execution_count": 23,
   "metadata": {},
   "outputs": [],
   "source": [
    "springK_permole = 300 * 1000 # J/nm^2/mol"
   ]
  },
  {
   "cell_type": "markdown",
   "metadata": {},
   "source": [
    "## Computed expected MSD"
   ]
  },
  {
   "cell_type": "code",
   "execution_count": 24,
   "metadata": {},
   "outputs": [],
   "source": [
    "kB_all=physical_constants['Boltzmann constant']\n",
    "kB=kB_all[0] #J/K\n",
    "assert kB_all[1]=='J K^-1'"
   ]
  },
  {
   "cell_type": "code",
   "execution_count": 25,
   "metadata": {},
   "outputs": [],
   "source": [
    "nA_all=physical_constants['Avogadro constant']\n",
    "nA=nA_all[0]\n",
    "assert nA_all[1]=='mol^-1'"
   ]
  },
  {
   "cell_type": "code",
   "execution_count": 26,
   "metadata": {},
   "outputs": [
    {
     "data": {
      "text/plain": [
       "4.98161720152154e-19"
      ]
     },
     "execution_count": 26,
     "metadata": {},
     "output_type": "execute_result"
    }
   ],
   "source": [
    "springK = springK_permole / nA # J/nm^2\n",
    "springK"
   ]
  },
  {
   "cell_type": "code",
   "execution_count": 27,
   "metadata": {},
   "outputs": [
    {
     "data": {
      "text/plain": [
       "4.11433402e-21"
      ]
     },
     "execution_count": 27,
     "metadata": {},
     "output_type": "execute_result"
    }
   ],
   "source": [
    "kBT = kB * Temperature # J\n",
    "kBT"
   ]
  },
  {
   "cell_type": "code",
   "execution_count": 28,
   "metadata": {},
   "outputs": [
    {
     "data": {
      "text/plain": [
       "0.008259032867365552"
      ]
     },
     "execution_count": 28,
     "metadata": {},
     "output_type": "execute_result"
    }
   ],
   "source": [
    "expected_MSD = kBT / springK # nm^2\n",
    "expected_MSD"
   ]
  },
  {
   "cell_type": "markdown",
   "metadata": {},
   "source": [
    "## Experimental $D$ result"
   ]
  },
  {
   "cell_type": "markdown",
   "metadata": {},
   "source": [
    "from Witherspoon and Saraf, 1965."
   ]
  },
  {
   "cell_type": "code",
   "execution_count": 29,
   "metadata": {},
   "outputs": [],
   "source": [
    "D_data_cel={24.8: 1.88, 35.1: 2.12, 42.6: 2.41} #[Celsius]: [1e-5 cm^2/sec]"
   ]
  },
  {
   "cell_type": "code",
   "execution_count": 30,
   "metadata": {},
   "outputs": [
    {
     "data": {
      "text/plain": [
       "273.15"
      ]
     },
     "execution_count": 30,
     "metadata": {},
     "output_type": "execute_result"
    }
   ],
   "source": [
    "zeroK = scipy.constants.zero_Celsius\n",
    "zeroK"
   ]
  },
  {
   "cell_type": "code",
   "execution_count": 31,
   "metadata": {},
   "outputs": [
    {
     "data": {
      "text/plain": [
       "{297.95: 1.88, 308.25: 2.12, 315.75: 2.41}"
      ]
     },
     "execution_count": 31,
     "metadata": {},
     "output_type": "execute_result"
    }
   ],
   "source": [
    "D_data=dict((T+zeroK,v) for T,v in D_data_cel.items()) #[Kelvin]: [1e-5 cm^2/sec]\n",
    "D_data"
   ]
  },
  {
   "cell_type": "code",
   "execution_count": 32,
   "metadata": {},
   "outputs": [
    {
     "data": {
      "text/plain": [
       "1.88"
      ]
     },
     "execution_count": 32,
     "metadata": {},
     "output_type": "execute_result"
    }
   ],
   "source": [
    "experimental_D=D_data[297.95]\n",
    "experimental_D #1e-5 cm^2/sec"
   ]
  },
  {
   "cell_type": "markdown",
   "metadata": {},
   "source": [
    "## Load all data"
   ]
  },
  {
   "cell_type": "markdown",
   "metadata": {},
   "source": [
    "Directories"
   ]
  },
  {
   "cell_type": "code",
   "execution_count": 33,
   "metadata": {},
   "outputs": [],
   "source": [
    "topdata=\"../jobs/run/bulk02\""
   ]
  },
  {
   "cell_type": "code",
   "execution_count": 34,
   "metadata": {},
   "outputs": [],
   "source": [
    "assert osp.isdir(topdata)"
   ]
  },
  {
   "cell_type": "code",
   "execution_count": 35,
   "metadata": {},
   "outputs": [],
   "source": [
    "tags=[\"Selected Force Field\",\"GROMOS 53A6\"]"
   ]
  },
  {
   "cell_type": "code",
   "execution_count": 36,
   "metadata": {},
   "outputs": [],
   "source": [
    "subdirs=['oldff-long','test05']"
   ]
  },
  {
   "cell_type": "code",
   "execution_count": 37,
   "metadata": {},
   "outputs": [],
   "source": [
    "data_folders=[osp.join(topdata,sd) for sd in subdirs]"
   ]
  },
  {
   "cell_type": "code",
   "execution_count": 38,
   "metadata": {},
   "outputs": [],
   "source": [
    "assert all([osp.isdir(df) for df in data_folders])"
   ]
  },
  {
   "cell_type": "markdown",
   "metadata": {},
   "source": [
    "$D_{local}$ Calculation results"
   ]
  },
  {
   "cell_type": "code",
   "execution_count": 39,
   "metadata": {},
   "outputs": [],
   "source": [
    "calc_results_fname=\"810_results_D_local.yaml\""
   ]
  },
  {
   "cell_type": "code",
   "execution_count": 40,
   "metadata": {},
   "outputs": [],
   "source": [
    "results_dicts=[]\n",
    "for idx,subdir in enumerate(data_folders):\n",
    "  rdfpath=osp.join(subdir,calc_results_fname)\n",
    "  assert osp.isfile(rdfpath)\n",
    "  fdata=readfile(rdfpath)\n",
    "  results_dicts.append(fdata)"
   ]
  },
  {
   "cell_type": "markdown",
   "metadata": {},
   "source": [
    "ACF"
   ]
  },
  {
   "cell_type": "code",
   "execution_count": 41,
   "metadata": {},
   "outputs": [],
   "source": [
    "acf_fname=\"720_acf.xvg\""
   ]
  },
  {
   "cell_type": "code",
   "execution_count": 42,
   "metadata": {},
   "outputs": [],
   "source": [
    "acf_data=[]\n",
    "for idx,subdir in enumerate(data_folders):\n",
    "  acfpath=osp.join(subdir,acf_fname)\n",
    "  assert osp.isfile(acfpath)\n",
    "  corrsets=xvg.read_all_sets(acfpath)\n",
    "  corrframes=xvg.sets_to_frames(corrsets,corrheadings)\n",
    "  corrdf=xvg.combine_frames(corrframes,['t'])\n",
    "  acf_data.append(corrdf)"
   ]
  },
  {
   "cell_type": "markdown",
   "metadata": {},
   "source": [
    "Trajectories"
   ]
  },
  {
   "cell_type": "code",
   "execution_count": 43,
   "metadata": {},
   "outputs": [],
   "source": [
    "# traj_fname=\"710_traj.xvg\""
   ]
  },
  {
   "cell_type": "code",
   "execution_count": 44,
   "metadata": {},
   "outputs": [],
   "source": [
    "# traj_data=[]\n",
    "# for idx,subdir in enumerate(data_folders):\n",
    "#   trajfpath=osp.join(subdir,traj_fname)\n",
    "#   assert osp.isfile(trajfpath)\n",
    "#   trajsets=xvg.read_all_sets(trajfpath)\n",
    "#   trajframes=xvg.sets_to_frames(trajsets,[basic_columns])\n",
    "#   intraj=trajframes[0]\n",
    "#   traj_data.append(intraj)"
   ]
  },
  {
   "cell_type": "markdown",
   "metadata": {},
   "source": [
    "## Compare MSDs"
   ]
  },
  {
   "cell_type": "code",
   "execution_count": 45,
   "metadata": {},
   "outputs": [
    {
     "data": {
      "text/plain": [
       "0.008259032867365552"
      ]
     },
     "execution_count": 45,
     "metadata": {},
     "output_type": "execute_result"
    }
   ],
   "source": [
    "expected_MSD"
   ]
  },
  {
   "cell_type": "code",
   "execution_count": 46,
   "metadata": {},
   "outputs": [
    {
     "data": {
      "text/html": [
       "<div>\n",
       "<style scoped>\n",
       "    .dataframe tbody tr th:only-of-type {\n",
       "        vertical-align: middle;\n",
       "    }\n",
       "\n",
       "    .dataframe tbody tr th {\n",
       "        vertical-align: top;\n",
       "    }\n",
       "\n",
       "    .dataframe thead th {\n",
       "        text-align: right;\n",
       "    }\n",
       "</style>\n",
       "<table border=\"1\" class=\"dataframe\">\n",
       "  <thead>\n",
       "    <tr style=\"text-align: right;\">\n",
       "      <th></th>\n",
       "      <th>Expected</th>\n",
       "      <th>Selected Force Field</th>\n",
       "      <th>GROMOS 53A6</th>\n",
       "    </tr>\n",
       "    <tr>\n",
       "      <th>Direction</th>\n",
       "      <th></th>\n",
       "      <th></th>\n",
       "      <th></th>\n",
       "    </tr>\n",
       "  </thead>\n",
       "  <tbody>\n",
       "    <tr>\n",
       "      <th>x</th>\n",
       "      <td>0.008259</td>\n",
       "      <td>0.008112</td>\n",
       "      <td>0.008107</td>\n",
       "    </tr>\n",
       "    <tr>\n",
       "      <th>y</th>\n",
       "      <td>0.008259</td>\n",
       "      <td>0.007907</td>\n",
       "      <td>0.008112</td>\n",
       "    </tr>\n",
       "    <tr>\n",
       "      <th>z</th>\n",
       "      <td>0.008259</td>\n",
       "      <td>0.008288</td>\n",
       "      <td>0.007911</td>\n",
       "    </tr>\n",
       "  </tbody>\n",
       "</table>\n",
       "</div>"
      ],
      "text/plain": [
       "           Expected  Selected Force Field  GROMOS 53A6\n",
       "Direction                                             \n",
       "x          0.008259              0.008112     0.008107\n",
       "y          0.008259              0.007907     0.008112\n",
       "z          0.008259              0.008288     0.007911"
      ]
     },
     "execution_count": 46,
     "metadata": {},
     "output_type": "execute_result"
    }
   ],
   "source": [
    "columns=['Direction','Expected']+tags\n",
    "dfdata=[]\n",
    "for coord in \"xyz\":\n",
    "  row=[coord,expected_MSD]\n",
    "  for idx,tag in enumerate(tags):\n",
    "    row.append(results_dicts[idx][\"msd_values\"][coord])\n",
    "  dfdata.append(row)\n",
    "msd_df=pd.DataFrame(dfdata,columns=columns)\n",
    "msd_df=msd_df.set_index('Direction')\n",
    "msd_df"
   ]
  },
  {
   "cell_type": "markdown",
   "metadata": {},
   "source": [
    "The MSD values returned by the MD simulations are slightly lower than the theoretical MSD value of $k_B T / K$,\n",
    "but the results from the two force fields seem to be consistent with each other."
   ]
  },
  {
   "cell_type": "markdown",
   "metadata": {},
   "source": [
    "## Compare $D$ results"
   ]
  },
  {
   "cell_type": "code",
   "execution_count": 47,
   "metadata": {},
   "outputs": [
    {
     "data": {
      "text/plain": [
       "1.88"
      ]
     },
     "execution_count": 47,
     "metadata": {},
     "output_type": "execute_result"
    }
   ],
   "source": [
    "experimental_D"
   ]
  },
  {
   "cell_type": "code",
   "execution_count": 48,
   "metadata": {},
   "outputs": [],
   "source": [
    "conversion_factor=1e3 #From nm^2/psec to 1e-5 cm^2/sec"
   ]
  },
  {
   "cell_type": "code",
   "execution_count": 49,
   "metadata": {},
   "outputs": [
    {
     "data": {
      "text/html": [
       "<div>\n",
       "<style scoped>\n",
       "    .dataframe tbody tr th:only-of-type {\n",
       "        vertical-align: middle;\n",
       "    }\n",
       "\n",
       "    .dataframe tbody tr th {\n",
       "        vertical-align: top;\n",
       "    }\n",
       "\n",
       "    .dataframe thead th {\n",
       "        text-align: right;\n",
       "    }\n",
       "</style>\n",
       "<table border=\"1\" class=\"dataframe\">\n",
       "  <thead>\n",
       "    <tr style=\"text-align: right;\">\n",
       "      <th></th>\n",
       "      <th>Experimental</th>\n",
       "      <th>Selected Force Field</th>\n",
       "      <th>GROMOS 53A6</th>\n",
       "    </tr>\n",
       "    <tr>\n",
       "      <th>Direction</th>\n",
       "      <th></th>\n",
       "      <th></th>\n",
       "      <th></th>\n",
       "    </tr>\n",
       "  </thead>\n",
       "  <tbody>\n",
       "    <tr>\n",
       "      <th>x</th>\n",
       "      <td>1.88</td>\n",
       "      <td>3.134754</td>\n",
       "      <td>1.910608</td>\n",
       "    </tr>\n",
       "    <tr>\n",
       "      <th>y</th>\n",
       "      <td>1.88</td>\n",
       "      <td>2.958903</td>\n",
       "      <td>1.727854</td>\n",
       "    </tr>\n",
       "    <tr>\n",
       "      <th>z</th>\n",
       "      <td>1.88</td>\n",
       "      <td>3.061781</td>\n",
       "      <td>1.852438</td>\n",
       "    </tr>\n",
       "  </tbody>\n",
       "</table>\n",
       "</div>"
      ],
      "text/plain": [
       "           Experimental  Selected Force Field  GROMOS 53A6\n",
       "Direction                                                 \n",
       "x                  1.88              3.134754     1.910608\n",
       "y                  1.88              2.958903     1.727854\n",
       "z                  1.88              3.061781     1.852438"
      ]
     },
     "execution_count": 49,
     "metadata": {},
     "output_type": "execute_result"
    }
   ],
   "source": [
    "columns=['Direction','Experimental']+tags\n",
    "dfdata=[]\n",
    "for coord in \"xyz\":\n",
    "  row=[coord,experimental_D]\n",
    "  for idx,tag in enumerate(tags):\n",
    "    assert results_dicts[idx][\"match_ok\"][coord]\n",
    "    result=conversion_factor*results_dicts[idx][\"fit_results\"][\"D\"][coord]\n",
    "    row.append(result)\n",
    "  dfdata.append(row)\n",
    "D_df=pd.DataFrame(dfdata,columns=columns)\n",
    "D_df=D_df.set_index('Direction')\n",
    "D_df"
   ]
  },
  {
   "cell_type": "code",
   "execution_count": 50,
   "metadata": {},
   "outputs": [],
   "source": [
    "D_res_outfile=osp.join(outdir,\"FF_comparison_Dvalues.csv\")\n",
    "D_df.to_csv(D_res_outfile)"
   ]
  },
  {
   "cell_type": "markdown",
   "metadata": {},
   "source": [
    "## Plot ACFs"
   ]
  },
  {
   "cell_type": "code",
   "execution_count": 51,
   "metadata": {},
   "outputs": [],
   "source": [
    "coord=\"z\"\n",
    "tmax=25.0\n",
    "#tmax=50.0"
   ]
  },
  {
   "cell_type": "code",
   "execution_count": 52,
   "metadata": {},
   "outputs": [],
   "source": [
    "formats=['r-','k--']"
   ]
  },
  {
   "cell_type": "code",
   "execution_count": 53,
   "metadata": {},
   "outputs": [
    {
     "data": {
      "image/png": "[encoded data removed]",
      "text/plain": [
       "<Figure size 2400x1200 with 1 Axes>"
      ]
     },
     "metadata": {
      "needs_background": "light"
     },
     "output_type": "display_data"
    }
   ],
   "source": [
    "fig,ax=plt.subplots(1,1,figsize=(8,4))\n",
    "for idx,tag in enumerate(tags):\n",
    "  acf=acf_data[idx]\n",
    "  o=ax.plot(acf['t'],acf[coord],formats[idx],label=tag)\n",
    "o=ax.set_xlim(0,tmax)\n",
    "o=ax.hlines(0,0,tmax,'k')\n",
    "o=ax.legend(loc=\"upper right\")\n",
    "#o=ax.set_title(\"\")\n",
    "o=ax.set_ylabel(\"Normalized ACF\")\n",
    "o=ax.set_xlabel(\"$\\Delta t$ [psec]\")\n",
    "#Save figure\n",
    "plot_path=osp.join(outdir,\"FF_comparison.png\")\n",
    "# fig.tight_layout()\n",
    "fig.savefig(str(plot_path))"
   ]
  },
  {
   "cell_type": "markdown",
   "metadata": {},
   "source": [
    "Normalized position autocorrelation functions for methane in bulk water, using two different force fields, in a single direction.\n",
    "The results from the GROMOS 53A6 provide a diffusion coefficient that matches physical measurement."
   ]
  },
  {
   "cell_type": "code",
   "execution_count": null,
   "metadata": {},
   "outputs": [],
   "source": []
  }
 ],
 "metadata": {
  "kernelspec": {
   "display_name": "Python 3",
   "language": "python",
   "name": "python3"
  },
  "language_info": {
   "codemirror_mode": {
    "name": "ipython",
    "version": 3
   },
   "file_extension": ".py",
   "mimetype": "text/x-python",
   "name": "python",
   "nbconvert_exporter": "python",
   "pygments_lexer": "ipython3",
   "version": "3.8.6"
  }
 },
 "nbformat": 4,
 "nbformat_minor": 2
}
