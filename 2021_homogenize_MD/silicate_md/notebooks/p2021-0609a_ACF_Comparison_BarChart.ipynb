{
 "cells": [
  {
   "cell_type": "markdown",
   "metadata": {},
   "source": [
    "Combine the ACF comparison and Bar Chart figures into one.\n",
    "\n",
    "Drawing from the following notebooks:\n",
    "\n",
    "- `p2021-0112a_ACF_comparison_BarChart.ipynb` (which does not actually have a bar chart, despite the name)\n",
    "- `p2021-0421b_ACF_comparison.ipynb`\n",
    "- `p2021-0528a_BarChart.ipynb` (which does actually have the bar chart)\n"
   ]
  },
  {
   "cell_type": "markdown",
   "metadata": {},
   "source": [
    "## Setup"
   ]
  },
  {
   "cell_type": "code",
   "execution_count": 1,
   "metadata": {},
   "outputs": [],
   "source": [
    "import os\n",
    "import os.path as osp"
   ]
  },
  {
   "cell_type": "code",
   "execution_count": 2,
   "metadata": {},
   "outputs": [],
   "source": [
    "import sys"
   ]
  },
  {
   "cell_type": "code",
   "execution_count": 3,
   "metadata": {},
   "outputs": [],
   "source": [
    "sys.path.append('../modules')"
   ]
  },
  {
   "cell_type": "code",
   "execution_count": 4,
   "metadata": {},
   "outputs": [],
   "source": [
    "import xvg_conversion as xvg"
   ]
  },
  {
   "cell_type": "code",
   "execution_count": 5,
   "metadata": {},
   "outputs": [],
   "source": [
    "import numpy as np"
   ]
  },
  {
   "cell_type": "code",
   "execution_count": 6,
   "metadata": {},
   "outputs": [],
   "source": [
    "import pandas as pd"
   ]
  },
  {
   "cell_type": "code",
   "execution_count": 7,
   "metadata": {},
   "outputs": [],
   "source": [
    "from datetime import datetime"
   ]
  },
  {
   "cell_type": "code",
   "execution_count": 8,
   "metadata": {},
   "outputs": [],
   "source": [
    "import matplotlib.pyplot as plt"
   ]
  },
  {
   "cell_type": "code",
   "execution_count": 9,
   "metadata": {},
   "outputs": [],
   "source": [
    "%matplotlib inline"
   ]
  },
  {
   "cell_type": "code",
   "execution_count": 10,
   "metadata": {},
   "outputs": [],
   "source": [
    "from ruamel.yaml import YAML"
   ]
  },
  {
   "cell_type": "code",
   "execution_count": 11,
   "metadata": {},
   "outputs": [],
   "source": [
    "yaml=YAML(typ=\"safe\",pure=True)"
   ]
  },
  {
   "cell_type": "code",
   "execution_count": 12,
   "metadata": {},
   "outputs": [],
   "source": [
    "def readfile(fpath,multidoc=False):\n",
    "  with open(fpath,\"r\") as fp:\n",
    "    dat=fp.read()\n",
    "  if multidoc:\n",
    "    allobj=yaml.load_all(dat)\n",
    "  else:\n",
    "    allobj=yaml.load(dat)\n",
    "  return allobj"
   ]
  },
  {
   "cell_type": "markdown",
   "metadata": {},
   "source": [
    "## Output plot paths"
   ]
  },
  {
   "cell_type": "code",
   "execution_count": 13,
   "metadata": {},
   "outputs": [],
   "source": [
    "outdir_top=\"../postproc/from_notebooks\"\n",
    "assert osp.isdir(outdir_top)"
   ]
  },
  {
   "cell_type": "code",
   "execution_count": 14,
   "metadata": {},
   "outputs": [
    {
     "data": {
      "text/plain": [
       "'2021_06_09'"
      ]
     },
     "execution_count": 14,
     "metadata": {},
     "output_type": "execute_result"
    }
   ],
   "source": [
    "datestr=datetime.now().strftime(\"%Y_%m_%d\")\n",
    "datestr"
   ]
  },
  {
   "cell_type": "code",
   "execution_count": 15,
   "metadata": {},
   "outputs": [],
   "source": [
    "outdir=osp.join(outdir_top,datestr)"
   ]
  },
  {
   "cell_type": "code",
   "execution_count": 16,
   "metadata": {},
   "outputs": [],
   "source": [
    "if not osp.isdir(outdir):\n",
    "  os.makedirs(outdir)"
   ]
  },
  {
   "cell_type": "code",
   "execution_count": 17,
   "metadata": {},
   "outputs": [],
   "source": [
    "assert osp.isdir(outdir)"
   ]
  },
  {
   "cell_type": "markdown",
   "metadata": {},
   "source": [
    "## Constants"
   ]
  },
  {
   "cell_type": "code",
   "execution_count": 18,
   "metadata": {},
   "outputs": [],
   "source": [
    "forcefield_names=[\"Jorgensen/SPC\",\"GROMOS 53A6\"]"
   ]
  },
  {
   "cell_type": "code",
   "execution_count": 19,
   "metadata": {},
   "outputs": [],
   "source": [
    "acf_subdirs=['oldff-long','test05']"
   ]
  },
  {
   "cell_type": "code",
   "execution_count": 20,
   "metadata": {},
   "outputs": [],
   "source": [
    "acf_fname=\"720_acf.xvg\""
   ]
  },
  {
   "cell_type": "code",
   "execution_count": 21,
   "metadata": {},
   "outputs": [],
   "source": [
    "exp_std=0.01 #From Witherspoon and Saraf, 1965"
   ]
  },
  {
   "cell_type": "code",
   "execution_count": 22,
   "metadata": {},
   "outputs": [],
   "source": [
    "plot_fname=\"ACF_Comparison_BarChart.png\""
   ]
  },
  {
   "cell_type": "markdown",
   "metadata": {},
   "source": [
    "## Data paths"
   ]
  },
  {
   "cell_type": "code",
   "execution_count": 23,
   "metadata": {},
   "outputs": [],
   "source": [
    "indir_msd=osp.join(outdir_top,\"2020_12_04\")\n",
    "indir_acf=osp.join(outdir_top,\"2021_01_12\")"
   ]
  },
  {
   "cell_type": "code",
   "execution_count": 24,
   "metadata": {},
   "outputs": [],
   "source": [
    "msd_res_infile=osp.join(indir_msd,\"D_from_msd.yaml\")\n",
    "assert osp.isfile(msd_res_infile)"
   ]
  },
  {
   "cell_type": "code",
   "execution_count": 25,
   "metadata": {},
   "outputs": [],
   "source": [
    "ff_comp_infile=osp.join(indir_acf,\"FF_comparison_Dvalues.csv\")\n",
    "assert osp.isfile(ff_comp_infile)"
   ]
  },
  {
   "cell_type": "code",
   "execution_count": 26,
   "metadata": {},
   "outputs": [],
   "source": [
    "acf_topdir=\"../jobs/run/bulk02\"\n",
    "assert osp.isdir(acf_topdir)"
   ]
  },
  {
   "cell_type": "code",
   "execution_count": 27,
   "metadata": {},
   "outputs": [],
   "source": [
    "acf_data_folders=[osp.join(acf_topdir,sd) for sd in acf_subdirs]\n",
    "assert all([osp.isdir(df) for df in acf_data_folders])"
   ]
  },
  {
   "cell_type": "markdown",
   "metadata": {},
   "source": [
    "## Load data"
   ]
  },
  {
   "cell_type": "markdown",
   "metadata": {},
   "source": [
    "PACF data"
   ]
  },
  {
   "cell_type": "code",
   "execution_count": 28,
   "metadata": {},
   "outputs": [],
   "source": [
    "acf_data=[]\n",
    "for idx,subdir in enumerate(acf_data_folders):\n",
    "  acfpath=osp.join(subdir,acf_fname)\n",
    "  assert osp.isfile(acfpath)\n",
    "  corrdf=xvg.load_acf_xvg(acfpath)\n",
    "  acf_data.append(corrdf)"
   ]
  },
  {
   "cell_type": "markdown",
   "metadata": {},
   "source": [
    "D values (units of nm^2/nsec are expected)"
   ]
  },
  {
   "cell_type": "code",
   "execution_count": 29,
   "metadata": {},
   "outputs": [
    {
     "data": {
      "text/plain": [
       "{'A': 2.391418647357853, 'B': 1.2102516482356547, 'C': 4.5069896623974115}"
      ]
     },
     "execution_count": 29,
     "metadata": {},
     "output_type": "execute_result"
    }
   ],
   "source": [
    "msd_res=readfile(msd_res_infile)\n",
    "msd_res"
   ]
  },
  {
   "cell_type": "code",
   "execution_count": 30,
   "metadata": {},
   "outputs": [
    {
     "data": {
      "text/html": [
       "<div>\n",
       "<style scoped>\n",
       "    .dataframe tbody tr th:only-of-type {\n",
       "        vertical-align: middle;\n",
       "    }\n",
       "\n",
       "    .dataframe tbody tr th {\n",
       "        vertical-align: top;\n",
       "    }\n",
       "\n",
       "    .dataframe thead th {\n",
       "        text-align: right;\n",
       "    }\n",
       "</style>\n",
       "<table border=\"1\" class=\"dataframe\">\n",
       "  <thead>\n",
       "    <tr style=\"text-align: right;\">\n",
       "      <th></th>\n",
       "      <th>Experimental</th>\n",
       "      <th>Selected Force Field</th>\n",
       "      <th>GROMOS 53A6</th>\n",
       "    </tr>\n",
       "    <tr>\n",
       "      <th>Direction</th>\n",
       "      <th></th>\n",
       "      <th></th>\n",
       "      <th></th>\n",
       "    </tr>\n",
       "  </thead>\n",
       "  <tbody>\n",
       "    <tr>\n",
       "      <th>x</th>\n",
       "      <td>1.88</td>\n",
       "      <td>3.134754</td>\n",
       "      <td>1.910608</td>\n",
       "    </tr>\n",
       "    <tr>\n",
       "      <th>y</th>\n",
       "      <td>1.88</td>\n",
       "      <td>2.958903</td>\n",
       "      <td>1.727854</td>\n",
       "    </tr>\n",
       "    <tr>\n",
       "      <th>z</th>\n",
       "      <td>1.88</td>\n",
       "      <td>3.061781</td>\n",
       "      <td>1.852438</td>\n",
       "    </tr>\n",
       "  </tbody>\n",
       "</table>\n",
       "</div>"
      ],
      "text/plain": [
       "           Experimental  Selected Force Field  GROMOS 53A6\n",
       "Direction                                                 \n",
       "x                  1.88              3.134754     1.910608\n",
       "y                  1.88              2.958903     1.727854\n",
       "z                  1.88              3.061781     1.852438"
      ]
     },
     "execution_count": 30,
     "metadata": {},
     "output_type": "execute_result"
    }
   ],
   "source": [
    "ff_comp_df=pd.read_csv(ff_comp_infile,index_col=0)\n",
    "ff_comp_df"
   ]
  },
  {
   "cell_type": "markdown",
   "metadata": {},
   "source": [
    "## Processing"
   ]
  },
  {
   "cell_type": "code",
   "execution_count": 31,
   "metadata": {},
   "outputs": [],
   "source": [
    "msd_arr=np.array([v for v in msd_res.values()])"
   ]
  },
  {
   "cell_type": "code",
   "execution_count": 32,
   "metadata": {},
   "outputs": [
    {
     "data": {
      "text/plain": [
       "2.70288665266364"
      ]
     },
     "execution_count": 32,
     "metadata": {},
     "output_type": "execute_result"
    }
   ],
   "source": [
    "# msd_avg=np.mean(msd_arr)\n",
    "msd_avg=msd_arr.mean()\n",
    "msd_avg"
   ]
  },
  {
   "cell_type": "code",
   "execution_count": 33,
   "metadata": {},
   "outputs": [
    {
     "data": {
      "text/plain": [
       "1.670293274323906"
      ]
     },
     "execution_count": 33,
     "metadata": {},
     "output_type": "execute_result"
    }
   ],
   "source": [
    "msd_std=msd_arr.std(ddof=1)\n",
    "msd_std"
   ]
  },
  {
   "cell_type": "code",
   "execution_count": 34,
   "metadata": {},
   "outputs": [
    {
     "data": {
      "text/plain": [
       "0.9643442715565287"
      ]
     },
     "execution_count": 34,
     "metadata": {},
     "output_type": "execute_result"
    }
   ],
   "source": [
    "msd_sem=msd_std/np.sqrt(msd_arr.shape[0])\n",
    "msd_sem"
   ]
  },
  {
   "cell_type": "code",
   "execution_count": 35,
   "metadata": {},
   "outputs": [],
   "source": [
    "num_dirs=len(ff_comp_df)\n",
    "assert num_dirs == 3"
   ]
  },
  {
   "cell_type": "code",
   "execution_count": 36,
   "metadata": {},
   "outputs": [
    {
     "data": {
      "text/plain": [
       "1.88"
      ]
     },
     "execution_count": 36,
     "metadata": {},
     "output_type": "execute_result"
    }
   ],
   "source": [
    "experimental=ff_comp_df[\"Experimental\"].mean()\n",
    "experimental"
   ]
  },
  {
   "cell_type": "code",
   "execution_count": 37,
   "metadata": {},
   "outputs": [
    {
     "data": {
      "text/plain": [
       "3.05181238631671"
      ]
     },
     "execution_count": 37,
     "metadata": {},
     "output_type": "execute_result"
    }
   ],
   "source": [
    "acf=ff_comp_df[\"Selected Force Field\"].mean()\n",
    "acf"
   ]
  },
  {
   "cell_type": "code",
   "execution_count": 38,
   "metadata": {},
   "outputs": [
    {
     "data": {
      "text/plain": [
       "0.05100785590367097"
      ]
     },
     "execution_count": 38,
     "metadata": {},
     "output_type": "execute_result"
    }
   ],
   "source": [
    "acf_sem=ff_comp_df[\"Selected Force Field\"].std(ddof=1)/np.sqrt(num_dirs)\n",
    "acf_sem"
   ]
  },
  {
   "cell_type": "code",
   "execution_count": 39,
   "metadata": {},
   "outputs": [
    {
     "data": {
      "text/plain": [
       "1.8302999013115977"
      ]
     },
     "execution_count": 39,
     "metadata": {},
     "output_type": "execute_result"
    }
   ],
   "source": [
    "gromos=ff_comp_df[\"GROMOS 53A6\"].mean()\n",
    "gromos"
   ]
  },
  {
   "cell_type": "code",
   "execution_count": 40,
   "metadata": {},
   "outputs": [
    {
     "data": {
      "text/plain": [
       "0.053905109765211706"
      ]
     },
     "execution_count": 40,
     "metadata": {},
     "output_type": "execute_result"
    }
   ],
   "source": [
    "gromos_sem=ff_comp_df[\"GROMOS 53A6\"].std(ddof=1)/np.sqrt(num_dirs)\n",
    "gromos_sem"
   ]
  },
  {
   "cell_type": "markdown",
   "metadata": {},
   "source": [
    "## Plots"
   ]
  },
  {
   "cell_type": "code",
   "execution_count": 41,
   "metadata": {},
   "outputs": [],
   "source": [
    "plot_fpath=osp.join(outdir,plot_fname)"
   ]
  },
  {
   "cell_type": "code",
   "execution_count": 42,
   "metadata": {},
   "outputs": [],
   "source": [
    "coord=\"z\"\n",
    "tmax=25.0\n",
    "#tmax=50.0"
   ]
  },
  {
   "cell_type": "code",
   "execution_count": 43,
   "metadata": {},
   "outputs": [],
   "source": [
    "formats=['r-','k--']"
   ]
  },
  {
   "cell_type": "code",
   "execution_count": 44,
   "metadata": {},
   "outputs": [],
   "source": [
    "heights=[experimental,gromos,acf,msd_avg]\n",
    "errors=[exp_std,gromos_sem,acf_sem,msd_sem]\n",
    "categories_short=[\"Experiment\",\"PACF\\nGROMOS\",\"ACF\\nSilicate\",\"MSD\"]\n",
    "categories_full=[\"Experiment\",\"PACF:\\nGROMOS 53A6\\nForce Field\",\"PACF:\\nJorgensen/SPC\\nForce Field\",\n",
    "                 \"Mean\\nfrom MSD\\nTrials\"]"
   ]
  },
  {
   "cell_type": "code",
   "execution_count": 45,
   "metadata": {},
   "outputs": [
    {
     "data": {
      "image/png": "[encoded data removed]",
      "text/plain": [
       "<Figure size 432x432 with 2 Axes>"
      ]
     },
     "metadata": {
      "needs_background": "light"
     },
     "output_type": "display_data"
    }
   ],
   "source": [
    "fig,axlist=plt.subplots(2,1,figsize=(6,6))\n",
    "\n",
    "#PACF curves\n",
    "ax=axlist[0]\n",
    "for idx,tag in enumerate(forcefield_names):\n",
    "  acf_df=acf_data[idx]\n",
    "  o=ax.plot(acf_df['t'],acf_df[coord],formats[idx],label=tag)\n",
    "o=ax.set_xlim(0,tmax)\n",
    "o=ax.hlines(0,0,tmax,'k')\n",
    "o=ax.legend(loc=\"upper right\")\n",
    "#o=ax.set_title(\"\")\n",
    "o=ax.set_ylabel(\"Normalized ACF\")\n",
    "o=ax.set_xlabel(\"$\\Delta t$ [psec]\")\n",
    "\n",
    "#D bar chart\n",
    "ax=axlist[1]\n",
    "o=ax.bar(categories_full,heights,yerr=errors,edgecolor=\"k\",capsize=6)\n",
    "o=ax.set_ylabel(\"Diffusion Coefficient\\n[$10^{-5}$ cm$^2$/sec]\") #,fontsize=20)\n",
    "\n",
    "#Done\n",
    "fig.tight_layout()\n",
    "fig.savefig(plot_fpath,dpi=300)"
   ]
  },
  {
   "cell_type": "code",
   "execution_count": null,
   "metadata": {},
   "outputs": [],
   "source": []
  }
 ],
 "metadata": {
  "kernelspec": {
   "display_name": "Python 3",
   "language": "python",
   "name": "python3"
  },
  "language_info": {
   "codemirror_mode": {
    "name": "ipython",
    "version": 3
   },
   "file_extension": ".py",
   "mimetype": "text/x-python",
   "name": "python",
   "nbconvert_exporter": "python",
   "pygments_lexer": "ipython3",
   "version": "3.9.2"
  }
 },
 "nbformat": 4,
 "nbformat_minor": 4
}
