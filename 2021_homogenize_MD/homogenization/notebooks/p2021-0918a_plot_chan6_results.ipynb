{
 "cells": [
  {
   "cell_type": "markdown",
   "metadata": {},
   "source": [
    "Make a plot of the results from `chan6` for use in the paper.\n",
    "\n",
    "Based on `p2021-0624a_plot_chan6_results.ipynb`.\n"
   ]
  },
  {
   "cell_type": "markdown",
   "metadata": {},
   "source": [
    "## Setup"
   ]
  },
  {
   "cell_type": "code",
   "execution_count": 1,
   "metadata": {},
   "outputs": [],
   "source": [
    "import os\n",
    "import os.path as osp"
   ]
  },
  {
   "cell_type": "code",
   "execution_count": 2,
   "metadata": {},
   "outputs": [],
   "source": [
    "from datetime import datetime"
   ]
  },
  {
   "cell_type": "code",
   "execution_count": 3,
   "metadata": {},
   "outputs": [],
   "source": [
    "import numpy as np"
   ]
  },
  {
   "cell_type": "code",
   "execution_count": 4,
   "metadata": {},
   "outputs": [],
   "source": [
    "import pandas as pd"
   ]
  },
  {
   "cell_type": "code",
   "execution_count": 5,
   "metadata": {},
   "outputs": [],
   "source": [
    "import matplotlib.pyplot as plt"
   ]
  },
  {
   "cell_type": "code",
   "execution_count": 6,
   "metadata": {},
   "outputs": [],
   "source": [
    "%matplotlib inline"
   ]
  },
  {
   "cell_type": "code",
   "execution_count": 7,
   "metadata": {},
   "outputs": [],
   "source": [
    "import matplotlib as mpl"
   ]
  },
  {
   "cell_type": "code",
   "execution_count": 8,
   "metadata": {},
   "outputs": [],
   "source": [
    "from matplotlib.gridspec import GridSpec"
   ]
  },
  {
   "cell_type": "code",
   "execution_count": 9,
   "metadata": {},
   "outputs": [],
   "source": [
    "import simproc"
   ]
  },
  {
   "cell_type": "code",
   "execution_count": 10,
   "metadata": {},
   "outputs": [],
   "source": [
    "import simproc.requesthandler.yaml_manager as yaml_manager\n",
    "import simproc.requesthandler.locators as locators\n",
    "import simproc.postproc.plotting as plotting\n",
    "from simproc.postproc.plotseries import PlotSeries"
   ]
  },
  {
   "cell_type": "markdown",
   "metadata": {},
   "source": [
    "## Functions copied from simproc methods"
   ]
  },
  {
   "cell_type": "code",
   "execution_count": 11,
   "metadata": {},
   "outputs": [],
   "source": [
    "#Based on simproc.requesthandler.commandseq.WithCommandsRequest.load_csv\n",
    "def load_csv(infpath,dtype_csv_fpath=None):\n",
    "  if dtype_csv_fpath is None:\n",
    "    df=pd.read_csv(fpt)\n",
    "  else:\n",
    "    dtype_ser=pd.read_csv(dtype_csv_fpath,index_col=0,squeeze=True,header=0)\n",
    "    dtypes_dict=dtype_ser.to_dict()\n",
    "    df=pd.read_csv(infpath,dtype=dtypes_dict)\n",
    "  return df"
   ]
  },
  {
   "cell_type": "code",
   "execution_count": 12,
   "metadata": {},
   "outputs": [],
   "source": [
    "#Based on simproc.postproc.plotting.FigureRequest.series_from_DataFrame\n",
    "def series_from_df(df,xcol,ycol,query=None,label=None,metadata=None,errcol=None):\n",
    "  #Select particular rows if requested\n",
    "  if query is None or len(query)==0:\n",
    "    qdf=df\n",
    "  else:\n",
    "    qdf=df.query(query)\n",
    "  #Get the data for the series from the dataframe\n",
    "  xvals=qdf[xcol]\n",
    "  yvals=qdf[ycol]\n",
    "  if errcol is not None:\n",
    "    errvals=qdf[errcol]\n",
    "  else:\n",
    "    errvals = None\n",
    "  #Instantiate the series\n",
    "  series=PlotSeries(xvals=xvals,yvals=yvals,label=label,metadata=metadata,errors=errvals)\n",
    "  return series"
   ]
  },
  {
   "cell_type": "markdown",
   "metadata": {},
   "source": [
    "## Constants"
   ]
  },
  {
   "cell_type": "code",
   "execution_count": 13,
   "metadata": {},
   "outputs": [],
   "source": [
    "width_query_tmpl=\"(deprot < 0.01) & (vary_Dlocal == {0}) & (vary_PMF == {1})\""
   ]
  },
  {
   "cell_type": "code",
   "execution_count": 14,
   "metadata": {},
   "outputs": [],
   "source": [
    "deprot_query_tmpl=\"(width_nm > 1.9) & (tag != 'na_27pct') & (vary_Dlocal == {0}) & (vary_PMF == {1})\""
   ]
  },
  {
   "cell_type": "code",
   "execution_count": 15,
   "metadata": {},
   "outputs": [],
   "source": [
    "series_bools=[(False,False),(True,False),(False,True),(True,True)]"
   ]
  },
  {
   "cell_type": "code",
   "execution_count": 16,
   "metadata": {},
   "outputs": [],
   "source": [
    "series_D_text={False: \"$D_{local}=D_{bulk}$\", True: \"$D_{local}$ from MD\"}\n",
    "series_PMF_text={False: \"no PMF\", True: \"PMF from MD\"}"
   ]
  },
  {
   "cell_type": "code",
   "execution_count": 17,
   "metadata": {},
   "outputs": [
    {
     "data": {
      "text/plain": [
       "['$D_{local}=D_{bulk}$,\\nno PMF',\n",
       " '$D_{local}$ from MD,\\nno PMF',\n",
       " '$D_{local}=D_{bulk}$,\\nPMF from MD',\n",
       " '$D_{local}$ from MD,\\nPMF from MD']"
      ]
     },
     "execution_count": 17,
     "metadata": {},
     "output_type": "execute_result"
    }
   ],
   "source": [
    "series_titles=[\"{},\\n{}\".format(series_D_text[varyD],series_PMF_text[varyPMF]) for varyD,varyPMF in series_bools]\n",
    "series_titles"
   ]
  },
  {
   "cell_type": "code",
   "execution_count": 18,
   "metadata": {},
   "outputs": [],
   "source": [
    "series_D_fmt={False:\"o--\",True:\"o-\"}\n",
    "series_PMF_fmt={False:\"r\",True:\"b\"}"
   ]
  },
  {
   "cell_type": "code",
   "execution_count": 19,
   "metadata": {},
   "outputs": [
    {
     "data": {
      "text/plain": [
       "['ro--', 'ro-', 'bo--', 'bo-']"
      ]
     },
     "execution_count": 19,
     "metadata": {},
     "output_type": "execute_result"
    }
   ],
   "source": [
    "series_fmts=[\"{}{}\".format(series_PMF_fmt[varyPMF],series_D_fmt[varyD]) for varyD,varyPMF in series_bools]\n",
    "series_fmts"
   ]
  },
  {
   "cell_type": "markdown",
   "metadata": {},
   "source": [
    "## Data folder"
   ]
  },
  {
   "cell_type": "code",
   "execution_count": 20,
   "metadata": {},
   "outputs": [],
   "source": [
    "datadir=osp.abspath(\"../chan6\")\n",
    "assert osp.isdir(datadir)"
   ]
  },
  {
   "cell_type": "code",
   "execution_count": 21,
   "metadata": {},
   "outputs": [],
   "source": [
    "o=locators.SetDataFolder(datafolder=datadir)"
   ]
  },
  {
   "cell_type": "markdown",
   "metadata": {},
   "source": [
    "## Locators"
   ]
  },
  {
   "cell_type": "code",
   "execution_count": 22,
   "metadata": {},
   "outputs": [],
   "source": [
    "#locators.folder_structure.keys()"
   ]
  },
  {
   "cell_type": "code",
   "execution_count": 23,
   "metadata": {},
   "outputs": [],
   "source": [
    "locators.folder_structure.update(Unprocessed=['inputs','unprocessed'])"
   ]
  },
  {
   "cell_type": "code",
   "execution_count": 24,
   "metadata": {},
   "outputs": [],
   "source": [
    "locators.folder_structure.update(Processed=['inputs','processed'])"
   ]
  },
  {
   "cell_type": "code",
   "execution_count": 25,
   "metadata": {},
   "outputs": [],
   "source": [
    "locators.folder_structure.update(Manual=['inputs','manual'])"
   ]
  },
  {
   "cell_type": "code",
   "execution_count": 26,
   "metadata": {},
   "outputs": [],
   "source": [
    "locators.folder_structure.update(JobFile=[\"solutions\", 0])"
   ]
  },
  {
   "cell_type": "code",
   "execution_count": 27,
   "metadata": {},
   "outputs": [],
   "source": [
    "locators.folder_structure.update(postprocfile=['postproc',0])"
   ]
  },
  {
   "cell_type": "code",
   "execution_count": 28,
   "metadata": {},
   "outputs": [],
   "source": [
    "Unprocessed=lambda fname: self.renderstr(locators.Unprocessed(fname))"
   ]
  },
  {
   "cell_type": "code",
   "execution_count": 29,
   "metadata": {},
   "outputs": [],
   "source": [
    "Processed=lambda fname: self.renderstr(locators.Processed(fname))"
   ]
  },
  {
   "cell_type": "code",
   "execution_count": 30,
   "metadata": {},
   "outputs": [],
   "source": [
    "Manual=lambda fname: self.renderstr(locators.Manual(fname))"
   ]
  },
  {
   "cell_type": "code",
   "execution_count": 31,
   "metadata": {},
   "outputs": [],
   "source": [
    "JobFile=lambda fname: self.renderstr(locators.JobFile(fname))"
   ]
  },
  {
   "cell_type": "code",
   "execution_count": 32,
   "metadata": {},
   "outputs": [],
   "source": [
    "Postproc=lambda fname: self.renderstr(locators.postprocfile(fname))"
   ]
  },
  {
   "cell_type": "markdown",
   "metadata": {},
   "source": [
    "## Dummy request for loading data"
   ]
  },
  {
   "cell_type": "code",
   "execution_count": 33,
   "metadata": {},
   "outputs": [],
   "source": [
    "self=plotting.FigureRequest(name=\"chan6.plotting\")"
   ]
  },
  {
   "cell_type": "markdown",
   "metadata": {},
   "source": [
    "## Data file names and paths"
   ]
  },
  {
   "cell_type": "markdown",
   "metadata": {},
   "source": [
    "Manual data"
   ]
  },
  {
   "cell_type": "code",
   "execution_count": 34,
   "metadata": {},
   "outputs": [],
   "source": [
    "manualdata_fpath=Manual(\"other_input_values.yaml\")\n",
    "assert osp.isfile(manualdata_fpath)"
   ]
  },
  {
   "cell_type": "markdown",
   "metadata": {},
   "source": [
    "Various tables"
   ]
  },
  {
   "cell_type": "code",
   "execution_count": 35,
   "metadata": {},
   "outputs": [],
   "source": [
    "analytical_series_fpath=Manual(\"analytical_series.csv\")\n",
    "analytical_series_dtypes_fpath=Manual(\"analytical_series_dtypes.csv\")\n",
    "assert osp.isfile(analytical_series_fpath)\n",
    "assert osp.isfile(analytical_series_dtypes_fpath)"
   ]
  },
  {
   "cell_type": "code",
   "execution_count": 36,
   "metadata": {},
   "outputs": [],
   "source": [
    "quadratic_joblist_fpath=Manual(\"quadratic_joblist.csv\")\n",
    "quadratic_joblist_dtypes_fpath=Manual(\"quadratic_joblist_dtypes.csv\")\n",
    "assert osp.isfile(quadratic_joblist_fpath)\n",
    "assert osp.isfile(quadratic_joblist_dtypes_fpath)"
   ]
  },
  {
   "cell_type": "code",
   "execution_count": 37,
   "metadata": {},
   "outputs": [],
   "source": [
    "collected_fpath=Postproc(\"collected.csv\")\n",
    "collected_dtypes_fpath=Postproc(\"collected_dtypes.csv\")\n",
    "assert osp.isfile(collected_fpath)\n",
    "assert osp.isfile(collected_dtypes_fpath)"
   ]
  },
  {
   "cell_type": "code",
   "execution_count": 38,
   "metadata": {},
   "outputs": [],
   "source": [
    "collected_quad_fpath=Postproc(\"collected_quad.csv\")\n",
    "collected_quad_dtypes_fpath=Postproc(\"collected_quad_dtypes.csv\")\n",
    "assert osp.isfile(collected_quad_fpath)\n",
    "assert osp.isfile(collected_quad_dtypes_fpath)"
   ]
  },
  {
   "cell_type": "code",
   "execution_count": 39,
   "metadata": {},
   "outputs": [],
   "source": [
    "joblist_fpath=JobFile(\"joblist.csv\")\n",
    "joblist_dtypes_fpath=JobFile(\"joblist_dtypes.csv\")\n",
    "assert osp.isfile(joblist_fpath)\n",
    "assert osp.isfile(joblist_dtypes_fpath)"
   ]
  },
  {
   "cell_type": "markdown",
   "metadata": {},
   "source": [
    "Plot output folder"
   ]
  },
  {
   "cell_type": "code",
   "execution_count": 40,
   "metadata": {},
   "outputs": [],
   "source": [
    "postproc_top=osp.join(datadir,\"postproc\",\"notebooks\")\n",
    "assert osp.isdir(postproc_top)\n",
    "#postproc_top"
   ]
  },
  {
   "cell_type": "markdown",
   "metadata": {},
   "source": [
    "## Read the input data"
   ]
  },
  {
   "cell_type": "code",
   "execution_count": 41,
   "metadata": {},
   "outputs": [],
   "source": [
    "other_input_values=yaml_manager.readfile(manualdata_fpath)"
   ]
  },
  {
   "cell_type": "code",
   "execution_count": 42,
   "metadata": {},
   "outputs": [],
   "source": [
    "meshes_by_tag=other_input_values[\"meshes_by_tag\"]\n",
    "channel_widths=other_input_values[\"channel_widths\"]\n",
    "deprotonation_levels=other_input_values[\"deprotonation_levels\"]"
   ]
  },
  {
   "cell_type": "code",
   "execution_count": 43,
   "metadata": {},
   "outputs": [],
   "source": [
    "analytical_series=load_csv(analytical_series_fpath,analytical_series_dtypes_fpath)"
   ]
  },
  {
   "cell_type": "code",
   "execution_count": 44,
   "metadata": {},
   "outputs": [],
   "source": [
    "joblist=load_csv(joblist_fpath,joblist_dtypes_fpath)"
   ]
  },
  {
   "cell_type": "code",
   "execution_count": 45,
   "metadata": {},
   "outputs": [],
   "source": [
    "quadratic_joblist=load_csv(quadratic_joblist_fpath,quadratic_joblist_dtypes_fpath)"
   ]
  },
  {
   "cell_type": "code",
   "execution_count": 46,
   "metadata": {},
   "outputs": [],
   "source": [
    "collected=load_csv(collected_fpath,collected_dtypes_fpath)"
   ]
  },
  {
   "cell_type": "code",
   "execution_count": 47,
   "metadata": {},
   "outputs": [],
   "source": [
    "collected_quad=load_csv(collected_quad_fpath,collected_quad_dtypes_fpath)"
   ]
  },
  {
   "cell_type": "markdown",
   "metadata": {},
   "source": [
    "Show the columns in all the tables."
   ]
  },
  {
   "cell_type": "code",
   "execution_count": 48,
   "metadata": {},
   "outputs": [
    {
     "data": {
      "text/plain": [
       "Index(['channel_width', 'analytical_Deff'], dtype='object')"
      ]
     },
     "execution_count": 48,
     "metadata": {},
     "output_type": "execute_result"
    }
   ],
   "source": [
    "analytical_series.columns"
   ]
  },
  {
   "cell_type": "code",
   "execution_count": 49,
   "metadata": {},
   "outputs": [
    {
     "data": {
      "text/plain": [
       "Index(['job_id', 'tag', 'use_PMF', 'use_Dlocal', 'results_path',\n",
       "       'homog_results_path'],\n",
       "      dtype='object')"
      ]
     },
     "execution_count": 49,
     "metadata": {},
     "output_type": "execute_result"
    }
   ],
   "source": [
    "joblist.columns"
   ]
  },
  {
   "cell_type": "code",
   "execution_count": 50,
   "metadata": {},
   "outputs": [
    {
     "data": {
      "text/plain": [
       "Index(['job_id', 'tag', 'A', 'B', 'Zmid', 'Zrefl', 'analytical_Deff',\n",
       "       'results_path', 'homog_results_path'],\n",
       "      dtype='object')"
      ]
     },
     "execution_count": 50,
     "metadata": {},
     "output_type": "execute_result"
    }
   ],
   "source": [
    "quadratic_joblist.columns"
   ]
  },
  {
   "cell_type": "code",
   "execution_count": 51,
   "metadata": {},
   "outputs": [
    {
     "data": {
      "text/plain": [
       "Index(['job_id', 'tag', 'vary_Dlocal', 'vary_PMF', 'actual_width',\n",
       "       'cell_delta_x', 'full_thickness', 'area_start', 'area_end', 'area_mid',\n",
       "       'flux_start', 'flux_end', 'flux_mid', 'Deff', 'Dnoslab', 'full_volume',\n",
       "       'mesh_volume', 'Dbar', 'Deff_homog', 'width_nm', 'deprot'],\n",
       "      dtype='object')"
      ]
     },
     "execution_count": 51,
     "metadata": {},
     "output_type": "execute_result"
    }
   ],
   "source": [
    "collected.columns"
   ]
  },
  {
   "cell_type": "code",
   "execution_count": 52,
   "metadata": {},
   "outputs": [
    {
     "data": {
      "text/plain": [
       "Index(['job_id', 'tag', 'actual_width', 'cell_delta_x', 'full_thickness',\n",
       "       'area_start', 'area_end', 'area_mid', 'flux_start', 'flux_end',\n",
       "       'flux_mid', 'Deff', 'Dnoslab', 'full_volume', 'mesh_volume', 'Dbar',\n",
       "       'Deff_homog', 'width_nm', 'deprot'],\n",
       "      dtype='object')"
      ]
     },
     "execution_count": 52,
     "metadata": {},
     "output_type": "execute_result"
    }
   ],
   "source": [
    "collected_quad.columns"
   ]
  },
  {
   "cell_type": "markdown",
   "metadata": {},
   "source": [
    "## Output plot paths"
   ]
  },
  {
   "cell_type": "code",
   "execution_count": 53,
   "metadata": {},
   "outputs": [
    {
     "data": {
      "text/plain": [
       "'2021_0918'"
      ]
     },
     "execution_count": 53,
     "metadata": {},
     "output_type": "execute_result"
    }
   ],
   "source": [
    "datestr=datetime.now().strftime(\"%Y_%m%d\")\n",
    "datestr"
   ]
  },
  {
   "cell_type": "code",
   "execution_count": 54,
   "metadata": {},
   "outputs": [],
   "source": [
    "outdir=osp.join(postproc_top,datestr)"
   ]
  },
  {
   "cell_type": "code",
   "execution_count": 55,
   "metadata": {},
   "outputs": [],
   "source": [
    "if not osp.isdir(outdir):\n",
    "  os.makedirs(outdir)\n",
    "assert osp.isdir(outdir)"
   ]
  },
  {
   "cell_type": "markdown",
   "metadata": {},
   "source": [
    "## Plots"
   ]
  },
  {
   "cell_type": "code",
   "execution_count": 56,
   "metadata": {},
   "outputs": [],
   "source": [
    "linewidth=2 #pts"
   ]
  },
  {
   "cell_type": "code",
   "execution_count": 57,
   "metadata": {},
   "outputs": [],
   "source": [
    "markersize_vbig=12 #pts\n",
    "markersize_big=10 #pts\n",
    "markersize_small=7 #pts"
   ]
  },
  {
   "cell_type": "code",
   "execution_count": 58,
   "metadata": {},
   "outputs": [],
   "source": [
    "legend_ordering=[5,6,0,1,4,2,3]"
   ]
  },
  {
   "cell_type": "code",
   "execution_count": 59,
   "metadata": {},
   "outputs": [],
   "source": [
    "collected[\"prot\"]=1-collected[\"deprot\"]"
   ]
  },
  {
   "cell_type": "code",
   "execution_count": 60,
   "metadata": {},
   "outputs": [
    {
     "data": {
      "text/plain": [
       "Index(['job_id', 'tag', 'vary_Dlocal', 'vary_PMF', 'actual_width',\n",
       "       'cell_delta_x', 'full_thickness', 'area_start', 'area_end', 'area_mid',\n",
       "       'flux_start', 'flux_end', 'flux_mid', 'Deff', 'Dnoslab', 'full_volume',\n",
       "       'mesh_volume', 'Dbar', 'Deff_homog', 'width_nm', 'deprot', 'prot'],\n",
       "      dtype='object')"
      ]
     },
     "execution_count": 60,
     "metadata": {},
     "output_type": "execute_result"
    }
   ],
   "source": [
    "collected.columns"
   ]
  },
  {
   "cell_type": "code",
   "execution_count": 61,
   "metadata": {},
   "outputs": [],
   "source": [
    "ylim=(0,1)"
   ]
  },
  {
   "cell_type": "code",
   "execution_count": 62,
   "metadata": {},
   "outputs": [],
   "source": [
    "plot_an_D=series_from_df(analytical_series,\"channel_width\",\"analytical_Deff\",\n",
    "                                 label=\"Theoretical result\\nfor $D_{local}=D_{bulk}$,\\nno PMF\")"
   ]
  },
  {
   "cell_type": "code",
   "execution_count": 63,
   "metadata": {},
   "outputs": [
    {
     "data": {
      "text/plain": [
       "array([0.5 , 0.73, 1.  ])"
      ]
     },
     "execution_count": 63,
     "metadata": {},
     "output_type": "execute_result"
    }
   ],
   "source": [
    "deprot_vals=collected[\"prot\"].unique()\n",
    "deprot_vals.sort()\n",
    "deprot_vals"
   ]
  },
  {
   "cell_type": "code",
   "execution_count": 64,
   "metadata": {},
   "outputs": [
    {
     "data": {
      "text/plain": [
       "array([0.3030303, 0.3030303, 0.3030303])"
      ]
     },
     "execution_count": 64,
     "metadata": {},
     "output_type": "execute_result"
    }
   ],
   "source": [
    "deprot_analytical=np.array([analytical_series.loc[2.0,'analytical_Deff']]*3)\n",
    "deprot_analytical"
   ]
  },
  {
   "cell_type": "code",
   "execution_count": 65,
   "metadata": {},
   "outputs": [],
   "source": [
    "plot_an_PMF_x=[channel_widths[tag] for tag in quadratic_joblist[\"tag\"]]\n",
    "plot_an_PMF_y=quadratic_joblist[\"analytical_Deff\"]\n",
    "plot_an_PMF_label=\"Theoretical result\\nfor $D_{local}=D_{bulk}$,\\nquadratic PMF\""
   ]
  },
  {
   "cell_type": "code",
   "execution_count": 66,
   "metadata": {},
   "outputs": [],
   "source": [
    "plot_quad_PMF_x=collected_quad[\"width_nm\"]\n",
    "plot_quad_PMF_y=collected_quad[\"Deff_homog\"]\n",
    "plot_quad_PMF_label=\"$D_{local}=D_{bulk}$,\\nquadratic PMF\""
   ]
  },
  {
   "cell_type": "code",
   "execution_count": 67,
   "metadata": {},
   "outputs": [
    {
     "data": {
      "image/png": "[encoded data removed]",
      "text/plain": [
       "<Figure size 1008x432 with 3 Axes>"
      ]
     },
     "metadata": {
      "needs_background": "light"
     },
     "output_type": "display_data"
    }
   ],
   "source": [
    "fig=plt.figure(figsize=(14,6))\n",
    "gs=GridSpec(1,10)\n",
    "ax_w=fig.add_subplot(gs[0,0:4])\n",
    "ax_d=fig.add_subplot(gs[0,4:8])\n",
    "ax_l=fig.add_subplot(gs[0,8:])\n",
    "\n",
    "#Width plot\n",
    "for idx in range(4):\n",
    "  the_query=width_query_tmpl.format(*series_bools[idx])\n",
    "  ser=series_from_df(collected,\"width_nm\",\"Deff_homog\",query=the_query,label=series_titles[idx])\n",
    "  newh=ser.add_to_axes(ax_w,series_fmts[idx],lw=linewidth,ms=markersize_small)\n",
    "h_quad_PMF=ax_w.plot(plot_quad_PMF_x,plot_quad_PMF_y,\"o--g\",\n",
    "                     label=plot_quad_PMF_label,lw=linewidth,ms=markersize_small)\n",
    "h_an_D=plot_an_D.add_to_axes(ax_w,\"sk\",markerfacecolor=\"none\",lw=linewidth,ms=markersize_big)\n",
    "h_an_PMF=ax_w.plot(plot_an_PMF_x,plot_an_PMF_y,\"pk\",\n",
    "                   markerfacecolor=\"none\",label=plot_an_PMF_label,lw=linewidth,ms=markersize_vbig)\n",
    "legend_handles, legend_labels = ax_w.get_legend_handles_labels()\n",
    "o=ax_w.set_ylim(ylim)\n",
    "o=ax_w.set_xlabel('Channel Height [nm]',fontsize=20)\n",
    "o=ax_w.set_ylabel('$D_{eff}/D_{bulk}$',fontsize=20)\n",
    "o=ax_w.tick_params(axis=\"x\",labelsize=18)\n",
    "o=ax_w.tick_params(axis=\"y\",labelsize=18)\n",
    "\n",
    "\n",
    "#Deprotonation plot\n",
    "for idx in range(4):\n",
    "  the_query=deprot_query_tmpl.format(*series_bools[idx])\n",
    "  ser=series_from_df(collected,\"prot\",\"Deff_homog\",query=the_query,label=series_titles[idx])\n",
    "  newh=ser.add_to_axes(ax_d,series_fmts[idx],lw=linewidth)\n",
    "o=ax_d.plot(deprot_vals,deprot_analytical,\"ks\",markerfacecolor=\"none\",lw=linewidth,ms=markersize_big)\n",
    "o=ax_d.set_ylim(ylim)\n",
    "o=ax_d.set_xlabel(\"Surface Protonation Fraction\",fontsize=20)\n",
    "o=ax_d.tick_params(axis=\"x\",labelsize=18)\n",
    "o=ax_d.tick_params(axis=\"y\", labelleft=False)\n",
    "# o=ax_d.tick_params(axis=\"y\",labelsize=18)\n",
    "\n",
    "#Legend\n",
    "reord_handles=[legend_handles[idx] for idx in legend_ordering]\n",
    "reord_labels=[legend_labels[idx] for idx in legend_ordering]\n",
    "o=ax_l.axis(\"off\")\n",
    "o=ax_l.legend(reord_handles,reord_labels,loc=\"center\",fontsize=16)\n",
    "# o=ax_l.legend(handles=legend_handles,loc=\"center\")\n",
    "\n",
    "#Save\n",
    "fig.tight_layout()\n",
    "plot_fpath=osp.join(outdir,\"homogenization_plot_2.png\")\n",
    "fig.savefig(plot_fpath,dpi=150)"
   ]
  },
  {
   "cell_type": "code",
   "execution_count": null,
   "metadata": {},
   "outputs": [],
   "source": []
  }
 ],
 "metadata": {
  "kernelspec": {
   "display_name": "Python 3 (ipykernel)",
   "language": "python",
   "name": "python3"
  },
  "language_info": {
   "codemirror_mode": {
    "name": "ipython",
    "version": 3
   },
   "file_extension": ".py",
   "mimetype": "text/x-python",
   "name": "python",
   "nbconvert_exporter": "python",
   "pygments_lexer": "ipython3",
   "version": "3.9.6"
  }
 },
 "nbformat": 4,
 "nbformat_minor": 4
}
