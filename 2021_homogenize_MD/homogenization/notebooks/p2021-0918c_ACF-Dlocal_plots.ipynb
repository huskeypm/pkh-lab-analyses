{
 "cells": [
  {
   "cell_type": "markdown",
   "metadata": {},
   "source": [
    "This is the ACF and Dlocal line plot.\n",
    "\n",
    "Continued from `p2021-0617a_ACF-Dlocal_plots.ipynb`.\n",
    "\n",
    "The ACF data was prepared by notebooks in the `silicate_md` repo, which were then copied to the location indicated here:\n",
    "\n",
    "- `p20201207a_get_acf_data.ipynb`\n",
    "- `p2021-0201a_another_ACF_extraction.ipynb`\n"
   ]
  },
  {
   "cell_type": "markdown",
   "metadata": {},
   "source": [
    "## Setup"
   ]
  },
  {
   "cell_type": "code",
   "execution_count": 1,
   "metadata": {},
   "outputs": [],
   "source": [
    "import os\n",
    "import os.path as osp"
   ]
  },
  {
   "cell_type": "code",
   "execution_count": 2,
   "metadata": {},
   "outputs": [],
   "source": [
    "import operator\n",
    "import itertools"
   ]
  },
  {
   "cell_type": "code",
   "execution_count": 3,
   "metadata": {},
   "outputs": [],
   "source": [
    "from datetime import datetime"
   ]
  },
  {
   "cell_type": "code",
   "execution_count": 4,
   "metadata": {},
   "outputs": [],
   "source": [
    "import numpy as np"
   ]
  },
  {
   "cell_type": "code",
   "execution_count": 5,
   "metadata": {},
   "outputs": [],
   "source": [
    "import pandas as pd"
   ]
  },
  {
   "cell_type": "code",
   "execution_count": 6,
   "metadata": {},
   "outputs": [],
   "source": [
    "import matplotlib.pyplot as plt"
   ]
  },
  {
   "cell_type": "code",
   "execution_count": 7,
   "metadata": {},
   "outputs": [],
   "source": [
    "%matplotlib inline"
   ]
  },
  {
   "cell_type": "code",
   "execution_count": 8,
   "metadata": {},
   "outputs": [],
   "source": [
    "import matplotlib as mpl"
   ]
  },
  {
   "cell_type": "code",
   "execution_count": 9,
   "metadata": {},
   "outputs": [],
   "source": [
    "#Uncomment for print\n",
    "# mpl.rcParams['figure.dpi']= 300"
   ]
  },
  {
   "cell_type": "code",
   "execution_count": 10,
   "metadata": {},
   "outputs": [],
   "source": [
    "#Uncomment for presentation\n",
    "# mpl.rcParams['xtick.labelsize']=\"xx-large\"\n",
    "# mpl.rcParams['ytick.labelsize']=\"xx-large\""
   ]
  },
  {
   "cell_type": "code",
   "execution_count": 11,
   "metadata": {},
   "outputs": [],
   "source": [
    "##from matplotlib.gridspec import GridSpec #Not used at present but potentially useful"
   ]
  },
  {
   "cell_type": "code",
   "execution_count": 12,
   "metadata": {},
   "outputs": [],
   "source": [
    "from matplotlib.colors import BoundaryNorm"
   ]
  },
  {
   "cell_type": "code",
   "execution_count": 13,
   "metadata": {},
   "outputs": [],
   "source": [
    "import simproc"
   ]
  },
  {
   "cell_type": "code",
   "execution_count": 14,
   "metadata": {},
   "outputs": [],
   "source": [
    "import simproc.requesthandler.yaml_manager as yaml_manager\n",
    "import simproc.requesthandler.pickle_manager as pickle_manager\n",
    "import simproc.requesthandler.locators as locators"
   ]
  },
  {
   "cell_type": "markdown",
   "metadata": {},
   "source": [
    "## Constants"
   ]
  },
  {
   "cell_type": "code",
   "execution_count": 15,
   "metadata": {},
   "outputs": [],
   "source": [
    "taglist=['12A','16A','20A','27pct','50pct','na_27pct']"
   ]
  },
  {
   "cell_type": "code",
   "execution_count": 16,
   "metadata": {},
   "outputs": [],
   "source": [
    "dlocal_comp_list=[\"xx\",\"yy\",\"zz\",\"avg\"]"
   ]
  },
  {
   "cell_type": "code",
   "execution_count": 17,
   "metadata": {},
   "outputs": [],
   "source": [
    "dlocal_fname_tmpl=\"D{comp}_{tag}_nd.csv\""
   ]
  },
  {
   "cell_type": "code",
   "execution_count": 18,
   "metadata": {},
   "outputs": [],
   "source": [
    "pmf_fname_tmpl=\"pmf_{tag}_nd.csv\""
   ]
  },
  {
   "cell_type": "code",
   "execution_count": 19,
   "metadata": {},
   "outputs": [],
   "source": [
    "wdens_fname_tmpl=\"density_Xplane_{mtag}.pkl\""
   ]
  },
  {
   "cell_type": "code",
   "execution_count": 20,
   "metadata": {},
   "outputs": [],
   "source": [
    "bbox_fname_tmpl=\"bbox_{tag}.csv\""
   ]
  },
  {
   "cell_type": "code",
   "execution_count": 21,
   "metadata": {},
   "outputs": [],
   "source": [
    "plot_fname_tmpl=\"ACF_Dlocal_{}.png\""
   ]
  },
  {
   "cell_type": "code",
   "execution_count": 22,
   "metadata": {},
   "outputs": [],
   "source": [
    "acf_df_files={'channel':'acf_curves.csv.xz','bulk':'bulk_acf.csv.xz'}"
   ]
  },
  {
   "cell_type": "code",
   "execution_count": 23,
   "metadata": {},
   "outputs": [],
   "source": [
    "SELTOL=1e-6"
   ]
  },
  {
   "cell_type": "code",
   "execution_count": 24,
   "metadata": {},
   "outputs": [],
   "source": [
    "#For print\n",
    "# font_settings={\n",
    "#   \"cbar_wdens\": 16,\n",
    "#   \"cbar_dratio\": 32,\n",
    "#   \"cbar_pmf\": 16,\n",
    "#   \"axlabels\": 12,\n",
    "#   \"axtitle\": 14,\n",
    "# }\n",
    "#Intermediate\n",
    "# font_settings={\n",
    "#   \"cbar_wdens\": 20,\n",
    "#   \"cbar_dratio\": 40,\n",
    "#   \"cbar_pmf\": 20,\n",
    "#   \"axlabels\": 16,\n",
    "#   \"axtitle\": 18,\n",
    "# }\n",
    "#For presentation\n",
    "# font_settings={\n",
    "#   \"cbar_wdens\": 24,\n",
    "#   \"cbar_dratio\": 40,\n",
    "#   \"cbar_pmf\": 24,\n",
    "#   \"axlabels\": 24,\n",
    "#   \"axtitle\": 24,\n",
    "# }"
   ]
  },
  {
   "cell_type": "markdown",
   "metadata": {},
   "source": [
    "## Data folder"
   ]
  },
  {
   "cell_type": "code",
   "execution_count": 25,
   "metadata": {},
   "outputs": [],
   "source": [
    "datadir=osp.abspath(\"../silicate\")\n",
    "assert osp.isdir(datadir)"
   ]
  },
  {
   "cell_type": "code",
   "execution_count": 26,
   "metadata": {},
   "outputs": [],
   "source": [
    "o=locators.SetDataFolder(datafolder=datadir)"
   ]
  },
  {
   "cell_type": "markdown",
   "metadata": {},
   "source": [
    "## Locators"
   ]
  },
  {
   "cell_type": "code",
   "execution_count": 27,
   "metadata": {},
   "outputs": [],
   "source": [
    "#locators.folder_structure.keys()"
   ]
  },
  {
   "cell_type": "code",
   "execution_count": 28,
   "metadata": {},
   "outputs": [],
   "source": [
    "locators.folder_structure.update(Unprocessed=['inputs','unprocessed'])"
   ]
  },
  {
   "cell_type": "code",
   "execution_count": 29,
   "metadata": {},
   "outputs": [],
   "source": [
    "locators.folder_structure.update(Processed=['inputs','processed'])"
   ]
  },
  {
   "cell_type": "code",
   "execution_count": 30,
   "metadata": {},
   "outputs": [],
   "source": [
    "locators.folder_structure.update(Manual=['inputs','manual'])"
   ]
  },
  {
   "cell_type": "code",
   "execution_count": 31,
   "metadata": {},
   "outputs": [],
   "source": [
    "locators.folder_structure.update(ACF_df=['inputs','ACF_df'])"
   ]
  },
  {
   "cell_type": "code",
   "execution_count": 32,
   "metadata": {},
   "outputs": [],
   "source": [
    "Unprocessed=lambda fname: self.renderstr(locators.Unprocessed(fname))"
   ]
  },
  {
   "cell_type": "code",
   "execution_count": 33,
   "metadata": {},
   "outputs": [],
   "source": [
    "Processed=lambda fname: self.renderstr(locators.Processed(fname))"
   ]
  },
  {
   "cell_type": "code",
   "execution_count": 34,
   "metadata": {},
   "outputs": [],
   "source": [
    "Manual=lambda fname: self.renderstr(locators.Manual(fname))"
   ]
  },
  {
   "cell_type": "code",
   "execution_count": 35,
   "metadata": {},
   "outputs": [],
   "source": [
    "ACF_df=lambda fname: self.renderstr(locators.ACF_df(fname))"
   ]
  },
  {
   "cell_type": "markdown",
   "metadata": {},
   "source": [
    "## Dummy request for loading data"
   ]
  },
  {
   "cell_type": "code",
   "execution_count": 36,
   "metadata": {},
   "outputs": [],
   "source": [
    "self=simproc.requesthandler.request.Request(name=\"ypress.plotting\")"
   ]
  },
  {
   "cell_type": "markdown",
   "metadata": {},
   "source": [
    "## Data file names and paths"
   ]
  },
  {
   "cell_type": "markdown",
   "metadata": {},
   "source": [
    "Manual data"
   ]
  },
  {
   "cell_type": "code",
   "execution_count": 37,
   "metadata": {},
   "outputs": [],
   "source": [
    "manualdata_fpath=Manual('other_input_values.yaml')\n",
    "assert osp.isfile(manualdata_fpath)"
   ]
  },
  {
   "cell_type": "markdown",
   "metadata": {},
   "source": [
    "$D_{\\text{local}}$"
   ]
  },
  {
   "cell_type": "code",
   "execution_count": 38,
   "metadata": {},
   "outputs": [],
   "source": [
    "dlocal_fpaths={}\n",
    "for tag in taglist:\n",
    "  dlocal_fpaths[tag]={comp:Processed(dlocal_fname_tmpl.format(tag=tag,comp=comp)) \\\n",
    "                        for comp in dlocal_comp_list}"
   ]
  },
  {
   "cell_type": "code",
   "execution_count": 39,
   "metadata": {},
   "outputs": [],
   "source": [
    "dloc_existence_list=[]\n",
    "for fdict in dlocal_fpaths.values():\n",
    "  dloc_existence_list+=[osp.isfile(fpath) for fpath in fdict.values()]\n",
    "assert all(dloc_existence_list)"
   ]
  },
  {
   "cell_type": "markdown",
   "metadata": {},
   "source": [
    "PMF"
   ]
  },
  {
   "cell_type": "code",
   "execution_count": 40,
   "metadata": {},
   "outputs": [],
   "source": [
    "pmf_fpaths={tag:Processed(pmf_fname_tmpl.format(tag=tag)) for tag in taglist}"
   ]
  },
  {
   "cell_type": "code",
   "execution_count": 41,
   "metadata": {},
   "outputs": [],
   "source": [
    "pmf_existence_list=[osp.isfile(fpath) for fpath in pmf_fpaths.values()]\n",
    "assert all(pmf_existence_list)"
   ]
  },
  {
   "cell_type": "markdown",
   "metadata": {},
   "source": [
    "Water density\n",
    "\n",
    "Paths require manual data; see below."
   ]
  },
  {
   "cell_type": "markdown",
   "metadata": {},
   "source": [
    "Bounding Box data"
   ]
  },
  {
   "cell_type": "code",
   "execution_count": 42,
   "metadata": {},
   "outputs": [],
   "source": [
    "bbox_fpaths={tag:Processed(bbox_fname_tmpl.format(tag=tag)) for tag in taglist}"
   ]
  },
  {
   "cell_type": "markdown",
   "metadata": {},
   "source": [
    "Plot output folder"
   ]
  },
  {
   "cell_type": "code",
   "execution_count": 43,
   "metadata": {},
   "outputs": [],
   "source": [
    "postproc_top=osp.join(datadir,\"postproc\",\"notebooks\")"
   ]
  },
  {
   "cell_type": "code",
   "execution_count": 44,
   "metadata": {},
   "outputs": [],
   "source": [
    "assert osp.isdir(postproc_top)"
   ]
  },
  {
   "cell_type": "markdown",
   "metadata": {},
   "source": [
    "ACF curves"
   ]
  },
  {
   "cell_type": "code",
   "execution_count": 45,
   "metadata": {},
   "outputs": [],
   "source": [
    "acf_fpaths={kind:ACF_df(fname) for kind,fname in acf_df_files.items()}"
   ]
  },
  {
   "cell_type": "code",
   "execution_count": 46,
   "metadata": {},
   "outputs": [],
   "source": [
    "acf_existence_list=[osp.isfile(fpath) for fpath in acf_fpaths.values()]\n",
    "assert all(acf_existence_list)"
   ]
  },
  {
   "cell_type": "markdown",
   "metadata": {},
   "source": [
    "## Read the input data"
   ]
  },
  {
   "cell_type": "markdown",
   "metadata": {},
   "source": [
    "Manual"
   ]
  },
  {
   "cell_type": "code",
   "execution_count": 47,
   "metadata": {},
   "outputs": [],
   "source": [
    "other_input_values=yaml_manager.readfile(manualdata_fpath)"
   ]
  },
  {
   "cell_type": "code",
   "execution_count": 48,
   "metadata": {},
   "outputs": [],
   "source": [
    "meshes_by_tag=other_input_values[\"meshes_by_tag\"]"
   ]
  },
  {
   "cell_type": "markdown",
   "metadata": {},
   "source": [
    "$D_\\text{local}$"
   ]
  },
  {
   "cell_type": "code",
   "execution_count": 49,
   "metadata": {},
   "outputs": [],
   "source": [
    "dlocal={}\n",
    "for tag,pathdict in dlocal_fpaths.items():\n",
    "  dlocal[tag]= {comp:pd.read_csv(pathdict[comp]) for comp in dlocal_comp_list}"
   ]
  },
  {
   "cell_type": "markdown",
   "metadata": {},
   "source": [
    "PMF"
   ]
  },
  {
   "cell_type": "code",
   "execution_count": 50,
   "metadata": {},
   "outputs": [],
   "source": [
    "pmf={tag:pd.read_csv(fpath) for tag,fpath in pmf_fpaths.items()}"
   ]
  },
  {
   "cell_type": "markdown",
   "metadata": {},
   "source": [
    "Water density"
   ]
  },
  {
   "cell_type": "code",
   "execution_count": 51,
   "metadata": {},
   "outputs": [],
   "source": [
    "wdens_fpaths={tag:Unprocessed(wdens_fname_tmpl.format(mtag=meshes_by_tag[tag])) for tag in taglist}"
   ]
  },
  {
   "cell_type": "code",
   "execution_count": 52,
   "metadata": {},
   "outputs": [],
   "source": [
    "wdens_existence_list=[osp.isfile(fpath) for fpath in wdens_fpaths.values()]\n",
    "assert all(wdens_existence_list)"
   ]
  },
  {
   "cell_type": "code",
   "execution_count": 53,
   "metadata": {},
   "outputs": [],
   "source": [
    "wdens={tag:pickle_manager.readfile(fpath) for tag,fpath in wdens_fpaths.items()}"
   ]
  },
  {
   "cell_type": "markdown",
   "metadata": {},
   "source": [
    "Bounding box data"
   ]
  },
  {
   "cell_type": "code",
   "execution_count": 54,
   "metadata": {},
   "outputs": [],
   "source": [
    "bboxes={tag:pd.read_csv(fpath,index_col=0) for tag,fpath in bbox_fpaths.items()}"
   ]
  },
  {
   "cell_type": "markdown",
   "metadata": {},
   "source": [
    "ACF curves"
   ]
  },
  {
   "cell_type": "code",
   "execution_count": 55,
   "metadata": {},
   "outputs": [],
   "source": [
    "acf_df=pd.read_csv(acf_fpaths['channel'])"
   ]
  },
  {
   "cell_type": "code",
   "execution_count": 56,
   "metadata": {},
   "outputs": [
    {
     "data": {
      "text/plain": [
       "Index(['t', '4.75', '5.05', '5.35'], dtype='object')"
      ]
     },
     "execution_count": 56,
     "metadata": {},
     "output_type": "execute_result"
    }
   ],
   "source": [
    "acf_df.columns"
   ]
  },
  {
   "cell_type": "code",
   "execution_count": 57,
   "metadata": {},
   "outputs": [],
   "source": [
    "acf_zvals=list(acf_df.columns[1:])"
   ]
  },
  {
   "cell_type": "code",
   "execution_count": 58,
   "metadata": {},
   "outputs": [],
   "source": [
    "acf_bulk=pd.read_csv(acf_fpaths['bulk'])"
   ]
  },
  {
   "cell_type": "code",
   "execution_count": 59,
   "metadata": {},
   "outputs": [
    {
     "data": {
      "text/plain": [
       "Index(['t', 'x', 'y', 'z'], dtype='object')"
      ]
     },
     "execution_count": 59,
     "metadata": {},
     "output_type": "execute_result"
    }
   ],
   "source": [
    "acf_bulk.columns"
   ]
  },
  {
   "cell_type": "markdown",
   "metadata": {},
   "source": [
    "## Output plot paths"
   ]
  },
  {
   "cell_type": "code",
   "execution_count": 60,
   "metadata": {},
   "outputs": [
    {
     "data": {
      "text/plain": [
       "'2021_0918'"
      ]
     },
     "execution_count": 60,
     "metadata": {},
     "output_type": "execute_result"
    }
   ],
   "source": [
    "datestr=datetime.now().strftime(\"%Y_%m%d\")\n",
    "datestr"
   ]
  },
  {
   "cell_type": "code",
   "execution_count": 61,
   "metadata": {},
   "outputs": [],
   "source": [
    "outdir=osp.join(postproc_top,datestr)"
   ]
  },
  {
   "cell_type": "code",
   "execution_count": 62,
   "metadata": {},
   "outputs": [],
   "source": [
    "if not osp.isdir(outdir):\n",
    "  os.makedirs(outdir)\n",
    "assert osp.isdir(outdir)"
   ]
  },
  {
   "cell_type": "markdown",
   "metadata": {},
   "source": [
    "## Constants and Functions for plotting"
   ]
  },
  {
   "cell_type": "code",
   "execution_count": 63,
   "metadata": {},
   "outputs": [],
   "source": [
    "def select_by_coord(inframe,col,val,tol=SELTOL):\n",
    "  cond=(inframe[col]<(val+tol)) & (inframe[col]>(val-tol))\n",
    "  sel=inframe[cond]\n",
    "  return sel"
   ]
  },
  {
   "cell_type": "code",
   "execution_count": 64,
   "metadata": {},
   "outputs": [],
   "source": [
    "def average_across(inframe,selcol,avgcol,tol=SELTOL):\n",
    "  vlist=list(inframe[selcol].unique())\n",
    "  vlist.sort()\n",
    "  rows=[]\n",
    "  for vv in vlist:\n",
    "    subset=select_by_coord(inframe,selcol,vv,tol)\n",
    "    avg_val=subset[avgcol].mean()\n",
    "    rows.append((vv,avg_val))\n",
    "  outframe=pd.DataFrame(rows,columns=[selcol,avgcol])\n",
    "  return outframe"
   ]
  },
  {
   "cell_type": "code",
   "execution_count": 65,
   "metadata": {},
   "outputs": [],
   "source": [
    "def make_stairsteps(edgearr,valarr):\n",
    "  xvals=[edgearr[0]]\n",
    "  yvals=[valarr[0]]\n",
    "  for idx in range(len(valarr)-1):\n",
    "    xvals+=[edgearr[idx+1],edgearr[idx+1]]\n",
    "    yvals+=[valarr[idx],valarr[idx+1]]\n",
    "  xvals.append(edgearr[-1])\n",
    "  yvals.append(valarr[-1])\n",
    "  return np.array(xvals),np.array(yvals)"
   ]
  },
  {
   "cell_type": "code",
   "execution_count": 66,
   "metadata": {},
   "outputs": [],
   "source": [
    "def unpack_wdens(wdens_dict):\n",
    "  return wdens_dict[\"grid\"], wdens_dict[\"edges\"]"
   ]
  },
  {
   "cell_type": "markdown",
   "metadata": {},
   "source": [
    "## Plots"
   ]
  },
  {
   "cell_type": "markdown",
   "metadata": {},
   "source": [
    "We're going to use the 16A channel for this."
   ]
  },
  {
   "cell_type": "code",
   "execution_count": 67,
   "metadata": {},
   "outputs": [],
   "source": [
    "tag=\"16A\""
   ]
  },
  {
   "cell_type": "code",
   "execution_count": 68,
   "metadata": {},
   "outputs": [],
   "source": [
    "df_pmf=pmf[tag]"
   ]
  },
  {
   "cell_type": "code",
   "execution_count": 69,
   "metadata": {},
   "outputs": [],
   "source": [
    "df_dlocal=dlocal[tag][\"xx\"]"
   ]
  },
  {
   "cell_type": "code",
   "execution_count": 70,
   "metadata": {},
   "outputs": [],
   "source": [
    "grid,edges=unpack_wdens(wdens[tag])"
   ]
  },
  {
   "cell_type": "code",
   "execution_count": 71,
   "metadata": {},
   "outputs": [],
   "source": [
    "bbox=bboxes[tag]"
   ]
  },
  {
   "cell_type": "code",
   "execution_count": 72,
   "metadata": {},
   "outputs": [
    {
     "data": {
      "text/html": [
       "<div>\n",
       "<style scoped>\n",
       "    .dataframe tbody tr th:only-of-type {\n",
       "        vertical-align: middle;\n",
       "    }\n",
       "\n",
       "    .dataframe tbody tr th {\n",
       "        vertical-align: top;\n",
       "    }\n",
       "\n",
       "    .dataframe thead th {\n",
       "        text-align: right;\n",
       "    }\n",
       "</style>\n",
       "<table border=\"1\" class=\"dataframe\">\n",
       "  <thead>\n",
       "    <tr style=\"text-align: right;\">\n",
       "      <th></th>\n",
       "      <th>Xmin</th>\n",
       "      <th>Xmax</th>\n",
       "      <th>Xspan</th>\n",
       "      <th>Ymin</th>\n",
       "      <th>Ymax</th>\n",
       "      <th>Yspan</th>\n",
       "      <th>Zmin</th>\n",
       "      <th>Zmax</th>\n",
       "      <th>Zspan</th>\n",
       "    </tr>\n",
       "  </thead>\n",
       "  <tbody>\n",
       "    <tr>\n",
       "      <th>mesh</th>\n",
       "      <td>5.70</td>\n",
       "      <td>5.80</td>\n",
       "      <td>0.1</td>\n",
       "      <td>4.900</td>\n",
       "      <td>5.500</td>\n",
       "      <td>0.60</td>\n",
       "      <td>4.700</td>\n",
       "      <td>6.300</td>\n",
       "      <td>1.60</td>\n",
       "    </tr>\n",
       "    <tr>\n",
       "      <th>limits</th>\n",
       "      <td>5.75</td>\n",
       "      <td>5.75</td>\n",
       "      <td>0.0</td>\n",
       "      <td>4.900</td>\n",
       "      <td>5.500</td>\n",
       "      <td>0.60</td>\n",
       "      <td>4.700</td>\n",
       "      <td>6.400</td>\n",
       "      <td>1.70</td>\n",
       "    </tr>\n",
       "    <tr>\n",
       "      <th>Dxx</th>\n",
       "      <td>5.75</td>\n",
       "      <td>5.75</td>\n",
       "      <td>0.0</td>\n",
       "      <td>4.900</td>\n",
       "      <td>5.450</td>\n",
       "      <td>0.55</td>\n",
       "      <td>4.700</td>\n",
       "      <td>6.350</td>\n",
       "      <td>1.65</td>\n",
       "    </tr>\n",
       "    <tr>\n",
       "      <th>Dyy</th>\n",
       "      <td>5.75</td>\n",
       "      <td>5.75</td>\n",
       "      <td>0.0</td>\n",
       "      <td>4.900</td>\n",
       "      <td>5.450</td>\n",
       "      <td>0.55</td>\n",
       "      <td>4.700</td>\n",
       "      <td>6.350</td>\n",
       "      <td>1.65</td>\n",
       "    </tr>\n",
       "    <tr>\n",
       "      <th>Dzz</th>\n",
       "      <td>5.75</td>\n",
       "      <td>5.75</td>\n",
       "      <td>0.0</td>\n",
       "      <td>4.900</td>\n",
       "      <td>5.450</td>\n",
       "      <td>0.55</td>\n",
       "      <td>4.700</td>\n",
       "      <td>6.350</td>\n",
       "      <td>1.65</td>\n",
       "    </tr>\n",
       "    <tr>\n",
       "      <th>Davg</th>\n",
       "      <td>5.75</td>\n",
       "      <td>5.75</td>\n",
       "      <td>0.0</td>\n",
       "      <td>4.900</td>\n",
       "      <td>5.450</td>\n",
       "      <td>0.55</td>\n",
       "      <td>4.700</td>\n",
       "      <td>6.350</td>\n",
       "      <td>1.65</td>\n",
       "    </tr>\n",
       "    <tr>\n",
       "      <th>pmf</th>\n",
       "      <td>5.75</td>\n",
       "      <td>5.75</td>\n",
       "      <td>0.0</td>\n",
       "      <td>4.875</td>\n",
       "      <td>5.525</td>\n",
       "      <td>0.65</td>\n",
       "      <td>4.675</td>\n",
       "      <td>6.425</td>\n",
       "      <td>1.75</td>\n",
       "    </tr>\n",
       "  </tbody>\n",
       "</table>\n",
       "</div>"
      ],
      "text/plain": [
       "        Xmin  Xmax  Xspan   Ymin   Ymax  Yspan   Zmin   Zmax  Zspan\n",
       "mesh    5.70  5.80    0.1  4.900  5.500   0.60  4.700  6.300   1.60\n",
       "limits  5.75  5.75    0.0  4.900  5.500   0.60  4.700  6.400   1.70\n",
       "Dxx     5.75  5.75    0.0  4.900  5.450   0.55  4.700  6.350   1.65\n",
       "Dyy     5.75  5.75    0.0  4.900  5.450   0.55  4.700  6.350   1.65\n",
       "Dzz     5.75  5.75    0.0  4.900  5.450   0.55  4.700  6.350   1.65\n",
       "Davg    5.75  5.75    0.0  4.900  5.450   0.55  4.700  6.350   1.65\n",
       "pmf     5.75  5.75    0.0  4.875  5.525   0.65  4.675  6.425   1.75"
      ]
     },
     "execution_count": 72,
     "metadata": {},
     "output_type": "execute_result"
    }
   ],
   "source": [
    "bbox"
   ]
  },
  {
   "cell_type": "code",
   "execution_count": 73,
   "metadata": {},
   "outputs": [
    {
     "data": {
      "text/plain": [
       "Xmin     5.7\n",
       "Xmax     5.8\n",
       "Xspan    0.1\n",
       "Ymin     4.9\n",
       "Ymax     5.5\n",
       "Yspan    0.6\n",
       "Zmin     4.7\n",
       "Zmax     6.3\n",
       "Zspan    1.6\n",
       "Name: mesh, dtype: float64"
      ]
     },
     "execution_count": 73,
     "metadata": {},
     "output_type": "execute_result"
    }
   ],
   "source": [
    "meshbox=bbox.loc['mesh',:]\n",
    "meshbox"
   ]
  },
  {
   "cell_type": "code",
   "execution_count": 74,
   "metadata": {},
   "outputs": [
    {
     "data": {
      "text/plain": [
       "5.2"
      ]
     },
     "execution_count": 74,
     "metadata": {},
     "output_type": "execute_result"
    }
   ],
   "source": [
    "Ymid=(meshbox[\"Ymax\"]+meshbox[\"Ymin\"])/2.0\n",
    "Ymid"
   ]
  },
  {
   "cell_type": "code",
   "execution_count": 75,
   "metadata": {},
   "outputs": [
    {
     "data": {
      "text/plain": [
       "array([4.875, 4.925, 4.975, 5.025, 5.075, 5.125, 5.175, 5.225, 5.275,\n",
       "       5.325, 5.375, 5.425, 5.475, 5.525])"
      ]
     },
     "execution_count": 75,
     "metadata": {},
     "output_type": "execute_result"
    }
   ],
   "source": [
    "pmf_unique_y=df_pmf[\"y\"].unique()\n",
    "pmf_unique_y"
   ]
  },
  {
   "cell_type": "code",
   "execution_count": 76,
   "metadata": {},
   "outputs": [
    {
     "data": {
      "text/plain": [
       "5.175"
      ]
     },
     "execution_count": 76,
     "metadata": {},
     "output_type": "execute_result"
    }
   ],
   "source": [
    "sely_pmf=pmf_unique_y[6]\n",
    "sely_pmf"
   ]
  },
  {
   "cell_type": "code",
   "execution_count": 77,
   "metadata": {},
   "outputs": [
    {
     "data": {
      "text/plain": [
       "array([4.9 , 4.95, 5.  , 5.05, 5.1 , 5.15, 5.2 , 5.25, 5.3 , 5.35, 5.4 ,\n",
       "       5.45])"
      ]
     },
     "execution_count": 77,
     "metadata": {},
     "output_type": "execute_result"
    }
   ],
   "source": [
    "dlocal_unique_y=df_dlocal[\"y\"].unique()\n",
    "dlocal_unique_y"
   ]
  },
  {
   "cell_type": "code",
   "execution_count": 78,
   "metadata": {},
   "outputs": [
    {
     "data": {
      "text/plain": [
       "5.2"
      ]
     },
     "execution_count": 78,
     "metadata": {},
     "output_type": "execute_result"
    }
   ],
   "source": [
    "sely_dlocal=dlocal_unique_y[6]\n",
    "sely_dlocal"
   ]
  },
  {
   "cell_type": "code",
   "execution_count": 79,
   "metadata": {},
   "outputs": [
    {
     "data": {
      "text/plain": [
       "Index(['x', 'y', 'z', 'Dxx'], dtype='object')"
      ]
     },
     "execution_count": 79,
     "metadata": {},
     "output_type": "execute_result"
    }
   ],
   "source": [
    "sel_dlocal=select_by_coord(df_dlocal,\"y\",sely_dlocal)\n",
    "sel_dlocal.columns"
   ]
  },
  {
   "cell_type": "code",
   "execution_count": 80,
   "metadata": {},
   "outputs": [
    {
     "data": {
      "text/plain": [
       "Index(['z', 'Dxx'], dtype='object')"
      ]
     },
     "execution_count": 80,
     "metadata": {},
     "output_type": "execute_result"
    }
   ],
   "source": [
    "averaged_dlocal=average_across(df_dlocal,'z','Dxx')\n",
    "averaged_dlocal.columns"
   ]
  },
  {
   "cell_type": "code",
   "execution_count": 81,
   "metadata": {},
   "outputs": [],
   "source": [
    "example_indices=[1,7,13]"
   ]
  },
  {
   "cell_type": "code",
   "execution_count": 82,
   "metadata": {},
   "outputs": [
    {
     "data": {
      "text/plain": [
       "[4.75, 5.05, 5.3500000000000005]"
      ]
     },
     "execution_count": 82,
     "metadata": {},
     "output_type": "execute_result"
    }
   ],
   "source": [
    "example_z=[sel_dlocal['z'].iloc[idx] for idx in example_indices]\n",
    "example_z"
   ]
  },
  {
   "cell_type": "code",
   "execution_count": 83,
   "metadata": {},
   "outputs": [
    {
     "data": {
      "text/plain": [
       "[0.2289754458688373, 0.6724962067250424, 1.0538256853740922]"
      ]
     },
     "execution_count": 83,
     "metadata": {},
     "output_type": "execute_result"
    }
   ],
   "source": [
    "example_D=[sel_dlocal['Dxx'].iloc[idx] for idx in example_indices]\n",
    "example_D"
   ]
  },
  {
   "cell_type": "code",
   "execution_count": 84,
   "metadata": {},
   "outputs": [],
   "source": [
    "acf_fmts=\"\""
   ]
  },
  {
   "cell_type": "code",
   "execution_count": 85,
   "metadata": {},
   "outputs": [
    {
     "data": {
      "text/plain": [
       "'$D_{xx}$ for $y$=5.2 nm'"
      ]
     },
     "execution_count": 85,
     "metadata": {},
     "output_type": "execute_result"
    }
   ],
   "source": [
    "ystr=\"$D_{{xx}}$ for $y$={y:0.1f} nm\".format(y=sely_dlocal)\n",
    "ystr"
   ]
  },
  {
   "cell_type": "code",
   "execution_count": 86,
   "metadata": {},
   "outputs": [],
   "source": [
    "#Series for bulk dlocal on the right panel\n",
    "bulk_d_x=[4.5,6.5]\n",
    "bulk_d_y=[1.0,1.0]"
   ]
  },
  {
   "cell_type": "code",
   "execution_count": 87,
   "metadata": {},
   "outputs": [],
   "source": [
    "#Colors for the left panel\n",
    "color_list=[\"C1\",\"C2\",\"C5\"]"
   ]
  },
  {
   "cell_type": "code",
   "execution_count": 88,
   "metadata": {},
   "outputs": [],
   "source": [
    "#Label for bulk simulation on the left panel\n",
    "bulk_sim_label=\"Bulk water:  normalized $D_{xx}$=1.00\""
   ]
  },
  {
   "cell_type": "code",
   "execution_count": 89,
   "metadata": {},
   "outputs": [
    {
     "name": "stderr",
     "output_type": "stream",
     "text": [
      "/tmp/ipykernel_10345/1986430052.py:4: UserWarning: linestyle is redundantly defined by the 'linestyle' keyword argument and the fmt string \"k-\" (-> linestyle='-'). The keyword argument will take precedence.\n",
      "  o=ax.plot(acf_bulk['t'],acf_bulk['x'],'k-',label=bulk_sim_label,color=\"blue\",linestyle=\"dotted\")\n",
      "/tmp/ipykernel_10345/1986430052.py:4: UserWarning: color is redundantly defined by the 'color' keyword argument and the fmt string \"k-\" (-> color='k'). The keyword argument will take precedence.\n",
      "  o=ax.plot(acf_bulk['t'],acf_bulk['x'],'k-',label=bulk_sim_label,color=\"blue\",linestyle=\"dotted\")\n"
     ]
    },
    {
     "data": {
      "image/png": "[encoded data removed]",
      "text/plain": [
       "<Figure size 864x360 with 2 Axes>"
      ]
     },
     "metadata": {
      "needs_background": "light"
     },
     "output_type": "display_data"
    }
   ],
   "source": [
    "fig,axlist=plt.subplots(1,2,figsize=(12,5))\n",
    "#ACFs\n",
    "ax=axlist[0]\n",
    "o=ax.plot(acf_bulk['t'],acf_bulk['x'],'k-',label=bulk_sim_label,color=\"blue\",linestyle=\"dotted\")\n",
    "for idx,zstr in enumerate(acf_zvals):\n",
    "  lblstr=\"$z$={zstr} nm: normalized $D_{{xx}}$={Dxx:0.2f}\".format(zstr=zstr,Dxx=example_D[idx])\n",
    "  o=ax.plot(acf_df['t'],acf_df.iloc[:,idx+1],label=lblstr,color=color_list[idx])\n",
    "o=ax.set_xlim(0,20.0)\n",
    "o=ax.set_xlabel(\"$\\Delta t$ [psec]\",fontsize=16)\n",
    "o=ax.set_ylabel(\"Normalized PACF\",fontsize=16)\n",
    "o=ax.tick_params(axis='x', labelsize=14)\n",
    "o=ax.tick_params(axis='y', labelsize=14)\n",
    "o=ax.legend(loc=\"upper right\",fontsize=14)\n",
    "#D local\n",
    "ax=axlist[1]\n",
    "o=ax.plot(bulk_d_x,bulk_d_y,label=\"Bulk value\",color=\"blue\",linestyle=\"dotted\")\n",
    "o=ax.plot(sel_dlocal['z'],sel_dlocal[\"Dxx\"],\"k-\",label=ystr)\n",
    "o=ax.plot(averaged_dlocal['z'],averaged_dlocal[\"Dxx\"],\"r--\",label=\"Average over $y$ values\")\n",
    "o=ax.plot(example_z,example_D,\"ko\",label=\"PACF examples\",mfc='none')\n",
    "o=ax.set_xlabel(\"$z$ [nm]\",fontsize=16)\n",
    "o=ax.set_ylabel(\"$D_{xx}$ [normalized to bulk value]\",fontsize=16)\n",
    "o=ax.tick_params(axis='x', labelsize=14)\n",
    "o=ax.tick_params(axis='y', labelsize=14)\n",
    "o=ax.set_xlim(4.5,6.5)\n",
    "o=ax.set_ylim(0,1.2)\n",
    "o=ax.legend(loc=\"lower right\",fontsize=14)\n",
    "#Done\n",
    "fig.tight_layout()\n",
    "plot_fpath=osp.join(outdir,plot_fname_tmpl.format(\"plot\"))\n",
    "fig.savefig(plot_fpath,dpi=150)"
   ]
  },
  {
   "cell_type": "code",
   "execution_count": null,
   "metadata": {},
   "outputs": [],
   "source": []
  }
 ],
 "metadata": {
  "kernelspec": {
   "display_name": "Python 3 (ipykernel)",
   "language": "python",
   "name": "python3"
  },
  "language_info": {
   "codemirror_mode": {
    "name": "ipython",
    "version": 3
   },
   "file_extension": ".py",
   "mimetype": "text/x-python",
   "name": "python",
   "nbconvert_exporter": "python",
   "pygments_lexer": "ipython3",
   "version": "3.9.6"
  }
 },
 "nbformat": 4,
 "nbformat_minor": 4
}
