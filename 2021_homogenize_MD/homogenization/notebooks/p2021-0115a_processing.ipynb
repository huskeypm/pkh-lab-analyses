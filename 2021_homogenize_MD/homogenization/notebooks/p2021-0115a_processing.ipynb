{
 "cells": [
  {
   "cell_type": "markdown",
   "metadata": {},
   "source": [
    "Peform the following actions on the input data:\n",
    "\n",
    "- Normalize $D_{\\text{local}}$ values\n",
    "- Take the arithmetic average of the x and y directions for the normalized $D_{\\text{local}}$\n",
    "- Cap the values of the normalized average\n",
    "- Shift PMF values\n",
    "- Substitute infinite PMF values with finite value\n",
    "- **Scale the PMF values**\n",
    "- Create periodic duplicates of the resulting data\n",
    "- Output locations for data profiles\n",
    "\n",
    "Continuing from `p20201204a_processing.ipynb`.\n"
   ]
  },
  {
   "cell_type": "markdown",
   "metadata": {},
   "source": [
    "## Setup"
   ]
  },
  {
   "cell_type": "code",
   "execution_count": 1,
   "metadata": {},
   "outputs": [],
   "source": [
    "import os\n",
    "import os.path as osp"
   ]
  },
  {
   "cell_type": "code",
   "execution_count": 2,
   "metadata": {},
   "outputs": [],
   "source": [
    "import operator\n",
    "import itertools"
   ]
  },
  {
   "cell_type": "code",
   "execution_count": 3,
   "metadata": {},
   "outputs": [],
   "source": [
    "import numpy as np"
   ]
  },
  {
   "cell_type": "code",
   "execution_count": 4,
   "metadata": {},
   "outputs": [],
   "source": [
    "import pandas as pd"
   ]
  },
  {
   "cell_type": "code",
   "execution_count": 5,
   "metadata": {},
   "outputs": [],
   "source": [
    "import simproc"
   ]
  },
  {
   "cell_type": "code",
   "execution_count": 6,
   "metadata": {},
   "outputs": [],
   "source": [
    "import simproc.requesthandler.yaml_manager as yaml_manager\n",
    "import simproc.requesthandler.locators as locators"
   ]
  },
  {
   "cell_type": "markdown",
   "metadata": {},
   "source": [
    "## Constants"
   ]
  },
  {
   "cell_type": "code",
   "execution_count": 7,
   "metadata": {},
   "outputs": [],
   "source": [
    "taglist=['12A','16A','20A','27pct','50pct','na_27pct']"
   ]
  },
  {
   "cell_type": "code",
   "execution_count": 8,
   "metadata": {},
   "outputs": [],
   "source": [
    "dlocal_comp_list=[\"xx\",\"yy\",\"zz\",\"avg\"]"
   ]
  },
  {
   "cell_type": "code",
   "execution_count": 9,
   "metadata": {},
   "outputs": [],
   "source": [
    "meshmeta_infname_tmpl=\"box{mtag}.yaml\""
   ]
  },
  {
   "cell_type": "code",
   "execution_count": 10,
   "metadata": {},
   "outputs": [],
   "source": [
    "dlocal_infname_tmpl=\"Dlocal_collected_{tag}.csv\""
   ]
  },
  {
   "cell_type": "code",
   "execution_count": 11,
   "metadata": {},
   "outputs": [],
   "source": [
    "pmf_infname_tmpl=\"pmf2d_{tag}.csv\""
   ]
  },
  {
   "cell_type": "code",
   "execution_count": 12,
   "metadata": {},
   "outputs": [],
   "source": [
    "dlocal_outfname_tmpl=\"D{comp}_{tag}.xz\""
   ]
  },
  {
   "cell_type": "code",
   "execution_count": 13,
   "metadata": {},
   "outputs": [],
   "source": [
    "dlocal_outfname_tmpl_nodupe=\"D{comp}_{tag}_nd.csv\""
   ]
  },
  {
   "cell_type": "code",
   "execution_count": 14,
   "metadata": {},
   "outputs": [],
   "source": [
    "pmf_outfname_tmpl=\"pmf_{tag}.xz\""
   ]
  },
  {
   "cell_type": "code",
   "execution_count": 15,
   "metadata": {},
   "outputs": [],
   "source": [
    "pmf_outfname_tmpl_nodupe=\"pmf_{tag}_nd.csv\""
   ]
  },
  {
   "cell_type": "code",
   "execution_count": 16,
   "metadata": {},
   "outputs": [],
   "source": [
    "bbox_outfname_tmpl=\"bbox_{tag}.csv\""
   ]
  },
  {
   "cell_type": "code",
   "execution_count": 17,
   "metadata": {},
   "outputs": [],
   "source": [
    "profile_data_outfname=\"profile_data.yaml\""
   ]
  },
  {
   "cell_type": "code",
   "execution_count": 18,
   "metadata": {},
   "outputs": [],
   "source": [
    "minmax=[\"min\",\"max\"]"
   ]
  },
  {
   "cell_type": "code",
   "execution_count": 19,
   "metadata": {},
   "outputs": [],
   "source": [
    "minmaxspan=minmax+[\"span\"]"
   ]
  },
  {
   "cell_type": "code",
   "execution_count": 20,
   "metadata": {},
   "outputs": [],
   "source": [
    "bbox_idx=[\"mesh\",\"limits\",\"Dxx\",\"Dyy\",\"Dzz\",\"Davg\",\"pmf\"]"
   ]
  },
  {
   "cell_type": "code",
   "execution_count": 21,
   "metadata": {},
   "outputs": [],
   "source": [
    "profile_allpoints=\"ABCD\""
   ]
  },
  {
   "cell_type": "markdown",
   "metadata": {},
   "source": [
    "## Data folder"
   ]
  },
  {
   "cell_type": "code",
   "execution_count": 22,
   "metadata": {},
   "outputs": [],
   "source": [
    "datadir=osp.abspath(\"../silicate\")\n",
    "assert osp.isdir(datadir)"
   ]
  },
  {
   "cell_type": "code",
   "execution_count": 23,
   "metadata": {},
   "outputs": [],
   "source": [
    "o=locators.SetDataFolder(datafolder=datadir)"
   ]
  },
  {
   "cell_type": "markdown",
   "metadata": {},
   "source": [
    "## Locators"
   ]
  },
  {
   "cell_type": "code",
   "execution_count": 24,
   "metadata": {},
   "outputs": [],
   "source": [
    "#locators.folder_structure.keys()"
   ]
  },
  {
   "cell_type": "code",
   "execution_count": 25,
   "metadata": {},
   "outputs": [],
   "source": [
    "locators.folder_structure.update(Unprocessed=['inputs','unprocessed'])"
   ]
  },
  {
   "cell_type": "code",
   "execution_count": 26,
   "metadata": {},
   "outputs": [],
   "source": [
    "locators.folder_structure.update(Processed=['inputs','processed'])"
   ]
  },
  {
   "cell_type": "code",
   "execution_count": 27,
   "metadata": {},
   "outputs": [],
   "source": [
    "locators.folder_structure.update(Manual=['inputs','manual'])"
   ]
  },
  {
   "cell_type": "code",
   "execution_count": 28,
   "metadata": {},
   "outputs": [],
   "source": [
    "locators.folder_structure.update(meshmetafile=[\"mesh\",\"output\",0,\"metadata\"])"
   ]
  },
  {
   "cell_type": "code",
   "execution_count": 29,
   "metadata": {},
   "outputs": [],
   "source": [
    "Unprocessed=lambda fname: self.renderstr(locators.Unprocessed(fname))"
   ]
  },
  {
   "cell_type": "code",
   "execution_count": 30,
   "metadata": {},
   "outputs": [],
   "source": [
    "Processed=lambda fname: self.renderstr(locators.Processed(fname))"
   ]
  },
  {
   "cell_type": "code",
   "execution_count": 31,
   "metadata": {},
   "outputs": [],
   "source": [
    "Manual=lambda fname: self.renderstr(locators.Manual(fname))"
   ]
  },
  {
   "cell_type": "code",
   "execution_count": 32,
   "metadata": {},
   "outputs": [],
   "source": [
    "MeshMeta=lambda fname: self.renderstr(locators.meshmetafile(fname))"
   ]
  },
  {
   "cell_type": "markdown",
   "metadata": {},
   "source": [
    "## Dummy request for loading data"
   ]
  },
  {
   "cell_type": "code",
   "execution_count": 33,
   "metadata": {},
   "outputs": [],
   "source": [
    "self=simproc.requesthandler.request.Request(name=\"ypress.processing\")"
   ]
  },
  {
   "cell_type": "markdown",
   "metadata": {},
   "source": [
    "## Data file names and paths"
   ]
  },
  {
   "cell_type": "markdown",
   "metadata": {},
   "source": [
    "Manual data"
   ]
  },
  {
   "cell_type": "code",
   "execution_count": 34,
   "metadata": {},
   "outputs": [],
   "source": [
    "manualdata_fpath=Manual('other_input_values.yaml')\n",
    "assert osp.isfile(manualdata_fpath)"
   ]
  },
  {
   "cell_type": "markdown",
   "metadata": {},
   "source": [
    "Mesh metadata\n",
    "\n",
    "Paths require manual data; see below."
   ]
  },
  {
   "cell_type": "markdown",
   "metadata": {},
   "source": [
    "Data limits"
   ]
  },
  {
   "cell_type": "code",
   "execution_count": 35,
   "metadata": {},
   "outputs": [],
   "source": [
    "datalimits_fpath=Unprocessed('data_limits.yaml')\n",
    "assert osp.isfile(datalimits_fpath)"
   ]
  },
  {
   "cell_type": "markdown",
   "metadata": {},
   "source": [
    "$D_{\\text{local}}$ input"
   ]
  },
  {
   "cell_type": "code",
   "execution_count": 36,
   "metadata": {},
   "outputs": [],
   "source": [
    "dloc_inpaths={tag:Unprocessed(dlocal_infname_tmpl.format(tag=tag)) for tag in taglist}"
   ]
  },
  {
   "cell_type": "code",
   "execution_count": 37,
   "metadata": {},
   "outputs": [],
   "source": [
    "dloc_existence_list=[osp.isfile(fpath) for fpath in dloc_inpaths.values()]\n",
    "assert all(dloc_existence_list)"
   ]
  },
  {
   "cell_type": "markdown",
   "metadata": {},
   "source": [
    "PMF input"
   ]
  },
  {
   "cell_type": "code",
   "execution_count": 38,
   "metadata": {},
   "outputs": [],
   "source": [
    "pmf_inpaths={tag:Unprocessed(pmf_infname_tmpl.format(tag=tag)) for tag in taglist}"
   ]
  },
  {
   "cell_type": "code",
   "execution_count": 39,
   "metadata": {},
   "outputs": [],
   "source": [
    "pmf_existence_list=[osp.isfile(fpath) for fpath in pmf_inpaths.values()]\n",
    "assert all(pmf_existence_list)"
   ]
  },
  {
   "cell_type": "markdown",
   "metadata": {},
   "source": [
    "$D_{\\text{local}}$ output"
   ]
  },
  {
   "cell_type": "code",
   "execution_count": 40,
   "metadata": {},
   "outputs": [],
   "source": [
    "dlocal_outpaths={}\n",
    "for tag in taglist:\n",
    "  dlocal_outpaths[tag]={comp:Processed(dlocal_outfname_tmpl.format(tag=tag,comp=comp)) \\\n",
    "                        for comp in dlocal_comp_list}"
   ]
  },
  {
   "cell_type": "code",
   "execution_count": 41,
   "metadata": {},
   "outputs": [],
   "source": [
    "dlocal_nodupe_outpaths={}\n",
    "for tag in taglist:\n",
    "  dlocal_nodupe_outpaths[tag]={comp:Processed(dlocal_outfname_tmpl_nodupe.format(tag=tag,comp=comp)) \\\n",
    "                               for comp in dlocal_comp_list}"
   ]
  },
  {
   "cell_type": "markdown",
   "metadata": {},
   "source": [
    "PMF output"
   ]
  },
  {
   "cell_type": "code",
   "execution_count": 42,
   "metadata": {},
   "outputs": [],
   "source": [
    "pmf_outpaths={tag:Processed(pmf_outfname_tmpl.format(tag=tag)) for tag in taglist}"
   ]
  },
  {
   "cell_type": "code",
   "execution_count": 43,
   "metadata": {},
   "outputs": [],
   "source": [
    "pmf_nodupe_outpaths={tag:Processed(pmf_outfname_tmpl_nodupe.format(tag=tag)) for tag in taglist}"
   ]
  },
  {
   "cell_type": "markdown",
   "metadata": {},
   "source": [
    "Bounding Box data"
   ]
  },
  {
   "cell_type": "code",
   "execution_count": 44,
   "metadata": {},
   "outputs": [],
   "source": [
    "bbox_outpaths={tag:Processed(bbox_outfname_tmpl.format(tag=tag)) for tag in taglist}"
   ]
  },
  {
   "cell_type": "markdown",
   "metadata": {},
   "source": [
    "Profile data"
   ]
  },
  {
   "cell_type": "code",
   "execution_count": 45,
   "metadata": {},
   "outputs": [],
   "source": [
    "profile_data_outpath=Processed(profile_data_outfname)"
   ]
  },
  {
   "cell_type": "markdown",
   "metadata": {},
   "source": [
    "## Read the input data"
   ]
  },
  {
   "cell_type": "markdown",
   "metadata": {},
   "source": [
    "Manual"
   ]
  },
  {
   "cell_type": "code",
   "execution_count": 46,
   "metadata": {},
   "outputs": [],
   "source": [
    "other_input_values=yaml_manager.readfile(manualdata_fpath)"
   ]
  },
  {
   "cell_type": "code",
   "execution_count": 47,
   "metadata": {},
   "outputs": [],
   "source": [
    "D_bulk_value=other_input_values['bulk_D']"
   ]
  },
  {
   "cell_type": "code",
   "execution_count": 48,
   "metadata": {},
   "outputs": [],
   "source": [
    "limiting_D=other_input_values['limiting_D']"
   ]
  },
  {
   "cell_type": "code",
   "execution_count": 49,
   "metadata": {},
   "outputs": [],
   "source": [
    "limiting_PMF=other_input_values['limiting_pmf']"
   ]
  },
  {
   "cell_type": "code",
   "execution_count": 50,
   "metadata": {},
   "outputs": [],
   "source": [
    "pmf_shift_values=other_input_values['pmf_shift_values']"
   ]
  },
  {
   "cell_type": "code",
   "execution_count": 51,
   "metadata": {},
   "outputs": [],
   "source": [
    "pmf_scaling_values=other_input_values['pmf_scaling_values']"
   ]
  },
  {
   "cell_type": "code",
   "execution_count": 52,
   "metadata": {},
   "outputs": [],
   "source": [
    "meshes_by_tag=other_input_values[\"meshes_by_tag\"]"
   ]
  },
  {
   "cell_type": "markdown",
   "metadata": {},
   "source": [
    "Data limits"
   ]
  },
  {
   "cell_type": "code",
   "execution_count": 53,
   "metadata": {},
   "outputs": [],
   "source": [
    "data_limits=yaml_manager.readfile(datalimits_fpath)"
   ]
  },
  {
   "cell_type": "code",
   "execution_count": 54,
   "metadata": {},
   "outputs": [
    {
     "data": {
      "text/plain": [
       "{'12A': {'x': [5.3, 5.3], 'y': [5.75, 6.35], 'z': [4.75, 6.05]},\n",
       " '16A': {'x': [5.75, 5.75], 'y': [4.9, 5.5], 'z': [4.7, 6.4]},\n",
       " '20A': {'x': [5.9, 5.9], 'y': [5.4, 6.0], 'z': [4.65, 6.75]},\n",
       " '20A_alt': {'x': [5.8, 5.8], 'y': [5.4, 6.0], 'z': [4.65, 6.75]},\n",
       " '27pct': {'x': [5.627, 5.627], 'y': [4.6, 5.2], 'z': [4.55, 6.65]},\n",
       " '50pct': {'x': [5.7, 5.7], 'y': [4.4, 5.0], 'z': [4.55, 6.65]},\n",
       " 'na_27pct': {'x': [5.627, 5.627], 'y': [4.6, 5.2], 'z': [4.55, 6.65]}}"
      ]
     },
     "execution_count": 54,
     "metadata": {},
     "output_type": "execute_result"
    }
   ],
   "source": [
    "data_limits"
   ]
  },
  {
   "cell_type": "markdown",
   "metadata": {},
   "source": [
    "Mesh metadata"
   ]
  },
  {
   "cell_type": "code",
   "execution_count": 55,
   "metadata": {},
   "outputs": [],
   "source": [
    "meshmeta_fpaths={tag:MeshMeta(meshmeta_infname_tmpl.format(mtag=meshes_by_tag[tag])) for tag in taglist}"
   ]
  },
  {
   "cell_type": "code",
   "execution_count": 56,
   "metadata": {},
   "outputs": [],
   "source": [
    "meshmeta_existence_list=[osp.isfile(fpath) for fpath in meshmeta_fpaths.values()]\n",
    "assert all(meshmeta_existence_list)"
   ]
  },
  {
   "cell_type": "code",
   "execution_count": 57,
   "metadata": {},
   "outputs": [],
   "source": [
    "meshmeta={tag:yaml_manager.readfile(fpath) for tag,fpath in meshmeta_fpaths.items()}"
   ]
  },
  {
   "cell_type": "markdown",
   "metadata": {},
   "source": [
    "$D_\\text{local}$"
   ]
  },
  {
   "cell_type": "code",
   "execution_count": 58,
   "metadata": {},
   "outputs": [],
   "source": [
    "dlocal_in={tag:pd.read_csv(fpath) for tag,fpath in dloc_inpaths.items()}"
   ]
  },
  {
   "cell_type": "markdown",
   "metadata": {},
   "source": [
    "PMF"
   ]
  },
  {
   "cell_type": "code",
   "execution_count": 59,
   "metadata": {},
   "outputs": [],
   "source": [
    "pmf_in={tag:pd.read_csv(fpath) for tag,fpath in pmf_inpaths.items()}"
   ]
  },
  {
   "cell_type": "markdown",
   "metadata": {},
   "source": [
    "## Remove failed fits from the D local data, and normalize by bulk value"
   ]
  },
  {
   "cell_type": "code",
   "execution_count": 60,
   "metadata": {},
   "outputs": [],
   "source": [
    "def do_trap_err(val):\n",
    "  if val==\"fitting_error\":\n",
    "    return np.nan\n",
    "  else:\n",
    "    return float(val)"
   ]
  },
  {
   "cell_type": "code",
   "execution_count": 61,
   "metadata": {},
   "outputs": [],
   "source": [
    "out_dlocal={}\n",
    "for tag in taglist:\n",
    "  out_dlocal[tag]={}\n",
    "  df=dlocal_in[tag]\n",
    "  for coord in \"xyz\":\n",
    "    comp=coord+coord\n",
    "    newrows=[]\n",
    "    valcol=\"D_fit_%s\"%coord\n",
    "    for oldrow in df.itertuples(index=False,name=\"full_D_results\"):\n",
    "      if getattr(oldrow,\"ok_%s\"%coord):\n",
    "        addrow=[getattr(oldrow,attr) for attr in \"XYZ\"]\n",
    "        Dval=do_trap_err(getattr(oldrow,valcol))\n",
    "        if Dval is not np.nan:\n",
    "          addrow.append(Dval/D_bulk_value)\n",
    "          newrows.append(addrow)\n",
    "    outdf=pd.DataFrame(newrows,columns=[\"x\",\"y\",\"z\",\"D%s\"%(comp)])\n",
    "    out_dlocal[tag][comp]=outdf"
   ]
  },
  {
   "cell_type": "markdown",
   "metadata": {},
   "source": [
    "## Get arithmetic average of $D_{xx}$ and $D_{yy}$ where applicable, and normalize"
   ]
  },
  {
   "cell_type": "code",
   "execution_count": 62,
   "metadata": {},
   "outputs": [],
   "source": [
    "for tag in taglist:\n",
    "  df=dlocal_in[tag]\n",
    "  newrows=[]\n",
    "  for oldrow in df.itertuples(index=False,name=\"full_D_results\"):\n",
    "    if all([getattr(oldrow,\"ok_%s\"%coord) for coord in \"xy\"]):\n",
    "      addrow=[getattr(oldrow,attr) for attr in \"XYZ\"]\n",
    "      Dval_list=[do_trap_err(getattr(oldrow,\"D_fit_%s\"%coord))/D_bulk_value for coord in \"xy\"]\n",
    "      addrow.append(np.mean(Dval_list))\n",
    "      newrows.append(addrow)\n",
    "  outdf=pd.DataFrame(newrows,columns=[\"x\",\"y\",\"z\",\"Davg_uncapped\"])\n",
    "  out_dlocal[tag][\"avg\"]=outdf"
   ]
  },
  {
   "cell_type": "markdown",
   "metadata": {},
   "source": [
    "## Limit the averaged $D$ values"
   ]
  },
  {
   "cell_type": "code",
   "execution_count": 63,
   "metadata": {},
   "outputs": [],
   "source": [
    "def dolimit(row):\n",
    "  return min(row['Davg_uncapped'],limiting_D)"
   ]
  },
  {
   "cell_type": "code",
   "execution_count": 64,
   "metadata": {},
   "outputs": [],
   "source": [
    "for tag in taglist:\n",
    "  df=out_dlocal[tag][\"avg\"]\n",
    "  df[\"Davg\"]=df.apply(dolimit,axis=1)"
   ]
  },
  {
   "cell_type": "markdown",
   "metadata": {},
   "source": [
    "## Apply shift to PMF values"
   ]
  },
  {
   "cell_type": "code",
   "execution_count": 65,
   "metadata": {},
   "outputs": [],
   "source": [
    "shifted_pmf={}\n",
    "for tag,df in pmf_in.items():\n",
    "  outdf=df.copy()\n",
    "  pmf_shift=pmf_shift_values[tag]\n",
    "  def doshift(row):\n",
    "    return row['PMF']+pmf_shift\n",
    "  outdf[\"PMF\"]=df.apply(doshift,axis=1)\n",
    "  outdf.columns=[\"x\",\"y\",\"z\",\"PMF\"] #replace uppercase coordinate columns with lowercase\n",
    "  shifted_pmf[tag]=outdf"
   ]
  },
  {
   "cell_type": "markdown",
   "metadata": {},
   "source": [
    "## Replace infinite values with finite value for PMF"
   ]
  },
  {
   "cell_type": "code",
   "execution_count": 66,
   "metadata": {},
   "outputs": [],
   "source": [
    "capped_pmf={}\n",
    "for tag,df in shifted_pmf.items():\n",
    "  outdf=df.copy()\n",
    "  outdf.loc[df[\"PMF\"] == np.inf,\"PMF\"]=limiting_PMF\n",
    "  capped_pmf[tag]=outdf"
   ]
  },
  {
   "cell_type": "markdown",
   "metadata": {},
   "source": [
    "## Scale the PMF values"
   ]
  },
  {
   "cell_type": "code",
   "execution_count": 67,
   "metadata": {},
   "outputs": [],
   "source": [
    "out_pmf={}\n",
    "for tag,df in capped_pmf.items():\n",
    "  outdf=df.copy()\n",
    "  outdf[\"PMF\"]=df[\"PMF\"]*pmf_scaling_values[tag]\n",
    "  out_pmf[tag]=outdf"
   ]
  },
  {
   "cell_type": "markdown",
   "metadata": {},
   "source": [
    "## Store non-duplicated data to file"
   ]
  },
  {
   "cell_type": "code",
   "execution_count": 68,
   "metadata": {},
   "outputs": [],
   "source": [
    "for tag,df in out_pmf.items():\n",
    "  df.to_csv(pmf_nodupe_outpaths[tag],index=False)"
   ]
  },
  {
   "cell_type": "code",
   "execution_count": 69,
   "metadata": {},
   "outputs": [],
   "source": [
    "for tag,ddict in out_dlocal.items():\n",
    "  for comp,df in ddict.items():\n",
    "    df.to_csv(dlocal_nodupe_outpaths[tag][comp],index=False)"
   ]
  },
  {
   "cell_type": "markdown",
   "metadata": {},
   "source": [
    "## Summarize coordinate ranges from various data sources"
   ]
  },
  {
   "cell_type": "code",
   "execution_count": 70,
   "metadata": {},
   "outputs": [],
   "source": [
    "bbox_columns=[l+m for l in \"XYZ\" for m in minmaxspan]"
   ]
  },
  {
   "cell_type": "code",
   "execution_count": 71,
   "metadata": {},
   "outputs": [],
   "source": [
    "bboxes={}\n",
    "for tag in taglist:\n",
    "  bbox_df=pd.DataFrame(index=bbox_idx,columns=bbox_columns)\n",
    "  for coord in \"XYZ\":\n",
    "    for sidx,side in enumerate(minmax):\n",
    "      lcoord=coord.lower()\n",
    "      col=coord+side\n",
    "      bbox_df.loc[\"mesh\",col]=meshmeta[tag][col]\n",
    "      bbox_df.loc[\"limits\",col]=data_limits[tag][lcoord][sidx]\n",
    "      for comp in dlocal_comp_list:\n",
    "        bbox_df.loc[\"D\"+comp,col]=getattr(out_dlocal[tag][comp][lcoord],side)()\n",
    "      bbox_df.loc[\"pmf\",col]=getattr(out_pmf[tag][lcoord],side)()\n",
    "    for row in bbox_idx:\n",
    "      col=coord+\"span\"\n",
    "      bbox_df.loc[row,col]=bbox_df.loc[row,coord+\"max\"]-bbox_df.loc[row,coord+\"min\"]\n",
    "  bboxes[tag]=bbox_df"
   ]
  },
  {
   "cell_type": "code",
   "execution_count": 72,
   "metadata": {},
   "outputs": [],
   "source": [
    "for tag,bbox_df in bboxes.items():\n",
    "  bbox_df.to_csv(bbox_outpaths[tag])"
   ]
  },
  {
   "cell_type": "markdown",
   "metadata": {},
   "source": [
    "## Compute X and Y shifts for periodic copies"
   ]
  },
  {
   "cell_type": "code",
   "execution_count": 73,
   "metadata": {},
   "outputs": [],
   "source": [
    "Xshift={tag:(bbox_df.loc[\"mesh\",\"Xmax\"]-bbox_df.loc[\"mesh\",\"Xmin\"]) for tag,bbox_df in bboxes.items()}"
   ]
  },
  {
   "cell_type": "code",
   "execution_count": 74,
   "metadata": {},
   "outputs": [],
   "source": [
    "Yshift={tag:(bbox_df.loc[\"mesh\",\"Ymax\"]-bbox_df.loc[\"mesh\",\"Ymin\"]) for tag,bbox_df in bboxes.items()}"
   ]
  },
  {
   "cell_type": "code",
   "execution_count": 75,
   "metadata": {},
   "outputs": [],
   "source": [
    "XYshifts={}\n",
    "for tag in taglist:\n",
    "  XYshifts[tag]=[]\n",
    "  for xm in [-1,0,1]:\n",
    "    for ym in [-1,0,1]:\n",
    "      tup=(xm*Xshift[tag],ym*Yshift[tag])\n",
    "      XYshifts[tag].append(tup)"
   ]
  },
  {
   "cell_type": "markdown",
   "metadata": {},
   "source": [
    "## Create dataframes with periodic duplicates"
   ]
  },
  {
   "cell_type": "code",
   "execution_count": 76,
   "metadata": {},
   "outputs": [],
   "source": [
    "def gen_duped_df(df,XYshifts):\n",
    "  newtb=[]\n",
    "  for stup in XYshifts:\n",
    "    xs,ys=stup\n",
    "    for oldrow in df.itertuples(index=False):\n",
    "      newx=xs+oldrow.x\n",
    "      newy=ys+oldrow.y\n",
    "      newtb.append((newx,newy)+oldrow[2:])\n",
    "  return pd.DataFrame(newtb,columns=df.columns)"
   ]
  },
  {
   "cell_type": "code",
   "execution_count": 77,
   "metadata": {},
   "outputs": [],
   "source": [
    "duped_dlocal={}\n",
    "for tag,ddict in out_dlocal.items():\n",
    "  df=ddict[\"avg\"] #We only need this component duplicated for D local\n",
    "  duped_dlocal[tag]=gen_duped_df(df,XYshifts[tag])"
   ]
  },
  {
   "cell_type": "code",
   "execution_count": 78,
   "metadata": {},
   "outputs": [],
   "source": [
    "duped_pmf={}\n",
    "for tag,df in out_pmf.items():\n",
    "  duped_pmf[tag]=gen_duped_df(df,XYshifts[tag])"
   ]
  },
  {
   "cell_type": "markdown",
   "metadata": {},
   "source": [
    "## Output data files for homogenization"
   ]
  },
  {
   "cell_type": "code",
   "execution_count": 79,
   "metadata": {},
   "outputs": [],
   "source": [
    "for tag,df in duped_dlocal.items():\n",
    "  df.to_csv(dlocal_outpaths[tag][\"avg\"],index=False)"
   ]
  },
  {
   "cell_type": "code",
   "execution_count": 80,
   "metadata": {},
   "outputs": [],
   "source": [
    "for tag,df in duped_pmf.items():\n",
    "  df.to_csv(pmf_outpaths[tag],index=False)"
   ]
  },
  {
   "cell_type": "markdown",
   "metadata": {},
   "source": [
    "## Get unique values of all coordinates"
   ]
  },
  {
   "cell_type": "code",
   "execution_count": 81,
   "metadata": {},
   "outputs": [],
   "source": [
    "uniques={}\n",
    "for tag in taglist:\n",
    "  dframes={'pmf':out_pmf[tag],\"dloc\":out_dlocal[tag][\"avg\"]}\n",
    "  uniques[tag]={}\n",
    "  for dfname,df in dframes.items():\n",
    "    uniques[tag][dfname]={}\n",
    "    for coord in \"xyz\":\n",
    "      uniques[tag][dfname][coord]=df[coord].unique()\n",
    "      uniques[tag][dfname][coord].sort()"
   ]
  },
  {
   "cell_type": "markdown",
   "metadata": {},
   "source": [
    "## Select output profile locations"
   ]
  },
  {
   "cell_type": "code",
   "execution_count": 82,
   "metadata": {},
   "outputs": [],
   "source": [
    "coord_num_values={'x':1,'y':4}"
   ]
  },
  {
   "cell_type": "code",
   "execution_count": 83,
   "metadata": {},
   "outputs": [],
   "source": [
    "assert np.prod([v for v in coord_num_values.values()])==4, \"Sorry, I was expecting exactly 4 profiles.\""
   ]
  },
  {
   "cell_type": "code",
   "execution_count": 84,
   "metadata": {},
   "outputs": [],
   "source": [
    "#Select the requested number of x and y data points, equally spaced within the input data coordinate values\n",
    "outcoords={}\n",
    "for tag,udict in uniques.items():\n",
    "  outcoords[tag]={}\n",
    "  bbox_df=bboxes[tag]\n",
    "  for var,uqv in udict.items():\n",
    "    outcoords[tag][var]={}\n",
    "    for coordname,numvals in coord_num_values.items():\n",
    "      meshmin=bbox_df.loc[\"mesh\",coordname.upper()+\"min\"]\n",
    "      meshmax=bbox_df.loc[\"mesh\",coordname.upper()+\"max\"]\n",
    "      vals=[v for v in uqv[coordname] if v >= meshmin and v <= meshmax] #Confirm that point is within mesh\n",
    "      num_items=len(vals)\n",
    "      step=num_items/numvals\n",
    "      positions=[int(i*step)-1 for i in range(1,numvals+1)]\n",
    "      outcoords[tag][var][coordname]=[vals[p] for p in positions]"
   ]
  },
  {
   "cell_type": "code",
   "execution_count": 85,
   "metadata": {},
   "outputs": [
    {
     "data": {
      "text/plain": [
       "{'pmf': {'x': [5.3], 'y': [5.875, 6.025, 6.175, 6.325]},\n",
       " 'dloc': {'x': [5.3], 'y': [5.85, 6.0, 6.15, 6.35]}}"
      ]
     },
     "execution_count": 85,
     "metadata": {},
     "output_type": "execute_result"
    }
   ],
   "source": [
    "outcoords[taglist[0]]"
   ]
  },
  {
   "cell_type": "code",
   "execution_count": 86,
   "metadata": {},
   "outputs": [],
   "source": [
    "#Combine the x and y values to generate points in the xy plane for profiles\n",
    "xy_points={}\n",
    "for tag,ocd in outcoords.items():\n",
    "  xy_points[tag]={}\n",
    "  for var,pointsets in ocd.items():\n",
    "    flatcoords=[pointsets[coordname] for coordname in 'xy']\n",
    "    itr=itertools.product(*flatcoords)\n",
    "    xy_points[tag][var]=[p for p in itr]"
   ]
  },
  {
   "cell_type": "code",
   "execution_count": 87,
   "metadata": {},
   "outputs": [
    {
     "data": {
      "text/plain": [
       "{'pmf': [(5.3, 5.875), (5.3, 6.025), (5.3, 6.175), (5.3, 6.325)],\n",
       " 'dloc': [(5.3, 5.85), (5.3, 6.0), (5.3, 6.15), (5.3, 6.35)]}"
      ]
     },
     "execution_count": 87,
     "metadata": {},
     "output_type": "execute_result"
    }
   ],
   "source": [
    "xy_points[taglist[0]]"
   ]
  },
  {
   "cell_type": "code",
   "execution_count": 88,
   "metadata": {},
   "outputs": [],
   "source": [
    "profile_startlocs={}\n",
    "profile_endlocs={}\n",
    "profile_queries={}\n",
    "for tag,xy_allvars in xy_points.items():\n",
    "  profile_startlocs[tag]={}\n",
    "  profile_endlocs[tag]={}\n",
    "  profile_queries[tag]={}\n",
    "  for varname, xylist in xy_allvars.items():\n",
    "    for idx, xyt in enumerate(xylist):\n",
    "      profname=profile_allpoints[idx]+\"_\"+varname\n",
    "      xy=[v for v in xyt]\n",
    "      profile_startlocs[tag][profname]=xy+[bbox_df.loc['mesh','Zmin']]\n",
    "      profile_endlocs[tag][profname]=xy+[bbox_df.loc['mesh','Zmax']]\n",
    "      query_items=[]\n",
    "      for cdx in (0,1):\n",
    "        coordval=xyt[cdx]\n",
    "        coordname='xy'[cdx]\n",
    "        for op,delta in {'>':-0.001, '<':0.001}.items():\n",
    "          qu='%s %s %0.3f'%(coordname,op,coordval+delta)\n",
    "          query_items.append(qu)\n",
    "      query_string=' and '.join(query_items)\n",
    "      profile_queries[tag][profname]=query_string"
   ]
  },
  {
   "cell_type": "markdown",
   "metadata": {},
   "source": [
    "## Output profile location data to file"
   ]
  },
  {
   "cell_type": "code",
   "execution_count": 89,
   "metadata": {},
   "outputs": [],
   "source": [
    "outer_indent=\"\"\n",
    "mid_indent=outer_indent+\"  \"\n",
    "inner_indent=mid_indent+\"  \""
   ]
  },
  {
   "cell_type": "code",
   "execution_count": 90,
   "metadata": {},
   "outputs": [],
   "source": [
    "with open(profile_data_outpath,\"w\") as fp:\n",
    "  #Profile start locations\n",
    "  fp.write(outer_indent+\"profile_startlocs:\\n\")\n",
    "  for tag in taglist:\n",
    "    fp.write(mid_indent+tag+\":\\n\")\n",
    "    for profname,data in profile_startlocs[tag].items():\n",
    "      datastr_list=[\"%0.3f\"%v for v in data]\n",
    "      datastr=\", \".join(datastr_list)\n",
    "      fp.write(inner_indent+profname+\": [\"+datastr+\"]\\n\")\n",
    "  #Profile end locations\n",
    "  fp.write(outer_indent+\"profile_endlocs:\\n\")\n",
    "  for tag in taglist:\n",
    "    fp.write(mid_indent+tag+\":\\n\")\n",
    "    for profname,data in profile_endlocs[tag].items():\n",
    "      datastr_list=[\"%0.3f\"%v for v in data]\n",
    "      datastr=\", \".join(datastr_list)\n",
    "      fp.write(inner_indent+profname+\": [\"+datastr+\"]\\n\")\n",
    "  #Profile queries\n",
    "  fp.write(outer_indent+\"profile_queries:\\n\")\n",
    "  for tag in taglist:\n",
    "    fp.write(mid_indent+tag+\":\\n\")\n",
    "    for profname,data in profile_queries[tag].items():\n",
    "      fp.write(inner_indent+profname+': \"'+data+'\"\\n')     "
   ]
  },
  {
   "cell_type": "code",
   "execution_count": null,
   "metadata": {},
   "outputs": [],
   "source": []
  }
 ],
 "metadata": {
  "kernelspec": {
   "display_name": "Python 3",
   "language": "python",
   "name": "python3"
  },
  "language_info": {
   "codemirror_mode": {
    "name": "ipython",
    "version": 3
   },
   "file_extension": ".py",
   "mimetype": "text/x-python",
   "name": "python",
   "nbconvert_exporter": "python",
   "pygments_lexer": "ipython3",
   "version": "3.8.6"
  }
 },
 "nbformat": 4,
 "nbformat_minor": 4
}
