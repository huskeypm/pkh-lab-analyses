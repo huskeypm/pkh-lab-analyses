{
 "cells": [
  {
   "cell_type": "markdown",
   "metadata": {},
   "source": [
    "The three-line y-average graph for the paper.\n",
    "\n",
    "Continued from `p2021-0614a_three-line-Yavg.ipynb`,\n",
    "and also borrowing just a little from:\n",
    "\n",
    "- `p2021-0513a_three-line-Yavg.ipynb`\n",
    "- `p2021-0918a_plot_chan6_results.ipynb`\n"
   ]
  },
  {
   "cell_type": "markdown",
   "metadata": {},
   "source": [
    "## Setup"
   ]
  },
  {
   "cell_type": "code",
   "execution_count": 1,
   "metadata": {},
   "outputs": [],
   "source": [
    "import os\n",
    "import os.path as osp"
   ]
  },
  {
   "cell_type": "code",
   "execution_count": 2,
   "metadata": {},
   "outputs": [],
   "source": [
    "import operator\n",
    "import itertools"
   ]
  },
  {
   "cell_type": "code",
   "execution_count": 3,
   "metadata": {},
   "outputs": [],
   "source": [
    "from datetime import datetime"
   ]
  },
  {
   "cell_type": "code",
   "execution_count": 4,
   "metadata": {},
   "outputs": [],
   "source": [
    "import numpy as np"
   ]
  },
  {
   "cell_type": "code",
   "execution_count": 5,
   "metadata": {},
   "outputs": [],
   "source": [
    "import pandas as pd"
   ]
  },
  {
   "cell_type": "code",
   "execution_count": 6,
   "metadata": {},
   "outputs": [],
   "source": [
    "import matplotlib.pyplot as plt"
   ]
  },
  {
   "cell_type": "code",
   "execution_count": 7,
   "metadata": {},
   "outputs": [],
   "source": [
    "%matplotlib inline"
   ]
  },
  {
   "cell_type": "code",
   "execution_count": 8,
   "metadata": {},
   "outputs": [],
   "source": [
    "import matplotlib as mpl"
   ]
  },
  {
   "cell_type": "code",
   "execution_count": 9,
   "metadata": {},
   "outputs": [],
   "source": [
    "#The old way\n",
    "# from mpl_toolkits.axisartist.parasite_axes import HostAxes, ParasiteAxes"
   ]
  },
  {
   "cell_type": "code",
   "execution_count": 10,
   "metadata": {},
   "outputs": [],
   "source": [
    "from mpl_toolkits.axes_grid1 import host_subplot\n",
    "from mpl_toolkits import axisartist"
   ]
  },
  {
   "cell_type": "code",
   "execution_count": 11,
   "metadata": {},
   "outputs": [],
   "source": [
    "from matplotlib.path import Path\n",
    "from matplotlib.patches import PathPatch"
   ]
  },
  {
   "cell_type": "code",
   "execution_count": 12,
   "metadata": {},
   "outputs": [],
   "source": [
    "mpl.rcParams['figure.dpi']= 150"
   ]
  },
  {
   "cell_type": "code",
   "execution_count": 13,
   "metadata": {},
   "outputs": [],
   "source": [
    "#Uncomment for presentation\n",
    "# mpl.rcParams['xtick.labelsize']=\"xx-large\"\n",
    "# mpl.rcParams['ytick.labelsize']=\"xx-large\""
   ]
  },
  {
   "cell_type": "code",
   "execution_count": 14,
   "metadata": {},
   "outputs": [],
   "source": [
    "from matplotlib.gridspec import GridSpec"
   ]
  },
  {
   "cell_type": "code",
   "execution_count": 15,
   "metadata": {},
   "outputs": [],
   "source": [
    "from matplotlib.colors import BoundaryNorm"
   ]
  },
  {
   "cell_type": "code",
   "execution_count": 16,
   "metadata": {},
   "outputs": [],
   "source": [
    "import simproc"
   ]
  },
  {
   "cell_type": "code",
   "execution_count": 17,
   "metadata": {},
   "outputs": [],
   "source": [
    "import simproc.requesthandler.yaml_manager as yaml_manager\n",
    "import simproc.requesthandler.pickle_manager as pickle_manager\n",
    "import simproc.requesthandler.locators as locators"
   ]
  },
  {
   "cell_type": "markdown",
   "metadata": {},
   "source": [
    "## Constants"
   ]
  },
  {
   "cell_type": "code",
   "execution_count": 18,
   "metadata": {},
   "outputs": [],
   "source": [
    "taglist=['12A','16A','20A','27pct','50pct','na_27pct']"
   ]
  },
  {
   "cell_type": "code",
   "execution_count": 19,
   "metadata": {},
   "outputs": [],
   "source": [
    "dlocal_comp_list=[\"xx\",\"yy\",\"zz\",\"avg\"]"
   ]
  },
  {
   "cell_type": "code",
   "execution_count": 20,
   "metadata": {},
   "outputs": [],
   "source": [
    "dlocal_fname_tmpl=\"D{comp}_{tag}_nd.csv\""
   ]
  },
  {
   "cell_type": "code",
   "execution_count": 21,
   "metadata": {},
   "outputs": [],
   "source": [
    "pmf_fname_tmpl=\"pmf_noavg_{tag}.xz\""
   ]
  },
  {
   "cell_type": "code",
   "execution_count": 22,
   "metadata": {},
   "outputs": [],
   "source": [
    "wdens_fname_tmpl=\"density_Xplane_{mtag}.pkl\""
   ]
  },
  {
   "cell_type": "code",
   "execution_count": 23,
   "metadata": {},
   "outputs": [],
   "source": [
    "bbox_fname_tmpl=\"bbox_{tag}.csv\""
   ]
  },
  {
   "cell_type": "code",
   "execution_count": 24,
   "metadata": {},
   "outputs": [],
   "source": [
    "SELTOL=1e-6"
   ]
  },
  {
   "cell_type": "code",
   "execution_count": 25,
   "metadata": {},
   "outputs": [],
   "source": [
    "#For print\n",
    "# font_settings={\n",
    "#   \"cbar_wdens\": 16,\n",
    "#   \"cbar_dratio\": 32,\n",
    "#   \"cbar_pmf\": 16,\n",
    "#   \"axlabels\": 12,\n",
    "#   \"axtitle\": 14,\n",
    "# }\n",
    "#Intermediate\n",
    "# font_settings={\n",
    "#   \"cbar_wdens\": 20,\n",
    "#   \"cbar_dratio\": 40,\n",
    "#   \"cbar_pmf\": 20,\n",
    "#   \"axlabels\": 16,\n",
    "#   \"axtitle\": 18,\n",
    "# }\n",
    "#For presentation\n",
    "# font_settings={\n",
    "#   \"cbar_wdens\": 24,\n",
    "#   \"cbar_dratio\": 40,\n",
    "#   \"cbar_pmf\": 24,\n",
    "#   \"axlabels\": 24,\n",
    "#   \"axtitle\": 24,\n",
    "# }"
   ]
  },
  {
   "cell_type": "markdown",
   "metadata": {},
   "source": [
    "## Data folder"
   ]
  },
  {
   "cell_type": "code",
   "execution_count": 26,
   "metadata": {},
   "outputs": [],
   "source": [
    "datadir=osp.abspath(\"../chan6\")\n",
    "assert osp.isdir(datadir)"
   ]
  },
  {
   "cell_type": "code",
   "execution_count": 27,
   "metadata": {},
   "outputs": [],
   "source": [
    "o=locators.SetDataFolder(datafolder=datadir)"
   ]
  },
  {
   "cell_type": "markdown",
   "metadata": {},
   "source": [
    "## Locators"
   ]
  },
  {
   "cell_type": "code",
   "execution_count": 28,
   "metadata": {},
   "outputs": [],
   "source": [
    "#locators.folder_structure.keys()"
   ]
  },
  {
   "cell_type": "code",
   "execution_count": 29,
   "metadata": {},
   "outputs": [],
   "source": [
    "locators.folder_structure.update(Unprocessed=['inputs','unprocessed'])"
   ]
  },
  {
   "cell_type": "code",
   "execution_count": 30,
   "metadata": {},
   "outputs": [],
   "source": [
    "locators.folder_structure.update(Processed=['inputs','processed'])"
   ]
  },
  {
   "cell_type": "code",
   "execution_count": 31,
   "metadata": {},
   "outputs": [],
   "source": [
    "locators.folder_structure.update(Manual=['inputs','manual'])"
   ]
  },
  {
   "cell_type": "code",
   "execution_count": 32,
   "metadata": {},
   "outputs": [],
   "source": [
    "Unprocessed=lambda fname: self.renderstr(locators.Unprocessed(fname))"
   ]
  },
  {
   "cell_type": "code",
   "execution_count": 33,
   "metadata": {},
   "outputs": [],
   "source": [
    "Processed=lambda fname: self.renderstr(locators.Processed(fname))"
   ]
  },
  {
   "cell_type": "code",
   "execution_count": 34,
   "metadata": {},
   "outputs": [],
   "source": [
    "Manual=lambda fname: self.renderstr(locators.Manual(fname))"
   ]
  },
  {
   "cell_type": "markdown",
   "metadata": {},
   "source": [
    "## Dummy request for loading data"
   ]
  },
  {
   "cell_type": "code",
   "execution_count": 35,
   "metadata": {},
   "outputs": [],
   "source": [
    "self=simproc.requesthandler.request.Request(name=\"chan6.plotting\")"
   ]
  },
  {
   "cell_type": "markdown",
   "metadata": {},
   "source": [
    "## Data file names and paths"
   ]
  },
  {
   "cell_type": "markdown",
   "metadata": {},
   "source": [
    "Manual data"
   ]
  },
  {
   "cell_type": "code",
   "execution_count": 36,
   "metadata": {},
   "outputs": [],
   "source": [
    "manualdata_fpath=Manual('other_input_values.yaml')\n",
    "assert osp.isfile(manualdata_fpath)"
   ]
  },
  {
   "cell_type": "markdown",
   "metadata": {},
   "source": [
    "$D_{\\text{local}}$"
   ]
  },
  {
   "cell_type": "code",
   "execution_count": 37,
   "metadata": {},
   "outputs": [],
   "source": [
    "dlocal_fpaths={}\n",
    "for tag in taglist:\n",
    "  dlocal_fpaths[tag]={comp:Processed(dlocal_fname_tmpl.format(tag=tag,comp=comp)) \\\n",
    "                        for comp in dlocal_comp_list}"
   ]
  },
  {
   "cell_type": "code",
   "execution_count": 38,
   "metadata": {},
   "outputs": [],
   "source": [
    "dloc_existence_list=[]\n",
    "for fdict in dlocal_fpaths.values():\n",
    "  dloc_existence_list+=[osp.isfile(fpath) for fpath in fdict.values()]\n",
    "assert all(dloc_existence_list)"
   ]
  },
  {
   "cell_type": "markdown",
   "metadata": {},
   "source": [
    "PMF"
   ]
  },
  {
   "cell_type": "code",
   "execution_count": 39,
   "metadata": {},
   "outputs": [],
   "source": [
    "pmf_fpaths={tag:Processed(pmf_fname_tmpl.format(tag=tag)) for tag in taglist}"
   ]
  },
  {
   "cell_type": "code",
   "execution_count": 40,
   "metadata": {},
   "outputs": [],
   "source": [
    "pmf_existence_list=[osp.isfile(fpath) for fpath in pmf_fpaths.values()]\n",
    "assert all(pmf_existence_list)"
   ]
  },
  {
   "cell_type": "markdown",
   "metadata": {},
   "source": [
    "Water density\n",
    "\n",
    "Paths require manual data; see below."
   ]
  },
  {
   "cell_type": "markdown",
   "metadata": {},
   "source": [
    "Bounding Box data"
   ]
  },
  {
   "cell_type": "code",
   "execution_count": 41,
   "metadata": {},
   "outputs": [],
   "source": [
    "bbox_fpaths={tag:Processed(bbox_fname_tmpl.format(tag=tag)) for tag in taglist}"
   ]
  },
  {
   "cell_type": "markdown",
   "metadata": {},
   "source": [
    "Plot output folder"
   ]
  },
  {
   "cell_type": "code",
   "execution_count": 42,
   "metadata": {},
   "outputs": [],
   "source": [
    "postproc_top=osp.join(datadir,\"postproc\",\"notebooks\")"
   ]
  },
  {
   "cell_type": "code",
   "execution_count": 43,
   "metadata": {},
   "outputs": [],
   "source": [
    "assert osp.isdir(postproc_top)"
   ]
  },
  {
   "cell_type": "markdown",
   "metadata": {},
   "source": [
    "## Read the input data"
   ]
  },
  {
   "cell_type": "markdown",
   "metadata": {},
   "source": [
    "Manual"
   ]
  },
  {
   "cell_type": "code",
   "execution_count": 44,
   "metadata": {},
   "outputs": [],
   "source": [
    "other_input_values=yaml_manager.readfile(manualdata_fpath)"
   ]
  },
  {
   "cell_type": "code",
   "execution_count": 45,
   "metadata": {},
   "outputs": [],
   "source": [
    "meshes_by_tag=other_input_values[\"meshes_by_tag\"]"
   ]
  },
  {
   "cell_type": "markdown",
   "metadata": {},
   "source": [
    "$D_\\text{local}$"
   ]
  },
  {
   "cell_type": "code",
   "execution_count": 46,
   "metadata": {},
   "outputs": [],
   "source": [
    "dlocal_dict={}\n",
    "for tag,pathdict in dlocal_fpaths.items():\n",
    "  dlocal_dict[tag]= {comp:pd.read_csv(pathdict[comp]) for comp in dlocal_comp_list}"
   ]
  },
  {
   "cell_type": "markdown",
   "metadata": {},
   "source": [
    "PMF"
   ]
  },
  {
   "cell_type": "code",
   "execution_count": 47,
   "metadata": {},
   "outputs": [],
   "source": [
    "pmf_dict={tag:pd.read_csv(fpath) for tag,fpath in pmf_fpaths.items()}"
   ]
  },
  {
   "cell_type": "markdown",
   "metadata": {},
   "source": [
    "Water density"
   ]
  },
  {
   "cell_type": "code",
   "execution_count": 48,
   "metadata": {},
   "outputs": [],
   "source": [
    "wdens_fpaths={tag:Unprocessed(wdens_fname_tmpl.format(mtag=meshes_by_tag[tag])) for tag in taglist}"
   ]
  },
  {
   "cell_type": "code",
   "execution_count": 49,
   "metadata": {},
   "outputs": [],
   "source": [
    "wdens_existence_list=[osp.isfile(fpath) for fpath in wdens_fpaths.values()]\n",
    "assert all(wdens_existence_list)"
   ]
  },
  {
   "cell_type": "code",
   "execution_count": 50,
   "metadata": {},
   "outputs": [],
   "source": [
    "wdens_dict={tag:pickle_manager.readfile(fpath) for tag,fpath in wdens_fpaths.items()}"
   ]
  },
  {
   "cell_type": "markdown",
   "metadata": {},
   "source": [
    "Bounding box data"
   ]
  },
  {
   "cell_type": "code",
   "execution_count": 51,
   "metadata": {},
   "outputs": [],
   "source": [
    "bbox_dict={tag:pd.read_csv(fpath,index_col=0) for tag,fpath in bbox_fpaths.items()}"
   ]
  },
  {
   "cell_type": "markdown",
   "metadata": {},
   "source": [
    "## Output plot paths"
   ]
  },
  {
   "cell_type": "code",
   "execution_count": 52,
   "metadata": {},
   "outputs": [
    {
     "data": {
      "text/plain": [
       "'2021_0918'"
      ]
     },
     "execution_count": 52,
     "metadata": {},
     "output_type": "execute_result"
    }
   ],
   "source": [
    "datestr=datetime.now().strftime(\"%Y_%m%d\")\n",
    "datestr"
   ]
  },
  {
   "cell_type": "code",
   "execution_count": 53,
   "metadata": {},
   "outputs": [],
   "source": [
    "outdir=osp.join(postproc_top,datestr)"
   ]
  },
  {
   "cell_type": "code",
   "execution_count": 54,
   "metadata": {},
   "outputs": [],
   "source": [
    "if not osp.isdir(outdir):\n",
    "  os.makedirs(outdir)\n",
    "assert osp.isdir(outdir)"
   ]
  },
  {
   "cell_type": "markdown",
   "metadata": {},
   "source": [
    "## Constants and Functions for plotting"
   ]
  },
  {
   "cell_type": "code",
   "execution_count": 55,
   "metadata": {},
   "outputs": [],
   "source": [
    "def select_by_coord(inframe,col,val,tol=SELTOL):\n",
    "  cond=(inframe[col]<(val+tol)) & (inframe[col]>(val-tol))\n",
    "  sel=inframe[cond]\n",
    "  return sel"
   ]
  },
  {
   "cell_type": "code",
   "execution_count": 56,
   "metadata": {},
   "outputs": [],
   "source": [
    "def average_across(inframe,selcol,avgcol,tol=SELTOL):\n",
    "  vlist=list(inframe[selcol].unique())\n",
    "  vlist.sort()\n",
    "  rows=[]\n",
    "  for vv in vlist:\n",
    "    subset=select_by_coord(inframe,selcol,vv,tol)\n",
    "    avg_val=subset[avgcol].mean()\n",
    "    rows.append((vv,avg_val))\n",
    "  outframe=pd.DataFrame(rows,columns=[selcol,avgcol])\n",
    "  return outframe"
   ]
  },
  {
   "cell_type": "code",
   "execution_count": 57,
   "metadata": {},
   "outputs": [],
   "source": [
    "def function_across(inframe,selcol,argcol,funcname,tol=SELTOL):\n",
    "  vlist=list(inframe[selcol].unique())\n",
    "  vlist.sort()\n",
    "  rows=[]\n",
    "  for vv in vlist:\n",
    "    subset=select_by_coord(inframe,selcol,vv,tol)\n",
    "    res_val=getattr(subset[argcol],funcname)()\n",
    "    rows.append((vv,res_val))\n",
    "  outframe=pd.DataFrame(rows,columns=[selcol,argcol])\n",
    "  return outframe"
   ]
  },
  {
   "cell_type": "code",
   "execution_count": 58,
   "metadata": {},
   "outputs": [],
   "source": [
    "def make_stairsteps(edgearr,valarr):\n",
    "  xvals=[edgearr[0]]\n",
    "  yvals=[valarr[0]]\n",
    "  for idx in range(len(valarr)-1):\n",
    "    xvals+=[edgearr[idx+1],edgearr[idx+1]]\n",
    "    yvals+=[valarr[idx],valarr[idx+1]]\n",
    "  xvals.append(edgearr[-1])\n",
    "  yvals.append(valarr[-1])\n",
    "  return np.array(xvals),np.array(yvals)"
   ]
  },
  {
   "cell_type": "code",
   "execution_count": 59,
   "metadata": {},
   "outputs": [],
   "source": [
    "def unpack_wdens(wdens_dict):\n",
    "  return wdens_dict[\"grid\"], wdens_dict[\"edges\"]"
   ]
  },
  {
   "cell_type": "markdown",
   "metadata": {},
   "source": [
    "## Plots"
   ]
  },
  {
   "cell_type": "markdown",
   "metadata": {},
   "source": [
    "We're going to use the 16A channel for this."
   ]
  },
  {
   "cell_type": "code",
   "execution_count": 60,
   "metadata": {},
   "outputs": [],
   "source": [
    "tag=\"16A\""
   ]
  },
  {
   "cell_type": "code",
   "execution_count": 61,
   "metadata": {},
   "outputs": [],
   "source": [
    "bboxes=bbox_dict[tag]"
   ]
  },
  {
   "cell_type": "code",
   "execution_count": 62,
   "metadata": {},
   "outputs": [],
   "source": [
    "pmf=pmf_dict[tag]"
   ]
  },
  {
   "cell_type": "code",
   "execution_count": 63,
   "metadata": {},
   "outputs": [],
   "source": [
    "dloc=dlocal_dict[tag][\"avg\"]"
   ]
  },
  {
   "cell_type": "code",
   "execution_count": 64,
   "metadata": {},
   "outputs": [],
   "source": [
    "wdens_grid,wdens_edges=unpack_wdens(wdens_dict[tag])"
   ]
  },
  {
   "cell_type": "markdown",
   "metadata": {},
   "source": [
    "Let's do the averages of all these across the channel."
   ]
  },
  {
   "cell_type": "code",
   "execution_count": 65,
   "metadata": {},
   "outputs": [],
   "source": [
    "pmf_avg=average_across(pmf,'z','PMF')"
   ]
  },
  {
   "cell_type": "code",
   "execution_count": 66,
   "metadata": {},
   "outputs": [],
   "source": [
    "pmf_min=function_across(pmf,'z','PMF','min')"
   ]
  },
  {
   "cell_type": "code",
   "execution_count": 67,
   "metadata": {},
   "outputs": [],
   "source": [
    "pmf_max=function_across(pmf,'z','PMF','max')"
   ]
  },
  {
   "cell_type": "code",
   "execution_count": 68,
   "metadata": {},
   "outputs": [],
   "source": [
    "dloc_avg=average_across(dloc,'z',\"Davg\")"
   ]
  },
  {
   "cell_type": "code",
   "execution_count": 69,
   "metadata": {},
   "outputs": [],
   "source": [
    "dloc_min=function_across(dloc,'z','Davg','min')"
   ]
  },
  {
   "cell_type": "code",
   "execution_count": 70,
   "metadata": {},
   "outputs": [],
   "source": [
    "dloc_max=function_across(dloc,'z','Davg','max')"
   ]
  },
  {
   "cell_type": "markdown",
   "metadata": {},
   "source": [
    "Errors for the PMF and D local (variation, really, not errors)"
   ]
  },
  {
   "cell_type": "code",
   "execution_count": 71,
   "metadata": {},
   "outputs": [
    {
     "data": {
      "text/plain": [
       "(2, 36)"
      ]
     },
     "execution_count": 71,
     "metadata": {},
     "output_type": "execute_result"
    }
   ],
   "source": [
    "pmf_errors=np.vstack([(pmf_avg['PMF']-pmf_min['PMF']).values,\n",
    "                      (pmf_max['PMF']-pmf_avg['PMF']).values])\n",
    "pmf_errors.shape"
   ]
  },
  {
   "cell_type": "code",
   "execution_count": 72,
   "metadata": {},
   "outputs": [
    {
     "data": {
      "text/plain": [
       "(2, 34)"
      ]
     },
     "execution_count": 72,
     "metadata": {},
     "output_type": "execute_result"
    }
   ],
   "source": [
    "dloc_errors=np.vstack([(dloc_avg['Davg']-dloc_min['Davg']).values,\n",
    "                       (dloc_max['Davg']-dloc_avg['Davg']).values])\n",
    "dloc_errors.shape"
   ]
  },
  {
   "cell_type": "markdown",
   "metadata": {},
   "source": [
    "Vertices for min/max bands"
   ]
  },
  {
   "cell_type": "code",
   "execution_count": 73,
   "metadata": {},
   "outputs": [
    {
     "data": {
      "text/plain": [
       "(72, 2)"
      ]
     },
     "execution_count": 73,
     "metadata": {},
     "output_type": "execute_result"
    }
   ],
   "source": [
    "pmf_vertices=np.vstack([pmf_max.values,pmf_min.values[::-1]])\n",
    "pmf_vertices.shape"
   ]
  },
  {
   "cell_type": "code",
   "execution_count": 74,
   "metadata": {},
   "outputs": [
    {
     "data": {
      "text/plain": [
       "(72,)"
      ]
     },
     "execution_count": 74,
     "metadata": {},
     "output_type": "execute_result"
    }
   ],
   "source": [
    "pmf_codes=Path.LINETO * np.ones(pmf_vertices.shape[0],dtype=Path.code_type)\n",
    "pmf_codes[0] = Path.MOVETO\n",
    "pmf_codes.shape"
   ]
  },
  {
   "cell_type": "code",
   "execution_count": 75,
   "metadata": {},
   "outputs": [],
   "source": [
    "pmf_path = Path(pmf_vertices, pmf_codes)"
   ]
  },
  {
   "cell_type": "code",
   "execution_count": 76,
   "metadata": {},
   "outputs": [
    {
     "data": {
      "text/plain": [
       "(68, 2)"
      ]
     },
     "execution_count": 76,
     "metadata": {},
     "output_type": "execute_result"
    }
   ],
   "source": [
    "dloc_vertices=np.vstack([dloc_max.values,dloc_min.values[::-1]])\n",
    "dloc_vertices.shape"
   ]
  },
  {
   "cell_type": "code",
   "execution_count": 77,
   "metadata": {},
   "outputs": [
    {
     "data": {
      "text/plain": [
       "(68,)"
      ]
     },
     "execution_count": 77,
     "metadata": {},
     "output_type": "execute_result"
    }
   ],
   "source": [
    "dloc_codes=Path.LINETO * np.ones(dloc_vertices.shape[0],dtype=Path.code_type)\n",
    "dloc_codes[0] = Path.MOVETO\n",
    "dloc_codes.shape"
   ]
  },
  {
   "cell_type": "code",
   "execution_count": 78,
   "metadata": {},
   "outputs": [],
   "source": [
    "dloc_path = Path(dloc_vertices, dloc_codes)"
   ]
  },
  {
   "cell_type": "markdown",
   "metadata": {},
   "source": [
    "Water density"
   ]
  },
  {
   "cell_type": "code",
   "execution_count": 79,
   "metadata": {},
   "outputs": [
    {
     "data": {
      "text/plain": [
       "Xmin     5.75\n",
       "Xmax     5.75\n",
       "Xspan    0.00\n",
       "Ymin     4.90\n",
       "Ymax     5.50\n",
       "Yspan    0.60\n",
       "Zmin     4.70\n",
       "Zmax     6.40\n",
       "Zspan    1.70\n",
       "Name: limits, dtype: float64"
      ]
     },
     "execution_count": 79,
     "metadata": {},
     "output_type": "execute_result"
    }
   ],
   "source": [
    "bboxes.loc['limits',:]"
   ]
  },
  {
   "cell_type": "code",
   "execution_count": 80,
   "metadata": {},
   "outputs": [
    {
     "data": {
      "text/plain": [
       "(229, 229)"
      ]
     },
     "execution_count": 80,
     "metadata": {},
     "output_type": "execute_result"
    }
   ],
   "source": [
    "wdens_grid.shape"
   ]
  },
  {
   "cell_type": "code",
   "execution_count": 81,
   "metadata": {},
   "outputs": [
    {
     "data": {
      "text/plain": [
       "[(230,), (230,)]"
      ]
     },
     "execution_count": 81,
     "metadata": {},
     "output_type": "execute_result"
    }
   ],
   "source": [
    "[ed.shape for ed in wdens_edges]"
   ]
  },
  {
   "cell_type": "code",
   "execution_count": 82,
   "metadata": {},
   "outputs": [
    {
     "data": {
      "text/plain": [
       "(-0.22499960000000002, 11.2250004)"
      ]
     },
     "execution_count": 82,
     "metadata": {},
     "output_type": "execute_result"
    }
   ],
   "source": [
    "wdens_edges[0].min(),wdens_edges[0].max() #y in 3D"
   ]
  },
  {
   "cell_type": "code",
   "execution_count": 83,
   "metadata": {},
   "outputs": [
    {
     "data": {
      "text/plain": [
       "(-0.22499960000000002, 11.2250004)"
      ]
     },
     "execution_count": 83,
     "metadata": {},
     "output_type": "execute_result"
    }
   ],
   "source": [
    "wdens_edges[1].min(),wdens_edges[1].max() #z in 3D"
   ]
  },
  {
   "cell_type": "code",
   "execution_count": 84,
   "metadata": {},
   "outputs": [
    {
     "data": {
      "text/plain": [
       "(4.9, 5.5)"
      ]
     },
     "execution_count": 84,
     "metadata": {},
     "output_type": "execute_result"
    }
   ],
   "source": [
    "ymin=bboxes.loc['limits','Ymin']\n",
    "ymax=bboxes.loc['limits','Ymax']\n",
    "ymin,ymax"
   ]
  },
  {
   "cell_type": "code",
   "execution_count": 85,
   "metadata": {},
   "outputs": [
    {
     "data": {
      "text/plain": [
       "(103, 114)"
      ]
     },
     "execution_count": 85,
     "metadata": {},
     "output_type": "execute_result"
    }
   ],
   "source": [
    "y_idx_lwr=np.searchsorted(wdens_edges[0],ymin)\n",
    "y_idx_upr=np.searchsorted(wdens_edges[0],ymax)-1\n",
    "y_idx_lwr,y_idx_upr"
   ]
  },
  {
   "cell_type": "code",
   "execution_count": 86,
   "metadata": {},
   "outputs": [
    {
     "data": {
      "text/plain": [
       "array([4.9250004, 4.9750004, 5.0250004, 5.0750004, 5.1250004, 5.1750004,\n",
       "       5.2250004, 5.2750004, 5.3250004, 5.3750004, 5.4250004, 5.4750004])"
      ]
     },
     "execution_count": 86,
     "metadata": {},
     "output_type": "execute_result"
    }
   ],
   "source": [
    "wdens_edges[0][y_idx_lwr:y_idx_upr+1]"
   ]
  },
  {
   "cell_type": "code",
   "execution_count": 87,
   "metadata": {},
   "outputs": [
    {
     "data": {
      "text/plain": [
       "slice(103, 115, None)"
      ]
     },
     "execution_count": 87,
     "metadata": {},
     "output_type": "execute_result"
    }
   ],
   "source": [
    "chan_y_slice=slice(y_idx_lwr,y_idx_upr+1)\n",
    "chan_y_slice"
   ]
  },
  {
   "cell_type": "code",
   "execution_count": 88,
   "metadata": {},
   "outputs": [],
   "source": [
    "wdens_avg_vals=[np.mean(wdens_grid[chan_y_slice,idx]) for idx in range(wdens_grid.shape[0])]  "
   ]
  },
  {
   "cell_type": "code",
   "execution_count": 89,
   "metadata": {},
   "outputs": [],
   "source": [
    "wdens_min_vals=[np.min(wdens_grid[chan_y_slice,idx]) for idx in range(wdens_grid.shape[0])]"
   ]
  },
  {
   "cell_type": "code",
   "execution_count": 90,
   "metadata": {},
   "outputs": [],
   "source": [
    "wdens_max_vals=[np.max(wdens_grid[chan_y_slice,idx]) for idx in range(wdens_grid.shape[0])]"
   ]
  },
  {
   "cell_type": "code",
   "execution_count": 91,
   "metadata": {},
   "outputs": [],
   "source": [
    "wdens_xvals,wdens_yvals=make_stairsteps(wdens_edges[1],wdens_avg_vals)"
   ]
  },
  {
   "cell_type": "code",
   "execution_count": 92,
   "metadata": {},
   "outputs": [],
   "source": [
    "wdens_min_x,wdens_min_y=make_stairsteps(wdens_edges[1],wdens_min_vals)"
   ]
  },
  {
   "cell_type": "code",
   "execution_count": 93,
   "metadata": {},
   "outputs": [],
   "source": [
    "wdens_max_x,wdens_max_y=make_stairsteps(wdens_edges[1],wdens_max_vals)"
   ]
  },
  {
   "cell_type": "code",
   "execution_count": 94,
   "metadata": {},
   "outputs": [
    {
     "data": {
      "text/plain": [
       "((458,), (458,))"
      ]
     },
     "execution_count": 94,
     "metadata": {},
     "output_type": "execute_result"
    }
   ],
   "source": [
    "wdens_xvals.shape,wdens_yvals.shape"
   ]
  },
  {
   "cell_type": "code",
   "execution_count": 95,
   "metadata": {},
   "outputs": [
    {
     "data": {
      "text/plain": [
       "(916, 2)"
      ]
     },
     "execution_count": 95,
     "metadata": {},
     "output_type": "execute_result"
    }
   ],
   "source": [
    "wdens_vertices=np.vstack([np.vstack([wdens_max_x,wdens_max_y]).T,np.vstack([wdens_min_x,wdens_min_y]).T[::-1,:]])\n",
    "wdens_vertices.shape"
   ]
  },
  {
   "cell_type": "code",
   "execution_count": 96,
   "metadata": {},
   "outputs": [
    {
     "data": {
      "text/plain": [
       "(916,)"
      ]
     },
     "execution_count": 96,
     "metadata": {},
     "output_type": "execute_result"
    }
   ],
   "source": [
    "wdens_codes=Path.LINETO * np.ones(wdens_vertices.shape[0],dtype=Path.code_type)\n",
    "wdens_codes[0] = Path.MOVETO\n",
    "wdens_codes.shape"
   ]
  },
  {
   "cell_type": "code",
   "execution_count": 97,
   "metadata": {},
   "outputs": [],
   "source": [
    "wdens_path = Path(wdens_vertices, wdens_codes)"
   ]
  },
  {
   "cell_type": "markdown",
   "metadata": {},
   "source": [
    "Plot parameters"
   ]
  },
  {
   "cell_type": "code",
   "execution_count": 98,
   "metadata": {},
   "outputs": [],
   "source": [
    "xlims=(4.5,6.5)"
   ]
  },
  {
   "cell_type": "code",
   "execution_count": 99,
   "metadata": {},
   "outputs": [],
   "source": [
    "pmf_lims=(-5,3)"
   ]
  },
  {
   "cell_type": "code",
   "execution_count": 100,
   "metadata": {},
   "outputs": [],
   "source": [
    "dloc_lims=(0,1.1)"
   ]
  },
  {
   "cell_type": "code",
   "execution_count": 101,
   "metadata": {},
   "outputs": [],
   "source": [
    "wdens_lims=(0,1.5)"
   ]
  },
  {
   "cell_type": "code",
   "execution_count": 102,
   "metadata": {},
   "outputs": [],
   "source": [
    "band_alpha=0.3"
   ]
  },
  {
   "cell_type": "markdown",
   "metadata": {},
   "source": [
    "Plots"
   ]
  },
  {
   "cell_type": "code",
   "execution_count": 103,
   "metadata": {},
   "outputs": [
    {
     "data": {
      "image/png": "[encoded data removed]",
      "text/plain": [
       "<Figure size 900x600 with 1 Axes>"
      ]
     },
     "metadata": {
      "needs_background": "light"
     },
     "output_type": "display_data"
    }
   ],
   "source": [
    "fig = plt.figure(figsize=(6,4))\n",
    "gs=GridSpec(100,100)\n",
    "\n",
    "#All three on the same graph, no error bars\n",
    "ax_pmf = host_subplot(gs[:,:], figure=fig, axes_class=axisartist.Axes)\n",
    "# fig.subplots_adjust(right=0.85)\n",
    "\n",
    "ax_dloc = ax_pmf.twinx()\n",
    "ax_wdens = ax_pmf.twinx()\n",
    "\n",
    "ax_wdens.axis[\"right\"] = ax_wdens.new_fixed_axis(loc=\"right\", offset=(55, 0))\n",
    "\n",
    "ax_dloc.axis[\"right\"].toggle(all=True)\n",
    "ax_wdens.axis[\"right\"].toggle(all=True)\n",
    "\n",
    "pmf_lines = ax_pmf.plot(pmf_avg['z'],pmf_avg[\"PMF\"], label=\"Potential of Mean Force\")\n",
    "dloc_lines = ax_dloc.plot(dloc_avg['z'],dloc_avg['Davg'], label=\"Local Diffusion Coefficient\")\n",
    "wdens_lines = ax_wdens.plot(wdens_xvals, wdens_yvals, label=\"Water Density\")\n",
    "\n",
    "pmf_color=pmf_lines[0].get_color()\n",
    "dloc_color=dloc_lines[0].get_color()\n",
    "wdens_color=wdens_lines[0].get_color()\n",
    "\n",
    "o=ax_pmf.plot(xlims,[0.0,0.0],\"--\",color=pmf_color)\n",
    "o=ax_dloc.plot(xlims,[1.0,1.0],\"--\",color=dloc_color)\n",
    "o=ax_wdens.plot(xlims,[1.0,1.0],\"--\",color=wdens_color)\n",
    "\n",
    "ax_pmf.set_xlim(*xlims)\n",
    "ax_pmf.set_ylim(*pmf_lims)\n",
    "ax_dloc.set_ylim(*dloc_lims)\n",
    "ax_wdens.set_ylim(*wdens_lims)\n",
    "\n",
    "ax_pmf.set_ylabel(\"PMF [$k_BT$]\")\n",
    "ax_pmf.set_xlabel(\"$z$ [nm]\")\n",
    "ax_dloc.set_ylabel(\"$D_{local}/D_{bulk}$\")\n",
    "ax_wdens.set_ylabel(\"Water Density\\n[normalized to SPC bulk value]\")\n",
    "\n",
    "ax_pmf.axis[\"left\"].label.set_color(pmf_color)\n",
    "ax_dloc.axis[\"right\"].label.set_color(dloc_color)\n",
    "ax_wdens.axis[\"right\"].label.set_color(wdens_color)\n",
    "\n",
    "ax_pmf.legend(loc=\"lower center\")\n",
    "legend_handles, legend_labels = ax_pmf.get_legend_handles_labels()\n",
    "\n",
    "#Done\n",
    "#fig.tight_layout() #Can't use this with these axes\n",
    "plot_fpath=osp.join(outdir,\"three_lines_Yavg.png\")\n",
    "fig.savefig(plot_fpath,dpi=150)"
   ]
  },
  {
   "cell_type": "code",
   "execution_count": 104,
   "metadata": {},
   "outputs": [
    {
     "data": {
      "image/png": "[encoded data removed]",
      "text/plain": [
       "<Figure size 1350x900 with 4 Axes>"
      ]
     },
     "metadata": {
      "needs_background": "light"
     },
     "output_type": "display_data"
    }
   ],
   "source": [
    "fig = plt.figure(figsize=(9,6))\n",
    "gs=GridSpec(100,100)\n",
    "y1=46\n",
    "y2=54\n",
    "x1=45\n",
    "x2=55\n",
    "\n",
    "#Water density only, with error bars\n",
    "wdens_patch = PathPatch(wdens_path, facecolor=wdens_color, edgecolor='none', alpha=band_alpha)\n",
    "ax_wdens=fig.add_subplot(gs[:y1,:x1])\n",
    "o=ax_wdens.add_patch(wdens_patch)\n",
    "# o=ax_wdens.plot(wdens_min_x, wdens_min_y, label=\"Water Density\")\n",
    "# o=ax_wdens.plot(wdens_max_x, wdens_max_y, label=\"Water Density\")\n",
    "o=ax_wdens.plot(wdens_xvals, wdens_yvals, color=wdens_color, label=\"Water Density\")\n",
    "\n",
    "o=ax_wdens.plot(xlims,[1.0,1.0],\"--\",color=wdens_color)\n",
    "\n",
    "o=ax_wdens.set_xlim(*xlims)\n",
    "o=ax_wdens.set_ylim(*wdens_lims)\n",
    "\n",
    "o=ax_wdens.set_ylabel(\"Water Density\\n[normalized to SPC bulk value]\")\n",
    "# o=ax_wdens.set_xlabel(\"$z$ [nm]\")\n",
    "\n",
    "o=ax_wdens.yaxis.label.set_color(wdens_color)\n",
    "\n",
    "\n",
    "#PMF only, with variation band\n",
    "pmf_patch = PathPatch(pmf_path, facecolor=pmf_color, edgecolor='none', alpha=band_alpha)\n",
    "ax_pmf=fig.add_subplot(gs[:y1,x2:])\n",
    "o=ax_pmf.add_patch(pmf_patch)\n",
    "o=ax_pmf.plot(pmf_avg['z'],pmf_avg[\"PMF\"], color=pmf_color, label=\"Potential of Mean Force\")\n",
    "# o = ax_pmf.errorbar(pmf_avg['z'],pmf_avg[\"PMF\"], yerr=pmf_errors, \n",
    "#                      color=pmf_color, label=\"Potential of Mean Force\")\n",
    "\n",
    "o=ax_pmf.plot(xlims,[0.0,0.0],\"--\",color=pmf_color)\n",
    "\n",
    "o=ax_pmf.set_xlim(*xlims)\n",
    "o=ax_pmf.set_ylim(*pmf_lims)\n",
    "\n",
    "o=ax_pmf.set_ylabel(\"PMF [$k_BT$]\")\n",
    "o=ax_pmf.set_xlabel(\"$z$ [nm]\")\n",
    "\n",
    "o=ax_pmf.yaxis.label.set_color(pmf_color)\n",
    "\n",
    "#D local only, with variation band\n",
    "dloc_patch = PathPatch(dloc_path, facecolor=dloc_color, edgecolor='none', alpha=band_alpha)\n",
    "ax_dloc=fig.add_subplot(gs[y2:,:x1])\n",
    "o=ax_dloc.add_patch(dloc_patch)\n",
    "o=ax_dloc.plot(dloc_avg['z'],dloc_avg['Davg'], color=dloc_color, label=\"Local Diffusion Coefficient\")\n",
    "# o = ax_dloc.errorbar(dloc_avg['z'],dloc_avg['Davg'], yerr=dloc_errors, \n",
    "#                       color=dloc_color, label=\"Local Diffusion Coefficient\")\n",
    "\n",
    "o=ax_dloc.plot(xlims,[1.0,1.0],\"--\",color=dloc_color)\n",
    "\n",
    "o=ax_dloc.set_xlim(*xlims)\n",
    "o=ax_dloc.set_ylim(*dloc_lims)\n",
    "\n",
    "o=ax_dloc.set_xlabel(\"$z$ [nm]\")\n",
    "o=ax_dloc.set_ylabel(\"$D_{local}/D_{bulk}$\")\n",
    "\n",
    "o=ax_dloc.yaxis.label.set_color(dloc_color)\n",
    "\n",
    "#Legend\n",
    "ax_legend=fig.add_subplot(gs[y2:,x2:])\n",
    "o=ax_legend.axis(\"off\")\n",
    "o=ax_legend.legend(legend_handles,legend_labels,loc=\"center\")\n",
    "# o=ax_l.legend(reord_handles,reord_labels,loc=\"center\",fontsize=16)\n",
    "\n",
    "\n",
    "#Done\n",
    "#fig.tight_layout() #Can't use this with these axes\n",
    "plot_fpath=osp.join(outdir,\"three_lines_Yavg_bands.png\")\n",
    "fig.savefig(plot_fpath,dpi=150)"
   ]
  },
  {
   "cell_type": "code",
   "execution_count": null,
   "metadata": {},
   "outputs": [],
   "source": []
  }
 ],
 "metadata": {
  "kernelspec": {
   "display_name": "Python 3 (ipykernel)",
   "language": "python",
   "name": "python3"
  },
  "language_info": {
   "codemirror_mode": {
    "name": "ipython",
    "version": 3
   },
   "file_extension": ".py",
   "mimetype": "text/x-python",
   "name": "python",
   "nbconvert_exporter": "python",
   "pygments_lexer": "ipython3",
   "version": "3.9.6"
  }
 },
 "nbformat": 4,
 "nbformat_minor": 4
}
