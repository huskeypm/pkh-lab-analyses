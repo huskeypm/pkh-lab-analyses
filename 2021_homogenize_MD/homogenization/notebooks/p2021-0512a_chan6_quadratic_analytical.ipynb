{
 "cells": [
  {
   "cell_type": "markdown",
   "metadata": {},
   "source": [
    "Compute the analytical results for the quadratic potential used as a validation series in `chan6`.\n",
    "\n",
    "This borrows some code from `quadratic/modules/joblist_calcs.py`.\n",
    "\n",
    "The porosity calcultion also borrows from `p2021-0215b_analytical_series.ipynb`.\n",
    "\n",
    "The slab thickness was copied from the `other_input_values.yaml`, but without the doubling in the `chan6` file."
   ]
  },
  {
   "cell_type": "code",
   "execution_count": 1,
   "metadata": {},
   "outputs": [],
   "source": [
    "import numpy as np"
   ]
  },
  {
   "cell_type": "code",
   "execution_count": 2,
   "metadata": {},
   "outputs": [],
   "source": [
    "import scipy.integrate as integrate"
   ]
  },
  {
   "cell_type": "markdown",
   "metadata": {},
   "source": [
    "Set up key parameters in dictionaries."
   ]
  },
  {
   "cell_type": "code",
   "execution_count": 3,
   "metadata": {},
   "outputs": [],
   "source": [
    "taglist=[\"12A\",\"16A\",\"20A\"]"
   ]
  },
  {
   "cell_type": "code",
   "execution_count": 4,
   "metadata": {},
   "outputs": [],
   "source": [
    "#Channel widths\n",
    "a_values={\n",
    "  \"12A\": 1.2,\n",
    "  \"16A\": 1.6,\n",
    "  \"20A\": 2.0\n",
    "}"
   ]
  },
  {
   "cell_type": "code",
   "execution_count": 5,
   "metadata": {},
   "outputs": [],
   "source": [
    "#Potential A values\n",
    "#These were calculated in a spreadsheet, see log 2021-05-12.md\n",
    "#In brief, they come from the B value and maximum value of 20 kT\n",
    "A_values={\n",
    "  \"12A\":61.111,\n",
    "  \"16A\":34.375,\n",
    "  \"20A\":22\n",
    "}"
   ]
  },
  {
   "cell_type": "code",
   "execution_count": 6,
   "metadata": {},
   "outputs": [],
   "source": [
    "#Potential B value, the same in all cases\n",
    "B_value=-2"
   ]
  },
  {
   "cell_type": "code",
   "execution_count": 7,
   "metadata": {},
   "outputs": [],
   "source": [
    "#beta, 1 because potentials are in kT\n",
    "beta = 1.0"
   ]
  },
  {
   "cell_type": "markdown",
   "metadata": {},
   "source": [
    "Porosity calculation"
   ]
  },
  {
   "cell_type": "code",
   "execution_count": 8,
   "metadata": {},
   "outputs": [],
   "source": [
    "slab_thickness = 2.3 #nm (we're working with the un-doubled cell here)"
   ]
  },
  {
   "cell_type": "code",
   "execution_count": 9,
   "metadata": {},
   "outputs": [],
   "source": [
    "porosity={tag:cw/(cw+2*slab_thickness) for tag,cw in a_values.items()}"
   ]
  },
  {
   "cell_type": "code",
   "execution_count": 10,
   "metadata": {},
   "outputs": [
    {
     "data": {
      "text/plain": [
       "{'12A': 0.20689655172413793,\n",
       " '16A': 0.2580645161290323,\n",
       " '20A': 0.30303030303030304}"
      ]
     },
     "execution_count": 10,
     "metadata": {},
     "output_type": "execute_result"
    }
   ],
   "source": [
    "porosity"
   ]
  },
  {
   "cell_type": "markdown",
   "metadata": {},
   "source": [
    "Do the integrations"
   ]
  },
  {
   "cell_type": "code",
   "execution_count": 11,
   "metadata": {},
   "outputs": [],
   "source": [
    "def integrand(z,A,B,beta):\n",
    "  psi=A*z**2+B\n",
    "  return np.exp(-beta*psi)  "
   ]
  },
  {
   "cell_type": "code",
   "execution_count": 12,
   "metadata": {},
   "outputs": [],
   "source": [
    "analytical_Deff={}\n",
    "for tag in taglist:\n",
    "  a=a_values[tag]\n",
    "  A=A_values[tag]\n",
    "  limit=a/2.0\n",
    "  result = integrate.quad(integrand,-limit,limit,args=(A,B_value,beta))\n",
    "  integral = result[0]\n",
    "  analytical_Deff[tag]=porosity[tag]*integral/a"
   ]
  },
  {
   "cell_type": "code",
   "execution_count": 13,
   "metadata": {},
   "outputs": [
    {
     "data": {
      "text/plain": [
       "{'12A': 0.28885255365930773,\n",
       " '16A': 0.36028887917904456,\n",
       " '20A': 0.4230664869147871}"
      ]
     },
     "execution_count": 13,
     "metadata": {},
     "output_type": "execute_result"
    }
   ],
   "source": [
    "analytical_Deff"
   ]
  },
  {
   "cell_type": "code",
   "execution_count": null,
   "metadata": {},
   "outputs": [],
   "source": []
  }
 ],
 "metadata": {
  "kernelspec": {
   "display_name": "Python 3",
   "language": "python",
   "name": "python3"
  },
  "language_info": {
   "codemirror_mode": {
    "name": "ipython",
    "version": 3
   },
   "file_extension": ".py",
   "mimetype": "text/x-python",
   "name": "python",
   "nbconvert_exporter": "python",
   "pygments_lexer": "ipython3",
   "version": "3.9.2"
  }
 },
 "nbformat": 4,
 "nbformat_minor": 4
}
