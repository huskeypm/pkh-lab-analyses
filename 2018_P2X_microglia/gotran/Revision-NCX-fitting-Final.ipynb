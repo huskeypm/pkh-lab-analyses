{
 "cells": [
  {
   "cell_type": "code",
   "execution_count": 2,
   "metadata": {
    "collapsed": true
   },
   "outputs": [],
   "source": [
    "# Function for integreating ODE and displaying results\n",
    "import scipy.integrate\n",
    "from scipy.integrate import odeint\n",
    "import matplotlib.pylab as plt\n",
    "import numpy as np\n",
    "import math\n",
    "from math import exp\n",
    "from ipywidgets import widgets, fixed, Layout\n",
    "\n",
    "%matplotlib inline"
   ]
  },
  {
   "cell_type": "code",
   "execution_count": 3,
   "metadata": {
    "collapsed": true
   },
   "outputs": [],
   "source": [
    "def fNCX(y,k):\n",
    "    VmaxNCX, KmCai, KmCao, KmNai, KmNao, ksat, eta, KdAct, HNa, nCai, Q10NCX = k \n",
    "    Cai, v = y\n",
    "    R = 8.314 # [J/mol-K]\n",
    "    T = 310 # [K]\n",
    "    V = v*10**-3\n",
    "    # NCX parameters taken from Shannon-Bers model\n",
    "    KmCai = KmCai*1e-6     # [M]\n",
    "    KmCao = KmCao*1e-3      # [M]\n",
    "    KmNai = KmNai*1e-2    # [M]\n",
    "    KmNao = KmNao*1e-2     # [M]\n",
    "    QNCX = Q10NCX**((T-310)/10)\n",
    "    Cm = 12e-12      # [F] total conductance of microglia\n",
    "    F = 96485.33289   # Faraday constant in [C/mol]\n",
    "\n",
    "    ## Fixted substance concentrations\n",
    "    Nae = 145e-3        # [M] Exocytosolic Na free concentration\n",
    "    Nai = 8e-3          # [M] Cytosolic Na free concentration -> Neuroglia p.190 Fig 16.4 the range from 8-20 mM\n",
    "    Cae = 2e-3          # [M] Exocytosolic Ca free concentration\n",
    "\n",
    "    ## Lumped constants/terms\n",
    "    Ka = 1/(1+((KdAct/(Cai*1e6))**nCai)) # 3.2\n",
    "    Z = (V*F)/(R*T)      # [J/C*C/mol]/[J/(mol-K)*K]\n",
    "    delta = (Nai**HNa)*Cae\n",
    "    sigma = (Nae**HNa)*Cai\n",
    "\n",
    "    top = Ka*QNCX*VmaxNCX*(exp(eta*Z)*delta - exp((eta-1)*Z)*sigma)\n",
    "    bot = (KmCai*(Nae**HNa)*(1+(Nai/KmNai)**HNa) + (KmNao**HNa)*Cai*(1+(Cai/KmCai)) + KmCao*(Nai**HNa)\n",
    "           + delta + sigma)*(1 + ksat*exp((eta-1))*Z)\n",
    "\n",
    "    ## Current and influx via NCX\n",
    "    INCX = top/bot*Cm*10**12            # [A/F]*F = A\n",
    "\n",
    "    return INCX\n"
   ]
  },
  {
   "cell_type": "code",
   "execution_count": 10,
   "metadata": {
    "collapsed": true
   },
   "outputs": [],
   "source": [
    "def run(VmaxNCX, KmCai, KmCao, KmNai, KmNao, ksat, eta, KdAct, HNa, nCai, Q10NCX):\n",
    "    k = np.array([VmaxNCX, KmCai, KmCao, KmNai, KmNao, ksat, eta, KdAct, HNa, nCai, Q10NCX])\n",
    "    V = scipy.linspace(-70,60,10)\n",
    "    Irest = []\n",
    "    Iact = []\n",
    "    iters = np.arange(10)\n",
    "    Carest = 0.1*10**-6# -> 100 nM in cytosol in [M]\n",
    "    for i in iters:\n",
    "        yr = np.array([Carest,V[i]])\n",
    "        Ir = fNCX(yr,k)\n",
    "        Irest = np.append(Irest,Ir)\n",
    "\n",
    "    restingI = np.array([-20.53,-18.54,-17.22,-12.58,15.23,23.84,34.44])\n",
    "    restingV = np.array([-100,-80,-60,-40,20,40,60])\n",
    "\n",
    "    plt.figure(figsize=(7,7),dpi=100)\n",
    "    plt.plot(V,Irest,'b-',linewidth = 2, label='Model',alpha=1)\n",
    "    plt.plot(restingV,restingI,'r--',linewidth = 2, label='Boscia et al., - Expt',alpha=1)\n",
    "\n",
    "    plt.ylabel(\"$I_{NCX}$ (pA)\",fontsize=15)\n",
    "    plt.xlabel(\"Potential (mV)\",fontsize=15)\n",
    "    plt.legend(loc=0,fontsize=12)\n",
    "    plt.grid(True)\n",
    "    #plt.xlim(-60,-0)\n",
    "    #plt.ylim(-20,-10)\n",
    "    \n",
    "    return"
   ]
  },
  {
   "cell_type": "code",
   "execution_count": 11,
   "metadata": {},
   "outputs": [
    {
     "data": {
      "text/html": [
       "<style type='text/css'>\n",
       ".widget-inline-hbox .widget-label {\n",
       "      max-width: 250px;\n",
       "      min-width: 250px;\n",
       "}\n",
       "</style>"
      ],
      "text/plain": [
       "<IPython.core.display.HTML object>"
      ]
     },
     "metadata": {},
     "output_type": "display_data"
    }
   ],
   "source": [
    "%%html\n",
    "<style type='text/css'>\n",
    ".widget-inline-hbox .widget-label {\n",
    "      max-width: 250px;\n",
    "      min-width: 250px;\n",
    "}\n",
    "</style>"
   ]
  },
  {
   "cell_type": "code",
   "execution_count": 12,
   "metadata": {},
   "outputs": [
    {
     "data": {
      "application/vnd.jupyter.widget-view+json": {
       "model_id": "5d035bf535fd4cb38c97eb587296fff4",
       "version_major": 2,
       "version_minor": 0
      },
      "text/plain": [
       "A Jupyter Widget"
      ]
     },
     "metadata": {},
     "output_type": "display_data"
    }
   ],
   "source": [
    "slider = widgets.interact(run, isadaptive=fixed(True),\n",
    "        VmaxNCX=widgets.FloatSlider(min=0,max=100,step=0.01,value=35,description='VmaxNCX',layout=Layout(width='70%'), continuous_update = True),\n",
    "        KmCai=widgets.FloatSlider(min=0,max=100,step=0.01,value=3.63,description='KmCai',layout=Layout(width='70%'), continuous_update = True),\n",
    "        KmCao=widgets.FloatSlider(min=0,max=10,step=0.01,value=1.3,description='KmCao',layout=Layout(width='70%'), continuous_update = True),\n",
    "        KmNai=widgets.FloatSlider(min=0,max=100,step=0.01,value=1.23,description='KmNai.',layout=Layout(width='70%'), continuous_update = True),\n",
    "        KmNao=widgets.FloatSlider(min=0,max=100,step=0.01,value=8.75,description='KmNao',layout=Layout(width='70%'), continuous_update = True),\n",
    "        ksat=widgets.FloatSlider(min=0,max=100,step=0.01,value=0.04,description='ksat',layout=Layout(width='70%'), continuous_update = True),\n",
    "        eta=widgets.FloatSlider(min=0,max=100,step=0.01,value=0.70,description='eta',layout=Layout(width='70%'), continuous_update = True),\n",
    "        KdAct=widgets.FloatSlider(min=0,max=100,step=0.01,value=0.04,description='KdAct',layout=Layout(width='70%'), continuous_update = True),\n",
    "        HNa=widgets.FloatSlider(min=0,max=100,step=0.01,value=3.60,description='HNa',layout=Layout(width='70%'), continuous_update = True),\n",
    "        nCai=widgets.FloatSlider(min=0,max=100,step=0.01,value=3.44,description='nCai',layout=Layout(width='70%'), continuous_update = True),\n",
    "        Q10NCX=widgets.FloatSlider(min=0,max=100,step=0.01,value=1.20,description='Q10NCX',layout=Layout(width='70%'), continuous_update = True))"
   ]
  },
  {
   "cell_type": "code",
   "execution_count": null,
   "metadata": {
    "collapsed": true
   },
   "outputs": [],
   "source": []
  },
  {
   "cell_type": "code",
   "execution_count": 1,
   "metadata": {},
   "outputs": [
    {
     "ename": "NameError",
     "evalue": "name 'scipy' is not defined",
     "output_type": "error",
     "traceback": [
      "\u001b[0;31m---------------------------------------------------------------------------\u001b[0m",
      "\u001b[0;31mNameError\u001b[0m                                 Traceback (most recent call last)",
      "\u001b[0;32m<ipython-input-1-9e718a9132f4>\u001b[0m in \u001b[0;36m<module>\u001b[0;34m()\u001b[0m\n\u001b[0;32m----> 1\u001b[0;31m \u001b[0mV\u001b[0m \u001b[0;34m=\u001b[0m \u001b[0mscipy\u001b[0m\u001b[0;34m.\u001b[0m\u001b[0mlinspace\u001b[0m\u001b[0;34m(\u001b[0m\u001b[0;34m-\u001b[0m\u001b[0;36m120\u001b[0m\u001b[0;34m,\u001b[0m\u001b[0;36m60\u001b[0m\u001b[0;34m,\u001b[0m\u001b[0;36m10\u001b[0m\u001b[0;34m)\u001b[0m\u001b[0;34m\u001b[0m\u001b[0m\n\u001b[0m\u001b[1;32m      2\u001b[0m \u001b[0mIrest\u001b[0m \u001b[0;34m=\u001b[0m \u001b[0;34m[\u001b[0m\u001b[0;34m]\u001b[0m\u001b[0;34m\u001b[0m\u001b[0m\n\u001b[1;32m      3\u001b[0m \u001b[0mIact\u001b[0m \u001b[0;34m=\u001b[0m \u001b[0;34m[\u001b[0m\u001b[0;34m]\u001b[0m\u001b[0;34m\u001b[0m\u001b[0m\n\u001b[1;32m      4\u001b[0m \u001b[0miters\u001b[0m \u001b[0;34m=\u001b[0m \u001b[0mnp\u001b[0m\u001b[0;34m.\u001b[0m\u001b[0marange\u001b[0m\u001b[0;34m(\u001b[0m\u001b[0;36m10\u001b[0m\u001b[0;34m)\u001b[0m\u001b[0;34m\u001b[0m\u001b[0m\n\u001b[1;32m      5\u001b[0m \u001b[0mCarest\u001b[0m \u001b[0;34m=\u001b[0m \u001b[0;36m0.1\u001b[0m \u001b[0;31m# -> 100 nM in cytosol\u001b[0m\u001b[0;34m\u001b[0m\u001b[0m\n",
      "\u001b[0;31mNameError\u001b[0m: name 'scipy' is not defined"
     ]
    }
   ],
   "source": [
    "V = scipy.linspace(-120,60,10)\n",
    "Irest = []\n",
    "Iact = []\n",
    "iters = np.arange(10)\n",
    "Carest = 0.1 # -> 100 nM in cytosol\n",
    "Caactiv = 0.18\n",
    "for i in iters:\n",
    "    yr = np.array([Carest,V[i]])\n",
    "    Ir = fNCX(yr)\n",
    "    Irest = np.append(Irest,Ir)\n",
    "    ya = np.array([Caactiv,V[i]])\n",
    "    Ia = fNCX(ya)\n",
    "    Iact = np.append(Iact,Ia)\n",
    "\n",
    "plt.figure(figsize=(7,7))\n",
    "plt.plot(V,Irest,'r-',label='Model-Rest',alpha=1)\n",
    "plt.plot(V,Iact,'b-',label='Model-Activ',alpha=1)\n",
    "plt.plot([-120,60],[0,0],'k--')\n",
    "plt.plot([-23,-23],[-500,500],'k--')\n",
    "#plt.plot(restingV,restingI,'r--',label='Expt-Rest',alpha=1)\n",
    "#plt.plot(activeV,activeI,'b--',label='Expt-Activ',alpha=1)\n",
    "plt.ylabel(\"$I_{NCX}$ (pA)\",fontsize=15)\n",
    "plt.xlabel(\"Potential (mV)\",fontsize=15)\n",
    "plt.legend(loc=0,fontsize=12)\n",
    "#plt.xlim(-50,60)\n",
    "#plt.ylim(-50,50)"
   ]
  },
  {
   "cell_type": "code",
   "execution_count": 5,
   "metadata": {},
   "outputs": [
    {
     "ename": "NameError",
     "evalue": "name 'activeV' is not defined",
     "output_type": "error",
     "traceback": [
      "\u001b[0;31m---------------------------------------------------------------------------\u001b[0m",
      "\u001b[0;31mNameError\u001b[0m                                 Traceback (most recent call last)",
      "\u001b[0;32m<ipython-input-5-c2b60acc52c4>\u001b[0m in \u001b[0;36m<module>\u001b[0;34m()\u001b[0m\n\u001b[1;32m     11\u001b[0m \u001b[0mplt\u001b[0m\u001b[0;34m.\u001b[0m\u001b[0mfigure\u001b[0m\u001b[0;34m(\u001b[0m\u001b[0mfigsize\u001b[0m\u001b[0;34m=\u001b[0m\u001b[0;34m(\u001b[0m\u001b[0;36m7\u001b[0m\u001b[0;34m,\u001b[0m\u001b[0;36m7\u001b[0m\u001b[0;34m)\u001b[0m\u001b[0;34m)\u001b[0m\u001b[0;34m\u001b[0m\u001b[0m\n\u001b[1;32m     12\u001b[0m \u001b[0mplt\u001b[0m\u001b[0;34m.\u001b[0m\u001b[0mplot\u001b[0m\u001b[0;34m(\u001b[0m\u001b[0mV\u001b[0m\u001b[0;34m,\u001b[0m\u001b[0mIrest\u001b[0m\u001b[0;34m,\u001b[0m\u001b[0;34m'r-'\u001b[0m\u001b[0;34m,\u001b[0m\u001b[0mlabel\u001b[0m\u001b[0;34m=\u001b[0m\u001b[0;34m'Model'\u001b[0m\u001b[0;34m,\u001b[0m\u001b[0malpha\u001b[0m\u001b[0;34m=\u001b[0m\u001b[0;36m1\u001b[0m\u001b[0;34m)\u001b[0m\u001b[0;34m\u001b[0m\u001b[0m\n\u001b[0;32m---> 13\u001b[0;31m \u001b[0mplt\u001b[0m\u001b[0;34m.\u001b[0m\u001b[0mplot\u001b[0m\u001b[0;34m(\u001b[0m\u001b[0mactiveV\u001b[0m\u001b[0;34m,\u001b[0m\u001b[0mactiveI\u001b[0m\u001b[0;34m,\u001b[0m\u001b[0;34m'r--'\u001b[0m\u001b[0;34m,\u001b[0m\u001b[0mlabel\u001b[0m\u001b[0;34m=\u001b[0m\u001b[0;34m'Expt'\u001b[0m\u001b[0;34m,\u001b[0m\u001b[0malpha\u001b[0m\u001b[0;34m=\u001b[0m\u001b[0;36m1\u001b[0m\u001b[0;34m)\u001b[0m\u001b[0;34m\u001b[0m\u001b[0m\n\u001b[0m\u001b[1;32m     14\u001b[0m \u001b[0mplt\u001b[0m\u001b[0;34m.\u001b[0m\u001b[0mylabel\u001b[0m\u001b[0;34m(\u001b[0m\u001b[0;34m\"$I_{NCX}$ (pA)\"\u001b[0m\u001b[0;34m,\u001b[0m\u001b[0mfontsize\u001b[0m\u001b[0;34m=\u001b[0m\u001b[0;36m15\u001b[0m\u001b[0;34m)\u001b[0m\u001b[0;34m\u001b[0m\u001b[0m\n\u001b[1;32m     15\u001b[0m \u001b[0mplt\u001b[0m\u001b[0;34m.\u001b[0m\u001b[0mxlabel\u001b[0m\u001b[0;34m(\u001b[0m\u001b[0;34m\"Potential (mV)\"\u001b[0m\u001b[0;34m,\u001b[0m\u001b[0mfontsize\u001b[0m\u001b[0;34m=\u001b[0m\u001b[0;36m15\u001b[0m\u001b[0;34m)\u001b[0m\u001b[0;34m\u001b[0m\u001b[0m\n",
      "\u001b[0;31mNameError\u001b[0m: name 'activeV' is not defined"
     ]
    },
    {
     "data": {
      "image/png": "[encoded data removed]",
      "text/plain": [
       "<matplotlib.figure.Figure at 0x3cc46d0>"
      ]
     },
     "metadata": {},
     "output_type": "display_data"
    }
   ],
   "source": [
    "V = scipy.linspace(-120,60,10)\n",
    "Irest = []\n",
    "iters = np.arange(10)\n",
    "Carest = 160e-9 # -> 100 nM in cytosol\n",
    "\n",
    "for i in iters:\n",
    "    y = np.array([Carest,V[i]])\n",
    "    I = fNCX(y)\n",
    "    Irest = np.append(Irest,I)\n",
    "\n",
    "plt.figure(figsize=(7,7))\n",
    "plt.plot(V,Irest,'r-',label='Model',alpha=1)\n",
    "plt.plot(activeV,activeI,'r--',label='Expt',alpha=1)\n",
    "plt.ylabel(\"$I_{NCX}$ (pA)\",fontsize=15)\n",
    "plt.xlabel(\"Potential (mV)\",fontsize=15)\n",
    "plt.legend(loc=0,fontsize=12)\n",
    "\n"
   ]
  },
  {
   "cell_type": "code",
   "execution_count": null,
   "metadata": {
    "collapsed": true
   },
   "outputs": [],
   "source": []
  }
 ],
 "metadata": {
  "kernelspec": {
   "display_name": "Python 3",
   "language": "python",
   "name": "python3"
  },
  "language_info": {
   "codemirror_mode": {
    "name": "ipython",
    "version": 3
   },
   "file_extension": ".py",
   "mimetype": "text/x-python",
   "name": "python",
   "nbconvert_exporter": "python",
   "pygments_lexer": "ipython3",
   "version": "3.6.3"
  }
 },
 "nbformat": 4,
 "nbformat_minor": 2
}
