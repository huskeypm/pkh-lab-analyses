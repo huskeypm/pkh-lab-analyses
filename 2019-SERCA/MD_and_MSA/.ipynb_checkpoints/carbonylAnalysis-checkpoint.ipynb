{
 "metadata": {
  "name": "",
  "signature": "sha256:07b65c76517b55cb83069148fd614240bed93bd2d256531bcaa9a5260f292007"
 },
 "nbformat": 3,
 "nbformat_minor": 0,
 "worksheets": [
  {
   "cells": [
    {
     "cell_type": "code",
     "collapsed": false,
     "input": [
      "import loos\n",
      "import sys\n",
      "import math\n",
      "import matplotlib.pyplot as plt\n",
      "%matplotlib inline\n",
      "#import PyTraj\n",
      "\n",
      "class empty:pass\n",
      "import carbonylDensityAnalysis as cda\n",
      "%load_ext autoreload\n",
      "%autoreload 2\n"
     ],
     "language": "python",
     "metadata": {},
     "outputs": [],
     "prompt_number": 1
    },
    {
     "cell_type": "code",
     "collapsed": false,
     "input": [
      "# add python path\n",
      "#sys.path.append(\"/home/AD/anku223/labscripts/efhands/\")\n",
      "import parvfuncs as pf\n",
      "\n"
     ],
     "language": "python",
     "metadata": {},
     "outputs": [],
     "prompt_number": 2
    },
    {
     "cell_type": "code",
     "collapsed": false,
     "input": [
      "# 15A within D800 of 2L0P \n",
      "#residueIDs=[100, 101, 104, 105, 304, 305, 306, 307, 308, 309, 310, 760, 763, 764, 765, 766,\\\n",
      "#            767, 768, 793, 794, 795, 796, 797, 798, 799, 800, 801, 802, 803, 804, 805, 905,\\\n",
      "#            908, 909, 911, 912, 940,]\n",
      "\n",
      "residueIDs=[308, 309, 310, 760, 763, 764, 765, 766,\\\n",
      "            767, 768, 793, 794, 795, 796, 797, 798, 799, 800,\\\n",
      "            908, 909, 771]\n",
      "\n",
      "#timing\n",
      "NS_PER_FRAME=0.002 # [ns/fr] Verified \n",
      "PTRAJ_DOWNSAMPLE = 100 # Verified \n",
      "FRAME_TO_TIME = NS_PER_FRAME * PTRAJ_DOWNSAMPLE\n",
      "\n",
      "caseNames=[\"Ca\"]\n",
      "prefix = \"/net/share/bsu233/bdsSERCA/\"\n",
      "\n",
      "cases=[]\n",
      "runs = [\"1\",\"2\",\"3\"]\n",
      "\n",
      "wt = empty()\n",
      "wt.dcdfile = prefix + caseNames[0] + \"/run1/temp.dcd\"\n",
      "wt.trajs=[]\n",
      "wt.frame_to_time = FRAME_TO_TIME\n",
      "\n",
      "wt.pdbfile = prefix + caseNames[0] + \"/run1/step5_assembly.pdb\"\n",
      "#print pdbfile\n",
      "cases.append(wt)\n",
      "\n",
      "pf.FRAME_TO_TIME = FRAME_TO_TIME\n",
      "#pf.cols = cols"
     ],
     "language": "python",
     "metadata": {},
     "outputs": [],
     "prompt_number": 11
    },
    {
     "cell_type": "code",
     "collapsed": false,
     "input": [
      "cases[0].system=loos.createSystem(cases[0].pdbfile) # only loading once, since should be same across runs\n",
      "cases[0].trajs.append(loos.createTrajectory(cases[0].dcdfile,cases[0].system))\n",
      "       \n",
      "print \"Frames for %s: %d\" %(caseNames[0],cases[0].trajs[0].nframes())"
     ],
     "language": "python",
     "metadata": {},
     "outputs": [
      {
       "output_type": "stream",
       "stream": "stdout",
       "text": [
        "Frames for Ca: 500\n"
       ]
      }
     ],
     "prompt_number": 12
    },
    {
     "cell_type": "code",
     "collapsed": false,
     "input": [
      "\n",
      "def plotOxyDensity(grid_t,grid_r,zs,title=\"NONE\"):\n",
      "  ylimLim = [0,7]\n",
      "  xlimLim = [0,12]\n",
      "  nCalCoord = 1.\n",
      "\n",
      "  scaleByCoordinationNumber=nCalCoord\n",
      "  ar = scaleByCoordinationNumber*np.sum(zs,axis=0)\n",
      "  font = {'weight' : 'bold',\n",
      "        'size'   : 12}\n",
      "  matplotlib.rc('font', **font)\n",
      "  # density plot\n",
      "  plt.subplot(211)\n",
      "  plt.title(title, **font)\n",
      "  plt.xlabel(\"Time (ns)\")\n",
      "  plt.ylabel(\"Ca/O dist ($\\AA$)\", **font)\n",
      "  plt.pcolormesh(grid_t*pf.FRAME_TO_TIME,grid_r,ar.transpose())\n",
      "  plt.colorbar()\n",
      "  plt.clim([0,7])\n",
      "\n",
      "  # histogram plot\n",
      "  plt.subplot(212)\n",
      "  histo=np.sum(ar,axis=1)\n",
      "  nTs  = np.shape(ar)[1]\n",
      "  plt.plot(grid_r[0,:],histo/nTs)\n",
      "  plt.ylabel(\"Oxygen Count\", **font)\n",
      "  plt.ylim(ylimLim)\n",
      "  plt.xlim(xlimLim)\n",
      "  #plt.gcf().savefig(title+\".png\",dpi=300.)\n",
      "\n",
      "  # save data\n",
      "  l=np.mean(ar,axis=1) #Same as summing up and averaging over nTs.  See above.\n",
      "  s=np.std(ar,axis=1)\n",
      "  j=np.zeros([np.shape(l)[0],3])\n",
      "  j[:,0]=grid_r[0,:]\n",
      "  j[:,1]=l\n",
      "  j[:,2]=s\n",
      "\n",
      "  np.savetxt(title+\".txt\",j)\n",
      "  return ar"
     ],
     "language": "python",
     "metadata": {},
     "outputs": [],
     "prompt_number": 13
    },
    {
     "cell_type": "markdown",
     "metadata": {},
     "source": [
      "### Expt w loading carbonyl stuff"
     ]
    },
    {
     "cell_type": "code",
     "collapsed": false,
     "input": [
      "# Here since the SERCA binding site is not a EF-Hand loop, so the original \"loopIndices\" option in the CarbonylDensityAnalysis is \n",
      "# invalid. \n",
      "# --Also, since only oxygens of amino acids are considered. we may also need check water distribution around Calcium\n",
      "import binfuncs as bf\n",
      "import numpy as np\n",
      "def CarbonylDensityAnalysis(case,idx=0,\\\n",
      "                            loopType=\"Ca2+ Site 1\",\n",
      "                            calIdx = 996,\n",
      "                            binMin=-1,\n",
      "                            binMax=-1,\n",
      "                            res = 0.5 # Angstroms\n",
      "                            ):\n",
      "    select_string='name=~\"O\" && ('\n",
      "    ## Make selection\n",
      "    for i, j in enumerate(residueIDs):\n",
      "        if i != len(residueIDs) - 1:\n",
      "            select_string = select_string + 'resid == ' + str(j) + '||'\n",
      "        else:\n",
      "            select_string = select_string + 'resid == ' + str(j) + ')&& !(resname == \"POPC\" || resname == \"TIP3\")'\n",
      "    print select_string\n",
      "            \n",
      "    \n",
      "    selAllOs = loos.selectAtoms(case.system,select_string)\n",
      "    # &&segid==\"PROA\"')\n",
      "    selCa = loos.selectAtoms(case.system,'name==\"CAL\"&& resid==%d'%(calIdx))\n",
      "    #print selAllOs\n",
      "\n",
      "    ## compute all distancers\n",
      "    nOs = selAllOs.size()\n",
      "    nTs = case.trajs[0].nframes()\n",
      "    #print \"nFrame \" , nTs\n",
      "    allDists = np.zeros((nOs,nTs))\n",
      "    ts = np.zeros(nTs)\n",
      "    for i in range(nOs):\n",
      "        selO = selAllOs.subset(i,1)\n",
      "        dists = pf.dodist(case,0,selO,selCa)\n",
      "        #print np.shape(dists)\n",
      "        allDists[i,:] = dists[0:nTs,1]\n",
      "        ts  = dists[0:nTs,0]\n",
      "      #  print selO\n",
      "\n",
      "    #myFile = \"case0idx%d_dists.txt\"%idx\n",
      "    #np.savetxt(myFile,allDists)\n",
      "    #myFile = \"case0idx%d_ts.txt\"%idx\n",
      "    #np.savetxt(myFile,ts)\n",
      "\n",
      "    ## get bounds for binning\n",
      "    if binMin<0:\n",
      "        binMin=np.floor(np.min(allDists))\n",
      "    if binMax<0:\n",
      "        binMax=np.ceil(np.max(allDists))\n",
      "    ## do binning for each O-Ca dist\n",
      "    zs=[]\n",
      "    for i in range(nOs):\n",
      "      grid_t,grid_r,z = bf.BinTimeSeries(allDists[i,:],binMin,binMax,res=res,plot=False)#plot=True)\n",
      "      zs.append(z)\n",
      "\n",
      "    ## display density\n",
      "    dummy=plotOxyDensity(grid_t,grid_r,zs,title=loopType)"
     ],
     "language": "python",
     "metadata": {},
     "outputs": [],
     "prompt_number": 14
    },
    {
     "cell_type": "code",
     "collapsed": false,
     "input": [
      "\n",
      "import matplotlib\n",
      "CarbonylDensityAnalysis(cases[0], idx=0, calIdx = 996)"
     ],
     "language": "python",
     "metadata": {},
     "outputs": [
      {
       "output_type": "stream",
       "stream": "stdout",
       "text": [
        "name=~\"O\" && (resid == 308||resid == 309||resid == 310||resid == 760||resid == 763||resid == 764||resid == 765||resid == 766||resid == 767||resid == 768||resid == 793||resid == 794||resid == 795||resid == 796||resid == 797||resid == 798||resid == 799||resid == 800||resid == 908||resid == 909||resid == 771)&& !(resname == \"POPC\" || resname == \"TIP3\")\n",
        "500"
       ]
      },
      {
       "output_type": "stream",
       "stream": "stdout",
       "text": [
        "\n",
        "500"
       ]
      },
      {
       "output_type": "stream",
       "stream": "stdout",
       "text": [
        "\n",
        "500"
       ]
      },
      {
       "output_type": "stream",
       "stream": "stdout",
       "text": [
        "\n",
        "500"
       ]
      },
      {
       "output_type": "stream",
       "stream": "stdout",
       "text": [
        "\n",
        "500"
       ]
      },
      {
       "output_type": "stream",
       "stream": "stdout",
       "text": [
        "\n",
        "500"
       ]
      },
      {
       "output_type": "stream",
       "stream": "stdout",
       "text": [
        "\n",
        "500"
       ]
      },
      {
       "output_type": "stream",
       "stream": "stdout",
       "text": [
        "\n",
        "500"
       ]
      },
      {
       "output_type": "stream",
       "stream": "stdout",
       "text": [
        "\n",
        "500"
       ]
      },
      {
       "output_type": "stream",
       "stream": "stdout",
       "text": [
        "\n",
        "500"
       ]
      },
      {
       "output_type": "stream",
       "stream": "stdout",
       "text": [
        "\n",
        "500"
       ]
      },
      {
       "output_type": "stream",
       "stream": "stdout",
       "text": [
        "\n",
        "500"
       ]
      },
      {
       "output_type": "stream",
       "stream": "stdout",
       "text": [
        "\n",
        "500"
       ]
      },
      {
       "output_type": "stream",
       "stream": "stdout",
       "text": [
        "\n",
        "500"
       ]
      },
      {
       "output_type": "stream",
       "stream": "stdout",
       "text": [
        "\n",
        "500"
       ]
      },
      {
       "output_type": "stream",
       "stream": "stdout",
       "text": [
        "\n",
        "500"
       ]
      },
      {
       "output_type": "stream",
       "stream": "stdout",
       "text": [
        "\n",
        "500"
       ]
      },
      {
       "output_type": "stream",
       "stream": "stdout",
       "text": [
        "\n",
        "500"
       ]
      },
      {
       "output_type": "stream",
       "stream": "stdout",
       "text": [
        "\n",
        "500"
       ]
      },
      {
       "output_type": "stream",
       "stream": "stdout",
       "text": [
        "\n",
        "500"
       ]
      },
      {
       "output_type": "stream",
       "stream": "stdout",
       "text": [
        "\n",
        "500"
       ]
      },
      {
       "output_type": "stream",
       "stream": "stdout",
       "text": [
        "\n",
        "500"
       ]
      },
      {
       "output_type": "stream",
       "stream": "stdout",
       "text": [
        "\n",
        "500"
       ]
      },
      {
       "output_type": "stream",
       "stream": "stdout",
       "text": [
        "\n",
        "500"
       ]
      },
      {
       "output_type": "stream",
       "stream": "stdout",
       "text": [
        "\n",
        "500"
       ]
      },
      {
       "output_type": "stream",
       "stream": "stdout",
       "text": [
        "\n",
        "500"
       ]
      },
      {
       "output_type": "stream",
       "stream": "stdout",
       "text": [
        "\n",
        "500"
       ]
      },
      {
       "output_type": "stream",
       "stream": "stdout",
       "text": [
        "\n",
        "500"
       ]
      },
      {
       "output_type": "stream",
       "stream": "stdout",
       "text": [
        "\n",
        "500"
       ]
      },
      {
       "output_type": "stream",
       "stream": "stdout",
       "text": [
        "\n",
        "500"
       ]
      },
      {
       "output_type": "stream",
       "stream": "stdout",
       "text": [
        "\n",
        "500"
       ]
      },
      {
       "output_type": "stream",
       "stream": "stdout",
       "text": [
        "\n",
        "500"
       ]
      },
      {
       "output_type": "stream",
       "stream": "stdout",
       "text": [
        "\n",
        "500"
       ]
      },
      {
       "output_type": "stream",
       "stream": "stdout",
       "text": [
        "\n",
        "500"
       ]
      },
      {
       "output_type": "stream",
       "stream": "stdout",
       "text": [
        "\n",
        "500"
       ]
      },
      {
       "output_type": "stream",
       "stream": "stdout",
       "text": [
        "\n"
       ]
      },
      {
       "metadata": {},
       "output_type": "display_data",
       "png": "[encoded data removed]",
       "text": [
        "<matplotlib.figure.Figure at 0x7f6983852590>"
       ]
      }
     ],
     "prompt_number": 15
    },
    {
     "cell_type": "code",
     "collapsed": false,
     "input": [
      "def plotOxyDensity(grid_t,grid_r,zs,title=\"NONE\"):\n",
      "  ylimLim = [0,7]\n",
      "  xlimLim = [0,12]\n",
      "  nCalCoord = 1.\n",
      "\n",
      "  scaleByCoordinationNumber=nCalCoord\n",
      "  ar = scaleByCoordinationNumber*np.sum(zs,axis=0)\n",
      "  font = {'weight' : 'bold',\n",
      "        'size'   : 12}\n",
      "  matplotlib.rc('font', **font)\n",
      "  # density plot\n",
      "  plt.subplot(211)\n",
      "  plt.title(title, **font)\n",
      "  plt.xlabel(\"Time (ns)\")\n",
      "  plt.ylabel(\"Ca/O dist ($\\AA$)\", **font)\n",
      "  plt.pcolormesh(grid_t/500.,grid_r,ar.transpose())\n",
      "  plt.colorbar()\n",
      "  plt.clim([0,7])\n",
      "\n",
      "  # histogram plot\n",
      "  plt.subplot(212)\n",
      "  histo=np.sum(ar,axis=1)\n",
      "  nTs  = np.shape(ar)[1]\n",
      "  plt.plot(grid_r[0,:],histo/nTs)\n",
      "  plt.ylabel(\"Oxygen Count\", **font)\n",
      "  plt.ylim(ylimLim)\n",
      "  plt.xlim(xlimLim)\n",
      "  plt.gcf().savefig(title+\".png\",dpi=300.)\n",
      "\n",
      "  # save data\n",
      "  l=np.mean(ar,axis=1) #Same as summing up and averaging over nTs.  See above.\n",
      "  s=np.std(ar,axis=1)\n",
      "  j=np.zeros([np.shape(l)[0],3])\n",
      "  j[:,0]=grid_r[0,:]\n",
      "  j[:,1]=l\n",
      "  j[:,2]=s\n",
      "\n",
      "  np.savetxt(title+\".txt\",j)\n",
      "  return ar\n"
     ],
     "language": "python",
     "metadata": {},
     "outputs": [],
     "prompt_number": 19
    },
    {
     "cell_type": "code",
     "collapsed": false,
     "input": [],
     "language": "python",
     "metadata": {},
     "outputs": []
    },
    {
     "cell_type": "code",
     "collapsed": false,
     "input": [
      "def plotAveOxyDensity(ofname1,ofname2,ofname3,ofname4,ofname5,ofname6,save,title=\"NONE\"):\n",
      " o1=np.loadtxt(ofname1,usecols=(0,1,2))\n",
      " o2=np.loadtxt(ofname2,usecols=(0,1,2))\n",
      " o3=np.loadtxt(ofname3,usecols=(0,1,2))\n",
      " o4=np.loadtxt(ofname4,usecols=(0,1,2))\n",
      " o5=np.loadtxt(ofname5,usecols=(0,1,2))\n",
      " o6=np.loadtxt(ofname6,usecols=(0,1,2))\n",
      "\n",
      " data1 = np.zeros([np.shape(o1)[0],3])\n",
      " data1[:,0] = o1[:,1]; data1[:,1] = o2[:,1]; data1[:,2] = o3[:,1]\n",
      " mean1 = np.mean(data1,axis=1)\n",
      " std1 = np.std(data1,axis=1)\n",
      "    \n",
      "    \n",
      " data2 = np.zeros([np.shape(o4)[0],3])\n",
      " data2[:,0] = o4[:,1]; data2[:,1] = o5[:,1]; data2[:,2] = o6[:,1]\n",
      " mean2 = np.mean(data2,axis=1)\n",
      " std2 = np.std(data2,axis=1)\n",
      " font = {'weight' : 'bold',\n",
      "        'size'   : 12}\n",
      " matplotlib.rc('font', **font)\n",
      " plt.errorbar(x=o1[:,0],y=mean1,yerr=std1,fmt='b-', label=\"Ca\")\n",
      " plt.errorbar(x=o4[:,0],y=mean2,yerr=std2,fmt='r-',label=\"Mg\")\n",
      " plt.ylim([0,7])\n",
      " plt.xlim([1.0,13])\n",
      " plt.legend(loc=0)\n",
      " plt.title(title, **font)\n",
      " plt.xlabel('Ion/Oxygen Distance ($\\AA$)', **font)\n",
      " plt.ylabel('Oxygen Count', **font)\n",
      " outFile=save+\".png\"\n",
      " plt.gcf().savefig(outFile, dpi=300)\n"
     ],
     "language": "python",
     "metadata": {},
     "outputs": [],
     "prompt_number": 3
    },
    {
     "cell_type": "code",
     "collapsed": false,
     "input": [
      "ofname1 = \"/net/share/anku223/mdjobsbpv/ANALYSIS_LEGIT/CAWT/CDA_CAWT_CD_1.txt\"\n",
      "ofname2 = \"/net/share/anku223/mdjobsbpv/ANALYSIS_LEGIT/CAWT/CDA_CAWT_CD_2.txt\"\n",
      "ofname3 = \"/net/share/anku223/mdjobsbpv/ANALYSIS_LEGIT/CAWT/CDA_CAWT_CD_3.txt\"\n",
      "ofname4 = \"/net/share/anku223/mdjobsbpv/MGWT_redo/CDA_MGCD_redo_1.txt\"\n",
      "ofname5 = \"/net/share/anku223/mdjobsbpv/MGWT_redo/CDA_MGCD_redo_2.txt\"\n",
      "ofname6 = \"/net/share/anku223/mdjobsbpv/MGWT_redo/CDA_MGCD_redo_3.txt\"\n",
      "\n",
      "plotAveOxyDensity(ofname1,ofname2,ofname3,ofname4,ofname5,ofname6,save=\"CDHAND_AV_RDF_CA_MG\",title=\"Averaged RDFs of Oxygen Around \\nCa or Mg in the CD site\")"
     ],
     "language": "python",
     "metadata": {},
     "outputs": [
      {
       "metadata": {},
       "output_type": "display_data",
       "png": "[encoded data removed]",
       "text": [
        "<matplotlib.figure.Figure at 0x7f83fa6d7c50>"
       ]
      }
     ],
     "prompt_number": 6
    },
    {
     "cell_type": "code",
     "collapsed": false,
     "input": [],
     "language": "python",
     "metadata": {},
     "outputs": []
    }
   ],
   "metadata": {}
  }
 ]
}