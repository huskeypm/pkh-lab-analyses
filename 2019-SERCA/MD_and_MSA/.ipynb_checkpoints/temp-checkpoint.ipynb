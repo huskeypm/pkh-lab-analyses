{
 "metadata": {
  "name": "",
  "signature": "sha256:edb4b3bc04a3e060de0904f3793a80b15e5ddeb96ed1fe913ad25f807b0d2fad"
 },
 "nbformat": 3,
 "nbformat_minor": 0,
 "worksheets": [
  {
   "cells": [
    {
     "cell_type": "code",
     "collapsed": false,
     "input": [
      "#import loos\n",
      "import sys\n",
      "import math\n",
      "#import PyTraj\n",
      "\n",
      "class empty:pass\n",
      "\n",
      "%load_ext autoreload\n",
      "%autoreload 2\n"
     ],
     "language": "python",
     "metadata": {},
     "outputs": [],
     "prompt_number": 1
    },
    {
     "cell_type": "code",
     "collapsed": false,
     "input": [
      "# add python path\n",
      "#sys.path.append(\"/home/AD/anku223/labscripts/efhands/\")\n",
      "import parvfuncs as pf\n",
      "\n"
     ],
     "language": "python",
     "metadata": {},
     "outputs": [],
     "prompt_number": 2
    },
    {
     "cell_type": "code",
     "collapsed": false,
     "input": [
      "#%cd /net/home/huskeypm/localTemp/parv/amber_holo/\n",
      "prefix = \"/net/share/anku223/mdjobsbpv/ANALYSIS_LEGIT/\" \n",
      "#caseName= \"WT\"\n",
      "#case= \"WT_holo_1\"\n",
      "#case= \"L85A_apo_1\"\n",
      "#case= \"L85A_holo_1\"\n",
      "#prefix = \"/home/AD/pmke226/localTemp/parv/xx/\"\n",
      "#runs = [\"1\",\"2\",\"3\"]  # expects all three triplicate runs to be available for apo/holo states\n",
      "# might consider http://matplotlib.org/1.2.1/examples/pylab_examples/dash_control.html\n",
      "#cols = [\"-\",\"-.\",\"--\"]\n",
      "\n",
      "cases = []\n",
      "caseNames = [\"WT_holo_amber\"] #,\"L85F\", \"L85A\"]\n",
      "\n",
      "# timing \n",
      "NS_PER_FRAME=0.002 # [ps/fr] Verified \n",
      "PTRAJ_DOWNSAMPLE = 10 # Verified \n",
      "FRAME_TO_TIME = NS_PER_FRAME * PTRAJ_DOWNSAMPLE\n",
      "\n",
      "\n",
      "#dbg\n",
      "runs = [\"1\",\"2\",\"3\"]\n",
      "#caseNames = [\"WT\"]\n",
      "\n",
      "\n",
      "\n",
      "for i, caseName in enumerate(caseNames):\n",
      "    #apo = empty()\n",
      "    #apo.dcdFile = prefix+caseName+\"_apo_amber_\"#+ runs + \".dcd\"\n",
      "    #apo.pdbFile = prefix+caseName+\"_apo_amber_\"#+ runs + \".pdb\"\n",
      "    #apo.col='b'\n",
      "    #apo.name = caseName+'_apo_'#+runs\n",
      "    #apo.frame_to_time = FRAME_TO_TIME\n",
      "    #print apo.pdbFile\n",
      "    #cases.append(apo)\n",
      "    \n",
      "    holo = empty()\n",
      "    holo.dcdFile = prefix+caseName+\"_\"#+ runs + \".dcd\"\n",
      "    holo.pdbFile = prefix+caseName+\"_\"#+ runs + \".pdb\"\n",
      "    holo.col='r'\n",
      "    holo.name = caseName+'_'#+runs\n",
      "    holo.frame_to_time = FRAME_TO_TIME\n",
      "    cases.append(holo)\n",
      "\n",
      "\n",
      "# hack\n",
      "#apos = cases[0::2]\n",
      "#holos = cases[1::2]\n",
      "    \n",
      "#cases = [apo, holo]\n",
      "\n",
      "\n",
      "pf.FRAME_TO_TIME = FRAME_TO_TIME\n",
      "#pf.cols = cols"
     ],
     "language": "python",
     "metadata": {},
     "outputs": [],
     "prompt_number": 15
    },
    {
     "cell_type": "code",
     "collapsed": false,
     "input": [
      "for i, case in enumerate(cases):\n",
      "    case.trajs = []\n",
      "    for j, run in enumerate(runs):\n",
      "        pdbFile = case.pdbFile+run+\".pdb\"\n",
      "        dcdFile = case.dcdFile+run+\".dcd\"\n",
      "        print \"Loading \" + dcdFile\n",
      "        case.system=loos.createSystem(pdbFile) # only loading once, since should be same across runs\n",
      "        traj=loos.createTrajectory(dcdFile,case.system)\n",
      "        case.trajs.append(traj)\n",
      "        print \"Frames for %s%s: %d\" %(case.name, run,traj.nframes())"
     ],
     "language": "python",
     "metadata": {},
     "outputs": [
      {
       "output_type": "stream",
       "stream": "stdout",
       "text": [
        "Loading /net/share/anku223/mdjobsbpv/ANALYSIS_LEGIT/WT_holo_amber_1.dcd\n",
        "Frames for WT_holo_amber_1: 50000\n",
        "Loading /net/share/anku223/mdjobsbpv/ANALYSIS_LEGIT/WT_holo_amber_2.dcd\n",
        "Frames for WT_holo_amber_2: 50000\n",
        "Loading /net/share/anku223/mdjobsbpv/ANALYSIS_LEGIT/WT_holo_amber_3.dcd\n",
        "Frames for WT_holo_amber_3: 50000"
       ]
      },
      {
       "output_type": "stream",
       "stream": "stdout",
       "text": [
        "\n"
       ]
      }
     ],
     "prompt_number": 16
    },
    {
     "cell_type": "markdown",
     "metadata": {},
     "source": [
      "### Expt w loading carbonyl stuff"
     ]
    },
    {
     "cell_type": "code",
     "collapsed": false,
     "input": [
      "import carbonylDensityAnalysis as cda\n",
      "import binfuncs as bf\n"
     ],
     "language": "python",
     "metadata": {},
     "outputs": [],
     "prompt_number": 5
    },
    {
     "cell_type": "code",
     "collapsed": false,
     "input": [
      "import carbonylDensityAnalysis as cda\n",
      "import binfuncs as bf\n",
      "\n",
      "for i, case in enumerate(cases):\n",
      "    for j, run in enumerate(runs):\n",
      "        idx = np.int(run)-1\n",
      "        plt.figure()\n",
      "        loopType=\"WT_pEF_run%d\"%idx\n",
      "        cda.CarbonylDensityAnalysis(case, idx=idx, calIdx = False, loopType=\"WT_pEF_run%d\"%idx,loopIndices=[51,62])\n",
      "        print loopType\n",
      "        "
     ],
     "language": "python",
     "metadata": {},
     "outputs": [
      {
       "ename": "SystemError",
       "evalue": "'finally' pops bad exception",
       "output_type": "pyerr",
       "traceback": [
        "\u001b[0;31m---------------------------------------------------------------------------\u001b[0m\n\u001b[0;31mSystemError\u001b[0m                               Traceback (most recent call last)",
        "\u001b[0;31mSystemError\u001b[0m: 'finally' pops bad exception"
       ]
      },
      {
       "metadata": {},
       "output_type": "display_data",
       "text": [
        "<matplotlib.figure.Figure at 0x7f5f6759d590>"
       ]
      }
     ],
     "prompt_number": 17
    },
    {
     "cell_type": "code",
     "collapsed": false,
     "input": [
      "def CarbonylDensityAnalysis(case,idx=0,\\\n",
      "                            loopType=\"cEF\",\n",
      "                            loopIndices=[88,99],\n",
      "                            calIdx = 109,\n",
      "                            binMin=-1,\n",
      "                            binMax=-1,\n",
      "                            res = 0.5 # Angstroms\n",
      "                            ):\n",
      "\n",
      "    ## Make selection\n",
      "    selAllOs = loos.selectAtoms(case.system,'name=~\"O\"&&(resid>=%d && resid<=%d)'%(loopIndices[0],loopIndices[1]))\\\n",
      "    # &&segid==\"PROA\"')\n",
      "    selCa = loos.selectAtoms(case.system,'name==\"CAL\"&& resid==%d'%(calIdx))\n",
      "    #print selAllOs\n",
      "\n",
      "    ## compute all distancers\n",
      "    nOs = selAllOs.size()\n",
      "    nTs = case.trajs[idx].nframes()\n",
      "    #print \"nFrame \" , nTs\n",
      "    allDists = np.zeros((nOs,nTs))\n",
      "    ts = np.zeros(nTs)\n",
      "    for i in range(nOs):\n",
      "        selO = selAllOs.subset(i,1)\n",
      "        dists = pf.dodist(case,idx,selO,selCa)\n",
      "        #print np.shape(dists)\n",
      "        allDists[i,:] = dists[0:nTs,1]\n",
      "        ts  = dists[0:nTs,0]\n",
      "      #  print selO\n",
      "\n",
      "    #myFile = \"case0idx%d_dists.txt\"%idx\n",
      "    #np.savetxt(myFile,allDists)\n",
      "    #myFile = \"case0idx%d_ts.txt\"%idx\n",
      "    #np.savetxt(myFile,ts)\n",
      "\n",
      "    ## get bounds for binning\n",
      "    if binMin<0:\n",
      "        binMin=np.floor(np.min(allDists))\n",
      "    if binMax<0:\n",
      "        binMax=np.ceil(np.max(allDists))\n",
      "\n",
      "    ## do binning for each O-Ca dist\n",
      "    zs=[]\n",
      "    for i in range(nOs):\n",
      "      grid_t,grid_r,z = bf.BinTimeSeries(allDists[i,:],binMin,binMax,res=res,plot=False)#plot=True)\n",
      "      zs.append(z)\n",
      "\n",
      "    ## display density\n",
      "    dummy=plotOxyDensity(grid_t,grid_r,zs,title=loopType)"
     ],
     "language": "python",
     "metadata": {},
     "outputs": [],
     "prompt_number": 18
    },
    {
     "cell_type": "code",
     "collapsed": false,
     "input": [
      "import carbonylDensityAnalysis as cda\n",
      "import binfuncs as bf\n",
      "\n",
      "for i, case in enumerate(cases):\n",
      "    for j, run in enumerate(runs):\n",
      "        idx = np.int(run)-1\n",
      "        plt.figure()\n",
      "        CarbonylDensityAnalysis(case, idx=idx, calIdx = 109, loopType=\"EF site of PV bound to Ca run %d\"%(idx+1),loopIndices=[90,101])"
     ],
     "language": "python",
     "metadata": {},
     "outputs": [
      {
       "output_type": "stream",
       "stream": "stdout",
       "text": [
        "50000\n",
        "50000"
       ]
      },
      {
       "output_type": "stream",
       "stream": "stdout",
       "text": [
        "\n",
        "50000"
       ]
      },
      {
       "output_type": "stream",
       "stream": "stdout",
       "text": [
        "\n",
        "50000"
       ]
      },
      {
       "output_type": "stream",
       "stream": "stdout",
       "text": [
        "\n",
        "50000"
       ]
      },
      {
       "output_type": "stream",
       "stream": "stdout",
       "text": [
        "\n",
        "50000"
       ]
      },
      {
       "output_type": "stream",
       "stream": "stdout",
       "text": [
        "\n",
        "50000"
       ]
      },
      {
       "output_type": "stream",
       "stream": "stdout",
       "text": [
        "\n",
        "50000"
       ]
      },
      {
       "output_type": "stream",
       "stream": "stdout",
       "text": [
        "\n",
        "50000"
       ]
      },
      {
       "output_type": "stream",
       "stream": "stdout",
       "text": [
        "\n",
        "50000"
       ]
      },
      {
       "output_type": "stream",
       "stream": "stdout",
       "text": [
        "\n",
        "50000"
       ]
      },
      {
       "output_type": "stream",
       "stream": "stdout",
       "text": [
        "\n",
        "50000"
       ]
      },
      {
       "output_type": "stream",
       "stream": "stdout",
       "text": [
        "\n",
        "50000"
       ]
      },
      {
       "output_type": "stream",
       "stream": "stdout",
       "text": [
        "\n",
        "50000"
       ]
      },
      {
       "output_type": "stream",
       "stream": "stdout",
       "text": [
        "\n",
        "50000"
       ]
      },
      {
       "output_type": "stream",
       "stream": "stdout",
       "text": [
        "\n",
        "50000"
       ]
      },
      {
       "output_type": "stream",
       "stream": "stdout",
       "text": [
        "\n",
        "50000"
       ]
      },
      {
       "output_type": "stream",
       "stream": "stdout",
       "text": [
        "\n",
        "50000"
       ]
      },
      {
       "output_type": "stream",
       "stream": "stdout",
       "text": [
        "\n",
        "50000"
       ]
      },
      {
       "output_type": "stream",
       "stream": "stdout",
       "text": [
        "\n",
        "50000"
       ]
      },
      {
       "output_type": "stream",
       "stream": "stdout",
       "text": [
        "\n",
        "50000"
       ]
      },
      {
       "output_type": "stream",
       "stream": "stdout",
       "text": [
        "\n",
        "50000"
       ]
      },
      {
       "output_type": "stream",
       "stream": "stdout",
       "text": [
        "\n",
        "50000"
       ]
      },
      {
       "output_type": "stream",
       "stream": "stdout",
       "text": [
        "\n",
        "50000"
       ]
      },
      {
       "output_type": "stream",
       "stream": "stdout",
       "text": [
        "\n",
        "50000"
       ]
      },
      {
       "output_type": "stream",
       "stream": "stdout",
       "text": [
        "\n",
        "50000"
       ]
      },
      {
       "output_type": "stream",
       "stream": "stdout",
       "text": [
        "\n",
        "50000"
       ]
      },
      {
       "output_type": "stream",
       "stream": "stdout",
       "text": [
        "\n",
        "50000"
       ]
      },
      {
       "output_type": "stream",
       "stream": "stdout",
       "text": [
        "\n",
        "50000"
       ]
      },
      {
       "output_type": "stream",
       "stream": "stdout",
       "text": [
        "\n",
        "50000"
       ]
      },
      {
       "output_type": "stream",
       "stream": "stdout",
       "text": [
        "\n",
        "50000"
       ]
      },
      {
       "output_type": "stream",
       "stream": "stdout",
       "text": [
        "\n",
        "50000"
       ]
      },
      {
       "output_type": "stream",
       "stream": "stdout",
       "text": [
        "\n",
        "50000"
       ]
      },
      {
       "output_type": "stream",
       "stream": "stdout",
       "text": [
        "\n",
        "50000"
       ]
      },
      {
       "output_type": "stream",
       "stream": "stdout",
       "text": [
        "\n",
        "50000"
       ]
      },
      {
       "output_type": "stream",
       "stream": "stdout",
       "text": [
        "\n",
        "50000"
       ]
      },
      {
       "output_type": "stream",
       "stream": "stdout",
       "text": [
        "\n",
        "50000"
       ]
      },
      {
       "output_type": "stream",
       "stream": "stdout",
       "text": [
        "\n",
        "50000"
       ]
      },
      {
       "output_type": "stream",
       "stream": "stdout",
       "text": [
        "\n",
        "50000"
       ]
      },
      {
       "output_type": "stream",
       "stream": "stdout",
       "text": [
        "\n",
        "50000"
       ]
      },
      {
       "output_type": "stream",
       "stream": "stdout",
       "text": [
        "\n",
        "50000"
       ]
      },
      {
       "output_type": "stream",
       "stream": "stdout",
       "text": [
        "\n",
        "50000"
       ]
      },
      {
       "output_type": "stream",
       "stream": "stdout",
       "text": [
        "\n",
        "50000"
       ]
      },
      {
       "output_type": "stream",
       "stream": "stdout",
       "text": [
        "\n",
        "50000"
       ]
      },
      {
       "output_type": "stream",
       "stream": "stdout",
       "text": [
        "\n",
        "50000"
       ]
      },
      {
       "output_type": "stream",
       "stream": "stdout",
       "text": [
        "\n",
        "50000"
       ]
      },
      {
       "output_type": "stream",
       "stream": "stdout",
       "text": [
        "\n",
        "50000"
       ]
      },
      {
       "output_type": "stream",
       "stream": "stdout",
       "text": [
        "\n",
        "50000"
       ]
      },
      {
       "output_type": "stream",
       "stream": "stdout",
       "text": [
        "\n",
        "50000"
       ]
      },
      {
       "output_type": "stream",
       "stream": "stdout",
       "text": [
        "\n",
        "50000"
       ]
      },
      {
       "output_type": "stream",
       "stream": "stdout",
       "text": [
        "\n",
        "50000"
       ]
      },
      {
       "output_type": "stream",
       "stream": "stdout",
       "text": [
        "\n",
        "50000"
       ]
      },
      {
       "output_type": "stream",
       "stream": "stdout",
       "text": [
        "\n",
        "50000"
       ]
      },
      {
       "output_type": "stream",
       "stream": "stdout",
       "text": [
        "\n",
        "50000"
       ]
      },
      {
       "output_type": "stream",
       "stream": "stdout",
       "text": [
        "\n",
        "50000"
       ]
      },
      {
       "output_type": "stream",
       "stream": "stdout",
       "text": [
        "\n",
        "50000"
       ]
      },
      {
       "output_type": "stream",
       "stream": "stdout",
       "text": [
        "\n",
        "50000"
       ]
      },
      {
       "output_type": "stream",
       "stream": "stdout",
       "text": [
        "\n",
        "50000"
       ]
      },
      {
       "output_type": "stream",
       "stream": "stdout",
       "text": [
        "\n",
        "50000"
       ]
      },
      {
       "output_type": "stream",
       "stream": "stdout",
       "text": [
        "\n",
        "50000"
       ]
      },
      {
       "output_type": "stream",
       "stream": "stdout",
       "text": [
        "\n",
        "50000"
       ]
      },
      {
       "output_type": "stream",
       "stream": "stdout",
       "text": [
        "\n",
        "50000"
       ]
      },
      {
       "output_type": "stream",
       "stream": "stdout",
       "text": [
        "\n",
        "50000"
       ]
      },
      {
       "output_type": "stream",
       "stream": "stdout",
       "text": [
        "\n",
        "50000"
       ]
      },
      {
       "output_type": "stream",
       "stream": "stdout",
       "text": [
        "\n",
        "50000"
       ]
      },
      {
       "output_type": "stream",
       "stream": "stdout",
       "text": [
        "\n",
        "50000"
       ]
      },
      {
       "output_type": "stream",
       "stream": "stdout",
       "text": [
        "\n",
        "50000"
       ]
      },
      {
       "output_type": "stream",
       "stream": "stdout",
       "text": [
        "\n",
        "50000"
       ]
      },
      {
       "output_type": "stream",
       "stream": "stdout",
       "text": [
        "\n",
        "50000"
       ]
      },
      {
       "output_type": "stream",
       "stream": "stdout",
       "text": [
        "\n"
       ]
      },
      {
       "metadata": {},
       "output_type": "display_data",
       "png": "[encoded data removed]",
       "text": [
        "<matplotlib.figure.Figure at 0x7f5fd4a70290>"
       ]
      },
      {
       "metadata": {},
       "output_type": "display_data",
       "png": "[encoded data removed]",
       "text": [
        "<matplotlib.figure.Figure at 0x7f5f64ffb850>"
       ]
      },
      {
       "metadata": {},
       "output_type": "display_data",
       "png": "[encoded data removed]",
       "text": [
        "<matplotlib.figure.Figure at 0x7f5fcc926fd0>"
       ]
      }
     ],
     "prompt_number": 20
    },
    {
     "cell_type": "code",
     "collapsed": false,
     "input": [
      "def plotOxyDensity(grid_t,grid_r,zs,title=\"NONE\"):\n",
      "  ylimLim = [0,7]\n",
      "  xlimLim = [0,12]\n",
      "  nCalCoord = 1.\n",
      "\n",
      "  scaleByCoordinationNumber=nCalCoord\n",
      "  ar = scaleByCoordinationNumber*np.sum(zs,axis=0)\n",
      "  font = {'weight' : 'bold',\n",
      "        'size'   : 12}\n",
      "  matplotlib.rc('font', **font)\n",
      "  # density plot\n",
      "  plt.subplot(211)\n",
      "  plt.title(title, **font)\n",
      "  plt.xlabel(\"Time (ns)\")\n",
      "  plt.ylabel(\"Ca/O dist ($\\AA$)\", **font)\n",
      "  plt.pcolormesh(grid_t/500.,grid_r,ar.transpose())\n",
      "  plt.colorbar()\n",
      "  plt.clim([0,7])\n",
      "\n",
      "  # histogram plot\n",
      "  plt.subplot(212)\n",
      "  histo=np.sum(ar,axis=1)\n",
      "  nTs  = np.shape(ar)[1]\n",
      "  plt.plot(grid_r[0,:],histo/nTs)\n",
      "  plt.ylabel(\"Oxygen Count\", **font)\n",
      "  plt.ylim(ylimLim)\n",
      "  plt.xlim(xlimLim)\n",
      "  plt.gcf().savefig(title+\".png\",dpi=300.)\n",
      "\n",
      "  # save data\n",
      "  l=np.mean(ar,axis=1) #Same as summing up and averaging over nTs.  See above.\n",
      "  s=np.std(ar,axis=1)\n",
      "  j=np.zeros([np.shape(l)[0],3])\n",
      "  j[:,0]=grid_r[0,:]\n",
      "  j[:,1]=l\n",
      "  j[:,2]=s\n",
      "\n",
      "  np.savetxt(title+\".txt\",j)\n",
      "  return ar\n"
     ],
     "language": "python",
     "metadata": {},
     "outputs": [],
     "prompt_number": 19
    },
    {
     "cell_type": "code",
     "collapsed": false,
     "input": [],
     "language": "python",
     "metadata": {},
     "outputs": []
    },
    {
     "cell_type": "code",
     "collapsed": false,
     "input": [
      "def plotAveOxyDensity(ofname1,ofname2,ofname3,ofname4,ofname5,ofname6,save,title=\"NONE\"):\n",
      " o1=np.loadtxt(ofname1,usecols=(0,1,2))\n",
      " o2=np.loadtxt(ofname2,usecols=(0,1,2))\n",
      " o3=np.loadtxt(ofname3,usecols=(0,1,2))\n",
      " o4=np.loadtxt(ofname4,usecols=(0,1,2))\n",
      " o5=np.loadtxt(ofname5,usecols=(0,1,2))\n",
      " o6=np.loadtxt(ofname6,usecols=(0,1,2))\n",
      "\n",
      " data1 = np.zeros([np.shape(o1)[0],3])\n",
      " data1[:,0] = o1[:,1]; data1[:,1] = o2[:,1]; data1[:,2] = o3[:,1]\n",
      " mean1 = np.mean(data1,axis=1)\n",
      " std1 = np.std(data1,axis=1)\n",
      "    \n",
      "    \n",
      " data2 = np.zeros([np.shape(o4)[0],3])\n",
      " data2[:,0] = o4[:,1]; data2[:,1] = o5[:,1]; data2[:,2] = o6[:,1]\n",
      " mean2 = np.mean(data2,axis=1)\n",
      " std2 = np.std(data2,axis=1)\n",
      " font = {'weight' : 'bold',\n",
      "        'size'   : 12}\n",
      " matplotlib.rc('font', **font)\n",
      " plt.errorbar(x=o1[:,0],y=mean1,yerr=std1,fmt='b-', label=\"Ca\")\n",
      " plt.errorbar(x=o4[:,0],y=mean2,yerr=std2,fmt='r-',label=\"Mg\")\n",
      " plt.ylim([0,7])\n",
      " plt.xlim([1.0,13])\n",
      " plt.legend(loc=0)\n",
      " plt.title(title, **font)\n",
      " plt.xlabel('Ion/Oxygen Distance ($\\AA$)', **font)\n",
      " plt.ylabel('Oxygen Count', **font)\n",
      " outFile=save+\".png\"\n",
      " plt.gcf().savefig(outFile, dpi=300)\n"
     ],
     "language": "python",
     "metadata": {},
     "outputs": [],
     "prompt_number": 3
    },
    {
     "cell_type": "code",
     "collapsed": false,
     "input": [
      "ofname1 = \"/net/share/anku223/mdjobsbpv/ANALYSIS_LEGIT/CAWT/CDA_CAWT_CD_1.txt\"\n",
      "ofname2 = \"/net/share/anku223/mdjobsbpv/ANALYSIS_LEGIT/CAWT/CDA_CAWT_CD_2.txt\"\n",
      "ofname3 = \"/net/share/anku223/mdjobsbpv/ANALYSIS_LEGIT/CAWT/CDA_CAWT_CD_3.txt\"\n",
      "ofname4 = \"/net/share/anku223/mdjobsbpv/MGWT_redo/CDA_MGCD_redo_1.txt\"\n",
      "ofname5 = \"/net/share/anku223/mdjobsbpv/MGWT_redo/CDA_MGCD_redo_2.txt\"\n",
      "ofname6 = \"/net/share/anku223/mdjobsbpv/MGWT_redo/CDA_MGCD_redo_3.txt\"\n",
      "\n",
      "plotAveOxyDensity(ofname1,ofname2,ofname3,ofname4,ofname5,ofname6,save=\"CDHAND_AV_RDF_CA_MG\",title=\"Averaged RDFs of Oxygen Around \\nCa or Mg in the CD site\")"
     ],
     "language": "python",
     "metadata": {},
     "outputs": [
      {
       "metadata": {},
       "output_type": "display_data",
       "png": "[encoded data removed]",
       "text": [
        "<matplotlib.figure.Figure at 0x7f83fa6d7c50>"
       ]
      }
     ],
     "prompt_number": 6
    },
    {
     "cell_type": "code",
     "collapsed": false,
     "input": [],
     "language": "python",
     "metadata": {},
     "outputs": []
    }
   ],
   "metadata": {}
  }
 ]
}