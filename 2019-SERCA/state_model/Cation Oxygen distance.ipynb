{
 "cells": [
  {
   "cell_type": "code",
   "execution_count": 7,
   "metadata": {},
   "outputs": [],
   "source": [
    "# get Cation-oxygen distance derived from MD simulations\n",
    "\n",
    "import numpy as np"
   ]
  },
  {
   "cell_type": "code",
   "execution_count": 8,
   "metadata": {},
   "outputs": [],
   "source": [
    "filedirectory =\"/net/share/bsu233/bdsSERCA/K/run1/ca-o-distance/Kdis\"\n",
    "\n",
    "data = np.loadtxt(filedirectory,comments=\"#\")"
   ]
  },
  {
   "cell_type": "code",
   "execution_count": 9,
   "metadata": {},
   "outputs": [
    {
     "name": "stdout",
     "output_type": "stream",
     "text": [
      "8\n"
     ]
    }
   ],
   "source": [
    "print (np.shape(data)[1])\n",
    "cases=[\"771oe1\",\"771oe2\",\"800od1\",\"800od2\",\"305o\",\"799og1\",\"768od1\"] #WT Ca1\n",
    "\n",
    "#cases=[\"309oe1\",\"309oe2\",\"58oe1\",\"58oe2\",\"304o\",\"800od1\",\"800od2\",\"307o\",\"796od1\"] #WT Ca2\n",
    "\n",
    "#cases=[\"305o\",\"796od1\",\"771oe1\",\"771oe2\",\"768od1\",\"800od1\",\"800od2\"] #WT Mg\n",
    "\n"
   ]
  },
  {
   "cell_type": "code",
   "execution_count": 10,
   "metadata": {},
   "outputs": [
    {
     "name": "stdout",
     "output_type": "stream",
     "text": [
      "771oe1 2.99939866 0.712802888838285\n",
      "771oe2 2.9891866599999997 0.6898814768755894\n",
      "800od1 4.33823796 1.713694390422936\n",
      "800od2 3.9973979000000006 1.7967503679525405\n",
      "305o 6.60827638 0.666512465788972\n",
      "799og1 2.8172248 0.2859047668034935\n",
      "768od1 6.476278440000001 1.7353243838738526\n"
     ]
    }
   ],
   "source": [
    "for i in np.arange(np.shape(data)[1]-1):\n",
    "    print (cases[i],np.mean(data[:,i+1]),np.std(data[:,i+1]))"
   ]
  },
  {
   "cell_type": "code",
   "execution_count": null,
   "metadata": {},
   "outputs": [],
   "source": []
  }
 ],
 "metadata": {
  "kernelspec": {
   "display_name": "Python 3",
   "language": "python",
   "name": "python3"
  },
  "language_info": {
   "codemirror_mode": {
    "name": "ipython",
    "version": 3
   },
   "file_extension": ".py",
   "mimetype": "text/x-python",
   "name": "python",
   "nbconvert_exporter": "python",
   "pygments_lexer": "ipython3",
   "version": "3.6.4"
  }
 },
 "nbformat": 4,
 "nbformat_minor": 2
}
