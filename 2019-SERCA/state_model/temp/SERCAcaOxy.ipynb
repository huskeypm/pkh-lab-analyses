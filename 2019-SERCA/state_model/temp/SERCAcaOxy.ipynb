{
 "metadata": {
  "name": "",
  "signature": "sha256:af0532422ac58cd40a63af10e9fae65a93005dbe4d372227f85140fe446147d1"
 },
 "nbformat": 3,
 "nbformat_minor": 0,
 "worksheets": [
  {
   "cells": [
    {
     "cell_type": "code",
     "collapsed": false,
     "input": [
      "import loos\n",
      "import sys\n",
      "import math\n",
      "import PyTraj\n",
      "import carbonylDensityAnalysis as cda\n",
      "import binfuncs as bf\n",
      "\n",
      "class empty:pass\n",
      "\n",
      "# autoreload modules \n",
      "%load_ext autoreload\n",
      "%autoreload 2"
     ],
     "language": "python",
     "metadata": {},
     "outputs": [],
     "prompt_number": 1
    },
    {
     "cell_type": "code",
     "collapsed": false,
     "input": [
      "prefix = \"/home/AD/bdst227/namd-ca-lipid/analysis/\"\n",
      "cols = [\"-\",\"-.\",\"--\"]\n",
      "\n",
      "cases = []\n",
      "caseNames = [\"1SU4_Ca_10\"]\n",
      "\n",
      "# timing \n",
      "NS_PER_FRAME = 0.002 # [ns/fr] Verified \n",
      "PTRAJ_DOWNSAMPLE = 1 # Verified \n",
      "FRAME_TO_TIME = NS_PER_FRAME * PTRAJ_DOWNSAMPLE\n",
      "\n",
      "runs = [\"1\"]\n",
      "\n",
      "for i, caseName in enumerate(caseNames):\n",
      "        \n",
      "    holo = empty()\n",
      "#    holo.dcdFile = prefix+caseName#+\"7.2_production\"#+ run + \".dcd\"\n",
      "    holo.pdbFile = prefix+caseName#+\"5_assembly\"#+ run + \".pdb\"\n",
      "    holo.col='r'\n",
      "    holo.name = caseName#+run\n",
      "    holo.frame_to_time = FRAME_TO_TIME\n",
      "    cases.append(holo)\n",
      "\n",
      "# hack\n",
      "#apos = cases[0::2]\n",
      "holos = cases[:]\n",
      "\n",
      "import parvfuncs as pf\n",
      "pf.FRAME_TO_TIME = FRAME_TO_TIME\n",
      "pf.cols = cols"
     ],
     "language": "python",
     "metadata": {},
     "outputs": [],
     "prompt_number": 2
    },
    {
     "cell_type": "code",
     "collapsed": false,
     "input": [
      "for i, case in enumerate(cases):\n",
      "    case.trajs = []\n",
      "    #for j, run in enumerate(runs):\n",
      "    pdbFile = case.pdbFile+\".pdb\"\n",
      "#    dcdFile = case.dcdFile+\".dcd\"\n",
      "    print \"Loading \" + pdbFile\n",
      "    case.system=loos.createSystem(pdbFile) # only loading once, since should be same across runs\n",
      "    traj=loos.createTrajectory(pdbFile,case.system)\n",
      "    case.trajs.append(traj)\n",
      "    print \"Frames for %s: %d\" %(case.name,traj.nframes())"
     ],
     "language": "python",
     "metadata": {},
     "outputs": [
      {
       "output_type": "stream",
       "stream": "stdout",
       "text": [
        "Loading /home/AD/bdst227/namd-ca-lipid/analysis/1SU4_Ca_10.pdb\n",
        "Frames for 1SU4_Ca_10: 1\n"
       ]
      }
     ],
     "prompt_number": 3
    },
    {
     "cell_type": "code",
     "collapsed": false,
     "input": [
      "def CarbonylDensityAnalysis_BS(case,idx=0,\\\n",
      "                            loopType = \"cEF\", \n",
      "                            calIdx = 109,\n",
      "                            binMin=-1,\n",
      "                            binMax=-1,\n",
      "                            res = 0.5, # Angstroms\n",
      "                            timeStepMax = None\n",
      "                            ):\n",
      "\n",
      "    ## Make selection\n",
      "    selAllOs = loos.selectAtoms(case.system,'name=~\"O\"') # &&segid==\"PROA\"')\n",
      "    selCa = loos.selectAtoms(case.system,'name==\"CA\"&& resid==%d'%(calIdx))\n",
      "    #print selAllOs\n",
      "\n",
      "    ## compute all distancers\n",
      "    nOs = selAllOs.size()\n",
      "    if timeStepMax==None:\n",
      "      nTs = case.trajs[idx].nframes()\n",
      "    else:\n",
      "      nTs = timeStepMax\n",
      "      # use value passed in\n",
      "        \n",
      "    #print \"nFrame \" , nTs\n",
      "    allDists = np.zeros((nOs,nTs))\n",
      "    ts = np.zeros(nTs)\n",
      "    coordinating=[]\n",
      "    for i in range(nOs):\n",
      "        selO = selAllOs.subset(i,1)\n",
      "        dists = pf.dodist(case,idx,selO,selCa)\n",
      "       # print np.shape(dists)\n",
      "        allDists[i,:] = dists[0:nTs,1] \n",
      "        ts  = dists[0:nTs,0]\n",
      "        \n",
      "     #   singleDist = allDists[i,-1]\n",
      "     #   if singleDist < 3.0:\n",
      "     #     coordinating.append(i)  \n",
      "     #     print \"im coordinating at %f/%s Ang\"%(singleDist,\"cat\")\n",
      "     #     print selO\n",
      "       # print allDists[i,:]\n",
      "    \n",
      "    #myFile = \"case0idx%d_dists.txt\"%idx\n",
      "    #np.savetxt(myFile,allDists)\n",
      "    #myFile = \"case0idx%d_ts.txt\"%idx\n",
      "    #np.savetxt(myFile,ts)\n",
      "\n",
      "    ## get bounds for binning \n",
      "    if binMin<0:\n",
      "        binMin=np.floor(np.min(allDists))\n",
      "    if binMax<0:\n",
      "        binMax=np.ceil(np.max(allDists))\n",
      "\n",
      "    ## do binning for each O-Ca dist\n",
      "    zs=[]\n",
      "    zCs=[]\n",
      "    for i in range(nOs):\n",
      "      grid_t,grid_r,z = BinTimeSeries_BS(allDists[i,:],binMin,binMax,res=res,plot=False)#plot=True)\n",
      "      zs.append(z)\n",
      "        \n",
      "      # debug \n",
      "   #   if i in coordinating:  \n",
      "   #     grid_t,grid_r,z = BinTimeSeries_BS(allDists[i,:],binMin,binMax,res=res,plot=True)\n",
      "   #     zCs.append(z)\n",
      "\n",
      "           \n",
      "    ## display density \n",
      "    dummy=plotOxyDensity_BS(grid_t,grid_r,zs,title=loopType)\n",
      "\n",
      "    return grid_t,grid_r,zCs    \n",
      " \n"
     ],
     "language": "python",
     "metadata": {},
     "outputs": [],
     "prompt_number": 4
    },
    {
     "cell_type": "code",
     "collapsed": false,
     "input": [
      "def BinTimeSeries_BS(data,binMin,binMax,res=1.,plot=True):\n",
      "    \n",
      "    # define bins \n",
      "    nBins = np.int((1/res)*(binMax-binMin)+1)\n",
      "    bins = (np.linspace(binMin, binMax, nBins))\n",
      "    #print \"bins: \" , bins\n",
      "\n",
      "    \n",
      "    #digitize into bins \n",
      "    digitized = np.digitize(data, bins)\n",
      "\n",
      "    # create 2D matrix of bin versus time\n",
      "    nTs = np.shape(data)[0]\n",
      "    z=np.zeros((nBins,nTs))\n",
      "    for i in range(nBins):\n",
      "      z[i,np.where(digitized==i)]=1\n",
      "\n",
      "    # create 2D coordinates and plot\n",
      "    grid_t,grid_r = np.mgrid[0:(nTs-1):(nTs*1j),binMin:binMax:(nBins*1j)]\n",
      "    #np.shape(grid_x)\n",
      "    #pcolormesh(z)\n",
      "    if plot:\n",
      "      plt.figure()\n",
      "      plt.pcolormesh(grid_t,grid_r,z.transpose())\n",
      "    return grid_t,grid_r,z\n"
     ],
     "language": "python",
     "metadata": {},
     "outputs": [],
     "prompt_number": 5
    },
    {
     "cell_type": "code",
     "collapsed": false,
     "input": [
      "def plotOxyDensity_BS(grid_t, grid_r, zs, title = \"NONE\",nCalCoord = 7.,ylimMax=1.):\n",
      "      xlimLim = [0,12]\n",
      "      \n",
      "      print nCalCoord\n",
      "      scaleByCoordinationNumber = 1 / nCalCoord\n",
      "      ylimLim = [0,ylimMax]\n",
      "  \n",
      "      ar = scaleByCoordinationNumber * np.sum(zs,axis=0)\n",
      "\n",
      "      \n",
      "        \n",
      "      # density plot \n",
      "      plt.subplot(211)\n",
      "      plt.title(title)\n",
      "      plt.xlabel(\"TS\")\n",
      "      plt.ylabel(\"Mg/O dist [A]\")\n",
      "      plt.pcolormesh(grid_t,grid_r,ar.transpose())\n",
      "      plt.colorbar()\n",
      "      plt.clim([0,ylimMax])\n",
      "\n",
      "      # histogram plot\n",
      "      plt.subplot(212)\n",
      "      histo = np.sum(ar,axis=1)\n",
      "      nTs  = np.shape(ar)[1]\n",
      "      temporalAvg = histo/nTs  \n",
      "      plt.plot(grid_r[0,:],temporalAvg)\n",
      "      plt.ylim(ylimLim)\n",
      "      plt.xlim(xlimLim)\n",
      "      plt.gcf().savefig(title + \".png\")\n",
      "\n",
      "      # save data \n",
      "      l = np.mean(ar,axis=1) #Same as summing up and averaging over nTs.  See above.\n",
      "      s = np.std(ar,axis=1)\n",
      "      j = np.zeros([np.shape(l)[0],3])\n",
      "      j[:,0] = grid_r[0,:]\n",
      "      j[:,1] = l\n",
      "      j[:,2] = s\n",
      "\n",
      "      np.savetxt(title + \".txt\",j)\n",
      "      return ar"
     ],
     "language": "python",
     "metadata": {},
     "outputs": [],
     "prompt_number": 6
    },
    {
     "cell_type": "code",
     "collapsed": false,
     "input": [
      "for i, case in enumerate(cases):\n",
      "    for j, run in enumerate(runs):\n",
      "        idx = np.int(run)-1\n",
      "        plt.figure()\n",
      "        CarbonylDensityAnalysis_BS(case, idx=idx, loopType=\"Ca1 to Oxy distance in run 1\", calIdx = 995, binMax=15)"
     ],
     "language": "python",
     "metadata": {},
     "outputs": [
      {
       "output_type": "stream",
       "stream": "stdout",
       "text": [
        "1\n",
        "1\n",
        "1\n",
        "1\n",
        "1\n",
        "1\n",
        "1\n",
        "1\n",
        "1\n",
        "1"
       ]
      },
      {
       "output_type": "stream",
       "stream": "stdout",
       "text": [
        "\n",
        "1\n",
        "1\n",
        "1\n",
        "1\n",
        "1\n",
        "1\n",
        "1\n",
        "1\n",
        "1\n",
        "1\n",
        "1"
       ]
      },
      {
       "output_type": "stream",
       "stream": "stdout",
       "text": [
        "\n",
        "1\n",
        "1\n",
        "1\n",
        "1\n",
        "1\n",
        "1\n",
        "1\n",
        "1\n",
        "1\n",
        "1\n",
        "1\n",
        "1\n",
        "1"
       ]
      },
      {
       "output_type": "stream",
       "stream": "stdout",
       "text": [
        "\n",
        "1\n",
        "1\n",
        "1\n",
        "1\n",
        "1\n",
        "1\n",
        "1\n",
        "1\n",
        "1\n",
        "1\n",
        "1\n",
        "1\n",
        "1"
       ]
      },
      {
       "output_type": "stream",
       "stream": "stdout",
       "text": [
        "\n",
        "1\n",
        "1\n",
        "1\n",
        "1\n",
        "1\n",
        "1\n",
        "1"
       ]
      },
      {
       "output_type": "stream",
       "stream": "stdout",
       "text": [
        "\n",
        "1\n",
        "1\n",
        "1\n",
        "1\n",
        "1\n",
        "1\n",
        "1\n",
        "1\n",
        "1\n",
        "1"
       ]
      },
      {
       "output_type": "stream",
       "stream": "stdout",
       "text": [
        "\n",
        "1\n",
        "1\n",
        "1\n",
        "1\n",
        "1\n",
        "1\n",
        "1\n",
        "1\n",
        "1\n",
        "1\n",
        "1\n",
        "1"
       ]
      },
      {
       "output_type": "stream",
       "stream": "stdout",
       "text": [
        "\n",
        "1\n",
        "1\n",
        "1\n",
        "1\n",
        "1\n",
        "1\n",
        "1\n",
        "1\n",
        "7.0"
       ]
      },
      {
       "output_type": "stream",
       "stream": "stdout",
       "text": [
        "\n"
       ]
      },
      {
       "metadata": {},
       "output_type": "display_data",
       "png": "[encoded data removed]",
       "text": [
        "<matplotlib.figure.Figure at 0x7f11c0cff950>"
       ]
      }
     ],
     "prompt_number": 7
    },
    {
     "cell_type": "code",
     "collapsed": false,
     "input": [
      "for i, case in enumerate(cases):\n",
      "    for j, run in enumerate(runs):\n",
      "        idx = np.int(run)-1\n",
      "        plt.figure()\n",
      "        CarbonylDensityAnalysis_BS(case, idx=idx, loopType=\"Ca2 to Oxy distance in run 1\", calIdx = 996, binMax=15)"
     ],
     "language": "python",
     "metadata": {},
     "outputs": [
      {
       "output_type": "stream",
       "stream": "stdout",
       "text": [
        "1\n",
        "1\n",
        "1\n",
        "1\n",
        "1\n",
        "1\n",
        "1\n",
        "1\n",
        "1\n",
        "1"
       ]
      },
      {
       "output_type": "stream",
       "stream": "stdout",
       "text": [
        "\n",
        "1\n",
        "1\n",
        "1\n",
        "1\n",
        "1\n",
        "1\n",
        "1\n",
        "1\n",
        "1\n",
        "1\n",
        "1"
       ]
      },
      {
       "output_type": "stream",
       "stream": "stdout",
       "text": [
        "\n",
        "1\n",
        "1\n",
        "1\n",
        "1\n",
        "1\n",
        "1\n",
        "1\n",
        "1\n",
        "1\n",
        "1\n",
        "1\n",
        "1\n",
        "1"
       ]
      },
      {
       "output_type": "stream",
       "stream": "stdout",
       "text": [
        "\n",
        "1\n",
        "1\n",
        "1\n",
        "1\n",
        "1\n",
        "1\n",
        "1\n",
        "1\n",
        "1\n",
        "1\n",
        "1\n",
        "1\n",
        "1"
       ]
      },
      {
       "output_type": "stream",
       "stream": "stdout",
       "text": [
        "\n",
        "1\n",
        "1\n",
        "1\n",
        "1\n",
        "1\n",
        "1\n",
        "1\n",
        "1\n",
        "1\n",
        "1\n",
        "1\n",
        "1\n",
        "1"
       ]
      },
      {
       "output_type": "stream",
       "stream": "stdout",
       "text": [
        "\n",
        "1\n",
        "1\n",
        "1\n",
        "1\n",
        "1\n",
        "1\n",
        "1\n",
        "1\n",
        "1\n",
        "1\n",
        "1\n",
        "1\n",
        "1"
       ]
      },
      {
       "output_type": "stream",
       "stream": "stdout",
       "text": [
        "\n",
        "1\n",
        "1\n",
        "1\n",
        "1\n",
        "1\n",
        "1\n",
        "1\n",
        "1\n",
        "1\n",
        "1\n",
        "1\n",
        "7.0"
       ]
      },
      {
       "output_type": "stream",
       "stream": "stdout",
       "text": [
        "\n"
       ]
      },
      {
       "metadata": {},
       "output_type": "display_data",
       "png": "[encoded data removed]",
       "text": [
        "<matplotlib.figure.Figure at 0x7f11c0228f10>"
       ]
      }
     ],
     "prompt_number": 8
    },
    {
     "cell_type": "code",
     "collapsed": false,
     "input": [],
     "language": "python",
     "metadata": {},
     "outputs": []
    }
   ],
   "metadata": {}
  }
 ]
}