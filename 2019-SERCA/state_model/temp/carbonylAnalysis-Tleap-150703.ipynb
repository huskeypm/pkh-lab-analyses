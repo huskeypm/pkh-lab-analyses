{
 "metadata": {
  "name": "",
  "signature": "sha256:42112a4324225d87db1caa27b493373268aa7560c7e131f5ee18ffb0cd1e4ee7"
 },
 "nbformat": 3,
 "nbformat_minor": 0,
 "worksheets": [
  {
   "cells": [
    {
     "cell_type": "code",
     "collapsed": false,
     "input": [
      "import loos\n",
      "import sys\n",
      "import math\n",
      "import PyTraj\n",
      "\n",
      "class empty:pass\n",
      "\n",
      "%load_ext autoreload\n",
      "%autoreload 2"
     ],
     "language": "python",
     "metadata": {},
     "outputs": [],
     "prompt_number": 2
    },
    {
     "cell_type": "code",
     "collapsed": false,
     "input": [
      "# add python path\n",
      "sys.path.append(\"/home/AD/cesc235/labscripts/parvalbumin/\")\n",
      "import parvfuncs as pf\n"
     ],
     "language": "python",
     "metadata": {},
     "outputs": [],
     "prompt_number": 3
    },
    {
     "cell_type": "code",
     "collapsed": false,
     "input": [
      "font = {'weight' : 'bold',\n",
      "        'size'   : 12}\n",
      "matplotlib.rc('font', **font)"
     ],
     "language": "python",
     "metadata": {},
     "outputs": [],
     "prompt_number": 4
    },
    {
     "cell_type": "code",
     "collapsed": false,
     "input": [
      "#%cd /net/home/huskeypm/localTemp/parv/amber_holo/\n",
      "prefix = \"/u1/cesc235/analysis/tleap/full-holo/full-traj-141215/\"\n",
      "#caseName= \"WT\"\n",
      "#case= \"WT_holo_1\"\n",
      "#case= \"L85A_apo_1\"\n",
      "#case= \"L85A_holo_1\"\n",
      "#prefix = \"/home/AD/pmke226/localTemp/parv/xx/\"\n",
      "runs = [\"2\"]#,\"2\",\"3\"]  # expects all three triplicate runs to be available for apo/holo states\n",
      "# might consider http://matplotlib.org/1.2.1/examples/pylab_examples/dash_control.html\n",
      "cols = [\"-\",\"-.\",\"--\"]\n",
      "\n",
      "cases = []\n",
      "case=\"WT_holo_2LP3_\"\n",
      "caseNames = [\"2\"]#,\"L85F\", \"L85A\"]\n",
      "\n",
      "# timing \n",
      "NS_PER_FRAME=0.002 # [ps/fr] Verified \n",
      "PTRAJ_DOWNSAMPLE = 1 # Verified, was 10 \n",
      "FRAME_TO_TIME = NS_PER_FRAME * PTRAJ_DOWNSAMPLE\n",
      "\n",
      "\n",
      "#dbg\n",
      "#runs = [\"1\",\"2\",\"3\"]\n",
      "#caseNames = [\"WT\"]\n",
      "\n",
      "for i, caseName in enumerate(caseNames):\n",
      " \n",
      "    holo = empty()\n",
      "    holo.dcdFile = prefix+case+caseName#+ run + \".dcd\"\n",
      "    #holo.pdbFile = prefix+caseName+\"_holo_2LP3_\"#+ run + \".pdb\"\n",
      "    holo.pdbFile = \"first\" #+runs+\".pdb\"\n",
      "    holo.aligned=\"alignedCA_A\" \n",
      "    holo.col='r'\n",
      "    holo.name = case+\" \"+caseName#+run\n",
      "    holo.frame_to_time = FRAME_TO_TIME\n",
      "    cases.append(holo)\n",
      "\n",
      "\n",
      "# hack\n",
      "#apos = cases[0::2]\n",
      "\n",
      "holos = cases[0::1]   \n",
      "#cases = [apo, holo]\n",
      "\n",
      "\n",
      "pf.FRAME_TO_TIME = FRAME_TO_TIME\n",
      "pf.cols = cols\n",
      "\n",
      "import binfuncs as bf"
     ],
     "language": "python",
     "metadata": {},
     "outputs": [],
     "prompt_number": 91
    },
    {
     "cell_type": "code",
     "collapsed": false,
     "input": [
      "for i, case in enumerate(cases):\n",
      "    case.trajs = []\n",
      "    for j, run in enumerate(runs):\n",
      "        pdbFile = case.dcdFile+\"/\"+case.pdbFile+\".pdb\"\n",
      "        dcdFile = case.dcdFile+\"/\"+case.aligned+\".dcd\"\n",
      "        print \"Loading \" + dcdFile\n",
      "        print \"Loading \" + pdbFile\n",
      "        case.system=loos.createSystem(pdbFile) # only loading once, since should be same across runs\n",
      "        traj=loos.createTrajectory(dcdFile,case.system)\n",
      "        case.trajs.append(traj)\n",
      "        print \"Frames for %s: %d\" %(case.name, traj.nframes())"
     ],
     "language": "python",
     "metadata": {},
     "outputs": [
      {
       "output_type": "stream",
       "stream": "stdout",
       "text": [
        "Loading /u1/cesc235/analysis/tleap/full-holo/full-traj-141215/WT_holo_2LP3_2/alignedCA_A.dcd\n",
        "Loading /u1/cesc235/analysis/tleap/full-holo/full-traj-141215/WT_holo_2LP3_2/first.pdb\n",
        "Frames for WT_holo_2LP3_ 2: 50000\n"
       ]
      }
     ],
     "prompt_number": 92
    },
    {
     "cell_type": "heading",
     "level": 1,
     "metadata": {},
     "source": [
      "Back-bone Carbonyls"
     ]
    },
    {
     "cell_type": "heading",
     "level": 5,
     "metadata": {},
     "source": [
      "Chain A canonical EF"
     ]
    },
    {
     "cell_type": "code",
     "collapsed": false,
     "input": [
      "case = holos[0]\n",
      "idx = 1\n",
      "selAllOs = loos.selectAtoms(case.system,'name==\"O\"&&(resid>=62&&resid<=73)')\n",
      "selCa = loos.selectAtoms(case.system,'name==\"CA\"&& resid==188')\n",
      "nOs = selAllOs.size()\n",
      "nTs = 50000\n",
      "allDists = np.zeros((nOs,nTs))\n",
      "ts = np.zeros(nTs)\n",
      "for i in range(nOs):\n",
      "    run=idx-1\n",
      "    selO = selAllOs.subset(i,1)\n",
      "    dists = pf.dodist(case,run,selO,selCa)\n",
      "    allDists[i,:] = dists[:,1]\n",
      "    ts  = dists[:,0]"
     ],
     "language": "python",
     "metadata": {},
     "outputs": [
      {
       "output_type": "stream",
       "stream": "stdout",
       "text": [
        "50000\n",
        "50000"
       ]
      },
      {
       "output_type": "stream",
       "stream": "stdout",
       "text": [
        "\n",
        "50000"
       ]
      },
      {
       "output_type": "stream",
       "stream": "stdout",
       "text": [
        "\n",
        "50000"
       ]
      },
      {
       "output_type": "stream",
       "stream": "stdout",
       "text": [
        "\n",
        "50000"
       ]
      },
      {
       "output_type": "stream",
       "stream": "stdout",
       "text": [
        "\n",
        "50000"
       ]
      },
      {
       "output_type": "stream",
       "stream": "stdout",
       "text": [
        "\n",
        "50000"
       ]
      },
      {
       "output_type": "stream",
       "stream": "stdout",
       "text": [
        "\n",
        "50000"
       ]
      },
      {
       "output_type": "stream",
       "stream": "stdout",
       "text": [
        "\n",
        "50000"
       ]
      },
      {
       "output_type": "stream",
       "stream": "stdout",
       "text": [
        "\n",
        "50000"
       ]
      },
      {
       "output_type": "stream",
       "stream": "stdout",
       "text": [
        "\n",
        "50000"
       ]
      },
      {
       "output_type": "stream",
       "stream": "stdout",
       "text": [
        "\n",
        "50000"
       ]
      },
      {
       "output_type": "stream",
       "stream": "stdout",
       "text": [
        "\n"
       ]
      }
     ],
     "prompt_number": 93
    },
    {
     "cell_type": "code",
     "collapsed": false,
     "input": [
      "print allDists\n",
      "print ts\n",
      "plt.plot(allDists[2,:])"
     ],
     "language": "python",
     "metadata": {},
     "outputs": [
      {
       "output_type": "stream",
       "stream": "stdout",
       "text": [
        "[[ 6.00844572  6.19961559  5.92226214 ...,  7.0083163   6.62513264\n",
        "   6.85060447]\n",
        " [ 6.22314101  6.0543717   6.39132091 ...,  8.2139412   8.15307611\n",
        "   8.19936928]\n",
        " [ 5.79794222  5.47449481  6.05181952 ...,  7.99969709  8.01269468\n",
        "   7.49255024]\n",
        " ..., \n",
        " [ 9.64068526  9.67170991  9.54280389 ...,  9.12609496  8.87147592\n",
        "   8.90730722]\n",
        " [ 9.05087227  8.73667095  8.76887417 ...,  8.09447052  8.00781899\n",
        "   7.6587662 ]\n",
        " [ 8.1680701   8.17154423  8.02057139 ...,  8.2432694   8.65731761\n",
        "   8.57038692]]\n",
        "[  0.00000000e+00   2.00000000e-03   4.00000000e-03 ...,   9.99940000e+01\n",
        "   9.99960000e+01   9.99980000e+01]\n"
       ]
      },
      {
       "metadata": {},
       "output_type": "pyout",
       "prompt_number": 94,
       "text": [
        "[<matplotlib.lines.Line2D at 0x7ff889e53350>]"
       ]
      },
      {
       "metadata": {},
       "output_type": "display_data",
       "png": "[encoded data removed]",
       "text": [
        "<matplotlib.figure.Figure at 0x7ff88a3e6b10>"
       ]
      }
     ],
     "prompt_number": 94
    },
    {
     "cell_type": "code",
     "collapsed": false,
     "input": [
      "binMin=0.; binMax=12.\n",
      "res = 0.5\n",
      "\n",
      "zs=[]\n",
      "for i in range(nOs):\n",
      "  grid_t,grid_r,z = bf.BinTimeSeries(allDists[i,:],binMin,binMax,res=res,plot=False)\n",
      "  zs.append(z)"
     ],
     "language": "python",
     "metadata": {},
     "outputs": [],
     "prompt_number": 95
    },
    {
     "cell_type": "code",
     "collapsed": false,
     "input": [
      "def plotOxyDensity(grid_t,grid_r,zs,title=\"NONE\"):\n",
      "  scaleByCoordinationNumber=1/7.\n",
      "  frames_to_time = 0.002\n",
      "  ar = np.sum(zs,axis=0)\n",
      "\n",
      "  plt.subplot(211)\n",
      "  plt.tight_layout()  \n",
      "  plt.title(title)\n",
      "  plt.xlabel(\"Time (ns)\",fontsize=14, weight=\"bold\")\n",
      "  plt.ylabel(\"Ca/O \\n distance [A]\",fontsize=14, weight=\"bold\")  \n",
      "  plt.pcolormesh(grid_t*frames_to_time,grid_r,ar.transpose())\n",
      "  plt.colorbar()\n",
      "  plt.clim([0,7])\n",
      "    \n",
      "  plt.subplot(212)\n",
      "  plt.tight_layout()\n",
      "  plt.xlabel(\"Ca/O distance [A]\",fontsize=14, weight=\"bold\")\n",
      "  plt.ylabel(\"Radial \\n Distribution\",fontsize=14, weight=\"bold\") \n",
      "  histo=np.sum(ar,axis=1)\n",
      "  nTs  = np.shape(ar)[1]\n",
      "  plt.plot(grid_r[0,:],histo/nTs)\n",
      "  \n",
      "  plt.ylim([0,7])\n",
      "     \n",
      " # output=np.column_stack((grid_r[0,:],ar))  \n",
      "  ar_title=\"ar_\"+title+\".txt\"\n",
      "  np.savetxt(ar_title,ar)\n",
      " # print ar\n",
      "    \n",
      "  plt.gcf().savefig(title+\".png\")\n",
      "\n",
      "  l=np.mean(ar,axis=1) #Same as summing up and averaging over nTs.  See above.\n",
      "  s=np.std(ar,axis=1)\n",
      "  j=np.zeros([np.shape(l)[0],3])\n",
      "  j[:,0]=grid_r[0,:]\n",
      "  j[:,1]=l\n",
      "  j[:,2]=s \n",
      "\n",
      "  np.savetxt(title+\".txt\",j) \n",
      "    \n",
      "plotOxyDensity(grid_t,grid_r,zs,title=\"full-holo2_chainAcEF_bbO\")    \n",
      "np.shape(zs)\n",
      "np.shape(grid_r)\n",
      "\n",
      "v=np.sum(zs,axis=0)"
     ],
     "language": "python",
     "metadata": {},
     "outputs": [
      {
       "metadata": {},
       "output_type": "display_data",
       "png": "[encoded data removed]",
       "text": [
        "<matplotlib.figure.Figure at 0x7ff88c9b6050>"
       ]
      }
     ],
     "prompt_number": 96
    },
    {
     "cell_type": "heading",
     "level": 5,
     "metadata": {},
     "source": [
      "Chain B canonical EF"
     ]
    },
    {
     "cell_type": "code",
     "collapsed": false,
     "input": [
      "case = holos[0]\n",
      "idx = 1\n",
      "selAllOs = loos.selectAtoms(case.system,'name==\"O\"&&(resid>=155&&resid<=166)')\n",
      "selCa = loos.selectAtoms(case.system,'name==\"CA\"&& resid==190')\n",
      "nOs = selAllOs.size()\n",
      "nTs = 50000\n",
      "allDists = np.zeros((nOs,nTs))\n",
      "ts = np.zeros(nTs)\n",
      "for i in range(nOs):\n",
      "    run=idx-1\n",
      "    selO = selAllOs.subset(i,1)\n",
      "    dists = pf.dodist(case,run,selO,selCa)\n",
      "    allDists[i,:] = dists[:,1]\n",
      "    ts  = dists[:,0]"
     ],
     "language": "python",
     "metadata": {},
     "outputs": [
      {
       "output_type": "stream",
       "stream": "stdout",
       "text": [
        "50000\n",
        "50000"
       ]
      },
      {
       "output_type": "stream",
       "stream": "stdout",
       "text": [
        "\n",
        "50000"
       ]
      },
      {
       "output_type": "stream",
       "stream": "stdout",
       "text": [
        "\n",
        "50000"
       ]
      },
      {
       "output_type": "stream",
       "stream": "stdout",
       "text": [
        "\n",
        "50000"
       ]
      },
      {
       "output_type": "stream",
       "stream": "stdout",
       "text": [
        "\n",
        "50000"
       ]
      },
      {
       "output_type": "stream",
       "stream": "stdout",
       "text": [
        "\n",
        "50000"
       ]
      },
      {
       "output_type": "stream",
       "stream": "stdout",
       "text": [
        "\n",
        "50000"
       ]
      },
      {
       "output_type": "stream",
       "stream": "stdout",
       "text": [
        "\n",
        "50000"
       ]
      },
      {
       "output_type": "stream",
       "stream": "stdout",
       "text": [
        "\n",
        "50000"
       ]
      },
      {
       "output_type": "stream",
       "stream": "stdout",
       "text": [
        "\n",
        "50000"
       ]
      },
      {
       "output_type": "stream",
       "stream": "stdout",
       "text": [
        "\n",
        "50000"
       ]
      },
      {
       "output_type": "stream",
       "stream": "stdout",
       "text": [
        "\n"
       ]
      }
     ],
     "prompt_number": 59
    },
    {
     "cell_type": "code",
     "collapsed": false,
     "input": [
      "binMin=0.; binMax=12.\n",
      "res = 0.5\n",
      "\n",
      "zs=[]\n",
      "for i in range(nOs):\n",
      "  grid_t,grid_r,z = bf.BinTimeSeries(allDists[i,:],binMin,binMax,res=res,plot=False)\n",
      "  zs.append(z)"
     ],
     "language": "python",
     "metadata": {},
     "outputs": [],
     "prompt_number": 60
    },
    {
     "cell_type": "code",
     "collapsed": false,
     "input": [
      "plotOxyDensity(grid_t,grid_r,zs,title=\"full-holo4_chainBcEF_bbO\") "
     ],
     "language": "python",
     "metadata": {},
     "outputs": [
      {
       "metadata": {},
       "output_type": "display_data",
       "png": "[encoded data removed]",
       "text": [
        "<matplotlib.figure.Figure at 0x7ff88c036490>"
       ]
      }
     ],
     "prompt_number": 61
    },
    {
     "cell_type": "heading",
     "level": 5,
     "metadata": {},
     "source": [
      "Chain A pseudo EF hand"
     ]
    },
    {
     "cell_type": "code",
     "collapsed": false,
     "input": [
      "case = holos[0]\n",
      "idx = 1\n",
      "selAllOs = loos.selectAtoms(case.system,'name==\"O\"&&(resid>=19&&resid<=32)')\n",
      "selCa = loos.selectAtoms(case.system,'name==\"CA\"&& resid==187')\n",
      "nOs = selAllOs.size()\n",
      "nTs = 50000\n",
      "allDists = np.zeros((nOs,nTs))\n",
      "ts = np.zeros(nTs)\n",
      "for i in range(nOs):\n",
      "    run=idx-1\n",
      "    selO = selAllOs.subset(i,1)\n",
      "    dists = pf.dodist(case,run,selO,selCa)\n",
      "    allDists[i,:] = dists[:,1]\n",
      "    ts  = dists[:,0]\n",
      "    "
     ],
     "language": "python",
     "metadata": {},
     "outputs": [
      {
       "output_type": "stream",
       "stream": "stdout",
       "text": [
        "50000\n",
        "50000"
       ]
      },
      {
       "output_type": "stream",
       "stream": "stdout",
       "text": [
        "\n",
        "50000"
       ]
      },
      {
       "output_type": "stream",
       "stream": "stdout",
       "text": [
        "\n",
        "50000"
       ]
      },
      {
       "output_type": "stream",
       "stream": "stdout",
       "text": [
        "\n",
        "50000"
       ]
      },
      {
       "output_type": "stream",
       "stream": "stdout",
       "text": [
        "\n",
        "50000"
       ]
      },
      {
       "output_type": "stream",
       "stream": "stdout",
       "text": [
        "\n",
        "50000"
       ]
      },
      {
       "output_type": "stream",
       "stream": "stdout",
       "text": [
        "\n",
        "50000"
       ]
      },
      {
       "output_type": "stream",
       "stream": "stdout",
       "text": [
        "\n",
        "50000"
       ]
      },
      {
       "output_type": "stream",
       "stream": "stdout",
       "text": [
        "\n",
        "50000"
       ]
      },
      {
       "output_type": "stream",
       "stream": "stdout",
       "text": [
        "\n",
        "50000"
       ]
      },
      {
       "output_type": "stream",
       "stream": "stdout",
       "text": [
        "\n",
        "50000"
       ]
      },
      {
       "output_type": "stream",
       "stream": "stdout",
       "text": [
        "\n",
        "50000"
       ]
      },
      {
       "output_type": "stream",
       "stream": "stdout",
       "text": [
        "\n",
        "50000"
       ]
      },
      {
       "output_type": "stream",
       "stream": "stdout",
       "text": [
        "\n"
       ]
      }
     ],
     "prompt_number": 42
    },
    {
     "cell_type": "code",
     "collapsed": false,
     "input": [
      "binMin=0.; binMax=12.\n",
      "res = 0.5\n",
      "\n",
      "zs=[]\n",
      "for i in range(nOs):\n",
      "  grid_t,grid_r,z = bf.BinTimeSeries(allDists[i,:],binMin,binMax,res=res,plot=False)\n",
      "  zs.append(z)"
     ],
     "language": "python",
     "metadata": {},
     "outputs": [],
     "prompt_number": 43
    },
    {
     "cell_type": "code",
     "collapsed": false,
     "input": [
      "plotOxyDensity(grid_t,grid_r,zs,title=\"full-holo4_chainApEF_bbO\")    "
     ],
     "language": "python",
     "metadata": {},
     "outputs": [
      {
       "metadata": {},
       "output_type": "display_data",
       "png": "[encoded data removed]",
       "text": [
        "<matplotlib.figure.Figure at 0x7ff88a322310>"
       ]
      }
     ],
     "prompt_number": 44
    },
    {
     "cell_type": "heading",
     "level": 5,
     "metadata": {},
     "source": [
      "Chain B pseudo EF hand"
     ]
    },
    {
     "cell_type": "code",
     "collapsed": false,
     "input": [
      "case = holos[0]\n",
      "idx = 1\n",
      "selAllOs = loos.selectAtoms(case.system,'name==\"O\"&&(resid>=112&&resid<=125)')\n",
      "selCa = loos.selectAtoms(case.system,'name==\"CA\"&& resid==189')\n",
      "nOs = selAllOs.size()\n",
      "nTs = 50000\n",
      "allDists = np.zeros((nOs,nTs))\n",
      "ts = np.zeros(nTs)\n",
      "for i in range(nOs):\n",
      "    run=idx-1\n",
      "    selO = selAllOs.subset(i,1)\n",
      "    dists = pf.dodist(case,run,selO,selCa)\n",
      "    allDists[i,:] = dists[:,1]\n",
      "    ts  = dists[:,0]\n",
      "    "
     ],
     "language": "python",
     "metadata": {},
     "outputs": [
      {
       "output_type": "stream",
       "stream": "stdout",
       "text": [
        "50000\n",
        "50000"
       ]
      },
      {
       "output_type": "stream",
       "stream": "stdout",
       "text": [
        "\n",
        "50000"
       ]
      },
      {
       "output_type": "stream",
       "stream": "stdout",
       "text": [
        "\n",
        "50000"
       ]
      },
      {
       "output_type": "stream",
       "stream": "stdout",
       "text": [
        "\n",
        "50000"
       ]
      },
      {
       "output_type": "stream",
       "stream": "stdout",
       "text": [
        "\n",
        "50000"
       ]
      },
      {
       "output_type": "stream",
       "stream": "stdout",
       "text": [
        "\n",
        "50000"
       ]
      },
      {
       "output_type": "stream",
       "stream": "stdout",
       "text": [
        "\n",
        "50000"
       ]
      },
      {
       "output_type": "stream",
       "stream": "stdout",
       "text": [
        "\n",
        "50000"
       ]
      },
      {
       "output_type": "stream",
       "stream": "stdout",
       "text": [
        "\n",
        "50000"
       ]
      },
      {
       "output_type": "stream",
       "stream": "stdout",
       "text": [
        "\n",
        "50000"
       ]
      },
      {
       "output_type": "stream",
       "stream": "stdout",
       "text": [
        "\n",
        "50000"
       ]
      },
      {
       "output_type": "stream",
       "stream": "stdout",
       "text": [
        "\n",
        "50000"
       ]
      },
      {
       "output_type": "stream",
       "stream": "stdout",
       "text": [
        "\n",
        "50000"
       ]
      },
      {
       "output_type": "stream",
       "stream": "stdout",
       "text": [
        "\n"
       ]
      }
     ],
     "prompt_number": 62
    },
    {
     "cell_type": "code",
     "collapsed": false,
     "input": [
      "binMin=0.; binMax=12.\n",
      "res = 0.5\n",
      "\n",
      "zs=[]\n",
      "for i in range(nOs):\n",
      "  grid_t,grid_r,z = bf.BinTimeSeries(allDists[i,:],binMin,binMax,res=res,plot=False)\n",
      "  zs.append(z)"
     ],
     "language": "python",
     "metadata": {},
     "outputs": [],
     "prompt_number": 63
    },
    {
     "cell_type": "code",
     "collapsed": false,
     "input": [
      "plotOxyDensity(grid_t,grid_r,zs,title=\"full-holo4_chainBpEF_bbO\")    "
     ],
     "language": "python",
     "metadata": {},
     "outputs": [
      {
       "metadata": {},
       "output_type": "display_data",
       "png": "[encoded data removed]",
       "text": [
        "<matplotlib.figure.Figure at 0x7ff88c0919d0>"
       ]
      }
     ],
     "prompt_number": 64
    },
    {
     "cell_type": "heading",
     "level": 1,
     "metadata": {},
     "source": [
      "Side-chain Carbonyls"
     ]
    },
    {
     "cell_type": "heading",
     "level": 5,
     "metadata": {},
     "source": [
      "Chain A canonical EF"
     ]
    },
    {
     "cell_type": "code",
     "collapsed": false,
     "input": [
      "case = holos[0]\n",
      "idx = 1\n",
      "selAllOs = loos.selectAtoms(case.system,'name=~\"O\"&&!(name==\"O\")&&(resid>=62&&resid<=73)')\n",
      "selCa = loos.selectAtoms(case.system,'name==\"CA\"&& resid==188')\n",
      "nOs = selAllOs.size()\n",
      "nTs = 50000\n",
      "allDists = np.zeros((nOs,nTs))\n",
      "ts = np.zeros(nTs)\n",
      "for i in range(nOs):\n",
      "    run=idx-1\n",
      "    selO = selAllOs.subset(i,1)\n",
      "    dists = pf.dodist(case,run,selO,selCa)\n",
      "    allDists[i,:] = dists[:,1]\n",
      "    ts  = dists[:,0]"
     ],
     "language": "python",
     "metadata": {},
     "outputs": [
      {
       "output_type": "stream",
       "stream": "stdout",
       "text": [
        "50000\n",
        "50000"
       ]
      },
      {
       "output_type": "stream",
       "stream": "stdout",
       "text": [
        "\n",
        "50000"
       ]
      },
      {
       "output_type": "stream",
       "stream": "stdout",
       "text": [
        "\n",
        "50000"
       ]
      },
      {
       "output_type": "stream",
       "stream": "stdout",
       "text": [
        "\n",
        "50000"
       ]
      },
      {
       "output_type": "stream",
       "stream": "stdout",
       "text": [
        "\n",
        "50000"
       ]
      },
      {
       "output_type": "stream",
       "stream": "stdout",
       "text": [
        "\n",
        "50000"
       ]
      },
      {
       "output_type": "stream",
       "stream": "stdout",
       "text": [
        "\n",
        "50000"
       ]
      },
      {
       "output_type": "stream",
       "stream": "stdout",
       "text": [
        "\n",
        "50000"
       ]
      },
      {
       "output_type": "stream",
       "stream": "stdout",
       "text": [
        "\n",
        "50000"
       ]
      },
      {
       "output_type": "stream",
       "stream": "stdout",
       "text": [
        "\n",
        "50000"
       ]
      },
      {
       "output_type": "stream",
       "stream": "stdout",
       "text": [
        "\n",
        "50000"
       ]
      },
      {
       "output_type": "stream",
       "stream": "stdout",
       "text": [
        "\n",
        "50000"
       ]
      },
      {
       "output_type": "stream",
       "stream": "stdout",
       "text": [
        "\n",
        "50000"
       ]
      },
      {
       "output_type": "stream",
       "stream": "stdout",
       "text": [
        "\n"
       ]
      }
     ],
     "prompt_number": 45
    },
    {
     "cell_type": "code",
     "collapsed": false,
     "input": [
      "binMin=0.; binMax=12.\n",
      "res = 0.5\n",
      "\n",
      "zs=[]\n",
      "for i in range(nOs):\n",
      "  grid_t,grid_r,z = bf.BinTimeSeries(allDists[i,:],binMin,binMax,res=res,plot=False)\n",
      "  zs.append(z)"
     ],
     "language": "python",
     "metadata": {},
     "outputs": [],
     "prompt_number": 46
    },
    {
     "cell_type": "code",
     "collapsed": false,
     "input": [
      "plotOxyDensity(grid_t,grid_r,zs,title=\"full-holo4_chainAcEF_scO\") "
     ],
     "language": "python",
     "metadata": {},
     "outputs": [
      {
       "metadata": {},
       "output_type": "display_data",
       "png": "[encoded data removed]",
       "text": [
        "<matplotlib.figure.Figure at 0x7ff88a3de910>"
       ]
      }
     ],
     "prompt_number": 47
    },
    {
     "cell_type": "heading",
     "level": 5,
     "metadata": {},
     "source": [
      "Chain B canonical EF"
     ]
    },
    {
     "cell_type": "code",
     "collapsed": false,
     "input": [
      "case = holos[0]\n",
      "idx = 1\n",
      "selAllOs = loos.selectAtoms(case.system,'name=~\"O\"&&!(name==\"O\")&&(resid>=155&&resid<=166)')\n",
      "selCa = loos.selectAtoms(case.system,'name==\"CA\"&& resid==190')\n",
      "nOs = selAllOs.size()\n",
      "nTs = 50000\n",
      "allDists = np.zeros((nOs,nTs))\n",
      "ts = np.zeros(nTs)\n",
      "for i in range(nOs):\n",
      "    run=idx-1\n",
      "    selO = selAllOs.subset(i,1)\n",
      "    dists = pf.dodist(case,run,selO,selCa)\n",
      "    allDists[i,:] = dists[:,1]\n",
      "    ts  = dists[:,0]"
     ],
     "language": "python",
     "metadata": {},
     "outputs": [
      {
       "output_type": "stream",
       "stream": "stdout",
       "text": [
        "50000\n",
        "50000"
       ]
      },
      {
       "output_type": "stream",
       "stream": "stdout",
       "text": [
        "\n",
        "50000"
       ]
      },
      {
       "output_type": "stream",
       "stream": "stdout",
       "text": [
        "\n",
        "50000"
       ]
      },
      {
       "output_type": "stream",
       "stream": "stdout",
       "text": [
        "\n",
        "50000"
       ]
      },
      {
       "output_type": "stream",
       "stream": "stdout",
       "text": [
        "\n",
        "50000"
       ]
      },
      {
       "output_type": "stream",
       "stream": "stdout",
       "text": [
        "\n",
        "50000"
       ]
      },
      {
       "output_type": "stream",
       "stream": "stdout",
       "text": [
        "\n",
        "50000"
       ]
      },
      {
       "output_type": "stream",
       "stream": "stdout",
       "text": [
        "\n",
        "50000"
       ]
      },
      {
       "output_type": "stream",
       "stream": "stdout",
       "text": [
        "\n",
        "50000"
       ]
      },
      {
       "output_type": "stream",
       "stream": "stdout",
       "text": [
        "\n",
        "50000"
       ]
      },
      {
       "output_type": "stream",
       "stream": "stdout",
       "text": [
        "\n",
        "50000"
       ]
      },
      {
       "output_type": "stream",
       "stream": "stdout",
       "text": [
        "\n",
        "50000"
       ]
      },
      {
       "output_type": "stream",
       "stream": "stdout",
       "text": [
        "\n",
        "50000"
       ]
      },
      {
       "output_type": "stream",
       "stream": "stdout",
       "text": [
        "\n"
       ]
      }
     ],
     "prompt_number": 79
    },
    {
     "cell_type": "code",
     "collapsed": false,
     "input": [
      "binMin=0.; binMax=12.\n",
      "res = 0.5\n",
      "\n",
      "zs=[]\n",
      "for i in range(nOs):\n",
      "  grid_t,grid_r,z = bf.BinTimeSeries(allDists[i,:],binMin,binMax,res=res,plot=False)\n",
      "  zs.append(z)"
     ],
     "language": "python",
     "metadata": {},
     "outputs": [],
     "prompt_number": 80
    },
    {
     "cell_type": "code",
     "collapsed": false,
     "input": [
      "plotOxyDensity(grid_t,grid_r,zs,title=\"full-holo1_chainBcEF_scO\") "
     ],
     "language": "python",
     "metadata": {},
     "outputs": [
      {
       "metadata": {},
       "output_type": "display_data",
       "png": "[encoded data removed]",
       "text": [
        "<matplotlib.figure.Figure at 0x7ff88c7f5310>"
       ]
      }
     ],
     "prompt_number": 81
    },
    {
     "cell_type": "heading",
     "level": 5,
     "metadata": {},
     "source": [
      "Chain A pseudo EF"
     ]
    },
    {
     "cell_type": "code",
     "collapsed": false,
     "input": [
      "case = holos[0]\n",
      "idx = 1\n",
      "selAllOs = loos.selectAtoms(case.system,'name=~\"O\"&&!(name==\"O\")&&(resid>=19&&resid<=32)')\n",
      "selCa = loos.selectAtoms(case.system,'name==\"CA\"&& resid==187')\n",
      "nOs = selAllOs.size()\n",
      "nTs = 50000\n",
      "allDists = np.zeros((nOs,nTs))\n",
      "ts = np.zeros(nTs)\n",
      "for i in range(nOs):\n",
      "    run=idx-1\n",
      "    selO = selAllOs.subset(i,1)\n",
      "    dists = pf.dodist(case,run,selO,selCa)\n",
      "    allDists[i,:] = dists[:,1]\n",
      "    ts  = dists[:,0]"
     ],
     "language": "python",
     "metadata": {},
     "outputs": [
      {
       "output_type": "stream",
       "stream": "stdout",
       "text": [
        "50000\n",
        "50000"
       ]
      },
      {
       "output_type": "stream",
       "stream": "stdout",
       "text": [
        "\n",
        "50000"
       ]
      },
      {
       "output_type": "stream",
       "stream": "stdout",
       "text": [
        "\n",
        "50000"
       ]
      },
      {
       "output_type": "stream",
       "stream": "stdout",
       "text": [
        "\n",
        "50000"
       ]
      },
      {
       "output_type": "stream",
       "stream": "stdout",
       "text": [
        "\n",
        "50000"
       ]
      },
      {
       "output_type": "stream",
       "stream": "stdout",
       "text": [
        "\n",
        "50000"
       ]
      },
      {
       "output_type": "stream",
       "stream": "stdout",
       "text": [
        "\n",
        "50000"
       ]
      },
      {
       "output_type": "stream",
       "stream": "stdout",
       "text": [
        "\n",
        "50000"
       ]
      },
      {
       "output_type": "stream",
       "stream": "stdout",
       "text": [
        "\n"
       ]
      }
     ],
     "prompt_number": 48
    },
    {
     "cell_type": "code",
     "collapsed": false,
     "input": [
      "binMin=0.; binMax=12.\n",
      "res = 0.5\n",
      "\n",
      "zs=[]\n",
      "for i in range(nOs):\n",
      "  grid_t,grid_r,z = bf.BinTimeSeries(allDists[i,:],binMin,binMax,res=res,plot=False)\n",
      "  zs.append(z)"
     ],
     "language": "python",
     "metadata": {},
     "outputs": [],
     "prompt_number": 49
    },
    {
     "cell_type": "code",
     "collapsed": false,
     "input": [
      "plotOxyDensity(grid_t,grid_r,zs,title=\"full-holo4_chainApEF_scO\") "
     ],
     "language": "python",
     "metadata": {},
     "outputs": [
      {
       "metadata": {},
       "output_type": "display_data",
       "png": "[encoded data removed]",
       "text": [
        "<matplotlib.figure.Figure at 0x7ff88a2e4050>"
       ]
      }
     ],
     "prompt_number": 50
    },
    {
     "cell_type": "heading",
     "level": 5,
     "metadata": {},
     "source": [
      "Chain B pseudo EF"
     ]
    },
    {
     "cell_type": "code",
     "collapsed": false,
     "input": [
      "case = holos[0]\n",
      "idx = 1\n",
      "selAllOs = loos.selectAtoms(case.system,'name=~\"O\"&&!(name==\"O\")&&(resid>=112&&resid<=125)')\n",
      "selCa = loos.selectAtoms(case.system,'name==\"CA\"&& resid==189')\n",
      "nOs = selAllOs.size()\n",
      "nTs = 50000\n",
      "allDists = np.zeros((nOs,nTs))\n",
      "ts = np.zeros(nTs)\n",
      "for i in range(nOs):\n",
      "    run=idx-1\n",
      "    selO = selAllOs.subset(i,1)\n",
      "    dists = pf.dodist(case,run,selO,selCa)\n",
      "    allDists[i,:] = dists[:,1]\n",
      "    ts  = dists[:,0]"
     ],
     "language": "python",
     "metadata": {},
     "outputs": [
      {
       "output_type": "stream",
       "stream": "stdout",
       "text": [
        "50000\n",
        "50000"
       ]
      },
      {
       "output_type": "stream",
       "stream": "stdout",
       "text": [
        "\n",
        "50000"
       ]
      },
      {
       "output_type": "stream",
       "stream": "stdout",
       "text": [
        "\n",
        "50000"
       ]
      },
      {
       "output_type": "stream",
       "stream": "stdout",
       "text": [
        "\n",
        "50000"
       ]
      },
      {
       "output_type": "stream",
       "stream": "stdout",
       "text": [
        "\n",
        "50000"
       ]
      },
      {
       "output_type": "stream",
       "stream": "stdout",
       "text": [
        "\n",
        "50000"
       ]
      },
      {
       "output_type": "stream",
       "stream": "stdout",
       "text": [
        "\n",
        "50000"
       ]
      },
      {
       "output_type": "stream",
       "stream": "stdout",
       "text": [
        "\n",
        "50000"
       ]
      },
      {
       "output_type": "stream",
       "stream": "stdout",
       "text": [
        "\n"
       ]
      }
     ],
     "prompt_number": 82
    },
    {
     "cell_type": "code",
     "collapsed": false,
     "input": [
      "binMin=0.; binMax=12.\n",
      "res = 0.5\n",
      "\n",
      "zs=[]\n",
      "for i in range(nOs):\n",
      "  grid_t,grid_r,z = bf.BinTimeSeries(allDists[i,:],binMin,binMax,res=res,plot=False)\n",
      "  zs.append(z)"
     ],
     "language": "python",
     "metadata": {},
     "outputs": [],
     "prompt_number": 83
    },
    {
     "cell_type": "code",
     "collapsed": false,
     "input": [
      "plotOxyDensity(grid_t,grid_r,zs,title=\"full-holo1_chainBpEF_scO\") "
     ],
     "language": "python",
     "metadata": {},
     "outputs": [
      {
       "metadata": {},
       "output_type": "display_data",
       "png": "[encoded data removed]",
       "text": [
        "<matplotlib.figure.Figure at 0x7ff88c8121d0>"
       ]
      }
     ],
     "prompt_number": 84
    },
    {
     "cell_type": "heading",
     "level": 1,
     "metadata": {},
     "source": [
      "All Carbonyls"
     ]
    },
    {
     "cell_type": "heading",
     "level": 5,
     "metadata": {},
     "source": [
      "Chain A canonical EF"
     ]
    },
    {
     "cell_type": "code",
     "collapsed": false,
     "input": [
      "case = holos[0]\n",
      "idx = 1\n",
      "selAllOs = loos.selectAtoms(case.system,'name=~\"O\"&&(resid>=62&&resid<=73)')\n",
      "selCa = loos.selectAtoms(case.system,'name==\"CA\"&& resid==188')\n",
      "nOs = selAllOs.size()\n",
      "nTs = 50000\n",
      "allDists = np.zeros((nOs,nTs))\n",
      "ts = np.zeros(nTs)\n",
      "for i in range(nOs):\n",
      "    run=idx-1\n",
      "    selO = selAllOs.subset(i,1)\n",
      "    dists = pf.dodist(case,run,selO,selCa)\n",
      "    allDists[i,:] = dists[:,1]\n",
      "    ts  = dists[:,0]"
     ],
     "language": "python",
     "metadata": {},
     "outputs": [
      {
       "output_type": "stream",
       "stream": "stdout",
       "text": [
        "50000\n",
        "50000"
       ]
      },
      {
       "output_type": "stream",
       "stream": "stdout",
       "text": [
        "\n",
        "50000"
       ]
      },
      {
       "output_type": "stream",
       "stream": "stdout",
       "text": [
        "\n",
        "50000"
       ]
      },
      {
       "output_type": "stream",
       "stream": "stdout",
       "text": [
        "\n",
        "50000"
       ]
      },
      {
       "output_type": "stream",
       "stream": "stdout",
       "text": [
        "\n",
        "50000"
       ]
      },
      {
       "output_type": "stream",
       "stream": "stdout",
       "text": [
        "\n",
        "50000"
       ]
      },
      {
       "output_type": "stream",
       "stream": "stdout",
       "text": [
        "\n",
        "50000"
       ]
      },
      {
       "output_type": "stream",
       "stream": "stdout",
       "text": [
        "\n",
        "50000"
       ]
      },
      {
       "output_type": "stream",
       "stream": "stdout",
       "text": [
        "\n",
        "50000"
       ]
      },
      {
       "output_type": "stream",
       "stream": "stdout",
       "text": [
        "\n",
        "50000"
       ]
      },
      {
       "output_type": "stream",
       "stream": "stdout",
       "text": [
        "\n",
        "50000"
       ]
      },
      {
       "output_type": "stream",
       "stream": "stdout",
       "text": [
        "\n",
        "50000"
       ]
      },
      {
       "output_type": "stream",
       "stream": "stdout",
       "text": [
        "\n",
        "50000"
       ]
      },
      {
       "output_type": "stream",
       "stream": "stdout",
       "text": [
        "\n",
        "50000"
       ]
      },
      {
       "output_type": "stream",
       "stream": "stdout",
       "text": [
        "\n",
        "50000"
       ]
      },
      {
       "output_type": "stream",
       "stream": "stdout",
       "text": [
        "\n",
        "50000"
       ]
      },
      {
       "output_type": "stream",
       "stream": "stdout",
       "text": [
        "\n",
        "50000"
       ]
      },
      {
       "output_type": "stream",
       "stream": "stdout",
       "text": [
        "\n",
        "50000"
       ]
      },
      {
       "output_type": "stream",
       "stream": "stdout",
       "text": [
        "\n",
        "50000"
       ]
      },
      {
       "output_type": "stream",
       "stream": "stdout",
       "text": [
        "\n",
        "50000"
       ]
      },
      {
       "output_type": "stream",
       "stream": "stdout",
       "text": [
        "\n",
        "50000"
       ]
      },
      {
       "output_type": "stream",
       "stream": "stdout",
       "text": [
        "\n",
        "50000"
       ]
      },
      {
       "output_type": "stream",
       "stream": "stdout",
       "text": [
        "\n",
        "50000"
       ]
      },
      {
       "output_type": "stream",
       "stream": "stdout",
       "text": [
        "\n",
        "50000"
       ]
      },
      {
       "output_type": "stream",
       "stream": "stdout",
       "text": [
        "\n",
        "50000"
       ]
      },
      {
       "output_type": "stream",
       "stream": "stdout",
       "text": [
        "\n"
       ]
      }
     ],
     "prompt_number": 51
    },
    {
     "cell_type": "code",
     "collapsed": false,
     "input": [
      "binMin=0.; binMax=12.\n",
      "res = 0.5\n",
      "\n",
      "zs=[]\n",
      "for i in range(nOs):\n",
      "  grid_t,grid_r,z = bf.BinTimeSeries(allDists[i,:],binMin,binMax,res=res,plot=False)\n",
      "  zs.append(z)"
     ],
     "language": "python",
     "metadata": {},
     "outputs": [],
     "prompt_number": 52
    },
    {
     "cell_type": "code",
     "collapsed": false,
     "input": [
      "plotOxyDensity(grid_t,grid_r,zs,title=\"full-holo4_chainAcEF_allO\") "
     ],
     "language": "python",
     "metadata": {},
     "outputs": [
      {
       "metadata": {},
       "output_type": "display_data",
       "png": "[encoded data removed]",
       "text": [
        "<matplotlib.figure.Figure at 0x7ff88bd11c50>"
       ]
      }
     ],
     "prompt_number": 53
    },
    {
     "cell_type": "heading",
     "level": 5,
     "metadata": {},
     "source": [
      "Chain B canonical EF"
     ]
    },
    {
     "cell_type": "code",
     "collapsed": false,
     "input": [
      "case = holos[0]\n",
      "idx = 1\n",
      "selAllOs = loos.selectAtoms(case.system,'name=~\"O\"&&(resid>=155&&resid<=166)')\n",
      "selCa = loos.selectAtoms(case.system,'name==\"CA\"&& resid==190')\n",
      "nOs = selAllOs.size()\n",
      "nTs = 50000\n",
      "allDists = np.zeros((nOs,nTs))\n",
      "ts = np.zeros(nTs)\n",
      "for i in range(nOs):\n",
      "    run=idx-1\n",
      "    selO = selAllOs.subset(i,1)\n",
      "    dists = pf.dodist(case,run,selO,selCa)\n",
      "    allDists[i,:] = dists[:,1]\n",
      "    ts  = dists[:,0]"
     ],
     "language": "python",
     "metadata": {},
     "outputs": [
      {
       "output_type": "stream",
       "stream": "stdout",
       "text": [
        "50000\n",
        "50000"
       ]
      },
      {
       "output_type": "stream",
       "stream": "stdout",
       "text": [
        "\n",
        "50000"
       ]
      },
      {
       "output_type": "stream",
       "stream": "stdout",
       "text": [
        "\n",
        "50000"
       ]
      },
      {
       "output_type": "stream",
       "stream": "stdout",
       "text": [
        "\n",
        "50000"
       ]
      },
      {
       "output_type": "stream",
       "stream": "stdout",
       "text": [
        "\n",
        "50000"
       ]
      },
      {
       "output_type": "stream",
       "stream": "stdout",
       "text": [
        "\n",
        "50000"
       ]
      },
      {
       "output_type": "stream",
       "stream": "stdout",
       "text": [
        "\n",
        "50000"
       ]
      },
      {
       "output_type": "stream",
       "stream": "stdout",
       "text": [
        "\n",
        "50000"
       ]
      },
      {
       "output_type": "stream",
       "stream": "stdout",
       "text": [
        "\n",
        "50000"
       ]
      },
      {
       "output_type": "stream",
       "stream": "stdout",
       "text": [
        "\n",
        "50000"
       ]
      },
      {
       "output_type": "stream",
       "stream": "stdout",
       "text": [
        "\n",
        "50000"
       ]
      },
      {
       "output_type": "stream",
       "stream": "stdout",
       "text": [
        "\n",
        "50000"
       ]
      },
      {
       "output_type": "stream",
       "stream": "stdout",
       "text": [
        "\n",
        "50000"
       ]
      },
      {
       "output_type": "stream",
       "stream": "stdout",
       "text": [
        "\n",
        "50000"
       ]
      },
      {
       "output_type": "stream",
       "stream": "stdout",
       "text": [
        "\n",
        "50000"
       ]
      },
      {
       "output_type": "stream",
       "stream": "stdout",
       "text": [
        "\n",
        "50000"
       ]
      },
      {
       "output_type": "stream",
       "stream": "stdout",
       "text": [
        "\n",
        "50000"
       ]
      },
      {
       "output_type": "stream",
       "stream": "stdout",
       "text": [
        "\n",
        "50000"
       ]
      },
      {
       "output_type": "stream",
       "stream": "stdout",
       "text": [
        "\n",
        "50000"
       ]
      },
      {
       "output_type": "stream",
       "stream": "stdout",
       "text": [
        "\n",
        "50000"
       ]
      },
      {
       "output_type": "stream",
       "stream": "stdout",
       "text": [
        "\n",
        "50000"
       ]
      },
      {
       "output_type": "stream",
       "stream": "stdout",
       "text": [
        "\n",
        "50000"
       ]
      },
      {
       "output_type": "stream",
       "stream": "stdout",
       "text": [
        "\n",
        "50000"
       ]
      },
      {
       "output_type": "stream",
       "stream": "stdout",
       "text": [
        "\n",
        "50000"
       ]
      },
      {
       "output_type": "stream",
       "stream": "stdout",
       "text": [
        "\n",
        "50000"
       ]
      },
      {
       "output_type": "stream",
       "stream": "stdout",
       "text": [
        "\n"
       ]
      }
     ],
     "prompt_number": 71
    },
    {
     "cell_type": "code",
     "collapsed": false,
     "input": [
      "binMin=0.; binMax=12.\n",
      "res = 0.5\n",
      "\n",
      "zs=[]\n",
      "for i in range(nOs):\n",
      "  grid_t,grid_r,z = bf.BinTimeSeries(allDists[i,:],binMin,binMax,res=res,plot=False)\n",
      "  zs.append(z)"
     ],
     "language": "python",
     "metadata": {},
     "outputs": [],
     "prompt_number": 72
    },
    {
     "cell_type": "code",
     "collapsed": false,
     "input": [
      "plotOxyDensity(grid_t,grid_r,zs,title=\"full-holo4_chainBcEF_allO\") "
     ],
     "language": "python",
     "metadata": {},
     "outputs": [
      {
       "metadata": {},
       "output_type": "display_data",
       "png": "[encoded data removed]",
       "text": [
        "<matplotlib.figure.Figure at 0x7ff88bc47ad0>"
       ]
      }
     ],
     "prompt_number": 73
    },
    {
     "cell_type": "heading",
     "level": 5,
     "metadata": {},
     "source": [
      "Chain A pseudo EF"
     ]
    },
    {
     "cell_type": "code",
     "collapsed": false,
     "input": [
      "case = holos[0]\n",
      "idx = 1\n",
      "selAllOs = loos.selectAtoms(case.system,'name=~\"O\"&&(resid>=19&&resid<=32)')\n",
      "selCa = loos.selectAtoms(case.system,'name==\"CA\"&& resid==187')\n",
      "nOs = selAllOs.size()\n",
      "nTs = 50000\n",
      "allDists = np.zeros((nOs,nTs))\n",
      "ts = np.zeros(nTs)\n",
      "for i in range(nOs):\n",
      "    run=idx-1\n",
      "    selO = selAllOs.subset(i,1)\n",
      "    dists = pf.dodist(case,run,selO,selCa)\n",
      "    allDists[i,:] = dists[:,1]\n",
      "    ts  = dists[:,0]"
     ],
     "language": "python",
     "metadata": {},
     "outputs": [
      {
       "output_type": "stream",
       "stream": "stdout",
       "text": [
        "50000\n",
        "50000"
       ]
      },
      {
       "output_type": "stream",
       "stream": "stdout",
       "text": [
        "\n",
        "50000"
       ]
      },
      {
       "output_type": "stream",
       "stream": "stdout",
       "text": [
        "\n",
        "50000"
       ]
      },
      {
       "output_type": "stream",
       "stream": "stdout",
       "text": [
        "\n",
        "50000"
       ]
      },
      {
       "output_type": "stream",
       "stream": "stdout",
       "text": [
        "\n",
        "50000"
       ]
      },
      {
       "output_type": "stream",
       "stream": "stdout",
       "text": [
        "\n",
        "50000"
       ]
      },
      {
       "output_type": "stream",
       "stream": "stdout",
       "text": [
        "\n",
        "50000"
       ]
      },
      {
       "output_type": "stream",
       "stream": "stdout",
       "text": [
        "\n",
        "50000"
       ]
      },
      {
       "output_type": "stream",
       "stream": "stdout",
       "text": [
        "\n",
        "50000"
       ]
      },
      {
       "output_type": "stream",
       "stream": "stdout",
       "text": [
        "\n",
        "50000"
       ]
      },
      {
       "output_type": "stream",
       "stream": "stdout",
       "text": [
        "\n",
        "50000"
       ]
      },
      {
       "output_type": "stream",
       "stream": "stdout",
       "text": [
        "\n",
        "50000"
       ]
      },
      {
       "output_type": "stream",
       "stream": "stdout",
       "text": [
        "\n",
        "50000"
       ]
      },
      {
       "output_type": "stream",
       "stream": "stdout",
       "text": [
        "\n",
        "50000"
       ]
      },
      {
       "output_type": "stream",
       "stream": "stdout",
       "text": [
        "\n",
        "50000"
       ]
      },
      {
       "output_type": "stream",
       "stream": "stdout",
       "text": [
        "\n",
        "50000"
       ]
      },
      {
       "output_type": "stream",
       "stream": "stdout",
       "text": [
        "\n",
        "50000"
       ]
      },
      {
       "output_type": "stream",
       "stream": "stdout",
       "text": [
        "\n",
        "50000"
       ]
      },
      {
       "output_type": "stream",
       "stream": "stdout",
       "text": [
        "\n",
        "50000"
       ]
      },
      {
       "output_type": "stream",
       "stream": "stdout",
       "text": [
        "\n",
        "50000"
       ]
      },
      {
       "output_type": "stream",
       "stream": "stdout",
       "text": [
        "\n",
        "50000"
       ]
      },
      {
       "output_type": "stream",
       "stream": "stdout",
       "text": [
        "\n",
        "50000"
       ]
      },
      {
       "output_type": "stream",
       "stream": "stdout",
       "text": [
        "\n"
       ]
      }
     ],
     "prompt_number": 54
    },
    {
     "cell_type": "code",
     "collapsed": false,
     "input": [
      "binMin=0.; binMax=12.\n",
      "res = 0.5\n",
      "\n",
      "zs=[]\n",
      "for i in range(nOs):\n",
      "  grid_t,grid_r,z = bf.BinTimeSeries(allDists[i,:],binMin,binMax,res=res,plot=False)\n",
      "  zs.append(z)"
     ],
     "language": "python",
     "metadata": {},
     "outputs": [],
     "prompt_number": 55
    },
    {
     "cell_type": "code",
     "collapsed": false,
     "input": [
      "plotOxyDensity(grid_t,grid_r,zs,title=\"full-holo4_chainApEF_allO\") "
     ],
     "language": "python",
     "metadata": {},
     "outputs": [
      {
       "metadata": {},
       "output_type": "display_data",
       "png": "[encoded data removed]",
       "text": [
        "<matplotlib.figure.Figure at 0x7ff88bd4add0>"
       ]
      }
     ],
     "prompt_number": 56
    },
    {
     "cell_type": "heading",
     "level": 5,
     "metadata": {},
     "source": [
      "Chain B pseudo EF"
     ]
    },
    {
     "cell_type": "code",
     "collapsed": false,
     "input": [
      "case = holos[0]\n",
      "idx = 1\n",
      "selAllOs = loos.selectAtoms(case.system,'name=~\"O\"&&(resid>=112&&resid<=125)')\n",
      "selCa = loos.selectAtoms(case.system,'name==\"CA\"&& resid==189')\n",
      "nOs = selAllOs.size()\n",
      "nTs = 50000\n",
      "allDists = np.zeros((nOs,nTs))\n",
      "ts = np.zeros(nTs)\n",
      "for i in range(nOs):\n",
      "    run=idx-1\n",
      "    selO = selAllOs.subset(i,1)\n",
      "    dists = pf.dodist(case,run,selO,selCa)\n",
      "    allDists[i,:] = dists[:,1]\n",
      "    ts  = dists[:,0]"
     ],
     "language": "python",
     "metadata": {},
     "outputs": [
      {
       "output_type": "stream",
       "stream": "stdout",
       "text": [
        "50000\n",
        "50000"
       ]
      },
      {
       "output_type": "stream",
       "stream": "stdout",
       "text": [
        "\n",
        "50000"
       ]
      },
      {
       "output_type": "stream",
       "stream": "stdout",
       "text": [
        "\n",
        "50000"
       ]
      },
      {
       "output_type": "stream",
       "stream": "stdout",
       "text": [
        "\n",
        "50000"
       ]
      },
      {
       "output_type": "stream",
       "stream": "stdout",
       "text": [
        "\n",
        "50000"
       ]
      },
      {
       "output_type": "stream",
       "stream": "stdout",
       "text": [
        "\n",
        "50000"
       ]
      },
      {
       "output_type": "stream",
       "stream": "stdout",
       "text": [
        "\n",
        "50000"
       ]
      },
      {
       "output_type": "stream",
       "stream": "stdout",
       "text": [
        "\n",
        "50000"
       ]
      },
      {
       "output_type": "stream",
       "stream": "stdout",
       "text": [
        "\n",
        "50000"
       ]
      },
      {
       "output_type": "stream",
       "stream": "stdout",
       "text": [
        "\n",
        "50000"
       ]
      },
      {
       "output_type": "stream",
       "stream": "stdout",
       "text": [
        "\n",
        "50000"
       ]
      },
      {
       "output_type": "stream",
       "stream": "stdout",
       "text": [
        "\n",
        "50000"
       ]
      },
      {
       "output_type": "stream",
       "stream": "stdout",
       "text": [
        "\n",
        "50000"
       ]
      },
      {
       "output_type": "stream",
       "stream": "stdout",
       "text": [
        "\n",
        "50000"
       ]
      },
      {
       "output_type": "stream",
       "stream": "stdout",
       "text": [
        "\n",
        "50000"
       ]
      },
      {
       "output_type": "stream",
       "stream": "stdout",
       "text": [
        "\n",
        "50000"
       ]
      },
      {
       "output_type": "stream",
       "stream": "stdout",
       "text": [
        "\n",
        "50000"
       ]
      },
      {
       "output_type": "stream",
       "stream": "stdout",
       "text": [
        "\n",
        "50000"
       ]
      },
      {
       "output_type": "stream",
       "stream": "stdout",
       "text": [
        "\n",
        "50000"
       ]
      },
      {
       "output_type": "stream",
       "stream": "stdout",
       "text": [
        "\n",
        "50000"
       ]
      },
      {
       "output_type": "stream",
       "stream": "stdout",
       "text": [
        "\n",
        "50000"
       ]
      },
      {
       "output_type": "stream",
       "stream": "stdout",
       "text": [
        "\n",
        "50000"
       ]
      },
      {
       "output_type": "stream",
       "stream": "stdout",
       "text": [
        "\n"
       ]
      }
     ],
     "prompt_number": 74
    },
    {
     "cell_type": "code",
     "collapsed": false,
     "input": [
      "binMin=0.; binMax=12.\n",
      "res = 0.5\n",
      "\n",
      "zs=[]\n",
      "for i in range(nOs):\n",
      "  grid_t,grid_r,z = bf.BinTimeSeries(allDists[i,:],binMin,binMax,res=res,plot=False)\n",
      "  zs.append(z)"
     ],
     "language": "python",
     "metadata": {},
     "outputs": [],
     "prompt_number": 75
    },
    {
     "cell_type": "code",
     "collapsed": false,
     "input": [
      "plotOxyDensity(grid_t,grid_r,zs,title=\"full-holo4_chainBpEF_allO\") "
     ],
     "language": "python",
     "metadata": {},
     "outputs": [
      {
       "metadata": {},
       "output_type": "display_data",
       "png": "[encoded data removed]",
       "text": [
        "<matplotlib.figure.Figure at 0x7ff88c6c79d0>"
       ]
      }
     ],
     "prompt_number": 76
    },
    {
     "cell_type": "code",
     "collapsed": false,
     "input": [],
     "language": "python",
     "metadata": {},
     "outputs": []
    }
   ],
   "metadata": {}
  }
 ]
}