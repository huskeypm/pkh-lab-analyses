{
 "metadata": {
  "name": "",
  "signature": "sha256:b26001d8047ff5acb216cf4eb336675a6f257efc59b0c220f282025007cc0271"
 },
 "nbformat": 3,
 "nbformat_minor": 0,
 "worksheets": [
  {
   "cells": [
    {
     "cell_type": "markdown",
     "metadata": {},
     "source": [
      "## Quick attempt at a monte carlo generator (guaranteed to be inefficient)\n",
      "\n",
      "MC code located further down in the document. "
     ]
    },
    {
     "cell_type": "code",
     "collapsed": false,
     "input": [
      "%load_ext autoreload\n",
      "%autoreload 2"
     ],
     "language": "python",
     "metadata": {},
     "outputs": [
      {
       "output_type": "stream",
       "stream": "stdout",
       "text": [
        "The autoreload extension is already loaded. To reload it, use:\n",
        "  %reload_ext autoreload\n"
       ]
      }
     ],
     "prompt_number": 14
    },
    {
     "cell_type": "markdown",
     "metadata": {},
     "source": [
      "\n",
      "Need to import clash library I wrote"
     ]
    },
    {
     "cell_type": "code",
     "collapsed": false,
     "input": [
      "import sys\n",
      "sys.path.append(\"/home/AD/pmke226/sources/cytoplasm/\")\n",
      "import miscutil"
     ],
     "language": "python",
     "metadata": {},
     "outputs": [],
     "prompt_number": 15
    },
    {
     "cell_type": "markdown",
     "metadata": {},
     "source": [
      "### Function definitions"
     ]
    },
    {
     "cell_type": "markdown",
     "metadata": {},
     "source": [
      "http://stackoverflow.com/questions/9081553/python-scatter-plot-size-and-style-of-the-marker/24567352#24567352"
     ]
    },
    {
     "cell_type": "code",
     "collapsed": false,
     "input": [
      "def circles(x, y, s, c='b', ax=None, vmin=None, vmax=None, **kwargs):\n",
      "    \"\"\"\n",
      "    Make a scatter of circles plot of x vs y, where x and y are sequence \n",
      "    like objects of the same lengths. The size of circles are in data scale.\n",
      "\n",
      "    Parameters\n",
      "    ----------\n",
      "    x,y : scalar or array_like, shape (n, )\n",
      "        Input data\n",
      "    s : scalar or array_like, shape (n, ) \n",
      "        Radius of circle in data scale (ie. in data unit)\n",
      "    c : color or sequence of color, optional, default : 'b'\n",
      "        `c` can be a single color format string, or a sequence of color\n",
      "        specifications of length `N`, or a sequence of `N` numbers to be\n",
      "        mapped to colors using the `cmap` and `norm` specified via kwargs.\n",
      "        Note that `c` should not be a single numeric RGB or\n",
      "        RGBA sequence because that is indistinguishable from an array of\n",
      "        values to be colormapped.  `c` can be a 2-D array in which the\n",
      "        rows are RGB or RGBA, however.\n",
      "    ax : Axes object, optional, default: None\n",
      "        Parent axes of the plot. It uses gca() if not specified.\n",
      "    vmin, vmax : scalar, optional, default: None\n",
      "        `vmin` and `vmax` are used in conjunction with `norm` to normalize\n",
      "        luminance data.  If either are `None`, the min and max of the\n",
      "        color array is used.  (Note if you pass a `norm` instance, your\n",
      "        settings for `vmin` and `vmax` will be ignored.)\n",
      "\n",
      "    Returns\n",
      "    -------\n",
      "    paths : `~matplotlib.collections.PathCollection`\n",
      "\n",
      "    Other parameters\n",
      "    ----------------\n",
      "    kwargs : `~matplotlib.collections.Collection` properties\n",
      "        eg. alpha, edgecolors, facecolors, linewidths, linestyles, norm, cmap\n",
      "\n",
      "    Examples\n",
      "    --------\n",
      "    a = np.arange(11)\n",
      "    circles(a, a, a*0.2, c=a, alpha=0.5, edgecolor='none')\n",
      "\n",
      "    License\n",
      "    --------\n",
      "    This code is under [The BSD 3-Clause License]\n",
      "    (http://opensource.org/licenses/BSD-3-Clause)\n",
      "    \"\"\"\n",
      "    from matplotlib.patches import Circle\n",
      "    from matplotlib.collections import PatchCollection\n",
      "    import pylab as plt\n",
      "    #import matplotlib.colors as colors\n",
      "\n",
      "    if ax is None:\n",
      "        ax = plt.gca()    \n",
      "\n",
      "    if isinstance(c,basestring):\n",
      "        color = c     # ie. use colors.colorConverter.to_rgba_array(c)\n",
      "    else:\n",
      "        color = None  # use cmap, norm after collection is created\n",
      "    kwargs.update(color=color)\n",
      "\n",
      "    if isinstance(x, (int, long, float)):\n",
      "        patches = [Circle((x, y), s),]\n",
      "    elif isinstance(s, (int, long, float)):\n",
      "        patches = [Circle((x_,y_), s) for x_,y_ in zip(x,y)]\n",
      "    else:\n",
      "        patches = [Circle((x_,y_), s_) for x_,y_,s_ in zip(x,y,s)]\n",
      "    collection = PatchCollection(patches, **kwargs)\n",
      "\n",
      "    if color is None:\n",
      "        collection.set_array(np.asarray(c))\n",
      "        if vmin is not None or vmax is not None:\n",
      "            collection.set_clim(vmin, vmax)\n",
      "\n",
      "    ax.add_collection(collection)\n",
      "    return collection"
     ],
     "language": "python",
     "metadata": {},
     "outputs": [],
     "prompt_number": 3
    },
    {
     "cell_type": "code",
     "collapsed": false,
     "input": [
      "a=arange(11)/12.\n",
      "out = circles(a, a, a*0.2, c=a, alpha=0.5, edgecolor='none')"
     ],
     "language": "python",
     "metadata": {},
     "outputs": [
      {
       "metadata": {},
       "output_type": "display_data",
       "png": "[encoded data removed]",
       "text": [
        "<matplotlib.figure.Figure at 0x7fdcd0edbdd0>"
       ]
      }
     ],
     "prompt_number": 4
    },
    {
     "cell_type": "code",
     "collapsed": false,
     "input": [
      "# verify points are within edges of domain ([0,length])\n",
      "def CheckEdges(nlocs,rads,length,eps=0.01):\n",
      "    rads2 = np.vstack((rads,rads)).T + eps\n",
      "\n",
      "    # check left side\n",
      "    bottomleft  = nlocs - rads2 \n",
      "    blClash= np.any(bottomleft < 0)\n",
      "    #print bottomleft\n",
      "    #print blClash\n",
      "\n",
      "    #right\n",
      "    topright  = nlocs + rads2 \n",
      "    trClash=  np.any(topright > length)\n",
      "    #print topright\n",
      "    #print trClash\n",
      "\n",
      "    return np.any((blClash,trClash))"
     ],
     "language": "python",
     "metadata": {},
     "outputs": [],
     "prompt_number": 5
    },
    {
     "cell_type": "code",
     "collapsed": false,
     "input": [
      "def SetLocsRads(ptsPerSide,ptRad,length):\n",
      "    npts = ptsPerSide**2\n",
      "    rads = np.ones(npts)*ptRad\n",
      "\n",
      "    # create positions in one D\n",
      "    pos = np.arange(ptsPerSide)*length/ptsPerSide\n",
      "    delx = pos[1]-pos[0]\n",
      "    pos += delx/2.\n",
      "\n",
      "    # make uniformly distributed in two D\n",
      "    daones = np.ones(ptsPerSide)\n",
      "    xs = np.outer(daones,pos)\n",
      "    ys = xs.T\n",
      "\n",
      "    # flatten in order to make list of points: locs[N*2]\n",
      "    xsf = np.ndarray.flatten(xs)\n",
      "    ysf = np.ndarray.flatten(ys)\n",
      "\n",
      "    locs = np.vstack((xsf,ysf)).T\n",
      "    \n",
      "    return locs,rads"
     ],
     "language": "python",
     "metadata": {},
     "outputs": [],
     "prompt_number": 6
    },
    {
     "cell_type": "markdown",
     "metadata": {},
     "source": [
      "Do a bunch of random draws and check for cases that are non-intersecting and within bounds"
     ]
    },
    {
     "cell_type": "code",
     "collapsed": false,
     "input": [
      "# chainMode=True, update position based on previous iteration\n",
      "def DoMC(ilocs,rads,locScale,radScale,eps,chainMode=True,keep=5):\n",
      "    trials = 1000\n",
      "    npts = np.shape(locs)[0]\n",
      "    \n",
      "    passingLocs = []\n",
      "    passingRads = []\n",
      "    alltrials = []\n",
      "   \n",
      "    plocs = ilocs\n",
      "    for i in range(trials):\n",
      "      # randomize locations  \n",
      "      rands = np.reshape(locScale*np.random.randn(npts,2),(npts,2))\n",
      "      # DEBUG rands[:]=locScale  \n",
      "      nlocs = plocs+rands\n",
      "\n",
      "      # randomize radii   \n",
      "      rands = radScale*np.random.randn(npts)\n",
      "      nrads = rads+rands\n",
      "\n",
      "      # check   \n",
      "      isClash = miscutil.CheckClash(nlocs,nrads,eps=eps)\n",
      "      isOut = CheckEdges(nlocs,nrads,length,eps=eps)\n",
      "      #print \"Clashing \", isClash\n",
      "      #print \"Out of bounds \", isOut\n",
      "\n",
      "      if np.any([isClash,isOut]):\n",
      "            #print \"FAIL\"\n",
      "            1\n",
      "      else:\n",
      "            #print \"SUCCESS\"\n",
      "            passingLocs.append(nlocs)\n",
      "            passingRads.append(nrads)\n",
      "      alltrials.append(nlocs)\n",
      "      \n",
      "      if chainMode:      \n",
      "        plocs = nlocs\n",
      "            \n",
      "    # check        \n",
      "    if len(passingLocs)==0:\n",
      "        print \"BUMMER: everything failed!! (try different number of points/radii/scale)\"\n",
      "\n",
      "    else:\n",
      "        keep = np.min([len(passingLocs),keep])\n",
      "        print \"Found \", len(passingLocs), \" Keeping \", keep\n",
      "        \n",
      "        #passingLocs = passingLocs[0:keep]\n",
      "        #passingRads = passingRads[0:keep]\n",
      "        print \"NEED TO GRAB Random ENTRIES FROM END\"\n",
      "        passingLocs = passingLocs[-keep:]\n",
      "        passingRads = passingRads[-keep:]\n",
      "        \n",
      "    return passingLocs,passingRads\n",
      "    "
     ],
     "language": "python",
     "metadata": {},
     "outputs": [],
     "prompt_number": 51
    },
    {
     "cell_type": "markdown",
     "metadata": {},
     "source": [
      "### MC Code"
     ]
    },
    {
     "cell_type": "code",
     "collapsed": false,
     "input": [
      "\n",
      "length = 100.  # [A] \n",
      "ptsPerSide = 3\n",
      "ptRad = 4.0    # [A]\n",
      "locScale = 2.  # random location scale\n",
      "radScale = 1.0 # random radii scale\n",
      "eps = 2.\n",
      "\n",
      "locs,rads = SetLocsRads(ptsPerSide,ptRad,length)\n",
      "passingLocs,passingRads = DoMC(locs,rads,locScale,radScale,eps,keep=3)"
     ],
     "language": "python",
     "metadata": {},
     "outputs": [
      {
       "output_type": "stream",
       "stream": "stdout",
       "text": [
        "Found  5  Keeping  3\n",
        "NEED TO GRAB Random ENTRIES FROM END\n"
       ]
      }
     ],
     "prompt_number": 56
    },
    {
     "cell_type": "code",
     "collapsed": false,
     "input": [
      "for i,nlocs in enumerate(passingLocs):\n",
      "#for i,nlocs in enumerate(alltrials):\n",
      "  nrads = passingRads[i]\n",
      "  plt.figure()  \n",
      "  circles(nlocs[:,0],nlocs[:,1],nrads)\n",
      "\n",
      "  plt.xlim([0,length])\n",
      "  plt.ylim([0,length])\n",
      "  plt.axes().set_aspect('equal')"
     ],
     "language": "python",
     "metadata": {},
     "outputs": [
      {
       "metadata": {},
       "output_type": "display_data",
       "png": "[encoded data removed]",
       "text": [
        "<matplotlib.figure.Figure at 0x7fdc9bee1150>"
       ]
      },
      {
       "metadata": {},
       "output_type": "display_data",
       "png": "[encoded data removed]",
       "text": [
        "<matplotlib.figure.Figure at 0x7fdc9be1f750>"
       ]
      },
      {
       "metadata": {},
       "output_type": "display_data",
       "png": "[encoded data removed]",
       "text": [
        "<matplotlib.figure.Figure at 0x7fdc9ec5b050>"
       ]
      }
     ],
     "prompt_number": 57
    },
    {
     "cell_type": "code",
     "collapsed": false,
     "input": [],
     "language": "python",
     "metadata": {},
     "outputs": [],
     "prompt_number": 57
    },
    {
     "cell_type": "code",
     "collapsed": false,
     "input": [],
     "language": "python",
     "metadata": {},
     "outputs": []
    }
   ],
   "metadata": {}
  }
 ]
}