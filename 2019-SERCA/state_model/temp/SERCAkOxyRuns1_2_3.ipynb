{
 "metadata": {
  "name": "",
  "signature": "sha256:c0db38c1d7e32455a39462a4853c8b8b2cf8510de1f95dabdf56ae2b81a0bd14"
 },
 "nbformat": 3,
 "nbformat_minor": 0,
 "worksheets": [
  {
   "cells": [
    {
     "cell_type": "code",
     "collapsed": false,
     "input": [
      "import loos\n",
      "import sys\n",
      "import math\n",
      "import PyTraj\n",
      "import carbonylDensityAnalysis as cda\n",
      "import binfuncs as bf\n",
      "\n",
      "class empty:pass\n",
      "\n",
      "# autoreload modules \n",
      "%load_ext autoreload\n",
      "%autoreload 2"
     ],
     "language": "python",
     "metadata": {},
     "outputs": [],
     "prompt_number": 2
    },
    {
     "cell_type": "code",
     "collapsed": false,
     "input": [
      "prefix = \"/home/AD/bdst227/namd-mg-lipid/analysis/\"\n",
      "cols = [\"-\",\"-.\",\"--\"]\n",
      "\n",
      "cases = []\n",
      "caseNames = [\"k100nsRun\"]\n",
      "\n",
      "# timing \n",
      "NS_PER_FRAME = 0.002 # [ns/fr] Verified \n",
      "PTRAJ_DOWNSAMPLE = 1 # Verified \n",
      "FRAME_TO_TIME = NS_PER_FRAME * PTRAJ_DOWNSAMPLE\n",
      "\n",
      "runs = [\"1\", \"2\", \"3\"]\n",
      "\n",
      "for i, caseName in enumerate(caseNames):\n",
      "    \n",
      "    for j, run in enumerate(runs):\n",
      "        \n",
      "        holo = empty()\n",
      "        holo.dcdFile = prefix+caseName+run#+ run + \".dcd\"\n",
      "        holo.pdbFile = prefix+\"step5_assemblyJustProtein\"#+ run + \".pdb\"\n",
      "        #holo.col='r'\n",
      "        holo.name = caseName#+run\n",
      "        holo.frame_to_time = FRAME_TO_TIME\n",
      "        cases.append(holo)\n",
      "        print holo.dcdFile\n",
      "\n",
      "# hack\n",
      "#apos = cases[0::2]\n",
      "holos = cases[:]\n",
      "\n",
      "import parvfuncs as pf\n",
      "pf.FRAME_TO_TIME = FRAME_TO_TIME\n",
      "#pf.cols = cols"
     ],
     "language": "python",
     "metadata": {},
     "outputs": [
      {
       "output_type": "stream",
       "stream": "stdout",
       "text": [
        "/home/AD/bdst227/namd-mg-lipid/analysis/k100nsRun1\n",
        "/home/AD/bdst227/namd-mg-lipid/analysis/k100nsRun2\n",
        "/home/AD/bdst227/namd-mg-lipid/analysis/k100nsRun3\n"
       ]
      }
     ],
     "prompt_number": 3
    },
    {
     "cell_type": "code",
     "collapsed": false,
     "input": [
      "for i, case in enumerate(cases):\n",
      "    case.trajs = []\n",
      "    #for j, run in enumerate(runs):\n",
      "    pdbFile = case.pdbFile+\".pdb\"\n",
      "    dcdFile = case.dcdFile+\".dcd\"\n",
      "    print \"Loading \" + dcdFile\n",
      "    case.system=loos.createSystem(pdbFile) # only loading once, since should be same across runs\n",
      "    traj=loos.createTrajectory(dcdFile,case.system)\n",
      "    case.trajs.append(traj)\n",
      "    print \"Frames for %s: %d\" %(case.name,traj.nframes())"
     ],
     "language": "python",
     "metadata": {},
     "outputs": [
      {
       "output_type": "stream",
       "stream": "stdout",
       "text": [
        "Loading /home/AD/bdst227/namd-mg-lipid/analysis/mg50nsRun1.dcd\n",
        "Frames for mg50nsRun: 25000"
       ]
      },
      {
       "output_type": "stream",
       "stream": "stdout",
       "text": [
        "\n",
        "Loading /home/AD/bdst227/namd-mg-lipid/analysis/mg50nsRun2.dcd\n",
        "Frames for mg50nsRun: 25000"
       ]
      },
      {
       "output_type": "stream",
       "stream": "stdout",
       "text": [
        "\n",
        "Loading /home/AD/bdst227/namd-mg-lipid/analysis/mg50nsRun3.dcd\n",
        "Frames for mg50nsRun: 25000"
       ]
      },
      {
       "output_type": "stream",
       "stream": "stdout",
       "text": [
        "\n"
       ]
      }
     ],
     "prompt_number": 22
    },
    {
     "cell_type": "code",
     "collapsed": false,
     "input": [
      "alldists = []\n",
      "alltimes = []\n",
      "for i,case in enumerate(holos):\n",
      "  sel1 = loos.selectAtoms(case.system,'name == \"MG\" && resid == 1002')\n",
      "  sel2 = loos.selectAtoms(case.system,'name == \"OE1\" && resid == 771')\n",
      "  #for j, run in enumerate(runs):\n",
      "  run = 1\n",
      "  idx = np.int(run)-1 # since not zero-indexes    \n",
      "  dists = pf.dodist(case,idx,sel1,sel2)\n",
      "  alldists.append(dists[:,1])\n",
      "  alltimes.append(dists[:,0])\n",
      "  plot(dists[:,0],dists[:,1],label = \"SERCA_lipid_MG_run%s\" %(i+1))\n",
      " # plot(dists[:,1],case.col,label=\"%s\"%(case.name) )\n",
      "        \n",
      "plt.xlabel(\"time [ns]\")\n",
      "plt.ylabel(\"Dist [Ang]\") \n",
      "plt.title(\"MGdist_OE1_771\")\n",
      "plt.legend(loc=2)\n",
      "plt.gcf().savefig(\"_MGDist.png\")\n",
      "\n"
     ],
     "language": "python",
     "metadata": {},
     "outputs": [
      {
       "output_type": "stream",
       "stream": "stdout",
       "text": [
        "25000\n",
        "25000"
       ]
      },
      {
       "output_type": "stream",
       "stream": "stdout",
       "text": [
        "\n",
        "25000"
       ]
      },
      {
       "output_type": "stream",
       "stream": "stdout",
       "text": [
        "\n"
       ]
      },
      {
       "metadata": {},
       "output_type": "display_data",
       "png": "[encoded data removed]",
       "text": [
        "<matplotlib.figure.Figure at 0x7fe69c180410>"
       ]
      }
     ],
     "prompt_number": 31
    },
    {
     "cell_type": "code",
     "collapsed": false,
     "input": [
      "alldists = []\n",
      "alltimes = []\n",
      "for i,case in enumerate(holos):\n",
      "  sel1 = loos.selectAtoms(case.system,'name == \"MG\" && resid == 1002')\n",
      "  sel2 = loos.selectAtoms(case.system,'name == \"OE2\" && resid == 771')\n",
      "  #for j, run in enumerate(runs):\n",
      "  run = 1\n",
      "  idx = np.int(run)-1 # since not zero-indexes    \n",
      "  dists = pf.dodist(case,idx,sel1,sel2)\n",
      "  alldists.append(dists[:,1])\n",
      "  alltimes.append(dists[:,0])\n",
      "  plot(dists[:,0],dists[:,1],label = \"SERCA_lipid_MG_run%s\" %(i+1))\n",
      " # plot(dists[:,1],case.col,label=\"%s\"%(case.name) )\n",
      "        \n",
      "plt.xlabel(\"time [ns]\")\n",
      "plt.ylabel(\"Dist [Ang]\") \n",
      "plt.title(\"MGdist_OE2_771\")\n",
      "plt.legend(loc=2)\n",
      "plt.gcf().savefig(\"_MGDist.png\")\n",
      "\n"
     ],
     "language": "python",
     "metadata": {},
     "outputs": [
      {
       "output_type": "stream",
       "stream": "stdout",
       "text": [
        "25000\n",
        "25000"
       ]
      },
      {
       "output_type": "stream",
       "stream": "stdout",
       "text": [
        "\n",
        "25000"
       ]
      },
      {
       "output_type": "stream",
       "stream": "stdout",
       "text": [
        "\n"
       ]
      },
      {
       "metadata": {},
       "output_type": "display_data",
       "png": "[encoded data removed]",
       "text": [
        "<matplotlib.figure.Figure at 0x7fe6940a2650>"
       ]
      }
     ],
     "prompt_number": 32
    },
    {
     "cell_type": "code",
     "collapsed": false,
     "input": [
      "alldists = []\n",
      "alltimes = []\n",
      "for i,case in enumerate(holos):\n",
      "  sel1 = loos.selectAtoms(case.system,'name == \"MG\" && resid == 1002')\n",
      "  sel2 = loos.selectAtoms(case.system,'name == \"OD2\" && resid == 800')\n",
      "  #for j, run in enumerate(runs):\n",
      "  run = 1\n",
      "  idx = np.int(run)-1 # since not zero-indexes    \n",
      "  dists = pf.dodist(case,idx,sel1,sel2)\n",
      "  alldists.append(dists[:,1])\n",
      "  alltimes.append(dists[:,0])\n",
      "  plot(dists[:,0],dists[:,1],label = \"SERCA_lipid_MG_run%s\" %(i+1))\n",
      " # plot(dists[:,1],case.col,label=\"%s\"%(case.name) )\n",
      "        \n",
      "plt.xlabel(\"time [ns]\")\n",
      "plt.ylabel(\"Dist [Ang]\") \n",
      "plt.title(\"MGdist_OD2_800\")\n",
      "plt.legend(loc=2)\n",
      "plt.gcf().savefig(\"_MGDist.png\")\n",
      "\n"
     ],
     "language": "python",
     "metadata": {},
     "outputs": [
      {
       "output_type": "stream",
       "stream": "stdout",
       "text": [
        "25000\n",
        "25000"
       ]
      },
      {
       "output_type": "stream",
       "stream": "stdout",
       "text": [
        "\n",
        "25000"
       ]
      },
      {
       "output_type": "stream",
       "stream": "stdout",
       "text": [
        "\n"
       ]
      },
      {
       "metadata": {},
       "output_type": "display_data",
       "png": "[encoded data removed]",
       "text": [
        "<matplotlib.figure.Figure at 0x7fe69d7b8510>"
       ]
      }
     ],
     "prompt_number": 33
    },
    {
     "cell_type": "code",
     "collapsed": false,
     "input": [
      "alldists = []\n",
      "alltimes = []\n",
      "for i,case in enumerate(holos):\n",
      "  sel1 = loos.selectAtoms(case.system,'name == \"MG\" && resid == 1002')\n",
      "  sel2 = loos.selectAtoms(case.system,'name == \"OD1\" && resid == 796')\n",
      "  #for j, run in enumerate(runs):\n",
      "  run = 1\n",
      "  idx = np.int(run)-1 # since not zero-indexes    \n",
      "  dists = pf.dodist(case,idx,sel1,sel2)\n",
      "  alldists.append(dists[:,1])\n",
      "  alltimes.append(dists[:,0])\n",
      "  plot(dists[:,0],dists[:,1],label = \"SERCA_lipid_MG_run%s\" %(i+1))\n",
      " # plot(dists[:,1],case.col,label=\"%s\"%(case.name) )\n",
      "        \n",
      "plt.xlabel(\"time [ns]\")\n",
      "plt.ylabel(\"Dist [Ang]\") \n",
      "plt.title(\"MGdist_OD1_796\")\n",
      "plt.legend(loc=2)\n",
      "plt.gcf().savefig(\"_MGDist.png\")\n",
      "\n"
     ],
     "language": "python",
     "metadata": {},
     "outputs": [
      {
       "output_type": "stream",
       "stream": "stdout",
       "text": [
        "25000\n",
        "25000"
       ]
      },
      {
       "output_type": "stream",
       "stream": "stdout",
       "text": [
        "\n",
        "25000"
       ]
      },
      {
       "output_type": "stream",
       "stream": "stdout",
       "text": [
        "\n"
       ]
      },
      {
       "metadata": {},
       "output_type": "display_data",
       "png": "[encoded data removed]",
       "text": [
        "<matplotlib.figure.Figure at 0x7fe69c05bcd0>"
       ]
      }
     ],
     "prompt_number": 34
    },
    {
     "cell_type": "code",
     "collapsed": false,
     "input": [
      "alldists = []\n",
      "alltimes = []\n",
      "for i,case in enumerate(holos):\n",
      "  sel1 = loos.selectAtoms(case.system,'name == \"MG\" && resid == 1002')\n",
      "  sel2 = loos.selectAtoms(case.system,'name == \"OD1\" && resid == 768')\n",
      "  #for j, run in enumerate(runs):\n",
      "  run = 1\n",
      "  idx = np.int(run)-1 # since not zero-indexes    \n",
      "  dists = pf.dodist(case,idx,sel1,sel2)\n",
      "  alldists.append(dists[:,1])\n",
      "  alltimes.append(dists[:,0])\n",
      "  plot(dists[:,0],dists[:,1],label = \"SERCA_lipid_MG_run%s\" %(i+1))\n",
      " # plot(dists[:,1],case.col,label=\"%s\"%(case.name) )\n",
      "        \n",
      "plt.xlabel(\"time [ns]\")\n",
      "plt.ylabel(\"Dist [Ang]\") \n",
      "plt.title(\"MGdist_OD1_768\")\n",
      "plt.legend(loc=2)\n",
      "plt.gcf().savefig(\"_MGDist.png\")\n",
      "\n"
     ],
     "language": "python",
     "metadata": {},
     "outputs": [
      {
       "output_type": "stream",
       "stream": "stdout",
       "text": [
        "25000\n",
        "25000"
       ]
      },
      {
       "output_type": "stream",
       "stream": "stdout",
       "text": [
        "\n",
        "25000"
       ]
      },
      {
       "output_type": "stream",
       "stream": "stdout",
       "text": [
        "\n"
       ]
      },
      {
       "metadata": {},
       "output_type": "display_data",
       "png": "[encoded data removed]",
       "text": [
        "<matplotlib.figure.Figure at 0x7fe69c005ad0>"
       ]
      }
     ],
     "prompt_number": 35
    },
    {
     "cell_type": "code",
     "collapsed": false,
     "input": [
      "alldists = []\n",
      "alltimes = []\n",
      "for i,case in enumerate(holos):\n",
      "  sel1 = loos.selectAtoms(case.system,'name == \"MG\" && resid == 1002')\n",
      "  sel2 = loos.selectAtoms(case.system,'name == \"O\" && resid == 305')\n",
      "  #for j, run in enumerate(runs):\n",
      "  run = 1\n",
      "  idx = np.int(run)-1 # since not zero-indexes    \n",
      "  dists = pf.dodist(case,idx,sel1,sel2)\n",
      "  alldists.append(dists[:,1])\n",
      "  alltimes.append(dists[:,0])\n",
      "  plot(dists[:,0],dists[:,1],label = \"SERCA_lipid_MG_run%s\" %(i+1))\n",
      " # plot(dists[:,1],case.col,label=\"%s\"%(case.name) )\n",
      "        \n",
      "plt.xlabel(\"time [ns]\")\n",
      "plt.ylabel(\"Dist [Ang]\") \n",
      "plt.title(\"MGdist_O_305\")\n",
      "plt.legend(loc=2)\n",
      "plt.gcf().savefig(\"_MGDist.png\")\n",
      "\n"
     ],
     "language": "python",
     "metadata": {},
     "outputs": [
      {
       "output_type": "stream",
       "stream": "stdout",
       "text": [
        "25000\n",
        "25000"
       ]
      },
      {
       "output_type": "stream",
       "stream": "stdout",
       "text": [
        "\n",
        "25000"
       ]
      },
      {
       "output_type": "stream",
       "stream": "stdout",
       "text": [
        "\n"
       ]
      },
      {
       "metadata": {},
       "output_type": "display_data",
       "png": "[encoded data removed]",
       "text": [
        "<matplotlib.figure.Figure at 0x7fe69c011350>"
       ]
      }
     ],
     "prompt_number": 36
    },
    {
     "cell_type": "code",
     "collapsed": false,
     "input": [
      "alldists = []\n",
      "alltimes = []\n",
      "for i,case in enumerate(holos):\n",
      "  sel1 = loos.selectAtoms(case.system,'name == \"MG\" && resid == 1002')\n",
      "  sel2 = loos.selectAtoms(case.system,'name == \"OD1\" && resid == 800')\n",
      "  #for j, run in enumerate(runs):\n",
      "  run = 1\n",
      "  idx = np.int(run)-1 # since not zero-indexes    \n",
      "  dists = pf.dodist(case,idx,sel1,sel2)\n",
      "  alldists.append(dists[:,1])\n",
      "  alltimes.append(dists[:,0])\n",
      "  plot(dists[:,0],dists[:,1],label = \"SERCA_lipid_MG_run%s\" %(i+1))\n",
      " # plot(dists[:,1],case.col,label=\"%s\"%(case.name) )\n",
      "        \n",
      "plt.xlabel(\"time [ns]\")\n",
      "plt.ylabel(\"Dist [Ang]\") \n",
      "plt.title(\"MGdist_OD1_800\")\n",
      "plt.legend(loc=2)\n",
      "plt.gcf().savefig(\"_MGDist.png\")\n"
     ],
     "language": "python",
     "metadata": {},
     "outputs": [
      {
       "output_type": "stream",
       "stream": "stdout",
       "text": [
        "25000\n",
        "25000"
       ]
      },
      {
       "output_type": "stream",
       "stream": "stdout",
       "text": [
        "\n",
        "25000"
       ]
      },
      {
       "output_type": "stream",
       "stream": "stdout",
       "text": [
        "\n"
       ]
      },
      {
       "metadata": {},
       "output_type": "display_data",
       "png": "[encoded data removed]",
       "text": [
        "<matplotlib.figure.Figure at 0x7fe69c180910>"
       ]
      }
     ],
     "prompt_number": 37
    },
    {
     "cell_type": "code",
     "collapsed": false,
     "input": [
      "prefix = \"/home/AD/bdst227/namd-k-lipid/analysis/\"\n",
      "cols = [\"-\",\"-.\",\"--\"]\n",
      "\n",
      "cases = []\n",
      "caseNames = [\"k100nsRun3\"]\n",
      "\n",
      "# timing \n",
      "NS_PER_FRAME = 0.002 # [ns/fr] Verified \n",
      "PTRAJ_DOWNSAMPLE = 1 # Verified \n",
      "FRAME_TO_TIME = NS_PER_FRAME * PTRAJ_DOWNSAMPLE\n",
      "\n",
      "#runs = [\"1\", \"2\", \"3\"]\n",
      "runs = [\"1\"]\n",
      "\n",
      "for i, caseName in enumerate(caseNames):\n",
      "    \n",
      "   for j, run in enumerate(runs):\n",
      "        holo = empty()\n",
      "        holo.dcdFile = prefix+caseName+\"_10\"#+ run + \".dcd\"\n",
      "        holo.pdbFile = prefix+\"step5_assemblyJustProtein_10\"#+ run + \".pdb\"\n",
      "        holo.col='r'\n",
      "        holo.name = caseName#+run\n",
      "        holo.frame_to_time = FRAME_TO_TIME\n",
      "        cases.append(holo)\n",
      "        print holo.dcdFile\n",
      "\n",
      "# hack\n",
      "#apos = cases[0::2]\n",
      "holos = cases[:]\n",
      "\n",
      "import parvfuncs as pf\n",
      "pf.FRAME_TO_TIME = FRAME_TO_TIME\n",
      "pf.cols = cols"
     ],
     "language": "python",
     "metadata": {},
     "outputs": [
      {
       "output_type": "stream",
       "stream": "stdout",
       "text": [
        "/home/AD/bdst227/namd-k-lipid/analysis/k100nsRun3_10\n"
       ]
      }
     ],
     "prompt_number": 21
    },
    {
     "cell_type": "code",
     "collapsed": false,
     "input": [
      "for i, case in enumerate(cases):\n",
      "    case.trajs = []\n",
      "    #for j, run in enumerate(runs):\n",
      "    pdbFile = case.pdbFile+\".pdb\"\n",
      "    dcdFile = case.dcdFile+\".dcd\"\n",
      "    print \"Loading \" + dcdFile\n",
      "    case.system=loos.createSystem(pdbFile) # only loading once, since should be same across runs\n",
      "    traj=loos.createTrajectory(dcdFile,case.system)\n",
      "    case.trajs.append(traj)\n",
      "    print \"Frames for %s: %d\" %(case.name,traj.nframes())"
     ],
     "language": "python",
     "metadata": {},
     "outputs": [
      {
       "output_type": "stream",
       "stream": "stdout",
       "text": [
        "Loading /home/AD/bdst227/namd-k-lipid/analysis/k100nsRun3_10.dcd\n",
        "Frames for k100nsRun3: 50000\n"
       ]
      }
     ],
     "prompt_number": 22
    },
    {
     "cell_type": "code",
     "collapsed": false,
     "input": [
      "def CarbonylDensityAnalysis_BS(case,idx=0,\\\n",
      "                            loopType = \"cEF\", \n",
      "                            calIdx = 109,\n",
      "                            binMin=-1,\n",
      "                            binMax=-1,\n",
      "                            res = 0.5, # Angstroms\n",
      "                            timeStepMax = None\n",
      "                            ):\n",
      "\n",
      "    ## Make selection\n",
      "    selAllOs = loos.selectAtoms(case.system,'name=~\"O\"&&name!=\"POT\"') # &&segid==\"PROA\"')\n",
      "    selCa = loos.selectAtoms(case.system,'name==\"POT\"&& resid==%d'%(calIdx))\n",
      "    print selAllOs\n",
      "\n",
      "    ## compute all distancers\n",
      "    nOs = selAllOs.size()\n",
      "    #print nOs\n",
      "    if timeStepMax==None:\n",
      "    #  print \"Trajs Idx \", case.trajs[idx].nframes()\n",
      "      nTs = case.trajs[idx].nframes()\n",
      "    else:\n",
      "      nTs = timeStepMax\n",
      "      # use value passed in\n",
      "        \n",
      "    #print \"nFrame \" , nTs\n",
      "    allDists = np.zeros((nOs,nTs))\n",
      "    ts = np.zeros(nTs)\n",
      "    coordinating=[]\n",
      "    for i in range(nOs):\n",
      "        selO = selAllOs.subset(i,1)\n",
      "        dists = pf.dodist(case,idx,selO,selCa)\n",
      "       # print np.shape(dists)\n",
      "        allDists[i,:] = dists[0:nTs,1] \n",
      "        ts  = dists[0:nTs,0]\n",
      "        \n",
      "     #   singleDist = allDists[i,-1]\n",
      "     #   if singleDist < 3.0:\n",
      "     #     coordinating.append(i)  \n",
      "     #     print \"im coordinating at %f/%s Ang\"%(singleDist,\"cat\")\n",
      "     #     print selO\n",
      "       # print allDists[i,:]\n",
      "    \n",
      "    #myFile = \"case0idx%d_dists.txt\"%idx\n",
      "    #np.savetxt(myFile,allDists)\n",
      "    #myFile = \"case0idx%d_ts.txt\"%idx\n",
      "    #np.savetxt(myFile,ts)\n",
      "\n",
      "    ## get bounds for binning \n",
      "    if binMin<0:\n",
      "        binMin=np.floor(np.min(allDists))\n",
      "    if binMax<0:\n",
      "        binMax=np.ceil(np.max(allDists))\n",
      "\n",
      "    ## do binning for each O-Ca dist\n",
      "    zs=[]\n",
      "    zCs=[]\n",
      "    for i in range(nOs):\n",
      "      grid_t,grid_r,z = BinTimeSeries_BS(allDists[i,:],binMin,binMax,res=res,plot=False)#plot=True)\n",
      "      zs.append(z)\n",
      "        \n",
      "      # debug \n",
      "   #   if i in coordinating:  \n",
      "   #     grid_t,grid_r,z = BinTimeSeries_BS(allDists[i,:],binMin,binMax,res=res,plot=True)\n",
      "   #     zCs.append(z)\n",
      "\n",
      "           \n",
      "    ## display density \n",
      "    dummy=plotOxyDensity_BS(grid_t,grid_r,zs,title=loopType)\n",
      "\n",
      "    return grid_t,grid_r,zCs    \n",
      " \n"
     ],
     "language": "python",
     "metadata": {},
     "outputs": [],
     "prompt_number": 14
    },
    {
     "cell_type": "code",
     "collapsed": false,
     "input": [
      "def BinTimeSeries_BS(data,binMin,binMax,res=1.,plot=True):\n",
      "    \n",
      "    # define bins \n",
      "    nBins = np.int((1/res)*(binMax-binMin)+1)\n",
      "    bins = (np.linspace(binMin, binMax, nBins)) - 0.25\n",
      "    #print \"bins: \" , bins\n",
      "\n",
      "    \n",
      "    #digitize into bins \n",
      "    digitized = np.digitize(data, bins)\n",
      "\n",
      "    # create 2D matrix of bin versus time\n",
      "    nTs = np.shape(data)[0]\n",
      "    z=np.zeros((nBins,nTs))\n",
      "    for i in range(nBins):\n",
      "      z[i,np.where(digitized==i)]=1\n",
      "\n",
      "    # create 2D coordinates and plot\n",
      "    grid_t,grid_r = np.mgrid[0:(nTs-1):(nTs*1j),binMin:binMax:(nBins*1j)]\n",
      "    #np.shape(grid_x)\n",
      "    #pcolormesh(z)\n",
      "    if plot:\n",
      "      plt.figure()\n",
      "      plt.pcolormesh(grid_t,grid_r,z.transpose())\n",
      "    return grid_t,grid_r,z\n"
     ],
     "language": "python",
     "metadata": {},
     "outputs": [],
     "prompt_number": 11
    },
    {
     "cell_type": "code",
     "collapsed": false,
     "input": [
      "ts,rs,zs=CarbonylDensityAnalysis_BS(case, idx=idx, loopType=\"Mg to Oxy distance in run %d\"%idx, calIdx = 1002, binMax=15,\\\n",
      "                                   timeStepMax=3)"
     ],
     "language": "python",
     "metadata": {},
     "outputs": [
      {
       "ename": "SystemError",
       "evalue": "'finally' pops bad exception",
       "output_type": "pyerr",
       "traceback": [
        "\u001b[0;31m---------------------------------------------------------------------------\u001b[0m\n\u001b[0;31mSystemError\u001b[0m                               Traceback (most recent call last)",
        "\u001b[0;31mSystemError\u001b[0m: 'finally' pops bad exception"
       ]
      }
     ],
     "prompt_number": 12
    },
    {
     "cell_type": "code",
     "collapsed": false,
     "input": [
      "def plotOxyDensity_BS(grid_t, grid_r, zs, title = \"NONE\",nCalCoord = 6.,ylimMax=1.):\n",
      "      xlimLim = [0,12]\n",
      "      frames_to_time = 0.002\n",
      "      print nCalCoord\n",
      "      scaleByCoordinationNumber = 1 / nCalCoord\n",
      "      ylimLim = [0,ylimMax]\n",
      "  \n",
      "      ar = np.sum(zs,axis=0)\n",
      "\n",
      "      \n",
      "        \n",
      "      # density plot \n",
      "      plt.subplot(211)\n",
      "      plt.tight_layout()\n",
      "      plt.title(title)\n",
      "      plt.xlabel(\"Time (ns)\",fontsize=14, weight=\"bold\")\n",
      "      plt.ylabel(\"K/O \\n distance [A]\",fontsize=14, weight=\"bold\")\n",
      "      plt.pcolormesh(grid_t * frames_to_time,grid_r,ar.transpose())\n",
      "      plt.colorbar()\n",
      "      plt.clim([0,nCalCoord])\n",
      "      plt.ylim([0,12])\n",
      "\n",
      "      # histogram plot\n",
      "      plt.subplot(212)\n",
      "      plt.tight_layout()\n",
      "      plt.xlabel(\"K/O distance [A]\",fontsize=14, weight=\"bold\")\n",
      "      plt.ylabel(\"Radial \\n Distribution\",fontsize=14, weight=\"bold\") \n",
      "      histo=np.sum(ar,axis=1)\n",
      "      nTs  = np.shape(ar)[1]\n",
      "      plt.plot(grid_r[0,:],histo/nTs,'-o')\n",
      "      plt.tight_layout()\n",
      "      plt.xlim([0,12])\n",
      "      plt.ylim([0,7])\n",
      "     \n",
      "     # output=np.column_stack((grid_r[0,:],ar))  \n",
      "      ar_title=\"ar_\"+title+\".txt\"\n",
      "      np.savetxt(ar_title,ar)\n",
      "          \n",
      "      plt.gcf().savefig(title+\".png\")\n",
      "        \n",
      "      # save data \n",
      "      l = np.mean(ar,axis=1) #Same as summing up and averaging over nTs.  See above.\n",
      "      s = np.std(ar,axis=1)\n",
      "      j = np.zeros([np.shape(l)[0],3])\n",
      "      j[:,0] = grid_r[0,:]\n",
      "      j[:,1] = l\n",
      "      j[:,2] = s\n",
      "\n",
      "      np.savetxt(title + \".txt\",j)\n",
      "      return ar\n"
     ],
     "language": "python",
     "metadata": {},
     "outputs": [],
     "prompt_number": 8
    },
    {
     "cell_type": "code",
     "collapsed": false,
     "input": [
      "for i, case in enumerate(cases):\n",
      "    for j, run in enumerate(runs):\n",
      "        idx = np.int(run)-1\n",
      "        plt.figure()\n",
      "        CarbonylDensityAnalysis_BS(case, idx=idx, loopType=\"K1_to_Oxy_distance_in_run_1\", calIdx = 1106, binMax=15)"
     ],
     "language": "python",
     "metadata": {},
     "outputs": [
      {
       "output_type": "stream",
       "stream": "stdout",
       "text": [
        "<GROUP PERIODIC='(111.792,111.792,168.346)'>\n",
        "   <ATOM INDEX='18' ID='19' NAME='O' RESID='97' RESNAME='ILE' COORDS='(-1.4709,32.1187,1.38028)' ALTLOC='' CHAINID='X' ICODE='' SEGID='PROA' B='0' Q='1' CHARGE='0' MASS='1' ATOMICNUMBER='-1' MASK='201'/>\n",
        "   <ATOM INDEX='37' ID='38' NAME='O' RESID='98' RESNAME='LEU' COORDS='(-3.02829,33.2006,4.51143)' ALTLOC='' CHAINID='X' ICODE='' SEGID='PROA' B='0' Q='1' CHARGE='0' MASS='1' ATOMICNUMBER='-1' MASK='201'/>\n",
        "   <ATOM INDEX='46' ID='47' NAME='OD1' RESID='101' RESNAME='ASN' COORDS='(1.328,33.7192,5.86155)' ALTLOC='' CHAINID='X' ICODE='' SEGID='PROA' B='0' Q='1' CHARGE='0' MASS='1' ATOMICNUMBER='-1' MASK='201'/>\n",
        "   <ATOM INDEX='51' ID='52' NAME='O' RESID='101' RESNAME='ASN' COORDS='(0.0173373,30.8164,7.3795)' ALTLOC='' CHAINID='X' ICODE='' SEGID='PROA' B='0' Q='1' CHARGE='0' MASS='1' ATOMICNUMBER='-1' MASK='201'/>\n",
        "   <ATOM INDEX='67' ID='68' NAME='O' RESID='104' RESNAME='VAL' COORDS='(1.61222,27.0489,10.0273)' ALTLOC='' CHAINID='X' ICODE='' SEGID='PROA' B='0' Q='1' CHARGE='0' MASS='1' ATOMICNUMBER='-1' MASK='201'/>\n",
        "   <ATOM INDEX='79' ID='80' NAME='OE1' RESID='108' RESNAME='GLN' COORDS='(5.37677,24.795,12.037)' ALTLOC='' CHAINID='X' ICODE='' SEGID='PROA' B='0' Q='1' CHARGE='0' MASS='1' ATOMICNUMBER='-1' MASK='201'/>\n",
        "   <ATOM INDEX='84' ID='85' NAME='O' RESID='108' RESNAME='GLN' COORDS='(3.32029,26.2168,16.4812)' ALTLOC='' CHAINID='X' ICODE='' SEGID='PROA' B='0' Q='1' CHARGE='0' MASS='1' ATOMICNUMBER='-1' MASK='201'/>\n",
        "   <ATOM INDEX='103' ID='104' NAME='O' RESID='264' RESNAME='ILE' COORDS='(14.7056,45.2981,-0.119568)' ALTLOC='' CHAINID='X' ICODE='' SEGID='PROA' B='0' Q='1' CHARGE='0' MASS='1' ATOMICNUMBER='-1' MASK='201'/>\n",
        "   <ATOM INDEX='113' ID='114' NAME='O' RESID='301' RESNAME='ALA' COORDS='(6.57709,39.6916,-1.41085)' ALTLOC='' CHAINID='X' ICODE='' SEGID='PROA' B='0' Q='1' CHARGE='0' MASS='1' ATOMICNUMBER='-1' MASK='201'/>\n",
        "   <ATOM INDEX='132' ID='133' NAME='O' RESID='302' RESNAME='LEU' COORDS='(9.91014,39.9855,-0.238072)' ALTLOC='' CHAINID='X' ICODE='' SEGID='PROA' B='0' Q='1' CHARGE='0' MASS='1' ATOMICNUMBER='-1' MASK='201'/>\n",
        "   <ATOM INDEX='142' ID='143' NAME='O' RESID='303' RESNAME='ALA' COORDS='(8.45816,41.7857,3.00713)' ALTLOC='' CHAINID='X' ICODE='' SEGID='PROA' B='0' Q='1' CHARGE='0' MASS='1' ATOMICNUMBER='-1' MASK='201'/>\n",
        "   <ATOM INDEX='158' ID='159' NAME='O' RESID='304' RESNAME='VAL' COORDS='(6.25739,38.6749,3.41168)' ALTLOC='' CHAINID='X' ICODE='' SEGID='PROA' B='0' Q='1' CHARGE='0' MASS='1' ATOMICNUMBER='-1' MASK='201'/>\n",
        "   <ATOM INDEX='168' ID='169' NAME='O' RESID='305' RESNAME='ALA' COORDS='(8.87082,36.0493,3.13554)' ALTLOC='' CHAINID='X' ICODE='' SEGID='PROA' B='0' Q='1' CHARGE='0' MASS='1' ATOMICNUMBER='-1' MASK='201'/>\n",
        "   <ATOM INDEX='178' ID='179' NAME='O' RESID='306' RESNAME='ALA' COORDS='(11.1883,39.1382,6.02426)' ALTLOC='' CHAINID='X' ICODE='' SEGID='PROA' B='0' Q='1' CHARGE='0' MASS='1' ATOMICNUMBER='-1' MASK='201'/>\n",
        "   <ATOM INDEX='197' ID='198' NAME='O' RESID='307' RESNAME='ILE' COORDS='(9.68068,37.0702,8.60673)' ALTLOC='' CHAINID='X' ICODE='' SEGID='PROA' B='0' Q='1' CHARGE='0' MASS='1' ATOMICNUMBER='-1' MASK='201'/>\n",
        "   <ATOM INDEX='211' ID='212' NAME='O' RESID='308' RESNAME='PRO' COORDS='(11.2085,37.4779,12.1051)' ALTLOC='' CHAINID='X' ICODE='' SEGID='PROA' B='0' Q='1' CHARGE='0' MASS='1' ATOMICNUMBER='-1' MASK='201'/>\n",
        "   <ATOM INDEX='223' ID='224' NAME='OE1' RESID='309' RESNAME='GLU' COORDS='(5.72013,39.9701,15.2851)' ALTLOC='' CHAINID='X' ICODE='' SEGID='PROA' B='0' Q='1' CHARGE='0' MASS='1' ATOMICNUMBER='-1' MASK='201'/>\n",
        "   <ATOM INDEX='224' ID='225' NAME='OE2' RESID='309' RESNAME='GLU' COORDS='(5.58862,41.5537,13.7152)' ALTLOC='' CHAINID='X' ICODE='' SEGID='PROA' B='0' Q='1' CHARGE='0' MASS='1' ATOMICNUMBER='-1' MASK='201'/>\n",
        "   <ATOM INDEX='226' ID='227' NAME='O' RESID='309' RESNAME='GLU' COORDS='(8.01181,35.3876,13.3363)' ALTLOC='' CHAINID='X' ICODE='' SEGID='PROA' B='0' Q='1' CHARGE='0' MASS='1' ATOMICNUMBER='-1' MASK='201'/>\n",
        "   <ATOM INDEX='233' ID='234' NAME='O' RESID='310' RESNAME='GLY' COORDS='(9.33784,32.3323,10.8811)' ALTLOC='' CHAINID='X' ICODE='' SEGID='PROA' B='0' Q='1' CHARGE='0' MASS='1' ATOMICNUMBER='-1' MASK='201'/>\n",
        "   <ATOM INDEX='252' ID='253' NAME='O' RESID='311' RESNAME='LEU' COORDS='(12.7805,31.5306,12.2273)' ALTLOC='' CHAINID='X' ICODE='' SEGID='PROA' B='0' Q='1' CHARGE='0' MASS='1' ATOMICNUMBER='-1' MASK='201'/>\n",
        "   <ATOM INDEX='272' ID='273' NAME='O' RESID='760' RESNAME='PHE' COORDS='(16.8833,25.9838,7.73624)' ALTLOC='' CHAINID='X' ICODE='' SEGID='PROA' B='0' Q='1' CHARGE='0' MASS='1' ATOMICNUMBER='-1' MASK='201'/>\n",
        "   <ATOM INDEX='291' ID='292' NAME='O' RESID='761' RESNAME='ILE' COORDS='(19.4901,28.2184,7.38106)' ALTLOC='' CHAINID='X' ICODE='' SEGID='PROA' B='0' Q='1' CHARGE='0' MASS='1' ATOMICNUMBER='-1' MASK='201'/>\n",
        "   <ATOM INDEX='315' ID='316' NAME='O' RESID='762' RESNAME='ARG' COORDS='(20.5714,27.3007,4.55925)' ALTLOC='' CHAINID='X' ICODE='' SEGID='PROA' B='0' Q='1' CHARGE='0' MASS='1' ATOMICNUMBER='-1' MASK='201'/>\n",
        "   <ATOM INDEX='329' ID='330' NAME='OH' RESID='763' RESNAME='TYR' COORDS='(12.0227,25.2693,1.71798)' ALTLOC='' CHAINID='X' ICODE='' SEGID='PROA' B='0' Q='1' CHARGE='0' MASS='1' ATOMICNUMBER='-1' MASK='201'/>\n",
        "   <ATOM INDEX='336' ID='337' NAME='O' RESID='763' RESNAME='TYR' COORDS='(17.1581,27.7616,3.32213)' ALTLOC='' CHAINID='X' ICODE='' SEGID='PROA' B='0' Q='1' CHARGE='0' MASS='1' ATOMICNUMBER='-1' MASK='201'/>\n",
        "   <ATOM INDEX='355' ID='356' NAME='O' RESID='764' RESNAME='LEU' COORDS='(16.8508,31.0525,4.47653)' ALTLOC='' CHAINID='X' ICODE='' SEGID='PROA' B='0' Q='1' CHARGE='0' MASS='1' ATOMICNUMBER='-1' MASK='201'/>\n",
        "   <ATOM INDEX='374' ID='375' NAME='O' RESID='765' RESNAME='ILE' COORDS='(20.2819,32.1345,2.99827)' ALTLOC='' CHAINID='X' ICODE='' SEGID='PROA' B='0' Q='1' CHARGE='0' MASS='1' ATOMICNUMBER='-1' MASK='201'/>\n",
        "   <ATOM INDEX='382' ID='383' NAME='OG' RESID='766' RESNAME='SER' COORDS='(20.1813,27.2133,1.90218)' ALTLOC='' CHAINID='X' ICODE='' SEGID='PROA' B='0' Q='1' CHARGE='0' MASS='1' ATOMICNUMBER='-1' MASK='201'/>\n",
        "   <ATOM INDEX='385' ID='386' NAME='O' RESID='766' RESNAME='SER' COORDS='(19.6488,30.6215,0.0384066)' ALTLOC='' CHAINID='X' ICODE='' SEGID='PROA' B='0' Q='1' CHARGE='0' MASS='1' ATOMICNUMBER='-1' MASK='201'/>\n",
        "   <ATOM INDEX='393' ID='394' NAME='OG' RESID='767' RESNAME='SER' COORDS='(15.3183,28.6416,1.5904)' ALTLOC='' CHAINID='X' ICODE='' SEGID='PROA' B='0' Q='1' CHARGE='0' MASS='1' ATOMICNUMBER='-1' MASK='201'/>\n",
        "   <ATOM INDEX='396' ID='397' NAME='O' RESID='767' RESNAME='SER' COORDS='(16.9684,32.3316,-0.426937)' ALTLOC='' CHAINID='X' ICODE='' SEGID='PROA' B='0' Q='1' CHARGE='0' MASS='1' ATOMICNUMBER='-1' MASK='201'/>\n",
        "   <ATOM INDEX='405' ID='406' NAME='OD1' RESID='768' RESNAME='ASN' COORDS='(18.7535,36.1834,4.15143)' ALTLOC='' CHAINID='X' ICODE='' SEGID='PROA' B='0' Q='1' CHARGE='0' MASS='1' ATOMICNUMBER='-1' MASK='201'/>\n",
        "   <ATOM INDEX='410' ID='411' NAME='O' RESID='768' RESNAME='ASN' COORDS='(18.0239,35.4328,0.0497551)' ALTLOC='' CHAINID='X' ICODE='' SEGID='PROA' B='0' Q='1' CHARGE='0' MASS='1' ATOMICNUMBER='-1' MASK='201'/>\n",
        "   <ATOM INDEX='426' ID='427' NAME='O' RESID='769' RESNAME='VAL' COORDS='(20.6135,35.2862,-2.21566)' ALTLOC='' CHAINID='X' ICODE='' SEGID='PROA' B='0' Q='1' CHARGE='0' MASS='1' ATOMICNUMBER='-1' MASK='201'/>\n",
        "   <ATOM INDEX='433' ID='434' NAME='O' RESID='770' RESNAME='GLY' COORDS='(18.0176,34.4041,-4.52674)' ALTLOC='' CHAINID='X' ICODE='' SEGID='PROA' B='0' Q='1' CHARGE='0' MASS='1' ATOMICNUMBER='-1' MASK='201'/>\n",
        "   <ATOM INDEX='445' ID='446' NAME='OE1' RESID='771' RESNAME='GLU' COORDS='(13.7877,34.2672,0.791699)' ALTLOC='' CHAINID='X' ICODE='' SEGID='PROA' B='0' Q='1' CHARGE='0' MASS='1' ATOMICNUMBER='-1' MASK='201'/>\n",
        "   <ATOM INDEX='446' ID='447' NAME='OE2' RESID='771' RESNAME='GLU' COORDS='(11.938,34.2397,-0.454417)' ALTLOC='' CHAINID='X' ICODE='' SEGID='PROA' B='0' Q='1' CHARGE='0' MASS='1' ATOMICNUMBER='-1' MASK='201'/>\n",
        "   <ATOM INDEX='448' ID='449' NAME='O' RESID='771' RESNAME='GLU' COORDS='(16.4636,37.3152,-4.11115)' ALTLOC='' CHAINID='X' ICODE='' SEGID='PROA' B='0' Q='1' CHARGE='0' MASS='1' ATOMICNUMBER='-1' MASK='201'/>\n",
        "   <ATOM INDEX='464' ID='465' NAME='O' RESID='772' RESNAME='VAL' COORDS='(19.0452,39.2809,-4.78765)' ALTLOC='' CHAINID='X' ICODE='' SEGID='PROA' B='0' Q='1' CHARGE='0' MASS='1' ATOMICNUMBER='-1' MASK='201'/>\n",
        "   <ATOM INDEX='483' ID='484' NAME='O' RESID='792' RESNAME='LEU' COORDS='(7.10047,34.3093,-3.32153)' ALTLOC='' CHAINID='X' ICODE='' SEGID='PROA' B='0' Q='1' CHARGE='0' MASS='1' ATOMICNUMBER='-1' MASK='201'/>\n",
        "   <ATOM INDEX='502' ID='503' NAME='O' RESID='793' RESNAME='LEU' COORDS='(4.12472,32.3365,-1.61113)' ALTLOC='' CHAINID='X' ICODE='' SEGID='PROA' B='0' Q='1' CHARGE='0' MASS='1' ATOMICNUMBER='-1' MASK='201'/>\n",
        "   <ATOM INDEX='526' ID='527' NAME='O' RESID='794' RESNAME='TRP' COORDS='(4.52856,29.1595,-2.96682)' ALTLOC='' CHAINID='X' ICODE='' SEGID='PROA' B='0' Q='1' CHARGE='0' MASS='1' ATOMICNUMBER='-1' MASK='201'/>\n",
        "   <ATOM INDEX='542' ID='543' NAME='O' RESID='795' RESNAME='VAL' COORDS='(7.85192,28.7699,-1.95377)' ALTLOC='' CHAINID='X' ICODE='' SEGID='PROA' B='0' Q='1' CHARGE='0' MASS='1' ATOMICNUMBER='-1' MASK='201'/>\n",
        "   <ATOM INDEX='551' ID='552' NAME='OD1' RESID='796' RESNAME='ASN' COORDS='(5.77251,33.8669,1.3279)' ALTLOC='' CHAINID='X' ICODE='' SEGID='PROA' B='0' Q='1' CHARGE='0' MASS='1' ATOMICNUMBER='-1' MASK='201'/>\n",
        "   <ATOM INDEX='556' ID='557' NAME='O' RESID='796' RESNAME='ASN' COORDS='(6.84794,29.852,1.38912)' ALTLOC='' CHAINID='X' ICODE='' SEGID='PROA' B='0' Q='1' CHARGE='0' MASS='1' ATOMICNUMBER='-1' MASK='201'/>\n",
        "   <ATOM INDEX='575' ID='576' NAME='O' RESID='797' RESNAME='LEU' COORDS='(4.42966,27.294,1.65238)' ALTLOC='' CHAINID='X' ICODE='' SEGID='PROA' B='0' Q='1' CHARGE='0' MASS='1' ATOMICNUMBER='-1' MASK='201'/>\n",
        "   <ATOM INDEX='591' ID='592' NAME='O' RESID='798' RESNAME='VAL' COORDS='(6.81316,25.0467,0.904705)' ALTLOC='' CHAINID='X' ICODE='' SEGID='PROA' B='0' Q='1' CHARGE='0' MASS='1' ATOMICNUMBER='-1' MASK='201'/>\n",
        "   <ATOM INDEX='598' ID='599' NAME='OG1' RESID='799' RESNAME='THR' COORDS='(9.91682,28.8053,-0.121556)' ALTLOC='' CHAINID='X' ICODE='' SEGID='PROA' B='0' Q='1' CHARGE='0' MASS='1' ATOMICNUMBER='-1' MASK='201'/>\n",
        "   <ATOM INDEX='605' ID='606' NAME='O' RESID='799' RESNAME='THR' COORDS='(9.74123,26.0003,2.96778)' ALTLOC='' CHAINID='X' ICODE='' SEGID='PROA' B='0' Q='1' CHARGE='0' MASS='1' ATOMICNUMBER='-1' MASK='201'/>\n",
        "   <ATOM INDEX='614' ID='615' NAME='OD1' RESID='800' RESNAME='ASP' COORDS='(10.3215,30.0246,4.1018)' ALTLOC='' CHAINID='X' ICODE='' SEGID='PROA' B='0' Q='1' CHARGE='0' MASS='1' ATOMICNUMBER='-1' MASK='201'/>\n",
        "   <ATOM INDEX='615' ID='616' NAME='OD2' RESID='800' RESNAME='ASP' COORDS='(8.85732,31.5626,4.25302)' ALTLOC='' CHAINID='X' ICODE='' SEGID='PROA' B='0' Q='1' CHARGE='0' MASS='1' ATOMICNUMBER='-1' MASK='201'/>\n",
        "   <ATOM INDEX='617' ID='618' NAME='O' RESID='800' RESNAME='ASP' COORDS='(7.17255,26.8965,6.24627)' ALTLOC='' CHAINID='X' ICODE='' SEGID='PROA' B='0' Q='1' CHARGE='0' MASS='1' ATOMICNUMBER='-1' MASK='201'/>\n",
        "   <ATOM INDEX='624' ID='625' NAME='O' RESID='801' RESNAME='GLY' COORDS='(6.26386,23.5348,5.48613)' ALTLOC='' CHAINID='X' ICODE='' SEGID='PROA' B='0' Q='1' CHARGE='0' MASS='1' ATOMICNUMBER='-1' MASK='201'/>\n",
        "   <ATOM INDEX='643' ID='644' NAME='O' RESID='802' RESNAME='LEU' COORDS='(6.93752,20.2085,4.35232)' ALTLOC='' CHAINID='X' ICODE='' SEGID='PROA' B='0' Q='1' CHARGE='0' MASS='1' ATOMICNUMBER='-1' MASK='201'/>\n",
        "   <ATOM INDEX='657' ID='658' NAME='O' RESID='803' RESNAME='PRO' COORDS='(10.3062,20.7072,5.32273)' ALTLOC='' CHAINID='X' ICODE='' SEGID='PROA' B='0' Q='1' CHARGE='0' MASS='1' ATOMICNUMBER='-1' MASK='201'/>\n",
        "   <ATOM INDEX='667' ID='668' NAME='O' RESID='804' RESNAME='ALA' COORDS='(10.5788,22.371,8.29216)' ALTLOC='' CHAINID='X' ICODE='' SEGID='PROA' B='0' Q='1' CHARGE='0' MASS='1' ATOMICNUMBER='-1' MASK='201'/>\n",
        "   <ATOM INDEX='674' ID='675' NAME='O' RESID='841' RESNAME='GLY' COORDS='(21.6372,31.1875,-3.53119)' ALTLOC='' CHAINID='X' ICODE='' SEGID='PROA' B='0' Q='1' CHARGE='0' MASS='1' ATOMICNUMBER='-1' MASK='201'/>\n",
        "   <ATOM INDEX='690' ID='691' NAME='O' RESID='844' RESNAME='VAL' COORDS='(18.4501,29.6157,-7.34486)' ALTLOC='' CHAINID='X' ICODE='' SEGID='PROA' B='0' Q='1' CHARGE='0' MASS='1' ATOMICNUMBER='-1' MASK='201'/>\n",
        "   <ATOM INDEX='709' ID='710' NAME='O' RESID='904' RESNAME='LEU' COORDS='(13.2931,26.7682,-5.92236)' ALTLOC='' CHAINID='X' ICODE='' SEGID='PROA' B='0' Q='1' CHARGE='0' MASS='1' ATOMICNUMBER='-1' MASK='201'/>\n",
        "   <ATOM INDEX='725' ID='726' NAME='O' RESID='905' RESNAME='VAL' COORDS='(11.8026,23.3196,-5.44297)' ALTLOC='' CHAINID='X' ICODE='' SEGID='PROA' B='0' Q='1' CHARGE='0' MASS='1' ATOMICNUMBER='-1' MASK='201'/>\n",
        "   <ATOM INDEX='744' ID='745' NAME='O' RESID='907' RESNAME='ILE' COORDS='(17.0941,22.9961,-4.3357)' ALTLOC='' CHAINID='X' ICODE='' SEGID='PROA' B='0' Q='1' CHARGE='0' MASS='1' ATOMICNUMBER='-1' MASK='201'/>\n",
        "   <ATOM INDEX='756' ID='757' NAME='OE1' RESID='908' RESNAME='GLU' COORDS='(16.1618,26.8569,-1.59481)' ALTLOC='' CHAINID='X' ICODE='' SEGID='PROA' B='0' Q='1' CHARGE='0' MASS='1' ATOMICNUMBER='-1' MASK='201'/>\n",
        "   <ATOM INDEX='757' ID='758' NAME='OE2' RESID='908' RESNAME='GLU' COORDS='(14.3262,28.0322,-0.949172)' ALTLOC='' CHAINID='X' ICODE='' SEGID='PROA' B='0' Q='1' CHARGE='0' MASS='1' ATOMICNUMBER='-1' MASK='201'/>\n",
        "   <ATOM INDEX='760' ID='761' NAME='O' RESID='908' RESNAME='GLU' COORDS='(14.4385,22.4262,-1.55138)' ALTLOC='' CHAINID='X' ICODE='' SEGID='PROA' B='0' Q='1' CHARGE='0' MASS='1' ATOMICNUMBER='-1' MASK='201'/>\n",
        "   <ATOM INDEX='769' ID='770' NAME='OD1' RESID='911' RESNAME='ASN' COORDS='(19.8214,23.5513,0.838146)' ALTLOC='' CHAINID='X' ICODE='' SEGID='PROA' B='0' Q='1' CHARGE='0' MASS='1' ATOMICNUMBER='-1' MASK='201'/>\n",
        "   <ATOM INDEX='774' ID='775' NAME='O' RESID='911' RESNAME='ASN' COORDS='(18.7237,20.8082,1.11197)' ALTLOC='' CHAINID='X' ICODE='' SEGID='PROA' B='0' Q='1' CHARGE='0' MASS='1' ATOMICNUMBER='-1' MASK='201'/>\n",
        "   <ATOM INDEX='784' ID='785' NAME='O' RESID='912' RESNAME='ALA' COORDS='(16.563,18.5189,2.83862)' ALTLOC='' CHAINID='X' ICODE='' SEGID='PROA' B='0' Q='1' CHARGE='0' MASS='1' ATOMICNUMBER='-1' MASK='201'/>\n",
        "   <ATOM INDEX='787' ID='788' NAME='OH2' RESID='3082' RESNAME='TIP3' COORDS='(-42.1828,-38.187,-30.1189)' ALTLOC='' CHAINID='X' ICODE='' SEGID='TIP3' B='0' Q='1' CHARGE='0' MASS='1' ATOMICNUMBER='-1' MASK='201'/>\n",
        "   <ATOM INDEX='790' ID='791' NAME='OH2' RESID='3097' RESNAME='TIP3' COORDS='(46.6985,55.6234,-80.312)' ALTLOC='' CHAINID='X' ICODE='' SEGID='TIP3' B='0' Q='1' CHARGE='0' MASS='1' ATOMICNUMBER='-1' MASK='201'/>\n",
        "   <ATOM INDEX='793' ID='794' NAME='OH2' RESID='3107' RESNAME='TIP3' COORDS='(1.4859,-33.2951,21.1502)' ALTLOC='' CHAINID='X' ICODE='' SEGID='TIP3' B='0' Q='1' CHARGE='0' MASS='1' ATOMICNUMBER='-1' MASK='201'/>\n",
        "   <ATOM INDEX='796' ID='797' NAME='OH2' RESID='50916' RESNAME='TIP3' COORDS='(33.3564,-8.72952,-41.5507)' ALTLOC='' CHAINID='X' ICODE=' ' SEGID='TIP3' B='0' Q='1' CHARGE='0' MASS='1' ATOMICNUMBER='-1' MASK='201'/>\n",
        "   <ATOM INDEX='799' ID='800' NAME='OH2' RESID='50917' RESNAME='TIP3' COORDS='(-20.3191,-40.1874,-54.3914)' ALTLOC='' CHAINID='X' ICODE=' ' SEGID='TIP3' B='0' Q='1' CHARGE='0' MASS='1' ATOMICNUMBER='-1' MASK='201'/>\n",
        "</GROUP>\n",
        "50000"
       ]
      },
      {
       "output_type": "stream",
       "stream": "stdout",
       "text": [
        "\n",
        "50000"
       ]
      },
      {
       "output_type": "stream",
       "stream": "stdout",
       "text": [
        "\n",
        "50000"
       ]
      },
      {
       "output_type": "stream",
       "stream": "stdout",
       "text": [
        "\n",
        "50000"
       ]
      },
      {
       "output_type": "stream",
       "stream": "stdout",
       "text": [
        "\n",
        "50000"
       ]
      },
      {
       "output_type": "stream",
       "stream": "stdout",
       "text": [
        "\n",
        "50000"
       ]
      },
      {
       "output_type": "stream",
       "stream": "stdout",
       "text": [
        "\n",
        "50000"
       ]
      },
      {
       "output_type": "stream",
       "stream": "stdout",
       "text": [
        "\n",
        "50000"
       ]
      },
      {
       "output_type": "stream",
       "stream": "stdout",
       "text": [
        "\n",
        "50000"
       ]
      },
      {
       "output_type": "stream",
       "stream": "stdout",
       "text": [
        "\n",
        "50000"
       ]
      },
      {
       "output_type": "stream",
       "stream": "stdout",
       "text": [
        "\n",
        "50000"
       ]
      },
      {
       "output_type": "stream",
       "stream": "stdout",
       "text": [
        "\n",
        "50000"
       ]
      },
      {
       "output_type": "stream",
       "stream": "stdout",
       "text": [
        "\n",
        "50000"
       ]
      },
      {
       "output_type": "stream",
       "stream": "stdout",
       "text": [
        "\n",
        "50000"
       ]
      },
      {
       "output_type": "stream",
       "stream": "stdout",
       "text": [
        "\n",
        "50000"
       ]
      },
      {
       "output_type": "stream",
       "stream": "stdout",
       "text": [
        "\n",
        "50000"
       ]
      },
      {
       "output_type": "stream",
       "stream": "stdout",
       "text": [
        "\n",
        "50000"
       ]
      },
      {
       "output_type": "stream",
       "stream": "stdout",
       "text": [
        "\n",
        "50000"
       ]
      },
      {
       "output_type": "stream",
       "stream": "stdout",
       "text": [
        "\n",
        "50000"
       ]
      },
      {
       "output_type": "stream",
       "stream": "stdout",
       "text": [
        "\n",
        "50000"
       ]
      },
      {
       "output_type": "stream",
       "stream": "stdout",
       "text": [
        "\n",
        "50000"
       ]
      },
      {
       "output_type": "stream",
       "stream": "stdout",
       "text": [
        "\n",
        "50000"
       ]
      },
      {
       "output_type": "stream",
       "stream": "stdout",
       "text": [
        "\n",
        "50000"
       ]
      },
      {
       "output_type": "stream",
       "stream": "stdout",
       "text": [
        "\n",
        "50000"
       ]
      },
      {
       "output_type": "stream",
       "stream": "stdout",
       "text": [
        "\n",
        "50000"
       ]
      },
      {
       "output_type": "stream",
       "stream": "stdout",
       "text": [
        "\n",
        "50000"
       ]
      },
      {
       "output_type": "stream",
       "stream": "stdout",
       "text": [
        "\n",
        "50000"
       ]
      },
      {
       "output_type": "stream",
       "stream": "stdout",
       "text": [
        "\n",
        "50000"
       ]
      },
      {
       "output_type": "stream",
       "stream": "stdout",
       "text": [
        "\n",
        "50000"
       ]
      },
      {
       "output_type": "stream",
       "stream": "stdout",
       "text": [
        "\n",
        "50000"
       ]
      },
      {
       "output_type": "stream",
       "stream": "stdout",
       "text": [
        "\n",
        "50000"
       ]
      },
      {
       "output_type": "stream",
       "stream": "stdout",
       "text": [
        "\n",
        "50000"
       ]
      },
      {
       "output_type": "stream",
       "stream": "stdout",
       "text": [
        "\n",
        "50000"
       ]
      },
      {
       "output_type": "stream",
       "stream": "stdout",
       "text": [
        "\n",
        "50000"
       ]
      },
      {
       "output_type": "stream",
       "stream": "stdout",
       "text": [
        "\n",
        "50000"
       ]
      },
      {
       "output_type": "stream",
       "stream": "stdout",
       "text": [
        "\n",
        "50000"
       ]
      },
      {
       "output_type": "stream",
       "stream": "stdout",
       "text": [
        "\n",
        "50000"
       ]
      },
      {
       "output_type": "stream",
       "stream": "stdout",
       "text": [
        "\n",
        "50000"
       ]
      },
      {
       "output_type": "stream",
       "stream": "stdout",
       "text": [
        "\n",
        "50000"
       ]
      },
      {
       "output_type": "stream",
       "stream": "stdout",
       "text": [
        "\n",
        "50000"
       ]
      },
      {
       "output_type": "stream",
       "stream": "stdout",
       "text": [
        "\n",
        "50000"
       ]
      },
      {
       "output_type": "stream",
       "stream": "stdout",
       "text": [
        "\n",
        "50000"
       ]
      },
      {
       "output_type": "stream",
       "stream": "stdout",
       "text": [
        "\n",
        "50000"
       ]
      },
      {
       "output_type": "stream",
       "stream": "stdout",
       "text": [
        "\n",
        "50000"
       ]
      },
      {
       "output_type": "stream",
       "stream": "stdout",
       "text": [
        "\n",
        "50000"
       ]
      },
      {
       "output_type": "stream",
       "stream": "stdout",
       "text": [
        "\n",
        "50000"
       ]
      },
      {
       "output_type": "stream",
       "stream": "stdout",
       "text": [
        "\n",
        "50000"
       ]
      },
      {
       "output_type": "stream",
       "stream": "stdout",
       "text": [
        "\n",
        "50000"
       ]
      },
      {
       "output_type": "stream",
       "stream": "stdout",
       "text": [
        "\n",
        "50000"
       ]
      },
      {
       "output_type": "stream",
       "stream": "stdout",
       "text": [
        "\n",
        "50000"
       ]
      },
      {
       "output_type": "stream",
       "stream": "stdout",
       "text": [
        "\n",
        "50000"
       ]
      },
      {
       "output_type": "stream",
       "stream": "stdout",
       "text": [
        "\n",
        "50000"
       ]
      },
      {
       "output_type": "stream",
       "stream": "stdout",
       "text": [
        "\n",
        "50000"
       ]
      },
      {
       "output_type": "stream",
       "stream": "stdout",
       "text": [
        "\n",
        "50000"
       ]
      },
      {
       "output_type": "stream",
       "stream": "stdout",
       "text": [
        "\n",
        "50000"
       ]
      },
      {
       "output_type": "stream",
       "stream": "stdout",
       "text": [
        "\n",
        "50000"
       ]
      },
      {
       "output_type": "stream",
       "stream": "stdout",
       "text": [
        "\n",
        "50000"
       ]
      },
      {
       "output_type": "stream",
       "stream": "stdout",
       "text": [
        "\n",
        "50000"
       ]
      },
      {
       "output_type": "stream",
       "stream": "stdout",
       "text": [
        "\n",
        "50000"
       ]
      },
      {
       "output_type": "stream",
       "stream": "stdout",
       "text": [
        "\n",
        "50000"
       ]
      },
      {
       "output_type": "stream",
       "stream": "stdout",
       "text": [
        "\n",
        "50000"
       ]
      },
      {
       "output_type": "stream",
       "stream": "stdout",
       "text": [
        "\n",
        "50000"
       ]
      },
      {
       "output_type": "stream",
       "stream": "stdout",
       "text": [
        "\n",
        "50000"
       ]
      },
      {
       "output_type": "stream",
       "stream": "stdout",
       "text": [
        "\n",
        "50000"
       ]
      },
      {
       "output_type": "stream",
       "stream": "stdout",
       "text": [
        "\n",
        "50000"
       ]
      },
      {
       "output_type": "stream",
       "stream": "stdout",
       "text": [
        "\n",
        "50000"
       ]
      },
      {
       "output_type": "stream",
       "stream": "stdout",
       "text": [
        "\n",
        "50000"
       ]
      },
      {
       "output_type": "stream",
       "stream": "stdout",
       "text": [
        "\n",
        "50000"
       ]
      },
      {
       "output_type": "stream",
       "stream": "stdout",
       "text": [
        "\n",
        "50000"
       ]
      },
      {
       "output_type": "stream",
       "stream": "stdout",
       "text": [
        "\n",
        "50000"
       ]
      },
      {
       "output_type": "stream",
       "stream": "stdout",
       "text": [
        "\n",
        "50000"
       ]
      },
      {
       "output_type": "stream",
       "stream": "stdout",
       "text": [
        "\n",
        "50000"
       ]
      },
      {
       "output_type": "stream",
       "stream": "stdout",
       "text": [
        "\n",
        "50000"
       ]
      },
      {
       "output_type": "stream",
       "stream": "stdout",
       "text": [
        "\n",
        "6.0"
       ]
      },
      {
       "output_type": "stream",
       "stream": "stdout",
       "text": [
        "\n"
       ]
      },
      {
       "metadata": {},
       "output_type": "display_data",
       "png": "[encoded data removed]",
       "text": [
        "<matplotlib.figure.Figure at 0x7f601cdb9f90>"
       ]
      }
     ],
     "prompt_number": 15
    },
    {
     "cell_type": "code",
     "collapsed": false,
     "input": [
      "#for i, case in enumerate(cases):\n",
      "#   for j, run in enumerate(runs):\n",
      "run=1\n",
      "idx = 0#np.int(run)-1\n",
      "plt.figure()\n",
      "CarbonylDensityAnalysis_BS(case, idx=idx, loopType=\"K2_to_Oxy_distance_in_run_1\", calIdx = 1107, binMax=15)"
     ],
     "language": "python",
     "metadata": {},
     "outputs": [
      {
       "output_type": "stream",
       "stream": "stdout",
       "text": [
        "<GROUP PERIODIC='(111.792,111.792,168.346)'>\n",
        "   <ATOM INDEX='18' ID='19' NAME='O' RESID='97' RESNAME='ILE' COORDS='(-1.4709,32.1187,1.38028)' ALTLOC='' CHAINID='X' ICODE='' SEGID='PROA' B='0' Q='1' CHARGE='0' MASS='1' ATOMICNUMBER='-1' MASK='201'/>\n",
        "   <ATOM INDEX='37' ID='38' NAME='O' RESID='98' RESNAME='LEU' COORDS='(-3.02829,33.2006,4.51143)' ALTLOC='' CHAINID='X' ICODE='' SEGID='PROA' B='0' Q='1' CHARGE='0' MASS='1' ATOMICNUMBER='-1' MASK='201'/>\n",
        "   <ATOM INDEX='46' ID='47' NAME='OD1' RESID='101' RESNAME='ASN' COORDS='(1.328,33.7192,5.86155)' ALTLOC='' CHAINID='X' ICODE='' SEGID='PROA' B='0' Q='1' CHARGE='0' MASS='1' ATOMICNUMBER='-1' MASK='201'/>\n",
        "   <ATOM INDEX='51' ID='52' NAME='O' RESID='101' RESNAME='ASN' COORDS='(0.0173373,30.8164,7.3795)' ALTLOC='' CHAINID='X' ICODE='' SEGID='PROA' B='0' Q='1' CHARGE='0' MASS='1' ATOMICNUMBER='-1' MASK='201'/>\n",
        "   <ATOM INDEX='67' ID='68' NAME='O' RESID='104' RESNAME='VAL' COORDS='(1.61222,27.0489,10.0273)' ALTLOC='' CHAINID='X' ICODE='' SEGID='PROA' B='0' Q='1' CHARGE='0' MASS='1' ATOMICNUMBER='-1' MASK='201'/>\n",
        "   <ATOM INDEX='79' ID='80' NAME='OE1' RESID='108' RESNAME='GLN' COORDS='(5.37677,24.795,12.037)' ALTLOC='' CHAINID='X' ICODE='' SEGID='PROA' B='0' Q='1' CHARGE='0' MASS='1' ATOMICNUMBER='-1' MASK='201'/>\n",
        "   <ATOM INDEX='84' ID='85' NAME='O' RESID='108' RESNAME='GLN' COORDS='(3.32029,26.2168,16.4812)' ALTLOC='' CHAINID='X' ICODE='' SEGID='PROA' B='0' Q='1' CHARGE='0' MASS='1' ATOMICNUMBER='-1' MASK='201'/>\n",
        "   <ATOM INDEX='103' ID='104' NAME='O' RESID='264' RESNAME='ILE' COORDS='(14.7056,45.2981,-0.119568)' ALTLOC='' CHAINID='X' ICODE='' SEGID='PROA' B='0' Q='1' CHARGE='0' MASS='1' ATOMICNUMBER='-1' MASK='201'/>\n",
        "   <ATOM INDEX='113' ID='114' NAME='O' RESID='301' RESNAME='ALA' COORDS='(6.57709,39.6916,-1.41085)' ALTLOC='' CHAINID='X' ICODE='' SEGID='PROA' B='0' Q='1' CHARGE='0' MASS='1' ATOMICNUMBER='-1' MASK='201'/>\n",
        "   <ATOM INDEX='132' ID='133' NAME='O' RESID='302' RESNAME='LEU' COORDS='(9.91014,39.9855,-0.238072)' ALTLOC='' CHAINID='X' ICODE='' SEGID='PROA' B='0' Q='1' CHARGE='0' MASS='1' ATOMICNUMBER='-1' MASK='201'/>\n",
        "   <ATOM INDEX='142' ID='143' NAME='O' RESID='303' RESNAME='ALA' COORDS='(8.45816,41.7857,3.00713)' ALTLOC='' CHAINID='X' ICODE='' SEGID='PROA' B='0' Q='1' CHARGE='0' MASS='1' ATOMICNUMBER='-1' MASK='201'/>\n",
        "   <ATOM INDEX='158' ID='159' NAME='O' RESID='304' RESNAME='VAL' COORDS='(6.25739,38.6749,3.41168)' ALTLOC='' CHAINID='X' ICODE='' SEGID='PROA' B='0' Q='1' CHARGE='0' MASS='1' ATOMICNUMBER='-1' MASK='201'/>\n",
        "   <ATOM INDEX='168' ID='169' NAME='O' RESID='305' RESNAME='ALA' COORDS='(8.87082,36.0493,3.13554)' ALTLOC='' CHAINID='X' ICODE='' SEGID='PROA' B='0' Q='1' CHARGE='0' MASS='1' ATOMICNUMBER='-1' MASK='201'/>\n",
        "   <ATOM INDEX='178' ID='179' NAME='O' RESID='306' RESNAME='ALA' COORDS='(11.1883,39.1382,6.02426)' ALTLOC='' CHAINID='X' ICODE='' SEGID='PROA' B='0' Q='1' CHARGE='0' MASS='1' ATOMICNUMBER='-1' MASK='201'/>\n",
        "   <ATOM INDEX='197' ID='198' NAME='O' RESID='307' RESNAME='ILE' COORDS='(9.68068,37.0702,8.60673)' ALTLOC='' CHAINID='X' ICODE='' SEGID='PROA' B='0' Q='1' CHARGE='0' MASS='1' ATOMICNUMBER='-1' MASK='201'/>\n",
        "   <ATOM INDEX='211' ID='212' NAME='O' RESID='308' RESNAME='PRO' COORDS='(11.2085,37.4779,12.1051)' ALTLOC='' CHAINID='X' ICODE='' SEGID='PROA' B='0' Q='1' CHARGE='0' MASS='1' ATOMICNUMBER='-1' MASK='201'/>\n",
        "   <ATOM INDEX='223' ID='224' NAME='OE1' RESID='309' RESNAME='GLU' COORDS='(5.72013,39.9701,15.2851)' ALTLOC='' CHAINID='X' ICODE='' SEGID='PROA' B='0' Q='1' CHARGE='0' MASS='1' ATOMICNUMBER='-1' MASK='201'/>\n",
        "   <ATOM INDEX='224' ID='225' NAME='OE2' RESID='309' RESNAME='GLU' COORDS='(5.58862,41.5537,13.7152)' ALTLOC='' CHAINID='X' ICODE='' SEGID='PROA' B='0' Q='1' CHARGE='0' MASS='1' ATOMICNUMBER='-1' MASK='201'/>\n",
        "   <ATOM INDEX='226' ID='227' NAME='O' RESID='309' RESNAME='GLU' COORDS='(8.01181,35.3876,13.3363)' ALTLOC='' CHAINID='X' ICODE='' SEGID='PROA' B='0' Q='1' CHARGE='0' MASS='1' ATOMICNUMBER='-1' MASK='201'/>\n",
        "   <ATOM INDEX='233' ID='234' NAME='O' RESID='310' RESNAME='GLY' COORDS='(9.33784,32.3323,10.8811)' ALTLOC='' CHAINID='X' ICODE='' SEGID='PROA' B='0' Q='1' CHARGE='0' MASS='1' ATOMICNUMBER='-1' MASK='201'/>\n",
        "   <ATOM INDEX='252' ID='253' NAME='O' RESID='311' RESNAME='LEU' COORDS='(12.7805,31.5306,12.2273)' ALTLOC='' CHAINID='X' ICODE='' SEGID='PROA' B='0' Q='1' CHARGE='0' MASS='1' ATOMICNUMBER='-1' MASK='201'/>\n",
        "   <ATOM INDEX='272' ID='273' NAME='O' RESID='760' RESNAME='PHE' COORDS='(16.8833,25.9838,7.73624)' ALTLOC='' CHAINID='X' ICODE='' SEGID='PROA' B='0' Q='1' CHARGE='0' MASS='1' ATOMICNUMBER='-1' MASK='201'/>\n",
        "   <ATOM INDEX='291' ID='292' NAME='O' RESID='761' RESNAME='ILE' COORDS='(19.4901,28.2184,7.38106)' ALTLOC='' CHAINID='X' ICODE='' SEGID='PROA' B='0' Q='1' CHARGE='0' MASS='1' ATOMICNUMBER='-1' MASK='201'/>\n",
        "   <ATOM INDEX='315' ID='316' NAME='O' RESID='762' RESNAME='ARG' COORDS='(20.5714,27.3007,4.55925)' ALTLOC='' CHAINID='X' ICODE='' SEGID='PROA' B='0' Q='1' CHARGE='0' MASS='1' ATOMICNUMBER='-1' MASK='201'/>\n",
        "   <ATOM INDEX='329' ID='330' NAME='OH' RESID='763' RESNAME='TYR' COORDS='(12.0227,25.2693,1.71798)' ALTLOC='' CHAINID='X' ICODE='' SEGID='PROA' B='0' Q='1' CHARGE='0' MASS='1' ATOMICNUMBER='-1' MASK='201'/>\n",
        "   <ATOM INDEX='336' ID='337' NAME='O' RESID='763' RESNAME='TYR' COORDS='(17.1581,27.7616,3.32213)' ALTLOC='' CHAINID='X' ICODE='' SEGID='PROA' B='0' Q='1' CHARGE='0' MASS='1' ATOMICNUMBER='-1' MASK='201'/>\n",
        "   <ATOM INDEX='355' ID='356' NAME='O' RESID='764' RESNAME='LEU' COORDS='(16.8508,31.0525,4.47653)' ALTLOC='' CHAINID='X' ICODE='' SEGID='PROA' B='0' Q='1' CHARGE='0' MASS='1' ATOMICNUMBER='-1' MASK='201'/>\n",
        "   <ATOM INDEX='374' ID='375' NAME='O' RESID='765' RESNAME='ILE' COORDS='(20.2819,32.1345,2.99827)' ALTLOC='' CHAINID='X' ICODE='' SEGID='PROA' B='0' Q='1' CHARGE='0' MASS='1' ATOMICNUMBER='-1' MASK='201'/>\n",
        "   <ATOM INDEX='382' ID='383' NAME='OG' RESID='766' RESNAME='SER' COORDS='(20.1813,27.2133,1.90218)' ALTLOC='' CHAINID='X' ICODE='' SEGID='PROA' B='0' Q='1' CHARGE='0' MASS='1' ATOMICNUMBER='-1' MASK='201'/>\n",
        "   <ATOM INDEX='385' ID='386' NAME='O' RESID='766' RESNAME='SER' COORDS='(19.6488,30.6215,0.0384066)' ALTLOC='' CHAINID='X' ICODE='' SEGID='PROA' B='0' Q='1' CHARGE='0' MASS='1' ATOMICNUMBER='-1' MASK='201'/>\n",
        "   <ATOM INDEX='393' ID='394' NAME='OG' RESID='767' RESNAME='SER' COORDS='(15.3183,28.6416,1.5904)' ALTLOC='' CHAINID='X' ICODE='' SEGID='PROA' B='0' Q='1' CHARGE='0' MASS='1' ATOMICNUMBER='-1' MASK='201'/>\n",
        "   <ATOM INDEX='396' ID='397' NAME='O' RESID='767' RESNAME='SER' COORDS='(16.9684,32.3316,-0.426937)' ALTLOC='' CHAINID='X' ICODE='' SEGID='PROA' B='0' Q='1' CHARGE='0' MASS='1' ATOMICNUMBER='-1' MASK='201'/>\n",
        "   <ATOM INDEX='405' ID='406' NAME='OD1' RESID='768' RESNAME='ASN' COORDS='(18.7535,36.1834,4.15143)' ALTLOC='' CHAINID='X' ICODE='' SEGID='PROA' B='0' Q='1' CHARGE='0' MASS='1' ATOMICNUMBER='-1' MASK='201'/>\n",
        "   <ATOM INDEX='410' ID='411' NAME='O' RESID='768' RESNAME='ASN' COORDS='(18.0239,35.4328,0.0497551)' ALTLOC='' CHAINID='X' ICODE='' SEGID='PROA' B='0' Q='1' CHARGE='0' MASS='1' ATOMICNUMBER='-1' MASK='201'/>\n",
        "   <ATOM INDEX='426' ID='427' NAME='O' RESID='769' RESNAME='VAL' COORDS='(20.6135,35.2862,-2.21566)' ALTLOC='' CHAINID='X' ICODE='' SEGID='PROA' B='0' Q='1' CHARGE='0' MASS='1' ATOMICNUMBER='-1' MASK='201'/>\n",
        "   <ATOM INDEX='433' ID='434' NAME='O' RESID='770' RESNAME='GLY' COORDS='(18.0176,34.4041,-4.52674)' ALTLOC='' CHAINID='X' ICODE='' SEGID='PROA' B='0' Q='1' CHARGE='0' MASS='1' ATOMICNUMBER='-1' MASK='201'/>\n",
        "   <ATOM INDEX='445' ID='446' NAME='OE1' RESID='771' RESNAME='GLU' COORDS='(13.7877,34.2672,0.791699)' ALTLOC='' CHAINID='X' ICODE='' SEGID='PROA' B='0' Q='1' CHARGE='0' MASS='1' ATOMICNUMBER='-1' MASK='201'/>\n",
        "   <ATOM INDEX='446' ID='447' NAME='OE2' RESID='771' RESNAME='GLU' COORDS='(11.938,34.2397,-0.454417)' ALTLOC='' CHAINID='X' ICODE='' SEGID='PROA' B='0' Q='1' CHARGE='0' MASS='1' ATOMICNUMBER='-1' MASK='201'/>\n",
        "   <ATOM INDEX='448' ID='449' NAME='O' RESID='771' RESNAME='GLU' COORDS='(16.4636,37.3152,-4.11115)' ALTLOC='' CHAINID='X' ICODE='' SEGID='PROA' B='0' Q='1' CHARGE='0' MASS='1' ATOMICNUMBER='-1' MASK='201'/>\n",
        "   <ATOM INDEX='464' ID='465' NAME='O' RESID='772' RESNAME='VAL' COORDS='(19.0452,39.2809,-4.78765)' ALTLOC='' CHAINID='X' ICODE='' SEGID='PROA' B='0' Q='1' CHARGE='0' MASS='1' ATOMICNUMBER='-1' MASK='201'/>\n",
        "   <ATOM INDEX='483' ID='484' NAME='O' RESID='792' RESNAME='LEU' COORDS='(7.10047,34.3093,-3.32153)' ALTLOC='' CHAINID='X' ICODE='' SEGID='PROA' B='0' Q='1' CHARGE='0' MASS='1' ATOMICNUMBER='-1' MASK='201'/>\n",
        "   <ATOM INDEX='502' ID='503' NAME='O' RESID='793' RESNAME='LEU' COORDS='(4.12472,32.3365,-1.61113)' ALTLOC='' CHAINID='X' ICODE='' SEGID='PROA' B='0' Q='1' CHARGE='0' MASS='1' ATOMICNUMBER='-1' MASK='201'/>\n",
        "   <ATOM INDEX='526' ID='527' NAME='O' RESID='794' RESNAME='TRP' COORDS='(4.52856,29.1595,-2.96682)' ALTLOC='' CHAINID='X' ICODE='' SEGID='PROA' B='0' Q='1' CHARGE='0' MASS='1' ATOMICNUMBER='-1' MASK='201'/>\n",
        "   <ATOM INDEX='542' ID='543' NAME='O' RESID='795' RESNAME='VAL' COORDS='(7.85192,28.7699,-1.95377)' ALTLOC='' CHAINID='X' ICODE='' SEGID='PROA' B='0' Q='1' CHARGE='0' MASS='1' ATOMICNUMBER='-1' MASK='201'/>\n",
        "   <ATOM INDEX='551' ID='552' NAME='OD1' RESID='796' RESNAME='ASN' COORDS='(5.77251,33.8669,1.3279)' ALTLOC='' CHAINID='X' ICODE='' SEGID='PROA' B='0' Q='1' CHARGE='0' MASS='1' ATOMICNUMBER='-1' MASK='201'/>\n",
        "   <ATOM INDEX='556' ID='557' NAME='O' RESID='796' RESNAME='ASN' COORDS='(6.84794,29.852,1.38912)' ALTLOC='' CHAINID='X' ICODE='' SEGID='PROA' B='0' Q='1' CHARGE='0' MASS='1' ATOMICNUMBER='-1' MASK='201'/>\n",
        "   <ATOM INDEX='575' ID='576' NAME='O' RESID='797' RESNAME='LEU' COORDS='(4.42966,27.294,1.65238)' ALTLOC='' CHAINID='X' ICODE='' SEGID='PROA' B='0' Q='1' CHARGE='0' MASS='1' ATOMICNUMBER='-1' MASK='201'/>\n",
        "   <ATOM INDEX='591' ID='592' NAME='O' RESID='798' RESNAME='VAL' COORDS='(6.81316,25.0467,0.904705)' ALTLOC='' CHAINID='X' ICODE='' SEGID='PROA' B='0' Q='1' CHARGE='0' MASS='1' ATOMICNUMBER='-1' MASK='201'/>\n",
        "   <ATOM INDEX='598' ID='599' NAME='OG1' RESID='799' RESNAME='THR' COORDS='(9.91682,28.8053,-0.121556)' ALTLOC='' CHAINID='X' ICODE='' SEGID='PROA' B='0' Q='1' CHARGE='0' MASS='1' ATOMICNUMBER='-1' MASK='201'/>\n",
        "   <ATOM INDEX='605' ID='606' NAME='O' RESID='799' RESNAME='THR' COORDS='(9.74123,26.0003,2.96778)' ALTLOC='' CHAINID='X' ICODE='' SEGID='PROA' B='0' Q='1' CHARGE='0' MASS='1' ATOMICNUMBER='-1' MASK='201'/>\n",
        "   <ATOM INDEX='614' ID='615' NAME='OD1' RESID='800' RESNAME='ASP' COORDS='(10.3215,30.0246,4.1018)' ALTLOC='' CHAINID='X' ICODE='' SEGID='PROA' B='0' Q='1' CHARGE='0' MASS='1' ATOMICNUMBER='-1' MASK='201'/>\n",
        "   <ATOM INDEX='615' ID='616' NAME='OD2' RESID='800' RESNAME='ASP' COORDS='(8.85732,31.5626,4.25302)' ALTLOC='' CHAINID='X' ICODE='' SEGID='PROA' B='0' Q='1' CHARGE='0' MASS='1' ATOMICNUMBER='-1' MASK='201'/>\n",
        "   <ATOM INDEX='617' ID='618' NAME='O' RESID='800' RESNAME='ASP' COORDS='(7.17255,26.8965,6.24627)' ALTLOC='' CHAINID='X' ICODE='' SEGID='PROA' B='0' Q='1' CHARGE='0' MASS='1' ATOMICNUMBER='-1' MASK='201'/>\n",
        "   <ATOM INDEX='624' ID='625' NAME='O' RESID='801' RESNAME='GLY' COORDS='(6.26386,23.5348,5.48613)' ALTLOC='' CHAINID='X' ICODE='' SEGID='PROA' B='0' Q='1' CHARGE='0' MASS='1' ATOMICNUMBER='-1' MASK='201'/>\n",
        "   <ATOM INDEX='643' ID='644' NAME='O' RESID='802' RESNAME='LEU' COORDS='(6.93752,20.2085,4.35232)' ALTLOC='' CHAINID='X' ICODE='' SEGID='PROA' B='0' Q='1' CHARGE='0' MASS='1' ATOMICNUMBER='-1' MASK='201'/>\n",
        "   <ATOM INDEX='657' ID='658' NAME='O' RESID='803' RESNAME='PRO' COORDS='(10.3062,20.7072,5.32273)' ALTLOC='' CHAINID='X' ICODE='' SEGID='PROA' B='0' Q='1' CHARGE='0' MASS='1' ATOMICNUMBER='-1' MASK='201'/>\n",
        "   <ATOM INDEX='667' ID='668' NAME='O' RESID='804' RESNAME='ALA' COORDS='(10.5788,22.371,8.29216)' ALTLOC='' CHAINID='X' ICODE='' SEGID='PROA' B='0' Q='1' CHARGE='0' MASS='1' ATOMICNUMBER='-1' MASK='201'/>\n",
        "   <ATOM INDEX='674' ID='675' NAME='O' RESID='841' RESNAME='GLY' COORDS='(21.6372,31.1875,-3.53119)' ALTLOC='' CHAINID='X' ICODE='' SEGID='PROA' B='0' Q='1' CHARGE='0' MASS='1' ATOMICNUMBER='-1' MASK='201'/>\n",
        "   <ATOM INDEX='690' ID='691' NAME='O' RESID='844' RESNAME='VAL' COORDS='(18.4501,29.6157,-7.34486)' ALTLOC='' CHAINID='X' ICODE='' SEGID='PROA' B='0' Q='1' CHARGE='0' MASS='1' ATOMICNUMBER='-1' MASK='201'/>\n",
        "   <ATOM INDEX='709' ID='710' NAME='O' RESID='904' RESNAME='LEU' COORDS='(13.2931,26.7682,-5.92236)' ALTLOC='' CHAINID='X' ICODE='' SEGID='PROA' B='0' Q='1' CHARGE='0' MASS='1' ATOMICNUMBER='-1' MASK='201'/>\n",
        "   <ATOM INDEX='725' ID='726' NAME='O' RESID='905' RESNAME='VAL' COORDS='(11.8026,23.3196,-5.44297)' ALTLOC='' CHAINID='X' ICODE='' SEGID='PROA' B='0' Q='1' CHARGE='0' MASS='1' ATOMICNUMBER='-1' MASK='201'/>\n",
        "   <ATOM INDEX='744' ID='745' NAME='O' RESID='907' RESNAME='ILE' COORDS='(17.0941,22.9961,-4.3357)' ALTLOC='' CHAINID='X' ICODE='' SEGID='PROA' B='0' Q='1' CHARGE='0' MASS='1' ATOMICNUMBER='-1' MASK='201'/>\n",
        "   <ATOM INDEX='756' ID='757' NAME='OE1' RESID='908' RESNAME='GLU' COORDS='(16.1618,26.8569,-1.59481)' ALTLOC='' CHAINID='X' ICODE='' SEGID='PROA' B='0' Q='1' CHARGE='0' MASS='1' ATOMICNUMBER='-1' MASK='201'/>\n",
        "   <ATOM INDEX='757' ID='758' NAME='OE2' RESID='908' RESNAME='GLU' COORDS='(14.3262,28.0322,-0.949172)' ALTLOC='' CHAINID='X' ICODE='' SEGID='PROA' B='0' Q='1' CHARGE='0' MASS='1' ATOMICNUMBER='-1' MASK='201'/>\n",
        "   <ATOM INDEX='760' ID='761' NAME='O' RESID='908' RESNAME='GLU' COORDS='(14.4385,22.4262,-1.55138)' ALTLOC='' CHAINID='X' ICODE='' SEGID='PROA' B='0' Q='1' CHARGE='0' MASS='1' ATOMICNUMBER='-1' MASK='201'/>\n",
        "   <ATOM INDEX='769' ID='770' NAME='OD1' RESID='911' RESNAME='ASN' COORDS='(19.8214,23.5513,0.838146)' ALTLOC='' CHAINID='X' ICODE='' SEGID='PROA' B='0' Q='1' CHARGE='0' MASS='1' ATOMICNUMBER='-1' MASK='201'/>\n",
        "   <ATOM INDEX='774' ID='775' NAME='O' RESID='911' RESNAME='ASN' COORDS='(18.7237,20.8082,1.11197)' ALTLOC='' CHAINID='X' ICODE='' SEGID='PROA' B='0' Q='1' CHARGE='0' MASS='1' ATOMICNUMBER='-1' MASK='201'/>\n",
        "   <ATOM INDEX='784' ID='785' NAME='O' RESID='912' RESNAME='ALA' COORDS='(16.563,18.5189,2.83862)' ALTLOC='' CHAINID='X' ICODE='' SEGID='PROA' B='0' Q='1' CHARGE='0' MASS='1' ATOMICNUMBER='-1' MASK='201'/>\n",
        "   <ATOM INDEX='787' ID='788' NAME='OH2' RESID='3082' RESNAME='TIP3' COORDS='(-42.1828,-38.187,-30.1189)' ALTLOC='' CHAINID='X' ICODE='' SEGID='TIP3' B='0' Q='1' CHARGE='0' MASS='1' ATOMICNUMBER='-1' MASK='201'/>\n",
        "   <ATOM INDEX='790' ID='791' NAME='OH2' RESID='3097' RESNAME='TIP3' COORDS='(46.6985,55.6234,-80.312)' ALTLOC='' CHAINID='X' ICODE='' SEGID='TIP3' B='0' Q='1' CHARGE='0' MASS='1' ATOMICNUMBER='-1' MASK='201'/>\n",
        "   <ATOM INDEX='793' ID='794' NAME='OH2' RESID='3107' RESNAME='TIP3' COORDS='(1.4859,-33.2951,21.1502)' ALTLOC='' CHAINID='X' ICODE='' SEGID='TIP3' B='0' Q='1' CHARGE='0' MASS='1' ATOMICNUMBER='-1' MASK='201'/>\n",
        "   <ATOM INDEX='796' ID='797' NAME='OH2' RESID='50916' RESNAME='TIP3' COORDS='(33.3564,-8.72952,-41.5507)' ALTLOC='' CHAINID='X' ICODE=' ' SEGID='TIP3' B='0' Q='1' CHARGE='0' MASS='1' ATOMICNUMBER='-1' MASK='201'/>\n",
        "   <ATOM INDEX='799' ID='800' NAME='OH2' RESID='50917' RESNAME='TIP3' COORDS='(-20.3191,-40.1874,-54.3914)' ALTLOC='' CHAINID='X' ICODE=' ' SEGID='TIP3' B='0' Q='1' CHARGE='0' MASS='1' ATOMICNUMBER='-1' MASK='201'/>\n",
        "</GROUP>\n",
        "50000"
       ]
      },
      {
       "output_type": "stream",
       "stream": "stdout",
       "text": [
        "\n",
        "50000"
       ]
      },
      {
       "output_type": "stream",
       "stream": "stdout",
       "text": [
        "\n",
        "50000"
       ]
      },
      {
       "output_type": "stream",
       "stream": "stdout",
       "text": [
        "\n",
        "50000"
       ]
      },
      {
       "output_type": "stream",
       "stream": "stdout",
       "text": [
        "\n",
        "50000"
       ]
      },
      {
       "output_type": "stream",
       "stream": "stdout",
       "text": [
        "\n",
        "50000"
       ]
      },
      {
       "output_type": "stream",
       "stream": "stdout",
       "text": [
        "\n",
        "50000"
       ]
      },
      {
       "output_type": "stream",
       "stream": "stdout",
       "text": [
        "\n",
        "50000"
       ]
      },
      {
       "output_type": "stream",
       "stream": "stdout",
       "text": [
        "\n",
        "50000"
       ]
      },
      {
       "output_type": "stream",
       "stream": "stdout",
       "text": [
        "\n",
        "50000"
       ]
      },
      {
       "output_type": "stream",
       "stream": "stdout",
       "text": [
        "\n",
        "50000"
       ]
      },
      {
       "output_type": "stream",
       "stream": "stdout",
       "text": [
        "\n",
        "50000"
       ]
      },
      {
       "output_type": "stream",
       "stream": "stdout",
       "text": [
        "\n",
        "50000"
       ]
      },
      {
       "output_type": "stream",
       "stream": "stdout",
       "text": [
        "\n",
        "50000"
       ]
      },
      {
       "output_type": "stream",
       "stream": "stdout",
       "text": [
        "\n",
        "50000"
       ]
      },
      {
       "output_type": "stream",
       "stream": "stdout",
       "text": [
        "\n",
        "50000"
       ]
      },
      {
       "output_type": "stream",
       "stream": "stdout",
       "text": [
        "\n",
        "50000"
       ]
      },
      {
       "output_type": "stream",
       "stream": "stdout",
       "text": [
        "\n",
        "50000"
       ]
      },
      {
       "output_type": "stream",
       "stream": "stdout",
       "text": [
        "\n",
        "50000"
       ]
      },
      {
       "output_type": "stream",
       "stream": "stdout",
       "text": [
        "\n",
        "50000"
       ]
      },
      {
       "output_type": "stream",
       "stream": "stdout",
       "text": [
        "\n",
        "50000"
       ]
      },
      {
       "output_type": "stream",
       "stream": "stdout",
       "text": [
        "\n",
        "50000"
       ]
      },
      {
       "output_type": "stream",
       "stream": "stdout",
       "text": [
        "\n",
        "50000"
       ]
      },
      {
       "output_type": "stream",
       "stream": "stdout",
       "text": [
        "\n",
        "50000"
       ]
      },
      {
       "output_type": "stream",
       "stream": "stdout",
       "text": [
        "\n",
        "50000"
       ]
      },
      {
       "output_type": "stream",
       "stream": "stdout",
       "text": [
        "\n",
        "50000"
       ]
      },
      {
       "output_type": "stream",
       "stream": "stdout",
       "text": [
        "\n",
        "50000"
       ]
      },
      {
       "output_type": "stream",
       "stream": "stdout",
       "text": [
        "\n",
        "50000"
       ]
      },
      {
       "output_type": "stream",
       "stream": "stdout",
       "text": [
        "\n",
        "50000"
       ]
      },
      {
       "output_type": "stream",
       "stream": "stdout",
       "text": [
        "\n",
        "50000"
       ]
      },
      {
       "output_type": "stream",
       "stream": "stdout",
       "text": [
        "\n",
        "50000"
       ]
      },
      {
       "output_type": "stream",
       "stream": "stdout",
       "text": [
        "\n",
        "50000"
       ]
      },
      {
       "output_type": "stream",
       "stream": "stdout",
       "text": [
        "\n",
        "50000"
       ]
      },
      {
       "output_type": "stream",
       "stream": "stdout",
       "text": [
        "\n",
        "50000"
       ]
      },
      {
       "output_type": "stream",
       "stream": "stdout",
       "text": [
        "\n",
        "50000"
       ]
      },
      {
       "output_type": "stream",
       "stream": "stdout",
       "text": [
        "\n",
        "50000"
       ]
      },
      {
       "output_type": "stream",
       "stream": "stdout",
       "text": [
        "\n",
        "50000"
       ]
      },
      {
       "output_type": "stream",
       "stream": "stdout",
       "text": [
        "\n",
        "50000"
       ]
      },
      {
       "output_type": "stream",
       "stream": "stdout",
       "text": [
        "\n",
        "50000"
       ]
      },
      {
       "output_type": "stream",
       "stream": "stdout",
       "text": [
        "\n",
        "50000"
       ]
      },
      {
       "output_type": "stream",
       "stream": "stdout",
       "text": [
        "\n",
        "50000"
       ]
      },
      {
       "output_type": "stream",
       "stream": "stdout",
       "text": [
        "\n",
        "50000"
       ]
      },
      {
       "output_type": "stream",
       "stream": "stdout",
       "text": [
        "\n",
        "50000"
       ]
      },
      {
       "output_type": "stream",
       "stream": "stdout",
       "text": [
        "\n",
        "50000"
       ]
      },
      {
       "output_type": "stream",
       "stream": "stdout",
       "text": [
        "\n",
        "50000"
       ]
      },
      {
       "output_type": "stream",
       "stream": "stdout",
       "text": [
        "\n",
        "50000"
       ]
      },
      {
       "output_type": "stream",
       "stream": "stdout",
       "text": [
        "\n",
        "50000"
       ]
      },
      {
       "output_type": "stream",
       "stream": "stdout",
       "text": [
        "\n",
        "50000"
       ]
      },
      {
       "output_type": "stream",
       "stream": "stdout",
       "text": [
        "\n",
        "50000"
       ]
      },
      {
       "output_type": "stream",
       "stream": "stdout",
       "text": [
        "\n",
        "50000"
       ]
      },
      {
       "output_type": "stream",
       "stream": "stdout",
       "text": [
        "\n",
        "50000"
       ]
      },
      {
       "output_type": "stream",
       "stream": "stdout",
       "text": [
        "\n",
        "50000"
       ]
      },
      {
       "output_type": "stream",
       "stream": "stdout",
       "text": [
        "\n",
        "50000"
       ]
      },
      {
       "output_type": "stream",
       "stream": "stdout",
       "text": [
        "\n",
        "50000"
       ]
      },
      {
       "output_type": "stream",
       "stream": "stdout",
       "text": [
        "\n",
        "50000"
       ]
      },
      {
       "output_type": "stream",
       "stream": "stdout",
       "text": [
        "\n",
        "50000"
       ]
      },
      {
       "output_type": "stream",
       "stream": "stdout",
       "text": [
        "\n",
        "50000"
       ]
      },
      {
       "output_type": "stream",
       "stream": "stdout",
       "text": [
        "\n",
        "50000"
       ]
      },
      {
       "output_type": "stream",
       "stream": "stdout",
       "text": [
        "\n",
        "50000"
       ]
      },
      {
       "output_type": "stream",
       "stream": "stdout",
       "text": [
        "\n",
        "50000"
       ]
      },
      {
       "output_type": "stream",
       "stream": "stdout",
       "text": [
        "\n",
        "50000"
       ]
      },
      {
       "output_type": "stream",
       "stream": "stdout",
       "text": [
        "\n",
        "50000"
       ]
      },
      {
       "output_type": "stream",
       "stream": "stdout",
       "text": [
        "\n",
        "50000"
       ]
      },
      {
       "output_type": "stream",
       "stream": "stdout",
       "text": [
        "\n",
        "50000"
       ]
      },
      {
       "output_type": "stream",
       "stream": "stdout",
       "text": [
        "\n",
        "50000"
       ]
      },
      {
       "output_type": "stream",
       "stream": "stdout",
       "text": [
        "\n",
        "50000"
       ]
      },
      {
       "output_type": "stream",
       "stream": "stdout",
       "text": [
        "\n",
        "50000"
       ]
      },
      {
       "output_type": "stream",
       "stream": "stdout",
       "text": [
        "\n",
        "50000"
       ]
      },
      {
       "output_type": "stream",
       "stream": "stdout",
       "text": [
        "\n",
        "50000"
       ]
      },
      {
       "output_type": "stream",
       "stream": "stdout",
       "text": [
        "\n",
        "50000"
       ]
      },
      {
       "output_type": "stream",
       "stream": "stdout",
       "text": [
        "\n",
        "50000"
       ]
      },
      {
       "output_type": "stream",
       "stream": "stdout",
       "text": [
        "\n",
        "50000"
       ]
      },
      {
       "output_type": "stream",
       "stream": "stdout",
       "text": [
        "\n",
        "50000"
       ]
      },
      {
       "output_type": "stream",
       "stream": "stdout",
       "text": [
        "\n",
        "6.0"
       ]
      },
      {
       "output_type": "stream",
       "stream": "stdout",
       "text": [
        "\n"
       ]
      },
      {
       "metadata": {},
       "output_type": "pyout",
       "prompt_number": 16,
       "text": [
        "(array([[  0.00000000e+00,   0.00000000e+00,   0.00000000e+00, ...,\n",
        "           0.00000000e+00,   0.00000000e+00,   0.00000000e+00],\n",
        "        [  1.00000000e+00,   1.00000000e+00,   1.00000000e+00, ...,\n",
        "           1.00000000e+00,   1.00000000e+00,   1.00000000e+00],\n",
        "        [  2.00000000e+00,   2.00000000e+00,   2.00000000e+00, ...,\n",
        "           2.00000000e+00,   2.00000000e+00,   2.00000000e+00],\n",
        "        ..., \n",
        "        [  4.99970000e+04,   4.99970000e+04,   4.99970000e+04, ...,\n",
        "           4.99970000e+04,   4.99970000e+04,   4.99970000e+04],\n",
        "        [  4.99980000e+04,   4.99980000e+04,   4.99980000e+04, ...,\n",
        "           4.99980000e+04,   4.99980000e+04,   4.99980000e+04],\n",
        "        [  4.99990000e+04,   4.99990000e+04,   4.99990000e+04, ...,\n",
        "           4.99990000e+04,   4.99990000e+04,   4.99990000e+04]]),\n",
        " array([[  2. ,   2.5,   3. , ...,  14. ,  14.5,  15. ],\n",
        "        [  2. ,   2.5,   3. , ...,  14. ,  14.5,  15. ],\n",
        "        [  2. ,   2.5,   3. , ...,  14. ,  14.5,  15. ],\n",
        "        ..., \n",
        "        [  2. ,   2.5,   3. , ...,  14. ,  14.5,  15. ],\n",
        "        [  2. ,   2.5,   3. , ...,  14. ,  14.5,  15. ],\n",
        "        [  2. ,   2.5,   3. , ...,  14. ,  14.5,  15. ]]),\n",
        " [])"
       ]
      },
      {
       "metadata": {},
       "output_type": "display_data",
       "png": "[encoded data removed]",
       "text": [
        "<matplotlib.figure.Figure at 0x7f601ce0f390>"
       ]
      }
     ],
     "prompt_number": 16
    },
    {
     "cell_type": "code",
     "collapsed": false,
     "input": [
      "run=2\n",
      "idx = 0#np.int(run)-1\n",
      "plt.figure()\n",
      "CarbonylDensityAnalysis_BS(case, idx=idx, loopType=\"K1 to Oxy distance in run 2\", calIdx = 1106, binMax=15)"
     ],
     "language": "python",
     "metadata": {},
     "outputs": [
      {
       "output_type": "stream",
       "stream": "stdout",
       "text": [
        "<GROUP PERIODIC='(0,0,0)'>\n",
        "   <ATOM INDEX='18' ID='19' NAME='O' RESID='97' RESNAME='ILE' COORDS='(-15.086,9.696,5.601)' ALTLOC='' CHAINID='X' ICODE='' SEGID='PROA' B='0' Q='1' CHARGE='0' MASS='1' ATOMICNUMBER='-1' MASK='201'/>\n",
        "   <ATOM INDEX='37' ID='38' NAME='O' RESID='98' RESNAME='LEU' COORDS='(-16.334,11.526,8.149)' ALTLOC='' CHAINID='X' ICODE='' SEGID='PROA' B='0' Q='1' CHARGE='0' MASS='1' ATOMICNUMBER='-1' MASK='201'/>\n",
        "   <ATOM INDEX='46' ID='47' NAME='OD1' RESID='101' RESNAME='ASN' COORDS='(-11.6,12.34,8.464)' ALTLOC='' CHAINID='X' ICODE='' SEGID='PROA' B='0' Q='1' CHARGE='0' MASS='1' ATOMICNUMBER='-1' MASK='201'/>\n",
        "   <ATOM INDEX='51' ID='52' NAME='O' RESID='101' RESNAME='ASN' COORDS='(-13.511,8.521,11.514)' ALTLOC='' CHAINID='X' ICODE='' SEGID='PROA' B='0' Q='1' CHARGE='0' MASS='1' ATOMICNUMBER='-1' MASK='201'/>\n",
        "   <ATOM INDEX='67' ID='68' NAME='O' RESID='104' RESNAME='VAL' COORDS='(-12.364,5.392,15.229)' ALTLOC='' CHAINID='X' ICODE='' SEGID='PROA' B='0' Q='1' CHARGE='0' MASS='1' ATOMICNUMBER='-1' MASK='201'/>\n",
        "   <ATOM INDEX='79' ID='80' NAME='OE1' RESID='108' RESNAME='GLN' COORDS='(-7.855,5.22,15.271)' ALTLOC='' CHAINID='X' ICODE='' SEGID='PROA' B='0' Q='1' CHARGE='0' MASS='1' ATOMICNUMBER='-1' MASK='201'/>\n",
        "   <ATOM INDEX='84' ID='85' NAME='O' RESID='108' RESNAME='GLN' COORDS='(-10.524,4.032,20.801)' ALTLOC='' CHAINID='X' ICODE='' SEGID='PROA' B='0' Q='1' CHARGE='0' MASS='1' ATOMICNUMBER='-1' MASK='201'/>\n",
        "   <ATOM INDEX='103' ID='104' NAME='O' RESID='264' RESNAME='ILE' COORDS='(-1.031,23.628,5.341)' ALTLOC='' CHAINID='X' ICODE='' SEGID='PROA' B='0' Q='1' CHARGE='0' MASS='1' ATOMICNUMBER='-1' MASK='201'/>\n",
        "   <ATOM INDEX='113' ID='114' NAME='O' RESID='301' RESNAME='ALA' COORDS='(-7.527,17.538,2.437)' ALTLOC='' CHAINID='X' ICODE='' SEGID='PROA' B='0' Q='1' CHARGE='0' MASS='1' ATOMICNUMBER='-1' MASK='201'/>\n",
        "   <ATOM INDEX='132' ID='133' NAME='O' RESID='302' RESNAME='LEU' COORDS='(-5.092,18.303,4.248)' ALTLOC='' CHAINID='X' ICODE='' SEGID='PROA' B='0' Q='1' CHARGE='0' MASS='1' ATOMICNUMBER='-1' MASK='201'/>\n",
        "   <ATOM INDEX='142' ID='143' NAME='O' RESID='303' RESNAME='ALA' COORDS='(-6.114,19.289,6.986)' ALTLOC='' CHAINID='X' ICODE='' SEGID='PROA' B='0' Q='1' CHARGE='0' MASS='1' ATOMICNUMBER='-1' MASK='201'/>\n",
        "   <ATOM INDEX='158' ID='159' NAME='O' RESID='304' RESNAME='VAL' COORDS='(-8.094,16.24,7.237)' ALTLOC='' CHAINID='X' ICODE='' SEGID='PROA' B='0' Q='1' CHARGE='0' MASS='1' ATOMICNUMBER='-1' MASK='201'/>\n",
        "   <ATOM INDEX='168' ID='169' NAME='O' RESID='305' RESNAME='ALA' COORDS='(-5.062,15.182,7.339)' ALTLOC='' CHAINID='X' ICODE='' SEGID='PROA' B='0' Q='1' CHARGE='0' MASS='1' ATOMICNUMBER='-1' MASK='201'/>\n",
        "   <ATOM INDEX='178' ID='179' NAME='O' RESID='306' RESNAME='ALA' COORDS='(-1.597,16.536,7.953)' ALTLOC='' CHAINID='X' ICODE='' SEGID='PROA' B='0' Q='1' CHARGE='0' MASS='1' ATOMICNUMBER='-1' MASK='201'/>\n",
        "   <ATOM INDEX='197' ID='198' NAME='O' RESID='307' RESNAME='ILE' COORDS='(-4.619,15.736,10.064)' ALTLOC='' CHAINID='X' ICODE='' SEGID='PROA' B='0' Q='1' CHARGE='0' MASS='1' ATOMICNUMBER='-1' MASK='201'/>\n",
        "   <ATOM INDEX='211' ID='212' NAME='O' RESID='308' RESNAME='PRO' COORDS='(-4.864,16.307,14.019)' ALTLOC='' CHAINID='X' ICODE='' SEGID='PROA' B='0' Q='1' CHARGE='0' MASS='1' ATOMICNUMBER='-1' MASK='201'/>\n",
        "   <ATOM INDEX='223' ID='224' NAME='OE1' RESID='309' RESNAME='GLU' COORDS='(-5.918,13.252,10.169)' ALTLOC='' CHAINID='X' ICODE='' SEGID='PROA' B='0' Q='1' CHARGE='0' MASS='1' ATOMICNUMBER='-1' MASK='201'/>\n",
        "   <ATOM INDEX='224' ID='225' NAME='OE2' RESID='309' RESNAME='GLU' COORDS='(-7.703,13.365,8.872)' ALTLOC='' CHAINID='X' ICODE='' SEGID='PROA' B='0' Q='1' CHARGE='0' MASS='1' ATOMICNUMBER='-1' MASK='201'/>\n",
        "   <ATOM INDEX='226' ID='227' NAME='O' RESID='309' RESNAME='GLU' COORDS='(-8.098,14.343,15.109)' ALTLOC='' CHAINID='X' ICODE='' SEGID='PROA' B='0' Q='1' CHARGE='0' MASS='1' ATOMICNUMBER='-1' MASK='201'/>\n",
        "   <ATOM INDEX='233' ID='234' NAME='O' RESID='310' RESNAME='GLY' COORDS='(-4.922,11.934,18.169)' ALTLOC='' CHAINID='X' ICODE='' SEGID='PROA' B='0' Q='1' CHARGE='0' MASS='1' ATOMICNUMBER='-1' MASK='201'/>\n",
        "   <ATOM INDEX='252' ID='253' NAME='O' RESID='311' RESNAME='LEU' COORDS='(-2.728,12.132,20.415)' ALTLOC='' CHAINID='X' ICODE='' SEGID='PROA' B='0' Q='1' CHARGE='0' MASS='1' ATOMICNUMBER='-1' MASK='201'/>\n",
        "   <ATOM INDEX='272' ID='273' NAME='O' RESID='760' RESNAME='PHE' COORDS='(1.847,7.432,14.685)' ALTLOC='' CHAINID='X' ICODE='' SEGID='PROA' B='0' Q='1' CHARGE='0' MASS='1' ATOMICNUMBER='-1' MASK='201'/>\n",
        "   <ATOM INDEX='291' ID='292' NAME='O' RESID='761' RESNAME='ILE' COORDS='(3.871,9.697,13.704)' ALTLOC='' CHAINID='X' ICODE='' SEGID='PROA' B='0' Q='1' CHARGE='0' MASS='1' ATOMICNUMBER='-1' MASK='201'/>\n",
        "   <ATOM INDEX='315' ID='316' NAME='O' RESID='762' RESNAME='ARG' COORDS='(5.562,9.067,11.266)' ALTLOC='' CHAINID='X' ICODE='' SEGID='PROA' B='0' Q='1' CHARGE='0' MASS='1' ATOMICNUMBER='-1' MASK='201'/>\n",
        "   <ATOM INDEX='329' ID='330' NAME='OH' RESID='763' RESNAME='TYR' COORDS='(0.194,3.631,7.08)' ALTLOC='' CHAINID='X' ICODE='' SEGID='PROA' B='0' Q='1' CHARGE='0' MASS='1' ATOMICNUMBER='-1' MASK='201'/>\n",
        "   <ATOM INDEX='336' ID='337' NAME='O' RESID='763' RESNAME='TYR' COORDS='(2.585,8,9.673)' ALTLOC='' CHAINID='X' ICODE='' SEGID='PROA' B='0' Q='1' CHARGE='0' MASS='1' ATOMICNUMBER='-1' MASK='201'/>\n",
        "   <ATOM INDEX='355' ID='356' NAME='O' RESID='764' RESNAME='LEU' COORDS='(1.978,10.61,9.706)' ALTLOC='' CHAINID='X' ICODE='' SEGID='PROA' B='0' Q='1' CHARGE='0' MASS='1' ATOMICNUMBER='-1' MASK='201'/>\n",
        "   <ATOM INDEX='374' ID='375' NAME='O' RESID='765' RESNAME='ILE' COORDS='(3.913,13.167,8.998)' ALTLOC='' CHAINID='X' ICODE='' SEGID='PROA' B='0' Q='1' CHARGE='0' MASS='1' ATOMICNUMBER='-1' MASK='201'/>\n",
        "   <ATOM INDEX='382' ID='383' NAME='OG' RESID='766' RESNAME='SER' COORDS='(5.913,8.678,8.55)' ALTLOC='' CHAINID='X' ICODE='' SEGID='PROA' B='0' Q='1' CHARGE='0' MASS='1' ATOMICNUMBER='-1' MASK='201'/>\n",
        "   <ATOM INDEX='385' ID='386' NAME='O' RESID='766' RESNAME='SER' COORDS='(4.73,11.735,6.396)' ALTLOC='' CHAINID='X' ICODE='' SEGID='PROA' B='0' Q='1' CHARGE='0' MASS='1' ATOMICNUMBER='-1' MASK='201'/>\n",
        "   <ATOM INDEX='393' ID='394' NAME='OG' RESID='767' RESNAME='SER' COORDS='(1.195,9.381,8.035)' ALTLOC='' CHAINID='X' ICODE='' SEGID='PROA' B='0' Q='1' CHARGE='0' MASS='1' ATOMICNUMBER='-1' MASK='201'/>\n",
        "   <ATOM INDEX='396' ID='397' NAME='O' RESID='767' RESNAME='SER' COORDS='(2.08,11.325,4.643)' ALTLOC='' CHAINID='X' ICODE='' SEGID='PROA' B='0' Q='1' CHARGE='0' MASS='1' ATOMICNUMBER='-1' MASK='201'/>\n",
        "   <ATOM INDEX='405' ID='406' NAME='OD1' RESID='768' RESNAME='ASN' COORDS='(-1.602,12.761,7.376)' ALTLOC='' CHAINID='X' ICODE='' SEGID='PROA' B='0' Q='1' CHARGE='0' MASS='1' ATOMICNUMBER='-1' MASK='201'/>\n",
        "   <ATOM INDEX='410' ID='411' NAME='O' RESID='768' RESNAME='ASN' COORDS='(1.666,14.911,5.026)' ALTLOC='' CHAINID='X' ICODE='' SEGID='PROA' B='0' Q='1' CHARGE='0' MASS='1' ATOMICNUMBER='-1' MASK='201'/>\n",
        "   <ATOM INDEX='426' ID='427' NAME='O' RESID='769' RESNAME='VAL' COORDS='(4.108,15.746,3.456)' ALTLOC='' CHAINID='X' ICODE='' SEGID='PROA' B='0' Q='1' CHARGE='0' MASS='1' ATOMICNUMBER='-1' MASK='201'/>\n",
        "   <ATOM INDEX='433' ID='434' NAME='O' RESID='770' RESNAME='GLY' COORDS='(3.187,14.039,0.646)' ALTLOC='' CHAINID='X' ICODE='' SEGID='PROA' B='0' Q='1' CHARGE='0' MASS='1' ATOMICNUMBER='-1' MASK='201'/>\n",
        "   <ATOM INDEX='445' ID='446' NAME='OE1' RESID='771' RESNAME='GLU' COORDS='(-2.374,12.266,4.685)' ALTLOC='' CHAINID='X' ICODE='' SEGID='PROA' B='0' Q='1' CHARGE='0' MASS='1' ATOMICNUMBER='-1' MASK='201'/>\n",
        "   <ATOM INDEX='446' ID='447' NAME='OE2' RESID='771' RESNAME='GLU' COORDS='(-1.508,10.263,4.765)' ALTLOC='' CHAINID='X' ICODE='' SEGID='PROA' B='0' Q='1' CHARGE='0' MASS='1' ATOMICNUMBER='-1' MASK='201'/>\n",
        "   <ATOM INDEX='448' ID='449' NAME='O' RESID='771' RESNAME='GLU' COORDS='(-0.148,15.36,0.622)' ALTLOC='' CHAINID='X' ICODE='' SEGID='PROA' B='0' Q='1' CHARGE='0' MASS='1' ATOMICNUMBER='-1' MASK='201'/>\n",
        "   <ATOM INDEX='464' ID='465' NAME='O' RESID='772' RESNAME='VAL' COORDS='(2.086,18.253,-0.415)' ALTLOC='' CHAINID='X' ICODE='' SEGID='PROA' B='0' Q='1' CHARGE='0' MASS='1' ATOMICNUMBER='-1' MASK='201'/>\n",
        "   <ATOM INDEX='483' ID='484' NAME='O' RESID='792' RESNAME='LEU' COORDS='(-6.578,10.88,0.743)' ALTLOC='' CHAINID='X' ICODE='' SEGID='PROA' B='0' Q='1' CHARGE='0' MASS='1' ATOMICNUMBER='-1' MASK='201'/>\n",
        "   <ATOM INDEX='502' ID='503' NAME='O' RESID='793' RESNAME='LEU' COORDS='(-9.997,9.725,2.338)' ALTLOC='' CHAINID='X' ICODE='' SEGID='PROA' B='0' Q='1' CHARGE='0' MASS='1' ATOMICNUMBER='-1' MASK='201'/>\n",
        "   <ATOM INDEX='526' ID='527' NAME='O' RESID='794' RESNAME='TRP' COORDS='(-8.618,6.525,1.893)' ALTLOC='' CHAINID='X' ICODE='' SEGID='PROA' B='0' Q='1' CHARGE='0' MASS='1' ATOMICNUMBER='-1' MASK='201'/>\n",
        "   <ATOM INDEX='542' ID='543' NAME='O' RESID='795' RESNAME='VAL' COORDS='(-5.712,6.423,3.091)' ALTLOC='' CHAINID='X' ICODE='' SEGID='PROA' B='0' Q='1' CHARGE='0' MASS='1' ATOMICNUMBER='-1' MASK='201'/>\n",
        "   <ATOM INDEX='551' ID='552' NAME='OD1' RESID='796' RESNAME='ASN' COORDS='(-4.664,10.773,5.59)' ALTLOC='' CHAINID='X' ICODE='' SEGID='PROA' B='0' Q='1' CHARGE='0' MASS='1' ATOMICNUMBER='-1' MASK='201'/>\n",
        "   <ATOM INDEX='556' ID='557' NAME='O' RESID='796' RESNAME='ASN' COORDS='(-6.692,7.607,5.782)' ALTLOC='' CHAINID='X' ICODE='' SEGID='PROA' B='0' Q='1' CHARGE='0' MASS='1' ATOMICNUMBER='-1' MASK='201'/>\n",
        "   <ATOM INDEX='575' ID='576' NAME='O' RESID='797' RESNAME='LEU' COORDS='(-9.852,5.109,5.59)' ALTLOC='' CHAINID='X' ICODE='' SEGID='PROA' B='0' Q='1' CHARGE='0' MASS='1' ATOMICNUMBER='-1' MASK='201'/>\n",
        "   <ATOM INDEX='591' ID='592' NAME='O' RESID='798' RESNAME='VAL' COORDS='(-6.091,3.424,6.707)' ALTLOC='' CHAINID='X' ICODE='' SEGID='PROA' B='0' Q='1' CHARGE='0' MASS='1' ATOMICNUMBER='-1' MASK='201'/>\n",
        "   <ATOM INDEX='598' ID='599' NAME='OG1' RESID='799' RESNAME='THR' COORDS='(-3.585,7.346,5.308)' ALTLOC='' CHAINID='X' ICODE='' SEGID='PROA' B='0' Q='1' CHARGE='0' MASS='1' ATOMICNUMBER='-1' MASK='201'/>\n",
        "   <ATOM INDEX='605' ID='606' NAME='O' RESID='799' RESNAME='THR' COORDS='(-3.376,4.639,8.288)' ALTLOC='' CHAINID='X' ICODE='' SEGID='PROA' B='0' Q='1' CHARGE='0' MASS='1' ATOMICNUMBER='-1' MASK='201'/>\n",
        "   <ATOM INDEX='614' ID='615' NAME='OD1' RESID='800' RESNAME='ASP' COORDS='(-3.167,8.524,8.89)' ALTLOC='' CHAINID='X' ICODE='' SEGID='PROA' B='0' Q='1' CHARGE='0' MASS='1' ATOMICNUMBER='-1' MASK='201'/>\n",
        "   <ATOM INDEX='615' ID='616' NAME='OD2' RESID='800' RESNAME='ASP' COORDS='(-4.81,9.72,7.929)' ALTLOC='' CHAINID='X' ICODE='' SEGID='PROA' B='0' Q='1' CHARGE='0' MASS='1' ATOMICNUMBER='-1' MASK='201'/>\n",
        "   <ATOM INDEX='617' ID='618' NAME='O' RESID='800' RESNAME='ASP' COORDS='(-6.919,6.276,10.823)' ALTLOC='' CHAINID='X' ICODE='' SEGID='PROA' B='0' Q='1' CHARGE='0' MASS='1' ATOMICNUMBER='-1' MASK='201'/>\n",
        "   <ATOM INDEX='624' ID='625' NAME='O' RESID='801' RESNAME='GLY' COORDS='(-8.295,2.314,11.028)' ALTLOC='' CHAINID='X' ICODE='' SEGID='PROA' B='0' Q='1' CHARGE='0' MASS='1' ATOMICNUMBER='-1' MASK='201'/>\n",
        "   <ATOM INDEX='643' ID='644' NAME='O' RESID='802' RESNAME='LEU' COORDS='(-4.981,0.221,11.137)' ALTLOC='' CHAINID='X' ICODE='' SEGID='PROA' B='0' Q='1' CHARGE='0' MASS='1' ATOMICNUMBER='-1' MASK='201'/>\n",
        "   <ATOM INDEX='657' ID='658' NAME='O' RESID='803' RESNAME='PRO' COORDS='(-1.329,0.496,10.776)' ALTLOC='' CHAINID='X' ICODE='' SEGID='PROA' B='0' Q='1' CHARGE='0' MASS='1' ATOMICNUMBER='-1' MASK='201'/>\n",
        "   <ATOM INDEX='667' ID='668' NAME='O' RESID='804' RESNAME='ALA' COORDS='(-2.012,2.185,13.832)' ALTLOC='' CHAINID='X' ICODE='' SEGID='PROA' B='0' Q='1' CHARGE='0' MASS='1' ATOMICNUMBER='-1' MASK='201'/>\n",
        "   <ATOM INDEX='674' ID='675' NAME='O' RESID='841' RESNAME='GLY' COORDS='(7.185,12.008,2.2)' ALTLOC='' CHAINID='X' ICODE='' SEGID='PROA' B='0' Q='1' CHARGE='0' MASS='1' ATOMICNUMBER='-1' MASK='201'/>\n",
        "   <ATOM INDEX='690' ID='691' NAME='O' RESID='844' RESNAME='VAL' COORDS='(5.489,10.065,-2.187)' ALTLOC='' CHAINID='X' ICODE='' SEGID='PROA' B='0' Q='1' CHARGE='0' MASS='1' ATOMICNUMBER='-1' MASK='201'/>\n",
        "   <ATOM INDEX='709' ID='710' NAME='O' RESID='904' RESNAME='LEU' COORDS='(1.192,4.513,-0.247)' ALTLOC='' CHAINID='X' ICODE='' SEGID='PROA' B='0' Q='1' CHARGE='0' MASS='1' ATOMICNUMBER='-1' MASK='201'/>\n",
        "   <ATOM INDEX='725' ID='726' NAME='O' RESID='905' RESNAME='VAL' COORDS='(-0.154,1.555,0.758)' ALTLOC='' CHAINID='X' ICODE='' SEGID='PROA' B='0' Q='1' CHARGE='0' MASS='1' ATOMICNUMBER='-1' MASK='201'/>\n",
        "   <ATOM INDEX='744' ID='745' NAME='O' RESID='907' RESNAME='ILE' COORDS='(4.811,2.906,2.504)' ALTLOC='' CHAINID='X' ICODE='' SEGID='PROA' B='0' Q='1' CHARGE='0' MASS='1' ATOMICNUMBER='-1' MASK='201'/>\n",
        "   <ATOM INDEX='756' ID='757' NAME='OE1' RESID='908' RESNAME='GLU' COORDS='(1.977,6.539,4.595)' ALTLOC='' CHAINID='X' ICODE='' SEGID='PROA' B='0' Q='1' CHARGE='0' MASS='1' ATOMICNUMBER='-1' MASK='201'/>\n",
        "   <ATOM INDEX='757' ID='758' NAME='OE2' RESID='908' RESNAME='GLU' COORDS='(0.071,7.533,4.127)' ALTLOC='' CHAINID='X' ICODE='' SEGID='PROA' B='0' Q='1' CHARGE='0' MASS='1' ATOMICNUMBER='-1' MASK='201'/>\n",
        "   <ATOM INDEX='760' ID='761' NAME='O' RESID='908' RESNAME='GLU' COORDS='(2.659,2.143,5.146)' ALTLOC='' CHAINID='X' ICODE='' SEGID='PROA' B='0' Q='1' CHARGE='0' MASS='1' ATOMICNUMBER='-1' MASK='201'/>\n",
        "   <ATOM INDEX='769' ID='770' NAME='OD1' RESID='911' RESNAME='ASN' COORDS='(7.052,5.063,7.439)' ALTLOC='' CHAINID='X' ICODE='' SEGID='PROA' B='0' Q='1' CHARGE='0' MASS='1' ATOMICNUMBER='-1' MASK='201'/>\n",
        "   <ATOM INDEX='774' ID='775' NAME='O' RESID='911' RESNAME='ASN' COORDS='(6.206,2.218,8.404)' ALTLOC='' CHAINID='X' ICODE='' SEGID='PROA' B='0' Q='1' CHARGE='0' MASS='1' ATOMICNUMBER='-1' MASK='201'/>\n",
        "   <ATOM INDEX='784' ID='785' NAME='O' RESID='912' RESNAME='ALA' COORDS='(4.73,-0.606,10.066)' ALTLOC='' CHAINID='X' ICODE='' SEGID='PROA' B='0' Q='1' CHARGE='0' MASS='1' ATOMICNUMBER='-1' MASK='201'/>\n",
        "   <ATOM INDEX='787' ID='788' NAME='OH2' RESID='3082' RESNAME='TIP3' COORDS='(-5.517,8.835,17.153)' ALTLOC='' CHAINID='X' ICODE='' SEGID='TIP3' B='0' Q='1' CHARGE='0' MASS='1' ATOMICNUMBER='-1' MASK='201'/>\n",
        "   <ATOM INDEX='790' ID='791' NAME='OH2' RESID='3097' RESNAME='TIP3' COORDS='(-11.83,13.264,16.529)' ALTLOC='' CHAINID='X' ICODE='' SEGID='TIP3' B='0' Q='1' CHARGE='0' MASS='1' ATOMICNUMBER='-1' MASK='201'/>\n",
        "   <ATOM INDEX='793' ID='794' NAME='OH2' RESID='3107' RESNAME='TIP3' COORDS='(-8.88,11.901,16.495)' ALTLOC='' CHAINID='X' ICODE='' SEGID='TIP3' B='0' Q='1' CHARGE='0' MASS='1' ATOMICNUMBER='-1' MASK='201'/>\n",
        "   <ATOM INDEX='796' ID='797' NAME='OH2' RESID='50916' RESNAME='TIP3' COORDS='(-9.822,17.418,15.348)' ALTLOC='' CHAINID='X' ICODE=' ' SEGID='TIP3' B='0' Q='1' CHARGE='0' MASS='1' ATOMICNUMBER='-1' MASK='201'/>\n",
        "   <ATOM INDEX='799' ID='800' NAME='OH2' RESID='50917' RESNAME='TIP3' COORDS='(-4.89,17.866,16.588)' ALTLOC='' CHAINID='X' ICODE=' ' SEGID='TIP3' B='0' Q='1' CHARGE='0' MASS='1' ATOMICNUMBER='-1' MASK='201'/>\n",
        "</GROUP>\n",
        "50000"
       ]
      },
      {
       "output_type": "stream",
       "stream": "stdout",
       "text": [
        "\n",
        "50000"
       ]
      },
      {
       "output_type": "stream",
       "stream": "stdout",
       "text": [
        "\n",
        "50000"
       ]
      },
      {
       "output_type": "stream",
       "stream": "stdout",
       "text": [
        "\n",
        "50000"
       ]
      },
      {
       "output_type": "stream",
       "stream": "stdout",
       "text": [
        "\n",
        "50000"
       ]
      },
      {
       "output_type": "stream",
       "stream": "stdout",
       "text": [
        "\n",
        "50000"
       ]
      },
      {
       "output_type": "stream",
       "stream": "stdout",
       "text": [
        "\n",
        "50000"
       ]
      },
      {
       "output_type": "stream",
       "stream": "stdout",
       "text": [
        "\n",
        "50000"
       ]
      },
      {
       "output_type": "stream",
       "stream": "stdout",
       "text": [
        "\n",
        "50000"
       ]
      },
      {
       "output_type": "stream",
       "stream": "stdout",
       "text": [
        "\n",
        "50000"
       ]
      },
      {
       "output_type": "stream",
       "stream": "stdout",
       "text": [
        "\n",
        "50000"
       ]
      },
      {
       "output_type": "stream",
       "stream": "stdout",
       "text": [
        "\n",
        "50000"
       ]
      },
      {
       "output_type": "stream",
       "stream": "stdout",
       "text": [
        "\n",
        "50000"
       ]
      },
      {
       "output_type": "stream",
       "stream": "stdout",
       "text": [
        "\n",
        "50000"
       ]
      },
      {
       "output_type": "stream",
       "stream": "stdout",
       "text": [
        "\n",
        "50000"
       ]
      },
      {
       "output_type": "stream",
       "stream": "stdout",
       "text": [
        "\n",
        "50000"
       ]
      },
      {
       "output_type": "stream",
       "stream": "stdout",
       "text": [
        "\n",
        "50000"
       ]
      },
      {
       "output_type": "stream",
       "stream": "stdout",
       "text": [
        "\n",
        "50000"
       ]
      },
      {
       "output_type": "stream",
       "stream": "stdout",
       "text": [
        "\n",
        "50000"
       ]
      },
      {
       "output_type": "stream",
       "stream": "stdout",
       "text": [
        "\n",
        "50000"
       ]
      },
      {
       "output_type": "stream",
       "stream": "stdout",
       "text": [
        "\n",
        "50000"
       ]
      },
      {
       "output_type": "stream",
       "stream": "stdout",
       "text": [
        "\n",
        "50000"
       ]
      },
      {
       "output_type": "stream",
       "stream": "stdout",
       "text": [
        "\n",
        "50000"
       ]
      },
      {
       "output_type": "stream",
       "stream": "stdout",
       "text": [
        "\n",
        "50000"
       ]
      },
      {
       "output_type": "stream",
       "stream": "stdout",
       "text": [
        "\n",
        "50000"
       ]
      },
      {
       "output_type": "stream",
       "stream": "stdout",
       "text": [
        "\n",
        "50000"
       ]
      },
      {
       "output_type": "stream",
       "stream": "stdout",
       "text": [
        "\n",
        "50000"
       ]
      },
      {
       "output_type": "stream",
       "stream": "stdout",
       "text": [
        "\n",
        "50000"
       ]
      },
      {
       "output_type": "stream",
       "stream": "stdout",
       "text": [
        "\n",
        "50000"
       ]
      },
      {
       "output_type": "stream",
       "stream": "stdout",
       "text": [
        "\n",
        "50000"
       ]
      },
      {
       "output_type": "stream",
       "stream": "stdout",
       "text": [
        "\n",
        "50000"
       ]
      },
      {
       "output_type": "stream",
       "stream": "stdout",
       "text": [
        "\n",
        "50000"
       ]
      },
      {
       "output_type": "stream",
       "stream": "stdout",
       "text": [
        "\n",
        "50000"
       ]
      },
      {
       "output_type": "stream",
       "stream": "stdout",
       "text": [
        "\n",
        "50000"
       ]
      },
      {
       "output_type": "stream",
       "stream": "stdout",
       "text": [
        "\n",
        "50000"
       ]
      },
      {
       "output_type": "stream",
       "stream": "stdout",
       "text": [
        "\n",
        "50000"
       ]
      },
      {
       "output_type": "stream",
       "stream": "stdout",
       "text": [
        "\n",
        "50000"
       ]
      },
      {
       "output_type": "stream",
       "stream": "stdout",
       "text": [
        "\n",
        "50000"
       ]
      },
      {
       "output_type": "stream",
       "stream": "stdout",
       "text": [
        "\n",
        "50000"
       ]
      },
      {
       "output_type": "stream",
       "stream": "stdout",
       "text": [
        "\n",
        "50000"
       ]
      },
      {
       "output_type": "stream",
       "stream": "stdout",
       "text": [
        "\n",
        "50000"
       ]
      },
      {
       "output_type": "stream",
       "stream": "stdout",
       "text": [
        "\n",
        "50000"
       ]
      },
      {
       "output_type": "stream",
       "stream": "stdout",
       "text": [
        "\n",
        "50000"
       ]
      },
      {
       "output_type": "stream",
       "stream": "stdout",
       "text": [
        "\n",
        "50000"
       ]
      },
      {
       "output_type": "stream",
       "stream": "stdout",
       "text": [
        "\n",
        "50000"
       ]
      },
      {
       "output_type": "stream",
       "stream": "stdout",
       "text": [
        "\n",
        "50000"
       ]
      },
      {
       "output_type": "stream",
       "stream": "stdout",
       "text": [
        "\n",
        "50000"
       ]
      },
      {
       "output_type": "stream",
       "stream": "stdout",
       "text": [
        "\n",
        "50000"
       ]
      },
      {
       "output_type": "stream",
       "stream": "stdout",
       "text": [
        "\n",
        "50000"
       ]
      },
      {
       "output_type": "stream",
       "stream": "stdout",
       "text": [
        "\n",
        "50000"
       ]
      },
      {
       "output_type": "stream",
       "stream": "stdout",
       "text": [
        "\n",
        "50000"
       ]
      },
      {
       "output_type": "stream",
       "stream": "stdout",
       "text": [
        "\n",
        "50000"
       ]
      },
      {
       "output_type": "stream",
       "stream": "stdout",
       "text": [
        "\n",
        "50000"
       ]
      },
      {
       "output_type": "stream",
       "stream": "stdout",
       "text": [
        "\n",
        "50000"
       ]
      },
      {
       "output_type": "stream",
       "stream": "stdout",
       "text": [
        "\n",
        "50000"
       ]
      },
      {
       "output_type": "stream",
       "stream": "stdout",
       "text": [
        "\n",
        "50000"
       ]
      },
      {
       "output_type": "stream",
       "stream": "stdout",
       "text": [
        "\n",
        "50000"
       ]
      },
      {
       "output_type": "stream",
       "stream": "stdout",
       "text": [
        "\n",
        "50000"
       ]
      },
      {
       "output_type": "stream",
       "stream": "stdout",
       "text": [
        "\n",
        "50000"
       ]
      },
      {
       "output_type": "stream",
       "stream": "stdout",
       "text": [
        "\n",
        "50000"
       ]
      },
      {
       "output_type": "stream",
       "stream": "stdout",
       "text": [
        "\n",
        "50000"
       ]
      },
      {
       "output_type": "stream",
       "stream": "stdout",
       "text": [
        "\n",
        "50000"
       ]
      },
      {
       "output_type": "stream",
       "stream": "stdout",
       "text": [
        "\n",
        "50000"
       ]
      },
      {
       "output_type": "stream",
       "stream": "stdout",
       "text": [
        "\n",
        "50000"
       ]
      },
      {
       "output_type": "stream",
       "stream": "stdout",
       "text": [
        "\n",
        "50000"
       ]
      },
      {
       "output_type": "stream",
       "stream": "stdout",
       "text": [
        "\n",
        "50000"
       ]
      },
      {
       "output_type": "stream",
       "stream": "stdout",
       "text": [
        "\n",
        "50000"
       ]
      },
      {
       "output_type": "stream",
       "stream": "stdout",
       "text": [
        "\n",
        "50000"
       ]
      },
      {
       "output_type": "stream",
       "stream": "stdout",
       "text": [
        "\n",
        "50000"
       ]
      },
      {
       "output_type": "stream",
       "stream": "stdout",
       "text": [
        "\n",
        "50000"
       ]
      },
      {
       "output_type": "stream",
       "stream": "stdout",
       "text": [
        "\n",
        "50000"
       ]
      },
      {
       "output_type": "stream",
       "stream": "stdout",
       "text": [
        "\n",
        "50000"
       ]
      },
      {
       "output_type": "stream",
       "stream": "stdout",
       "text": [
        "\n",
        "50000"
       ]
      },
      {
       "output_type": "stream",
       "stream": "stdout",
       "text": [
        "\n",
        "6.0"
       ]
      },
      {
       "output_type": "stream",
       "stream": "stdout",
       "text": [
        "\n"
       ]
      },
      {
       "metadata": {},
       "output_type": "pyout",
       "prompt_number": 19,
       "text": [
        "(array([[  0.00000000e+00,   0.00000000e+00,   0.00000000e+00, ...,\n",
        "           0.00000000e+00,   0.00000000e+00,   0.00000000e+00],\n",
        "        [  1.00000000e+00,   1.00000000e+00,   1.00000000e+00, ...,\n",
        "           1.00000000e+00,   1.00000000e+00,   1.00000000e+00],\n",
        "        [  2.00000000e+00,   2.00000000e+00,   2.00000000e+00, ...,\n",
        "           2.00000000e+00,   2.00000000e+00,   2.00000000e+00],\n",
        "        ..., \n",
        "        [  4.99970000e+04,   4.99970000e+04,   4.99970000e+04, ...,\n",
        "           4.99970000e+04,   4.99970000e+04,   4.99970000e+04],\n",
        "        [  4.99980000e+04,   4.99980000e+04,   4.99980000e+04, ...,\n",
        "           4.99980000e+04,   4.99980000e+04,   4.99980000e+04],\n",
        "        [  4.99990000e+04,   4.99990000e+04,   4.99990000e+04, ...,\n",
        "           4.99990000e+04,   4.99990000e+04,   4.99990000e+04]]),\n",
        " array([[  2. ,   2.5,   3. , ...,  14. ,  14.5,  15. ],\n",
        "        [  2. ,   2.5,   3. , ...,  14. ,  14.5,  15. ],\n",
        "        [  2. ,   2.5,   3. , ...,  14. ,  14.5,  15. ],\n",
        "        ..., \n",
        "        [  2. ,   2.5,   3. , ...,  14. ,  14.5,  15. ],\n",
        "        [  2. ,   2.5,   3. , ...,  14. ,  14.5,  15. ],\n",
        "        [  2. ,   2.5,   3. , ...,  14. ,  14.5,  15. ]]),\n",
        " [])"
       ]
      },
      {
       "metadata": {},
       "output_type": "display_data",
       "png": "[encoded data removed]",
       "text": [
        "<matplotlib.figure.Figure at 0x7f601ce0f690>"
       ]
      }
     ],
     "prompt_number": 19
    },
    {
     "cell_type": "code",
     "collapsed": false,
     "input": [
      "run=2\n",
      "idx = 0#np.int(run)-1\n",
      "plt.figure()\n",
      "CarbonylDensityAnalysis_BS(case, idx=idx, loopType=\"K2 to Oxy distance in run 2\", calIdx = 1107, binMax=15)"
     ],
     "language": "python",
     "metadata": {},
     "outputs": [
      {
       "output_type": "stream",
       "stream": "stdout",
       "text": [
        "<GROUP PERIODIC='(110.51,110.51,172.585)'>\n",
        "   <ATOM INDEX='18' ID='19' NAME='O' RESID='97' RESNAME='ILE' COORDS='(-18.2613,20.9042,-0.185701)' ALTLOC='' CHAINID='X' ICODE='' SEGID='PROA' B='0' Q='1' CHARGE='0' MASS='1' ATOMICNUMBER='-1' MASK='201'/>\n",
        "   <ATOM INDEX='37' ID='38' NAME='O' RESID='98' RESNAME='LEU' COORDS='(-20.4854,22.1656,1.95318)' ALTLOC='' CHAINID='X' ICODE='' SEGID='PROA' B='0' Q='1' CHARGE='0' MASS='1' ATOMICNUMBER='-1' MASK='201'/>\n",
        "   <ATOM INDEX='46' ID='47' NAME='OD1' RESID='101' RESNAME='ASN' COORDS='(-14.583,20.4568,2.92592)' ALTLOC='' CHAINID='X' ICODE='' SEGID='PROA' B='0' Q='1' CHARGE='0' MASS='1' ATOMICNUMBER='-1' MASK='201'/>\n",
        "   <ATOM INDEX='51' ID='52' NAME='O' RESID='101' RESNAME='ASN' COORDS='(-18.2881,19.6059,5.85346)' ALTLOC='' CHAINID='X' ICODE='' SEGID='PROA' B='0' Q='1' CHARGE='0' MASS='1' ATOMICNUMBER='-1' MASK='201'/>\n",
        "   <ATOM INDEX='67' ID='68' NAME='O' RESID='104' RESNAME='VAL' COORDS='(-17.2483,15.9339,9.33428)' ALTLOC='' CHAINID='X' ICODE='' SEGID='PROA' B='0' Q='1' CHARGE='0' MASS='1' ATOMICNUMBER='-1' MASK='201'/>\n",
        "   <ATOM INDEX='79' ID='80' NAME='OE1' RESID='108' RESNAME='GLN' COORDS='(-14.1719,18.7039,10.6855)' ALTLOC='' CHAINID='X' ICODE='' SEGID='PROA' B='0' Q='1' CHARGE='0' MASS='1' ATOMICNUMBER='-1' MASK='201'/>\n",
        "   <ATOM INDEX='84' ID='85' NAME='O' RESID='108' RESNAME='GLN' COORDS='(-16.8375,15.3515,15.7506)' ALTLOC='' CHAINID='X' ICODE='' SEGID='PROA' B='0' Q='1' CHARGE='0' MASS='1' ATOMICNUMBER='-1' MASK='201'/>\n",
        "   <ATOM INDEX='103' ID='104' NAME='O' RESID='264' RESNAME='ILE' COORDS='(0.079752,30.4907,-2.28277)' ALTLOC='' CHAINID='X' ICODE='' SEGID='PROA' B='0' Q='1' CHARGE='0' MASS='1' ATOMICNUMBER='-1' MASK='201'/>\n",
        "   <ATOM INDEX='113' ID='114' NAME='O' RESID='301' RESNAME='ALA' COORDS='(-8.62124,26.2277,-4.7559)' ALTLOC='' CHAINID='X' ICODE='' SEGID='PROA' B='0' Q='1' CHARGE='0' MASS='1' ATOMICNUMBER='-1' MASK='201'/>\n",
        "   <ATOM INDEX='132' ID='133' NAME='O' RESID='302' RESNAME='LEU' COORDS='(-5.61604,26.2026,-3.39546)' ALTLOC='' CHAINID='X' ICODE='' SEGID='PROA' B='0' Q='1' CHARGE='0' MASS='1' ATOMICNUMBER='-1' MASK='201'/>\n",
        "   <ATOM INDEX='142' ID='143' NAME='O' RESID='303' RESNAME='ALA' COORDS='(-6.96827,27.2074,-0.513584)' ALTLOC='' CHAINID='X' ICODE='' SEGID='PROA' B='0' Q='1' CHARGE='0' MASS='1' ATOMICNUMBER='-1' MASK='201'/>\n",
        "   <ATOM INDEX='158' ID='159' NAME='O' RESID='304' RESNAME='VAL' COORDS='(-9.0923,24.3603,-0.435187)' ALTLOC='' CHAINID='X' ICODE='' SEGID='PROA' B='0' Q='1' CHARGE='0' MASS='1' ATOMICNUMBER='-1' MASK='201'/>\n",
        "   <ATOM INDEX='168' ID='169' NAME='O' RESID='305' RESNAME='ALA' COORDS='(-6.50285,22.1859,-0.840212)' ALTLOC='' CHAINID='X' ICODE='' SEGID='PROA' B='0' Q='1' CHARGE='0' MASS='1' ATOMICNUMBER='-1' MASK='201'/>\n",
        "   <ATOM INDEX='178' ID='179' NAME='O' RESID='306' RESNAME='ALA' COORDS='(-2.84227,24.8005,0.735686)' ALTLOC='' CHAINID='X' ICODE='' SEGID='PROA' B='0' Q='1' CHARGE='0' MASS='1' ATOMICNUMBER='-1' MASK='201'/>\n",
        "   <ATOM INDEX='197' ID='198' NAME='O' RESID='307' RESNAME='ILE' COORDS='(-5.7613,25.0509,3.44637)' ALTLOC='' CHAINID='X' ICODE='' SEGID='PROA' B='0' Q='1' CHARGE='0' MASS='1' ATOMICNUMBER='-1' MASK='201'/>\n",
        "   <ATOM INDEX='211' ID='212' NAME='O' RESID='308' RESNAME='PRO' COORDS='(-4.2524,24.6624,7.52293)' ALTLOC='' CHAINID='X' ICODE='' SEGID='PROA' B='0' Q='1' CHARGE='0' MASS='1' ATOMICNUMBER='-1' MASK='201'/>\n",
        "   <ATOM INDEX='223' ID='224' NAME='OE1' RESID='309' RESNAME='GLU' COORDS='(-9.08133,29.8258,6.70104)' ALTLOC='' CHAINID='X' ICODE='' SEGID='PROA' B='0' Q='1' CHARGE='0' MASS='1' ATOMICNUMBER='-1' MASK='201'/>\n",
        "   <ATOM INDEX='224' ID='225' NAME='OE2' RESID='309' RESNAME='GLU' COORDS='(-10.7089,28.4292,7.2078)' ALTLOC='' CHAINID='X' ICODE='' SEGID='PROA' B='0' Q='1' CHARGE='0' MASS='1' ATOMICNUMBER='-1' MASK='201'/>\n",
        "   <ATOM INDEX='226' ID='227' NAME='O' RESID='309' RESNAME='GLU' COORDS='(-6.78448,25.5648,9.60506)' ALTLOC='' CHAINID='X' ICODE='' SEGID='PROA' B='0' Q='1' CHARGE='0' MASS='1' ATOMICNUMBER='-1' MASK='201'/>\n",
        "   <ATOM INDEX='233' ID='234' NAME='O' RESID='310' RESNAME='GLY' COORDS='(-7.41079,21.7635,10.6122)' ALTLOC='' CHAINID='X' ICODE='' SEGID='PROA' B='0' Q='1' CHARGE='0' MASS='1' ATOMICNUMBER='-1' MASK='201'/>\n",
        "   <ATOM INDEX='252' ID='253' NAME='O' RESID='311' RESNAME='LEU' COORDS='(-4.37446,20.8688,12.1008)' ALTLOC='' CHAINID='X' ICODE='' SEGID='PROA' B='0' Q='1' CHARGE='0' MASS='1' ATOMICNUMBER='-1' MASK='201'/>\n",
        "   <ATOM INDEX='272' ID='273' NAME='O' RESID='760' RESNAME='PHE' COORDS='(-3.16124,13.3987,7.79167)' ALTLOC='' CHAINID='X' ICODE='' SEGID='PROA' B='0' Q='1' CHARGE='0' MASS='1' ATOMICNUMBER='-1' MASK='201'/>\n",
        "   <ATOM INDEX='291' ID='292' NAME='O' RESID='761' RESNAME='ILE' COORDS='(-0.44391,15.7504,7.19424)' ALTLOC='' CHAINID='X' ICODE='' SEGID='PROA' B='0' Q='1' CHARGE='0' MASS='1' ATOMICNUMBER='-1' MASK='201'/>\n",
        "   <ATOM INDEX='315' ID='316' NAME='O' RESID='762' RESNAME='ARG' COORDS='(0.989189,14.5669,4.3556)' ALTLOC='' CHAINID='X' ICODE='' SEGID='PROA' B='0' Q='1' CHARGE='0' MASS='1' ATOMICNUMBER='-1' MASK='201'/>\n",
        "   <ATOM INDEX='329' ID='330' NAME='OH' RESID='763' RESNAME='TYR' COORDS='(-5.85207,12.3297,-0.744261)' ALTLOC='' CHAINID='X' ICODE='' SEGID='PROA' B='0' Q='1' CHARGE='0' MASS='1' ATOMICNUMBER='-1' MASK='201'/>\n",
        "   <ATOM INDEX='336' ID='337' NAME='O' RESID='763' RESNAME='TYR' COORDS='(-1.7169,15.169,2.51656)' ALTLOC='' CHAINID='X' ICODE='' SEGID='PROA' B='0' Q='1' CHARGE='0' MASS='1' ATOMICNUMBER='-1' MASK='201'/>\n",
        "   <ATOM INDEX='355' ID='356' NAME='O' RESID='764' RESNAME='LEU' COORDS='(-1.72537,18.3551,3.18097)' ALTLOC='' CHAINID='X' ICODE='' SEGID='PROA' B='0' Q='1' CHARGE='0' MASS='1' ATOMICNUMBER='-1' MASK='201'/>\n",
        "   <ATOM INDEX='374' ID='375' NAME='O' RESID='765' RESNAME='ILE' COORDS='(1.60416,19.1761,2.32688)' ALTLOC='' CHAINID='X' ICODE='' SEGID='PROA' B='0' Q='1' CHARGE='0' MASS='1' ATOMICNUMBER='-1' MASK='201'/>\n",
        "   <ATOM INDEX='382' ID='383' NAME='OG' RESID='766' RESNAME='SER' COORDS='(1.2847,14.3079,1.72657)' ALTLOC='' CHAINID='X' ICODE='' SEGID='PROA' B='0' Q='1' CHARGE='0' MASS='1' ATOMICNUMBER='-1' MASK='201'/>\n",
        "   <ATOM INDEX='385' ID='386' NAME='O' RESID='766' RESNAME='SER' COORDS='(1.20706,17.2242,-0.9211)' ALTLOC='' CHAINID='X' ICODE='' SEGID='PROA' B='0' Q='1' CHARGE='0' MASS='1' ATOMICNUMBER='-1' MASK='201'/>\n",
        "   <ATOM INDEX='393' ID='394' NAME='OG' RESID='767' RESNAME='SER' COORDS='(-3.09299,15.6772,0.35491)' ALTLOC='' CHAINID='X' ICODE='' SEGID='PROA' B='0' Q='1' CHARGE='0' MASS='1' ATOMICNUMBER='-1' MASK='201'/>\n",
        "   <ATOM INDEX='396' ID='397' NAME='O' RESID='767' RESNAME='SER' COORDS='(-1.59577,19.1112,-2.00876)' ALTLOC='' CHAINID='X' ICODE='' SEGID='PROA' B='0' Q='1' CHARGE='0' MASS='1' ATOMICNUMBER='-1' MASK='201'/>\n",
        "   <ATOM INDEX='405' ID='406' NAME='OD1' RESID='768' RESNAME='ASN' COORDS='(-2.3736,21.351,3.44939)' ALTLOC='' CHAINID='X' ICODE='' SEGID='PROA' B='0' Q='1' CHARGE='0' MASS='1' ATOMICNUMBER='-1' MASK='201'/>\n",
        "   <ATOM INDEX='410' ID='411' NAME='O' RESID='768' RESNAME='ASN' COORDS='(-0.15148,22.3517,-1.57675)' ALTLOC='' CHAINID='X' ICODE='' SEGID='PROA' B='0' Q='1' CHARGE='0' MASS='1' ATOMICNUMBER='-1' MASK='201'/>\n",
        "   <ATOM INDEX='426' ID='427' NAME='O' RESID='769' RESNAME='VAL' COORDS='(2.55296,21.0279,-3.68769)' ALTLOC='' CHAINID='X' ICODE='' SEGID='PROA' B='0' Q='1' CHARGE='0' MASS='1' ATOMICNUMBER='-1' MASK='201'/>\n",
        "   <ATOM INDEX='433' ID='434' NAME='O' RESID='770' RESNAME='GLY' COORDS='(0.602063,19.6277,-6.38891)' ALTLOC='' CHAINID='X' ICODE='' SEGID='PROA' B='0' Q='1' CHARGE='0' MASS='1' ATOMICNUMBER='-1' MASK='201'/>\n",
        "   <ATOM INDEX='445' ID='446' NAME='OE1' RESID='771' RESNAME='GLU' COORDS='(-5.71309,19.6351,-3.58407)' ALTLOC='' CHAINID='X' ICODE='' SEGID='PROA' B='0' Q='1' CHARGE='0' MASS='1' ATOMICNUMBER='-1' MASK='201'/>\n",
        "   <ATOM INDEX='446' ID='447' NAME='OE2' RESID='771' RESNAME='GLU' COORDS='(-4.35553,17.9662,-3.20733)' ALTLOC='' CHAINID='X' ICODE='' SEGID='PROA' B='0' Q='1' CHARGE='0' MASS='1' ATOMICNUMBER='-1' MASK='201'/>\n",
        "   <ATOM INDEX='448' ID='449' NAME='O' RESID='771' RESNAME='GLU' COORDS='(-1.18107,22.3589,-7.19775)' ALTLOC='' CHAINID='X' ICODE='' SEGID='PROA' B='0' Q='1' CHARGE='0' MASS='1' ATOMICNUMBER='-1' MASK='201'/>\n",
        "   <ATOM INDEX='464' ID='465' NAME='O' RESID='772' RESNAME='VAL' COORDS='(1.54111,24.5247,-7.33194)' ALTLOC='' CHAINID='X' ICODE='' SEGID='PROA' B='0' Q='1' CHARGE='0' MASS='1' ATOMICNUMBER='-1' MASK='201'/>\n",
        "   <ATOM INDEX='483' ID='484' NAME='O' RESID='792' RESNAME='LEU' COORDS='(-10.3181,19.496,-7.2597)' ALTLOC='' CHAINID='X' ICODE='' SEGID='PROA' B='0' Q='1' CHARGE='0' MASS='1' ATOMICNUMBER='-1' MASK='201'/>\n",
        "   <ATOM INDEX='502' ID='503' NAME='O' RESID='793' RESNAME='LEU' COORDS='(-13.6264,18.4725,-6.40275)' ALTLOC='' CHAINID='X' ICODE='' SEGID='PROA' B='0' Q='1' CHARGE='0' MASS='1' ATOMICNUMBER='-1' MASK='201'/>\n",
        "   <ATOM INDEX='526' ID='527' NAME='O' RESID='794' RESNAME='TRP' COORDS='(-12.7733,15.2141,-7.65189)' ALTLOC='' CHAINID='X' ICODE='' SEGID='PROA' B='0' Q='1' CHARGE='0' MASS='1' ATOMICNUMBER='-1' MASK='201'/>\n",
        "   <ATOM INDEX='542' ID='543' NAME='O' RESID='795' RESNAME='VAL' COORDS='(-10.3264,15.1661,-5.27417)' ALTLOC='' CHAINID='X' ICODE='' SEGID='PROA' B='0' Q='1' CHARGE='0' MASS='1' ATOMICNUMBER='-1' MASK='201'/>\n",
        "   <ATOM INDEX='551' ID='552' NAME='OD1' RESID='796' RESNAME='ASN' COORDS='(-13.0337,19.783,-2.2323)' ALTLOC='' CHAINID='X' ICODE='' SEGID='PROA' B='0' Q='1' CHARGE='0' MASS='1' ATOMICNUMBER='-1' MASK='201'/>\n",
        "   <ATOM INDEX='556' ID='557' NAME='O' RESID='796' RESNAME='ASN' COORDS='(-12.0451,15.9125,-2.28342)' ALTLOC='' CHAINID='X' ICODE='' SEGID='PROA' B='0' Q='1' CHARGE='0' MASS='1' ATOMICNUMBER='-1' MASK='201'/>\n",
        "   <ATOM INDEX='575' ID='576' NAME='O' RESID='797' RESNAME='LEU' COORDS='(-14.3073,13.4557,-2.58235)' ALTLOC='' CHAINID='X' ICODE='' SEGID='PROA' B='0' Q='1' CHARGE='0' MASS='1' ATOMICNUMBER='-1' MASK='201'/>\n",
        "   <ATOM INDEX='591' ID='592' NAME='O' RESID='798' RESNAME='VAL' COORDS='(-11.7358,11.3163,-2.65648)' ALTLOC='' CHAINID='X' ICODE='' SEGID='PROA' B='0' Q='1' CHARGE='0' MASS='1' ATOMICNUMBER='-1' MASK='201'/>\n",
        "   <ATOM INDEX='598' ID='599' NAME='OG1' RESID='799' RESNAME='THR' COORDS='(-8.22019,14.8437,-3.72059)' ALTLOC='' CHAINID='X' ICODE='' SEGID='PROA' B='0' Q='1' CHARGE='0' MASS='1' ATOMICNUMBER='-1' MASK='201'/>\n",
        "   <ATOM INDEX='605' ID='606' NAME='O' RESID='799' RESNAME='THR' COORDS='(-8.6352,12.7281,-0.603545)' ALTLOC='' CHAINID='X' ICODE='' SEGID='PROA' B='0' Q='1' CHARGE='0' MASS='1' ATOMICNUMBER='-1' MASK='201'/>\n",
        "   <ATOM INDEX='614' ID='615' NAME='OD1' RESID='800' RESNAME='ASP' COORDS='(-8.60971,17.8106,-1.19654)' ALTLOC='' CHAINID='X' ICODE='' SEGID='PROA' B='0' Q='1' CHARGE='0' MASS='1' ATOMICNUMBER='-1' MASK='201'/>\n",
        "   <ATOM INDEX='615' ID='616' NAME='OD2' RESID='800' RESNAME='ASP' COORDS='(-7.45818,16.2114,-0.229219)' ALTLOC='' CHAINID='X' ICODE='' SEGID='PROA' B='0' Q='1' CHARGE='0' MASS='1' ATOMICNUMBER='-1' MASK='201'/>\n",
        "   <ATOM INDEX='617' ID='618' NAME='O' RESID='800' RESNAME='ASP' COORDS='(-11.3067,14.9564,2.41684)' ALTLOC='' CHAINID='X' ICODE='' SEGID='PROA' B='0' Q='1' CHARGE='0' MASS='1' ATOMICNUMBER='-1' MASK='201'/>\n",
        "   <ATOM INDEX='624' ID='625' NAME='O' RESID='801' RESNAME='GLY' COORDS='(-12.7489,11.6857,3.35394)' ALTLOC='' CHAINID='X' ICODE='' SEGID='PROA' B='0' Q='1' CHARGE='0' MASS='1' ATOMICNUMBER='-1' MASK='201'/>\n",
        "   <ATOM INDEX='643' ID='644' NAME='O' RESID='802' RESNAME='LEU' COORDS='(-12.1647,8.60926,3.7246)' ALTLOC='' CHAINID='X' ICODE='' SEGID='PROA' B='0' Q='1' CHARGE='0' MASS='1' ATOMICNUMBER='-1' MASK='201'/>\n",
        "   <ATOM INDEX='657' ID='658' NAME='O' RESID='803' RESNAME='PRO' COORDS='(-8.60164,8.75989,4.32362)' ALTLOC='' CHAINID='X' ICODE='' SEGID='PROA' B='0' Q='1' CHARGE='0' MASS='1' ATOMICNUMBER='-1' MASK='201'/>\n",
        "   <ATOM INDEX='667' ID='668' NAME='O' RESID='804' RESNAME='ALA' COORDS='(-9.00014,10.8985,6.85357)' ALTLOC='' CHAINID='X' ICODE='' SEGID='PROA' B='0' Q='1' CHARGE='0' MASS='1' ATOMICNUMBER='-1' MASK='201'/>\n",
        "   <ATOM INDEX='674' ID='675' NAME='O' RESID='841' RESNAME='GLY' COORDS='(4.16376,17.279,-4.95514)' ALTLOC='' CHAINID='X' ICODE='' SEGID='PROA' B='0' Q='1' CHARGE='0' MASS='1' ATOMICNUMBER='-1' MASK='201'/>\n",
        "   <ATOM INDEX='690' ID='691' NAME='O' RESID='844' RESNAME='VAL' COORDS='(2.51,15.6517,-9.28663)' ALTLOC='' CHAINID='X' ICODE='' SEGID='PROA' B='0' Q='1' CHARGE='0' MASS='1' ATOMICNUMBER='-1' MASK='201'/>\n",
        "   <ATOM INDEX='709' ID='710' NAME='O' RESID='904' RESNAME='LEU' COORDS='(-4.01743,12.6835,-7.71596)' ALTLOC='' CHAINID='X' ICODE='' SEGID='PROA' B='0' Q='1' CHARGE='0' MASS='1' ATOMICNUMBER='-1' MASK='201'/>\n",
        "   <ATOM INDEX='725' ID='726' NAME='O' RESID='905' RESNAME='VAL' COORDS='(-5.48506,10.0198,-6.8455)' ALTLOC='' CHAINID='X' ICODE='' SEGID='PROA' B='0' Q='1' CHARGE='0' MASS='1' ATOMICNUMBER='-1' MASK='201'/>\n",
        "   <ATOM INDEX='744' ID='745' NAME='O' RESID='907' RESNAME='ILE' COORDS='(-0.727942,9.16356,-4.80269)' ALTLOC='' CHAINID='X' ICODE='' SEGID='PROA' B='0' Q='1' CHARGE='0' MASS='1' ATOMICNUMBER='-1' MASK='201'/>\n",
        "   <ATOM INDEX='756' ID='757' NAME='OE1' RESID='908' RESNAME='GLU' COORDS='(-4.89711,14.9644,-4.43583)' ALTLOC='' CHAINID='X' ICODE='' SEGID='PROA' B='0' Q='1' CHARGE='0' MASS='1' ATOMICNUMBER='-1' MASK='201'/>\n",
        "   <ATOM INDEX='757' ID='758' NAME='OE2' RESID='908' RESNAME='GLU' COORDS='(-2.91493,15.8173,-3.58044)' ALTLOC='' CHAINID='X' ICODE='' SEGID='PROA' B='0' Q='1' CHARGE='0' MASS='1' ATOMICNUMBER='-1' MASK='201'/>\n",
        "   <ATOM INDEX='760' ID='761' NAME='O' RESID='908' RESNAME='GLU' COORDS='(-3.55467,9.73697,-2.17116)' ALTLOC='' CHAINID='X' ICODE='' SEGID='PROA' B='0' Q='1' CHARGE='0' MASS='1' ATOMICNUMBER='-1' MASK='201'/>\n",
        "   <ATOM INDEX='769' ID='770' NAME='OD1' RESID='911' RESNAME='ASN' COORDS='(1.15065,10.2836,0.611193)' ALTLOC='' CHAINID='X' ICODE='' SEGID='PROA' B='0' Q='1' CHARGE='0' MASS='1' ATOMICNUMBER='-1' MASK='201'/>\n",
        "   <ATOM INDEX='774' ID='775' NAME='O' RESID='911' RESNAME='ASN' COORDS='(-0.743146,8.13721,1.16575)' ALTLOC='' CHAINID='X' ICODE='' SEGID='PROA' B='0' Q='1' CHARGE='0' MASS='1' ATOMICNUMBER='-1' MASK='201'/>\n",
        "   <ATOM INDEX='784' ID='785' NAME='O' RESID='912' RESNAME='ALA' COORDS='(-3.06404,6.20174,2.78129)' ALTLOC='' CHAINID='X' ICODE='' SEGID='PROA' B='0' Q='1' CHARGE='0' MASS='1' ATOMICNUMBER='-1' MASK='201'/>\n",
        "   <ATOM INDEX='787' ID='788' NAME='OH2' RESID='3082' RESNAME='TIP3' COORDS='(-8.37932,47.9099,38.5478)' ALTLOC='' CHAINID='X' ICODE='' SEGID='TIP3' B='0' Q='1' CHARGE='0' MASS='1' ATOMICNUMBER='-1' MASK='201'/>\n",
        "   <ATOM INDEX='790' ID='791' NAME='OH2' RESID='3097' RESNAME='TIP3' COORDS='(13.5615,44.998,34.3598)' ALTLOC='' CHAINID='X' ICODE='' SEGID='TIP3' B='0' Q='1' CHARGE='0' MASS='1' ATOMICNUMBER='-1' MASK='201'/>\n",
        "   <ATOM INDEX='793' ID='794' NAME='OH2' RESID='3107' RESNAME='TIP3' COORDS='(-33.6045,-11.7538,-62.1746)' ALTLOC='' CHAINID='X' ICODE='' SEGID='TIP3' B='0' Q='1' CHARGE='0' MASS='1' ATOMICNUMBER='-1' MASK='201'/>\n",
        "   <ATOM INDEX='796' ID='797' NAME='OH2' RESID='50916' RESNAME='TIP3' COORDS='(-17.8633,-32.9949,52.0569)' ALTLOC='' CHAINID='X' ICODE=' ' SEGID='TIP3' B='0' Q='1' CHARGE='0' MASS='1' ATOMICNUMBER='-1' MASK='201'/>\n",
        "   <ATOM INDEX='799' ID='800' NAME='OH2' RESID='50917' RESNAME='TIP3' COORDS='(7.35482,50.1998,-54.313)' ALTLOC='' CHAINID='X' ICODE=' ' SEGID='TIP3' B='0' Q='1' CHARGE='0' MASS='1' ATOMICNUMBER='-1' MASK='201'/>\n",
        "</GROUP>\n",
        "50000"
       ]
      },
      {
       "output_type": "stream",
       "stream": "stdout",
       "text": [
        "\n",
        "50000"
       ]
      },
      {
       "output_type": "stream",
       "stream": "stdout",
       "text": [
        "\n",
        "50000"
       ]
      },
      {
       "output_type": "stream",
       "stream": "stdout",
       "text": [
        "\n",
        "50000"
       ]
      },
      {
       "output_type": "stream",
       "stream": "stdout",
       "text": [
        "\n",
        "50000"
       ]
      },
      {
       "output_type": "stream",
       "stream": "stdout",
       "text": [
        "\n",
        "50000"
       ]
      },
      {
       "output_type": "stream",
       "stream": "stdout",
       "text": [
        "\n",
        "50000"
       ]
      },
      {
       "output_type": "stream",
       "stream": "stdout",
       "text": [
        "\n",
        "50000"
       ]
      },
      {
       "output_type": "stream",
       "stream": "stdout",
       "text": [
        "\n",
        "50000"
       ]
      },
      {
       "output_type": "stream",
       "stream": "stdout",
       "text": [
        "\n",
        "50000"
       ]
      },
      {
       "output_type": "stream",
       "stream": "stdout",
       "text": [
        "\n",
        "50000"
       ]
      },
      {
       "output_type": "stream",
       "stream": "stdout",
       "text": [
        "\n",
        "50000"
       ]
      },
      {
       "output_type": "stream",
       "stream": "stdout",
       "text": [
        "\n",
        "50000"
       ]
      },
      {
       "output_type": "stream",
       "stream": "stdout",
       "text": [
        "\n",
        "50000"
       ]
      },
      {
       "output_type": "stream",
       "stream": "stdout",
       "text": [
        "\n",
        "50000"
       ]
      },
      {
       "output_type": "stream",
       "stream": "stdout",
       "text": [
        "\n",
        "50000"
       ]
      },
      {
       "output_type": "stream",
       "stream": "stdout",
       "text": [
        "\n",
        "50000"
       ]
      },
      {
       "output_type": "stream",
       "stream": "stdout",
       "text": [
        "\n",
        "50000"
       ]
      },
      {
       "output_type": "stream",
       "stream": "stdout",
       "text": [
        "\n",
        "50000"
       ]
      },
      {
       "output_type": "stream",
       "stream": "stdout",
       "text": [
        "\n",
        "50000"
       ]
      },
      {
       "output_type": "stream",
       "stream": "stdout",
       "text": [
        "\n",
        "50000"
       ]
      },
      {
       "output_type": "stream",
       "stream": "stdout",
       "text": [
        "\n",
        "50000"
       ]
      },
      {
       "output_type": "stream",
       "stream": "stdout",
       "text": [
        "\n",
        "50000"
       ]
      },
      {
       "output_type": "stream",
       "stream": "stdout",
       "text": [
        "\n",
        "50000"
       ]
      },
      {
       "output_type": "stream",
       "stream": "stdout",
       "text": [
        "\n",
        "50000"
       ]
      },
      {
       "output_type": "stream",
       "stream": "stdout",
       "text": [
        "\n",
        "50000"
       ]
      },
      {
       "output_type": "stream",
       "stream": "stdout",
       "text": [
        "\n",
        "50000"
       ]
      },
      {
       "output_type": "stream",
       "stream": "stdout",
       "text": [
        "\n",
        "50000"
       ]
      },
      {
       "output_type": "stream",
       "stream": "stdout",
       "text": [
        "\n",
        "50000"
       ]
      },
      {
       "output_type": "stream",
       "stream": "stdout",
       "text": [
        "\n",
        "50000"
       ]
      },
      {
       "output_type": "stream",
       "stream": "stdout",
       "text": [
        "\n",
        "50000"
       ]
      },
      {
       "output_type": "stream",
       "stream": "stdout",
       "text": [
        "\n",
        "50000"
       ]
      },
      {
       "output_type": "stream",
       "stream": "stdout",
       "text": [
        "\n",
        "50000"
       ]
      },
      {
       "output_type": "stream",
       "stream": "stdout",
       "text": [
        "\n",
        "50000"
       ]
      },
      {
       "output_type": "stream",
       "stream": "stdout",
       "text": [
        "\n",
        "50000"
       ]
      },
      {
       "output_type": "stream",
       "stream": "stdout",
       "text": [
        "\n",
        "50000"
       ]
      },
      {
       "output_type": "stream",
       "stream": "stdout",
       "text": [
        "\n",
        "50000"
       ]
      },
      {
       "output_type": "stream",
       "stream": "stdout",
       "text": [
        "\n",
        "50000"
       ]
      },
      {
       "output_type": "stream",
       "stream": "stdout",
       "text": [
        "\n",
        "50000"
       ]
      },
      {
       "output_type": "stream",
       "stream": "stdout",
       "text": [
        "\n",
        "50000"
       ]
      },
      {
       "output_type": "stream",
       "stream": "stdout",
       "text": [
        "\n",
        "50000"
       ]
      },
      {
       "output_type": "stream",
       "stream": "stdout",
       "text": [
        "\n",
        "50000"
       ]
      },
      {
       "output_type": "stream",
       "stream": "stdout",
       "text": [
        "\n",
        "50000"
       ]
      },
      {
       "output_type": "stream",
       "stream": "stdout",
       "text": [
        "\n",
        "50000"
       ]
      },
      {
       "output_type": "stream",
       "stream": "stdout",
       "text": [
        "\n",
        "50000"
       ]
      },
      {
       "output_type": "stream",
       "stream": "stdout",
       "text": [
        "\n",
        "50000"
       ]
      },
      {
       "output_type": "stream",
       "stream": "stdout",
       "text": [
        "\n",
        "50000"
       ]
      },
      {
       "output_type": "stream",
       "stream": "stdout",
       "text": [
        "\n",
        "50000"
       ]
      },
      {
       "output_type": "stream",
       "stream": "stdout",
       "text": [
        "\n",
        "50000"
       ]
      },
      {
       "output_type": "stream",
       "stream": "stdout",
       "text": [
        "\n",
        "50000"
       ]
      },
      {
       "output_type": "stream",
       "stream": "stdout",
       "text": [
        "\n",
        "50000"
       ]
      },
      {
       "output_type": "stream",
       "stream": "stdout",
       "text": [
        "\n",
        "50000"
       ]
      },
      {
       "output_type": "stream",
       "stream": "stdout",
       "text": [
        "\n",
        "50000"
       ]
      },
      {
       "output_type": "stream",
       "stream": "stdout",
       "text": [
        "\n",
        "50000"
       ]
      },
      {
       "output_type": "stream",
       "stream": "stdout",
       "text": [
        "\n",
        "50000"
       ]
      },
      {
       "output_type": "stream",
       "stream": "stdout",
       "text": [
        "\n",
        "50000"
       ]
      },
      {
       "output_type": "stream",
       "stream": "stdout",
       "text": [
        "\n",
        "50000"
       ]
      },
      {
       "output_type": "stream",
       "stream": "stdout",
       "text": [
        "\n",
        "50000"
       ]
      },
      {
       "output_type": "stream",
       "stream": "stdout",
       "text": [
        "\n",
        "50000"
       ]
      },
      {
       "output_type": "stream",
       "stream": "stdout",
       "text": [
        "\n",
        "50000"
       ]
      },
      {
       "output_type": "stream",
       "stream": "stdout",
       "text": [
        "\n",
        "50000"
       ]
      },
      {
       "output_type": "stream",
       "stream": "stdout",
       "text": [
        "\n",
        "50000"
       ]
      },
      {
       "output_type": "stream",
       "stream": "stdout",
       "text": [
        "\n",
        "50000"
       ]
      },
      {
       "output_type": "stream",
       "stream": "stdout",
       "text": [
        "\n",
        "50000"
       ]
      },
      {
       "output_type": "stream",
       "stream": "stdout",
       "text": [
        "\n",
        "50000"
       ]
      },
      {
       "output_type": "stream",
       "stream": "stdout",
       "text": [
        "\n",
        "50000"
       ]
      },
      {
       "output_type": "stream",
       "stream": "stdout",
       "text": [
        "\n",
        "50000"
       ]
      },
      {
       "output_type": "stream",
       "stream": "stdout",
       "text": [
        "\n",
        "50000"
       ]
      },
      {
       "output_type": "stream",
       "stream": "stdout",
       "text": [
        "\n",
        "50000"
       ]
      },
      {
       "output_type": "stream",
       "stream": "stdout",
       "text": [
        "\n",
        "50000"
       ]
      },
      {
       "output_type": "stream",
       "stream": "stdout",
       "text": [
        "\n",
        "50000"
       ]
      },
      {
       "output_type": "stream",
       "stream": "stdout",
       "text": [
        "\n",
        "50000"
       ]
      },
      {
       "output_type": "stream",
       "stream": "stdout",
       "text": [
        "\n",
        "50000"
       ]
      },
      {
       "output_type": "stream",
       "stream": "stdout",
       "text": [
        "\n",
        "6.0"
       ]
      },
      {
       "output_type": "stream",
       "stream": "stdout",
       "text": [
        "\n"
       ]
      },
      {
       "metadata": {},
       "output_type": "pyout",
       "prompt_number": 20,
       "text": [
        "(array([[  0.00000000e+00,   0.00000000e+00,   0.00000000e+00, ...,\n",
        "           0.00000000e+00,   0.00000000e+00,   0.00000000e+00],\n",
        "        [  1.00000000e+00,   1.00000000e+00,   1.00000000e+00, ...,\n",
        "           1.00000000e+00,   1.00000000e+00,   1.00000000e+00],\n",
        "        [  2.00000000e+00,   2.00000000e+00,   2.00000000e+00, ...,\n",
        "           2.00000000e+00,   2.00000000e+00,   2.00000000e+00],\n",
        "        ..., \n",
        "        [  4.99970000e+04,   4.99970000e+04,   4.99970000e+04, ...,\n",
        "           4.99970000e+04,   4.99970000e+04,   4.99970000e+04],\n",
        "        [  4.99980000e+04,   4.99980000e+04,   4.99980000e+04, ...,\n",
        "           4.99980000e+04,   4.99980000e+04,   4.99980000e+04],\n",
        "        [  4.99990000e+04,   4.99990000e+04,   4.99990000e+04, ...,\n",
        "           4.99990000e+04,   4.99990000e+04,   4.99990000e+04]]),\n",
        " array([[  2. ,   2.5,   3. , ...,  14. ,  14.5,  15. ],\n",
        "        [  2. ,   2.5,   3. , ...,  14. ,  14.5,  15. ],\n",
        "        [  2. ,   2.5,   3. , ...,  14. ,  14.5,  15. ],\n",
        "        ..., \n",
        "        [  2. ,   2.5,   3. , ...,  14. ,  14.5,  15. ],\n",
        "        [  2. ,   2.5,   3. , ...,  14. ,  14.5,  15. ],\n",
        "        [  2. ,   2.5,   3. , ...,  14. ,  14.5,  15. ]]),\n",
        " [])"
       ]
      },
      {
       "metadata": {},
       "output_type": "display_data",
       "png": "[encoded data removed]",
       "text": [
        "<matplotlib.figure.Figure at 0x7f601c167a50>"
       ]
      }
     ],
     "prompt_number": 20
    },
    {
     "cell_type": "code",
     "collapsed": false,
     "input": [
      "run=3\n",
      "idx = 0#np.int(run)-1\n",
      "plt.figure()\n",
      "CarbonylDensityAnalysis_BS(case, idx=idx, loopType=\"K1 to Oxy distance in run 3\", calIdx = 1106, binMax=15)"
     ],
     "language": "python",
     "metadata": {},
     "outputs": [
      {
       "output_type": "stream",
       "stream": "stdout",
       "text": [
        "<GROUP PERIODIC='(0,0,0)'>\n",
        "   <ATOM INDEX='18' ID='19' NAME='O' RESID='97' RESNAME='ILE' COORDS='(-15.086,9.696,5.601)' ALTLOC='' CHAINID='X' ICODE='' SEGID='PROA' B='0' Q='1' CHARGE='0' MASS='1' ATOMICNUMBER='-1' MASK='201'/>\n",
        "   <ATOM INDEX='37' ID='38' NAME='O' RESID='98' RESNAME='LEU' COORDS='(-16.334,11.526,8.149)' ALTLOC='' CHAINID='X' ICODE='' SEGID='PROA' B='0' Q='1' CHARGE='0' MASS='1' ATOMICNUMBER='-1' MASK='201'/>\n",
        "   <ATOM INDEX='46' ID='47' NAME='OD1' RESID='101' RESNAME='ASN' COORDS='(-11.6,12.34,8.464)' ALTLOC='' CHAINID='X' ICODE='' SEGID='PROA' B='0' Q='1' CHARGE='0' MASS='1' ATOMICNUMBER='-1' MASK='201'/>\n",
        "   <ATOM INDEX='51' ID='52' NAME='O' RESID='101' RESNAME='ASN' COORDS='(-13.511,8.521,11.514)' ALTLOC='' CHAINID='X' ICODE='' SEGID='PROA' B='0' Q='1' CHARGE='0' MASS='1' ATOMICNUMBER='-1' MASK='201'/>\n",
        "   <ATOM INDEX='67' ID='68' NAME='O' RESID='104' RESNAME='VAL' COORDS='(-12.364,5.392,15.229)' ALTLOC='' CHAINID='X' ICODE='' SEGID='PROA' B='0' Q='1' CHARGE='0' MASS='1' ATOMICNUMBER='-1' MASK='201'/>\n",
        "   <ATOM INDEX='79' ID='80' NAME='OE1' RESID='108' RESNAME='GLN' COORDS='(-7.855,5.22,15.271)' ALTLOC='' CHAINID='X' ICODE='' SEGID='PROA' B='0' Q='1' CHARGE='0' MASS='1' ATOMICNUMBER='-1' MASK='201'/>\n",
        "   <ATOM INDEX='84' ID='85' NAME='O' RESID='108' RESNAME='GLN' COORDS='(-10.524,4.032,20.801)' ALTLOC='' CHAINID='X' ICODE='' SEGID='PROA' B='0' Q='1' CHARGE='0' MASS='1' ATOMICNUMBER='-1' MASK='201'/>\n",
        "   <ATOM INDEX='103' ID='104' NAME='O' RESID='264' RESNAME='ILE' COORDS='(-1.031,23.628,5.341)' ALTLOC='' CHAINID='X' ICODE='' SEGID='PROA' B='0' Q='1' CHARGE='0' MASS='1' ATOMICNUMBER='-1' MASK='201'/>\n",
        "   <ATOM INDEX='113' ID='114' NAME='O' RESID='301' RESNAME='ALA' COORDS='(-7.527,17.538,2.437)' ALTLOC='' CHAINID='X' ICODE='' SEGID='PROA' B='0' Q='1' CHARGE='0' MASS='1' ATOMICNUMBER='-1' MASK='201'/>\n",
        "   <ATOM INDEX='132' ID='133' NAME='O' RESID='302' RESNAME='LEU' COORDS='(-5.092,18.303,4.248)' ALTLOC='' CHAINID='X' ICODE='' SEGID='PROA' B='0' Q='1' CHARGE='0' MASS='1' ATOMICNUMBER='-1' MASK='201'/>\n",
        "   <ATOM INDEX='142' ID='143' NAME='O' RESID='303' RESNAME='ALA' COORDS='(-6.114,19.289,6.986)' ALTLOC='' CHAINID='X' ICODE='' SEGID='PROA' B='0' Q='1' CHARGE='0' MASS='1' ATOMICNUMBER='-1' MASK='201'/>\n",
        "   <ATOM INDEX='158' ID='159' NAME='O' RESID='304' RESNAME='VAL' COORDS='(-8.094,16.24,7.237)' ALTLOC='' CHAINID='X' ICODE='' SEGID='PROA' B='0' Q='1' CHARGE='0' MASS='1' ATOMICNUMBER='-1' MASK='201'/>\n",
        "   <ATOM INDEX='168' ID='169' NAME='O' RESID='305' RESNAME='ALA' COORDS='(-5.062,15.182,7.339)' ALTLOC='' CHAINID='X' ICODE='' SEGID='PROA' B='0' Q='1' CHARGE='0' MASS='1' ATOMICNUMBER='-1' MASK='201'/>\n",
        "   <ATOM INDEX='178' ID='179' NAME='O' RESID='306' RESNAME='ALA' COORDS='(-1.597,16.536,7.953)' ALTLOC='' CHAINID='X' ICODE='' SEGID='PROA' B='0' Q='1' CHARGE='0' MASS='1' ATOMICNUMBER='-1' MASK='201'/>\n",
        "   <ATOM INDEX='197' ID='198' NAME='O' RESID='307' RESNAME='ILE' COORDS='(-4.619,15.736,10.064)' ALTLOC='' CHAINID='X' ICODE='' SEGID='PROA' B='0' Q='1' CHARGE='0' MASS='1' ATOMICNUMBER='-1' MASK='201'/>\n",
        "   <ATOM INDEX='211' ID='212' NAME='O' RESID='308' RESNAME='PRO' COORDS='(-4.864,16.307,14.019)' ALTLOC='' CHAINID='X' ICODE='' SEGID='PROA' B='0' Q='1' CHARGE='0' MASS='1' ATOMICNUMBER='-1' MASK='201'/>\n",
        "   <ATOM INDEX='223' ID='224' NAME='OE1' RESID='309' RESNAME='GLU' COORDS='(-5.918,13.252,10.169)' ALTLOC='' CHAINID='X' ICODE='' SEGID='PROA' B='0' Q='1' CHARGE='0' MASS='1' ATOMICNUMBER='-1' MASK='201'/>\n",
        "   <ATOM INDEX='224' ID='225' NAME='OE2' RESID='309' RESNAME='GLU' COORDS='(-7.703,13.365,8.872)' ALTLOC='' CHAINID='X' ICODE='' SEGID='PROA' B='0' Q='1' CHARGE='0' MASS='1' ATOMICNUMBER='-1' MASK='201'/>\n",
        "   <ATOM INDEX='226' ID='227' NAME='O' RESID='309' RESNAME='GLU' COORDS='(-8.098,14.343,15.109)' ALTLOC='' CHAINID='X' ICODE='' SEGID='PROA' B='0' Q='1' CHARGE='0' MASS='1' ATOMICNUMBER='-1' MASK='201'/>\n",
        "   <ATOM INDEX='233' ID='234' NAME='O' RESID='310' RESNAME='GLY' COORDS='(-4.922,11.934,18.169)' ALTLOC='' CHAINID='X' ICODE='' SEGID='PROA' B='0' Q='1' CHARGE='0' MASS='1' ATOMICNUMBER='-1' MASK='201'/>\n",
        "   <ATOM INDEX='252' ID='253' NAME='O' RESID='311' RESNAME='LEU' COORDS='(-2.728,12.132,20.415)' ALTLOC='' CHAINID='X' ICODE='' SEGID='PROA' B='0' Q='1' CHARGE='0' MASS='1' ATOMICNUMBER='-1' MASK='201'/>\n",
        "   <ATOM INDEX='272' ID='273' NAME='O' RESID='760' RESNAME='PHE' COORDS='(1.847,7.432,14.685)' ALTLOC='' CHAINID='X' ICODE='' SEGID='PROA' B='0' Q='1' CHARGE='0' MASS='1' ATOMICNUMBER='-1' MASK='201'/>\n",
        "   <ATOM INDEX='291' ID='292' NAME='O' RESID='761' RESNAME='ILE' COORDS='(3.871,9.697,13.704)' ALTLOC='' CHAINID='X' ICODE='' SEGID='PROA' B='0' Q='1' CHARGE='0' MASS='1' ATOMICNUMBER='-1' MASK='201'/>\n",
        "   <ATOM INDEX='315' ID='316' NAME='O' RESID='762' RESNAME='ARG' COORDS='(5.562,9.067,11.266)' ALTLOC='' CHAINID='X' ICODE='' SEGID='PROA' B='0' Q='1' CHARGE='0' MASS='1' ATOMICNUMBER='-1' MASK='201'/>\n",
        "   <ATOM INDEX='329' ID='330' NAME='OH' RESID='763' RESNAME='TYR' COORDS='(0.194,3.631,7.08)' ALTLOC='' CHAINID='X' ICODE='' SEGID='PROA' B='0' Q='1' CHARGE='0' MASS='1' ATOMICNUMBER='-1' MASK='201'/>\n",
        "   <ATOM INDEX='336' ID='337' NAME='O' RESID='763' RESNAME='TYR' COORDS='(2.585,8,9.673)' ALTLOC='' CHAINID='X' ICODE='' SEGID='PROA' B='0' Q='1' CHARGE='0' MASS='1' ATOMICNUMBER='-1' MASK='201'/>\n",
        "   <ATOM INDEX='355' ID='356' NAME='O' RESID='764' RESNAME='LEU' COORDS='(1.978,10.61,9.706)' ALTLOC='' CHAINID='X' ICODE='' SEGID='PROA' B='0' Q='1' CHARGE='0' MASS='1' ATOMICNUMBER='-1' MASK='201'/>\n",
        "   <ATOM INDEX='374' ID='375' NAME='O' RESID='765' RESNAME='ILE' COORDS='(3.913,13.167,8.998)' ALTLOC='' CHAINID='X' ICODE='' SEGID='PROA' B='0' Q='1' CHARGE='0' MASS='1' ATOMICNUMBER='-1' MASK='201'/>\n",
        "   <ATOM INDEX='382' ID='383' NAME='OG' RESID='766' RESNAME='SER' COORDS='(5.913,8.678,8.55)' ALTLOC='' CHAINID='X' ICODE='' SEGID='PROA' B='0' Q='1' CHARGE='0' MASS='1' ATOMICNUMBER='-1' MASK='201'/>\n",
        "   <ATOM INDEX='385' ID='386' NAME='O' RESID='766' RESNAME='SER' COORDS='(4.73,11.735,6.396)' ALTLOC='' CHAINID='X' ICODE='' SEGID='PROA' B='0' Q='1' CHARGE='0' MASS='1' ATOMICNUMBER='-1' MASK='201'/>\n",
        "   <ATOM INDEX='393' ID='394' NAME='OG' RESID='767' RESNAME='SER' COORDS='(1.195,9.381,8.035)' ALTLOC='' CHAINID='X' ICODE='' SEGID='PROA' B='0' Q='1' CHARGE='0' MASS='1' ATOMICNUMBER='-1' MASK='201'/>\n",
        "   <ATOM INDEX='396' ID='397' NAME='O' RESID='767' RESNAME='SER' COORDS='(2.08,11.325,4.643)' ALTLOC='' CHAINID='X' ICODE='' SEGID='PROA' B='0' Q='1' CHARGE='0' MASS='1' ATOMICNUMBER='-1' MASK='201'/>\n",
        "   <ATOM INDEX='405' ID='406' NAME='OD1' RESID='768' RESNAME='ASN' COORDS='(-1.602,12.761,7.376)' ALTLOC='' CHAINID='X' ICODE='' SEGID='PROA' B='0' Q='1' CHARGE='0' MASS='1' ATOMICNUMBER='-1' MASK='201'/>\n",
        "   <ATOM INDEX='410' ID='411' NAME='O' RESID='768' RESNAME='ASN' COORDS='(1.666,14.911,5.026)' ALTLOC='' CHAINID='X' ICODE='' SEGID='PROA' B='0' Q='1' CHARGE='0' MASS='1' ATOMICNUMBER='-1' MASK='201'/>\n",
        "   <ATOM INDEX='426' ID='427' NAME='O' RESID='769' RESNAME='VAL' COORDS='(4.108,15.746,3.456)' ALTLOC='' CHAINID='X' ICODE='' SEGID='PROA' B='0' Q='1' CHARGE='0' MASS='1' ATOMICNUMBER='-1' MASK='201'/>\n",
        "   <ATOM INDEX='433' ID='434' NAME='O' RESID='770' RESNAME='GLY' COORDS='(3.187,14.039,0.646)' ALTLOC='' CHAINID='X' ICODE='' SEGID='PROA' B='0' Q='1' CHARGE='0' MASS='1' ATOMICNUMBER='-1' MASK='201'/>\n",
        "   <ATOM INDEX='445' ID='446' NAME='OE1' RESID='771' RESNAME='GLU' COORDS='(-2.374,12.266,4.685)' ALTLOC='' CHAINID='X' ICODE='' SEGID='PROA' B='0' Q='1' CHARGE='0' MASS='1' ATOMICNUMBER='-1' MASK='201'/>\n",
        "   <ATOM INDEX='446' ID='447' NAME='OE2' RESID='771' RESNAME='GLU' COORDS='(-1.508,10.263,4.765)' ALTLOC='' CHAINID='X' ICODE='' SEGID='PROA' B='0' Q='1' CHARGE='0' MASS='1' ATOMICNUMBER='-1' MASK='201'/>\n",
        "   <ATOM INDEX='448' ID='449' NAME='O' RESID='771' RESNAME='GLU' COORDS='(-0.148,15.36,0.622)' ALTLOC='' CHAINID='X' ICODE='' SEGID='PROA' B='0' Q='1' CHARGE='0' MASS='1' ATOMICNUMBER='-1' MASK='201'/>\n",
        "   <ATOM INDEX='464' ID='465' NAME='O' RESID='772' RESNAME='VAL' COORDS='(2.086,18.253,-0.415)' ALTLOC='' CHAINID='X' ICODE='' SEGID='PROA' B='0' Q='1' CHARGE='0' MASS='1' ATOMICNUMBER='-1' MASK='201'/>\n",
        "   <ATOM INDEX='483' ID='484' NAME='O' RESID='792' RESNAME='LEU' COORDS='(-6.578,10.88,0.743)' ALTLOC='' CHAINID='X' ICODE='' SEGID='PROA' B='0' Q='1' CHARGE='0' MASS='1' ATOMICNUMBER='-1' MASK='201'/>\n",
        "   <ATOM INDEX='502' ID='503' NAME='O' RESID='793' RESNAME='LEU' COORDS='(-9.997,9.725,2.338)' ALTLOC='' CHAINID='X' ICODE='' SEGID='PROA' B='0' Q='1' CHARGE='0' MASS='1' ATOMICNUMBER='-1' MASK='201'/>\n",
        "   <ATOM INDEX='526' ID='527' NAME='O' RESID='794' RESNAME='TRP' COORDS='(-8.618,6.525,1.893)' ALTLOC='' CHAINID='X' ICODE='' SEGID='PROA' B='0' Q='1' CHARGE='0' MASS='1' ATOMICNUMBER='-1' MASK='201'/>\n",
        "   <ATOM INDEX='542' ID='543' NAME='O' RESID='795' RESNAME='VAL' COORDS='(-5.712,6.423,3.091)' ALTLOC='' CHAINID='X' ICODE='' SEGID='PROA' B='0' Q='1' CHARGE='0' MASS='1' ATOMICNUMBER='-1' MASK='201'/>\n",
        "   <ATOM INDEX='551' ID='552' NAME='OD1' RESID='796' RESNAME='ASN' COORDS='(-4.664,10.773,5.59)' ALTLOC='' CHAINID='X' ICODE='' SEGID='PROA' B='0' Q='1' CHARGE='0' MASS='1' ATOMICNUMBER='-1' MASK='201'/>\n",
        "   <ATOM INDEX='556' ID='557' NAME='O' RESID='796' RESNAME='ASN' COORDS='(-6.692,7.607,5.782)' ALTLOC='' CHAINID='X' ICODE='' SEGID='PROA' B='0' Q='1' CHARGE='0' MASS='1' ATOMICNUMBER='-1' MASK='201'/>\n",
        "   <ATOM INDEX='575' ID='576' NAME='O' RESID='797' RESNAME='LEU' COORDS='(-9.852,5.109,5.59)' ALTLOC='' CHAINID='X' ICODE='' SEGID='PROA' B='0' Q='1' CHARGE='0' MASS='1' ATOMICNUMBER='-1' MASK='201'/>\n",
        "   <ATOM INDEX='591' ID='592' NAME='O' RESID='798' RESNAME='VAL' COORDS='(-6.091,3.424,6.707)' ALTLOC='' CHAINID='X' ICODE='' SEGID='PROA' B='0' Q='1' CHARGE='0' MASS='1' ATOMICNUMBER='-1' MASK='201'/>\n",
        "   <ATOM INDEX='598' ID='599' NAME='OG1' RESID='799' RESNAME='THR' COORDS='(-3.585,7.346,5.308)' ALTLOC='' CHAINID='X' ICODE='' SEGID='PROA' B='0' Q='1' CHARGE='0' MASS='1' ATOMICNUMBER='-1' MASK='201'/>\n",
        "   <ATOM INDEX='605' ID='606' NAME='O' RESID='799' RESNAME='THR' COORDS='(-3.376,4.639,8.288)' ALTLOC='' CHAINID='X' ICODE='' SEGID='PROA' B='0' Q='1' CHARGE='0' MASS='1' ATOMICNUMBER='-1' MASK='201'/>\n",
        "   <ATOM INDEX='614' ID='615' NAME='OD1' RESID='800' RESNAME='ASP' COORDS='(-3.167,8.524,8.89)' ALTLOC='' CHAINID='X' ICODE='' SEGID='PROA' B='0' Q='1' CHARGE='0' MASS='1' ATOMICNUMBER='-1' MASK='201'/>\n",
        "   <ATOM INDEX='615' ID='616' NAME='OD2' RESID='800' RESNAME='ASP' COORDS='(-4.81,9.72,7.929)' ALTLOC='' CHAINID='X' ICODE='' SEGID='PROA' B='0' Q='1' CHARGE='0' MASS='1' ATOMICNUMBER='-1' MASK='201'/>\n",
        "   <ATOM INDEX='617' ID='618' NAME='O' RESID='800' RESNAME='ASP' COORDS='(-6.919,6.276,10.823)' ALTLOC='' CHAINID='X' ICODE='' SEGID='PROA' B='0' Q='1' CHARGE='0' MASS='1' ATOMICNUMBER='-1' MASK='201'/>\n",
        "   <ATOM INDEX='624' ID='625' NAME='O' RESID='801' RESNAME='GLY' COORDS='(-8.295,2.314,11.028)' ALTLOC='' CHAINID='X' ICODE='' SEGID='PROA' B='0' Q='1' CHARGE='0' MASS='1' ATOMICNUMBER='-1' MASK='201'/>\n",
        "   <ATOM INDEX='643' ID='644' NAME='O' RESID='802' RESNAME='LEU' COORDS='(-4.981,0.221,11.137)' ALTLOC='' CHAINID='X' ICODE='' SEGID='PROA' B='0' Q='1' CHARGE='0' MASS='1' ATOMICNUMBER='-1' MASK='201'/>\n",
        "   <ATOM INDEX='657' ID='658' NAME='O' RESID='803' RESNAME='PRO' COORDS='(-1.329,0.496,10.776)' ALTLOC='' CHAINID='X' ICODE='' SEGID='PROA' B='0' Q='1' CHARGE='0' MASS='1' ATOMICNUMBER='-1' MASK='201'/>\n",
        "   <ATOM INDEX='667' ID='668' NAME='O' RESID='804' RESNAME='ALA' COORDS='(-2.012,2.185,13.832)' ALTLOC='' CHAINID='X' ICODE='' SEGID='PROA' B='0' Q='1' CHARGE='0' MASS='1' ATOMICNUMBER='-1' MASK='201'/>\n",
        "   <ATOM INDEX='674' ID='675' NAME='O' RESID='841' RESNAME='GLY' COORDS='(7.185,12.008,2.2)' ALTLOC='' CHAINID='X' ICODE='' SEGID='PROA' B='0' Q='1' CHARGE='0' MASS='1' ATOMICNUMBER='-1' MASK='201'/>\n",
        "   <ATOM INDEX='690' ID='691' NAME='O' RESID='844' RESNAME='VAL' COORDS='(5.489,10.065,-2.187)' ALTLOC='' CHAINID='X' ICODE='' SEGID='PROA' B='0' Q='1' CHARGE='0' MASS='1' ATOMICNUMBER='-1' MASK='201'/>\n",
        "   <ATOM INDEX='709' ID='710' NAME='O' RESID='904' RESNAME='LEU' COORDS='(1.192,4.513,-0.247)' ALTLOC='' CHAINID='X' ICODE='' SEGID='PROA' B='0' Q='1' CHARGE='0' MASS='1' ATOMICNUMBER='-1' MASK='201'/>\n",
        "   <ATOM INDEX='725' ID='726' NAME='O' RESID='905' RESNAME='VAL' COORDS='(-0.154,1.555,0.758)' ALTLOC='' CHAINID='X' ICODE='' SEGID='PROA' B='0' Q='1' CHARGE='0' MASS='1' ATOMICNUMBER='-1' MASK='201'/>\n",
        "   <ATOM INDEX='744' ID='745' NAME='O' RESID='907' RESNAME='ILE' COORDS='(4.811,2.906,2.504)' ALTLOC='' CHAINID='X' ICODE='' SEGID='PROA' B='0' Q='1' CHARGE='0' MASS='1' ATOMICNUMBER='-1' MASK='201'/>\n",
        "   <ATOM INDEX='756' ID='757' NAME='OE1' RESID='908' RESNAME='GLU' COORDS='(1.977,6.539,4.595)' ALTLOC='' CHAINID='X' ICODE='' SEGID='PROA' B='0' Q='1' CHARGE='0' MASS='1' ATOMICNUMBER='-1' MASK='201'/>\n",
        "   <ATOM INDEX='757' ID='758' NAME='OE2' RESID='908' RESNAME='GLU' COORDS='(0.071,7.533,4.127)' ALTLOC='' CHAINID='X' ICODE='' SEGID='PROA' B='0' Q='1' CHARGE='0' MASS='1' ATOMICNUMBER='-1' MASK='201'/>\n",
        "   <ATOM INDEX='760' ID='761' NAME='O' RESID='908' RESNAME='GLU' COORDS='(2.659,2.143,5.146)' ALTLOC='' CHAINID='X' ICODE='' SEGID='PROA' B='0' Q='1' CHARGE='0' MASS='1' ATOMICNUMBER='-1' MASK='201'/>\n",
        "   <ATOM INDEX='769' ID='770' NAME='OD1' RESID='911' RESNAME='ASN' COORDS='(7.052,5.063,7.439)' ALTLOC='' CHAINID='X' ICODE='' SEGID='PROA' B='0' Q='1' CHARGE='0' MASS='1' ATOMICNUMBER='-1' MASK='201'/>\n",
        "   <ATOM INDEX='774' ID='775' NAME='O' RESID='911' RESNAME='ASN' COORDS='(6.206,2.218,8.404)' ALTLOC='' CHAINID='X' ICODE='' SEGID='PROA' B='0' Q='1' CHARGE='0' MASS='1' ATOMICNUMBER='-1' MASK='201'/>\n",
        "   <ATOM INDEX='784' ID='785' NAME='O' RESID='912' RESNAME='ALA' COORDS='(4.73,-0.606,10.066)' ALTLOC='' CHAINID='X' ICODE='' SEGID='PROA' B='0' Q='1' CHARGE='0' MASS='1' ATOMICNUMBER='-1' MASK='201'/>\n",
        "   <ATOM INDEX='787' ID='788' NAME='OH2' RESID='3082' RESNAME='TIP3' COORDS='(-5.517,8.835,17.153)' ALTLOC='' CHAINID='X' ICODE='' SEGID='TIP3' B='0' Q='1' CHARGE='0' MASS='1' ATOMICNUMBER='-1' MASK='201'/>\n",
        "   <ATOM INDEX='790' ID='791' NAME='OH2' RESID='3097' RESNAME='TIP3' COORDS='(-11.83,13.264,16.529)' ALTLOC='' CHAINID='X' ICODE='' SEGID='TIP3' B='0' Q='1' CHARGE='0' MASS='1' ATOMICNUMBER='-1' MASK='201'/>\n",
        "   <ATOM INDEX='793' ID='794' NAME='OH2' RESID='3107' RESNAME='TIP3' COORDS='(-8.88,11.901,16.495)' ALTLOC='' CHAINID='X' ICODE='' SEGID='TIP3' B='0' Q='1' CHARGE='0' MASS='1' ATOMICNUMBER='-1' MASK='201'/>\n",
        "   <ATOM INDEX='796' ID='797' NAME='OH2' RESID='50916' RESNAME='TIP3' COORDS='(-9.822,17.418,15.348)' ALTLOC='' CHAINID='X' ICODE=' ' SEGID='TIP3' B='0' Q='1' CHARGE='0' MASS='1' ATOMICNUMBER='-1' MASK='201'/>\n",
        "   <ATOM INDEX='799' ID='800' NAME='OH2' RESID='50917' RESNAME='TIP3' COORDS='(-4.89,17.866,16.588)' ALTLOC='' CHAINID='X' ICODE=' ' SEGID='TIP3' B='0' Q='1' CHARGE='0' MASS='1' ATOMICNUMBER='-1' MASK='201'/>\n",
        "</GROUP>\n",
        "50000"
       ]
      },
      {
       "output_type": "stream",
       "stream": "stdout",
       "text": [
        "\n",
        "50000"
       ]
      },
      {
       "output_type": "stream",
       "stream": "stdout",
       "text": [
        "\n",
        "50000"
       ]
      },
      {
       "output_type": "stream",
       "stream": "stdout",
       "text": [
        "\n",
        "50000"
       ]
      },
      {
       "output_type": "stream",
       "stream": "stdout",
       "text": [
        "\n",
        "50000"
       ]
      },
      {
       "output_type": "stream",
       "stream": "stdout",
       "text": [
        "\n",
        "50000"
       ]
      },
      {
       "output_type": "stream",
       "stream": "stdout",
       "text": [
        "\n",
        "50000"
       ]
      },
      {
       "output_type": "stream",
       "stream": "stdout",
       "text": [
        "\n",
        "50000"
       ]
      },
      {
       "output_type": "stream",
       "stream": "stdout",
       "text": [
        "\n",
        "50000"
       ]
      },
      {
       "output_type": "stream",
       "stream": "stdout",
       "text": [
        "\n",
        "50000"
       ]
      },
      {
       "output_type": "stream",
       "stream": "stdout",
       "text": [
        "\n",
        "50000"
       ]
      },
      {
       "output_type": "stream",
       "stream": "stdout",
       "text": [
        "\n",
        "50000"
       ]
      },
      {
       "output_type": "stream",
       "stream": "stdout",
       "text": [
        "\n",
        "50000"
       ]
      },
      {
       "output_type": "stream",
       "stream": "stdout",
       "text": [
        "\n",
        "50000"
       ]
      },
      {
       "output_type": "stream",
       "stream": "stdout",
       "text": [
        "\n",
        "50000"
       ]
      },
      {
       "output_type": "stream",
       "stream": "stdout",
       "text": [
        "\n",
        "50000"
       ]
      },
      {
       "output_type": "stream",
       "stream": "stdout",
       "text": [
        "\n",
        "50000"
       ]
      },
      {
       "output_type": "stream",
       "stream": "stdout",
       "text": [
        "\n",
        "50000"
       ]
      },
      {
       "output_type": "stream",
       "stream": "stdout",
       "text": [
        "\n",
        "50000"
       ]
      },
      {
       "output_type": "stream",
       "stream": "stdout",
       "text": [
        "\n",
        "50000"
       ]
      },
      {
       "output_type": "stream",
       "stream": "stdout",
       "text": [
        "\n",
        "50000"
       ]
      },
      {
       "output_type": "stream",
       "stream": "stdout",
       "text": [
        "\n",
        "50000"
       ]
      },
      {
       "output_type": "stream",
       "stream": "stdout",
       "text": [
        "\n",
        "50000"
       ]
      },
      {
       "output_type": "stream",
       "stream": "stdout",
       "text": [
        "\n",
        "50000"
       ]
      },
      {
       "output_type": "stream",
       "stream": "stdout",
       "text": [
        "\n",
        "50000"
       ]
      },
      {
       "output_type": "stream",
       "stream": "stdout",
       "text": [
        "\n",
        "50000"
       ]
      },
      {
       "output_type": "stream",
       "stream": "stdout",
       "text": [
        "\n",
        "50000"
       ]
      },
      {
       "output_type": "stream",
       "stream": "stdout",
       "text": [
        "\n",
        "50000"
       ]
      },
      {
       "output_type": "stream",
       "stream": "stdout",
       "text": [
        "\n",
        "50000"
       ]
      },
      {
       "output_type": "stream",
       "stream": "stdout",
       "text": [
        "\n",
        "50000"
       ]
      },
      {
       "output_type": "stream",
       "stream": "stdout",
       "text": [
        "\n",
        "50000"
       ]
      },
      {
       "output_type": "stream",
       "stream": "stdout",
       "text": [
        "\n",
        "50000"
       ]
      },
      {
       "output_type": "stream",
       "stream": "stdout",
       "text": [
        "\n",
        "50000"
       ]
      },
      {
       "output_type": "stream",
       "stream": "stdout",
       "text": [
        "\n",
        "50000"
       ]
      },
      {
       "output_type": "stream",
       "stream": "stdout",
       "text": [
        "\n",
        "50000"
       ]
      },
      {
       "output_type": "stream",
       "stream": "stdout",
       "text": [
        "\n",
        "50000"
       ]
      },
      {
       "output_type": "stream",
       "stream": "stdout",
       "text": [
        "\n",
        "50000"
       ]
      },
      {
       "output_type": "stream",
       "stream": "stdout",
       "text": [
        "\n",
        "50000"
       ]
      },
      {
       "output_type": "stream",
       "stream": "stdout",
       "text": [
        "\n",
        "50000"
       ]
      },
      {
       "output_type": "stream",
       "stream": "stdout",
       "text": [
        "\n",
        "50000"
       ]
      },
      {
       "output_type": "stream",
       "stream": "stdout",
       "text": [
        "\n",
        "50000"
       ]
      },
      {
       "output_type": "stream",
       "stream": "stdout",
       "text": [
        "\n",
        "50000"
       ]
      },
      {
       "output_type": "stream",
       "stream": "stdout",
       "text": [
        "\n",
        "50000"
       ]
      },
      {
       "output_type": "stream",
       "stream": "stdout",
       "text": [
        "\n",
        "50000"
       ]
      },
      {
       "output_type": "stream",
       "stream": "stdout",
       "text": [
        "\n",
        "50000"
       ]
      },
      {
       "output_type": "stream",
       "stream": "stdout",
       "text": [
        "\n",
        "50000"
       ]
      },
      {
       "output_type": "stream",
       "stream": "stdout",
       "text": [
        "\n",
        "50000"
       ]
      },
      {
       "output_type": "stream",
       "stream": "stdout",
       "text": [
        "\n",
        "50000"
       ]
      },
      {
       "output_type": "stream",
       "stream": "stdout",
       "text": [
        "\n",
        "50000"
       ]
      },
      {
       "output_type": "stream",
       "stream": "stdout",
       "text": [
        "\n",
        "50000"
       ]
      },
      {
       "output_type": "stream",
       "stream": "stdout",
       "text": [
        "\n",
        "50000"
       ]
      },
      {
       "output_type": "stream",
       "stream": "stdout",
       "text": [
        "\n",
        "50000"
       ]
      },
      {
       "output_type": "stream",
       "stream": "stdout",
       "text": [
        "\n",
        "50000"
       ]
      },
      {
       "output_type": "stream",
       "stream": "stdout",
       "text": [
        "\n",
        "50000"
       ]
      },
      {
       "output_type": "stream",
       "stream": "stdout",
       "text": [
        "\n",
        "50000"
       ]
      },
      {
       "output_type": "stream",
       "stream": "stdout",
       "text": [
        "\n",
        "50000"
       ]
      },
      {
       "output_type": "stream",
       "stream": "stdout",
       "text": [
        "\n",
        "50000"
       ]
      },
      {
       "output_type": "stream",
       "stream": "stdout",
       "text": [
        "\n",
        "50000"
       ]
      },
      {
       "output_type": "stream",
       "stream": "stdout",
       "text": [
        "\n",
        "50000"
       ]
      },
      {
       "output_type": "stream",
       "stream": "stdout",
       "text": [
        "\n",
        "50000"
       ]
      },
      {
       "output_type": "stream",
       "stream": "stdout",
       "text": [
        "\n",
        "50000"
       ]
      },
      {
       "output_type": "stream",
       "stream": "stdout",
       "text": [
        "\n",
        "50000"
       ]
      },
      {
       "output_type": "stream",
       "stream": "stdout",
       "text": [
        "\n",
        "50000"
       ]
      },
      {
       "output_type": "stream",
       "stream": "stdout",
       "text": [
        "\n",
        "50000"
       ]
      },
      {
       "output_type": "stream",
       "stream": "stdout",
       "text": [
        "\n",
        "50000"
       ]
      },
      {
       "output_type": "stream",
       "stream": "stdout",
       "text": [
        "\n",
        "50000"
       ]
      },
      {
       "output_type": "stream",
       "stream": "stdout",
       "text": [
        "\n",
        "50000"
       ]
      },
      {
       "output_type": "stream",
       "stream": "stdout",
       "text": [
        "\n",
        "50000"
       ]
      },
      {
       "output_type": "stream",
       "stream": "stdout",
       "text": [
        "\n",
        "50000"
       ]
      },
      {
       "output_type": "stream",
       "stream": "stdout",
       "text": [
        "\n",
        "50000"
       ]
      },
      {
       "output_type": "stream",
       "stream": "stdout",
       "text": [
        "\n",
        "50000"
       ]
      },
      {
       "output_type": "stream",
       "stream": "stdout",
       "text": [
        "\n",
        "50000"
       ]
      },
      {
       "output_type": "stream",
       "stream": "stdout",
       "text": [
        "\n",
        "50000"
       ]
      },
      {
       "output_type": "stream",
       "stream": "stdout",
       "text": [
        "\n",
        "6.0"
       ]
      },
      {
       "output_type": "stream",
       "stream": "stdout",
       "text": [
        "\n"
       ]
      },
      {
       "metadata": {},
       "output_type": "pyout",
       "prompt_number": 23,
       "text": [
        "(array([[  0.00000000e+00,   0.00000000e+00,   0.00000000e+00, ...,\n",
        "           0.00000000e+00,   0.00000000e+00,   0.00000000e+00],\n",
        "        [  1.00000000e+00,   1.00000000e+00,   1.00000000e+00, ...,\n",
        "           1.00000000e+00,   1.00000000e+00,   1.00000000e+00],\n",
        "        [  2.00000000e+00,   2.00000000e+00,   2.00000000e+00, ...,\n",
        "           2.00000000e+00,   2.00000000e+00,   2.00000000e+00],\n",
        "        ..., \n",
        "        [  4.99970000e+04,   4.99970000e+04,   4.99970000e+04, ...,\n",
        "           4.99970000e+04,   4.99970000e+04,   4.99970000e+04],\n",
        "        [  4.99980000e+04,   4.99980000e+04,   4.99980000e+04, ...,\n",
        "           4.99980000e+04,   4.99980000e+04,   4.99980000e+04],\n",
        "        [  4.99990000e+04,   4.99990000e+04,   4.99990000e+04, ...,\n",
        "           4.99990000e+04,   4.99990000e+04,   4.99990000e+04]]),\n",
        " array([[  2. ,   2.5,   3. , ...,  14. ,  14.5,  15. ],\n",
        "        [  2. ,   2.5,   3. , ...,  14. ,  14.5,  15. ],\n",
        "        [  2. ,   2.5,   3. , ...,  14. ,  14.5,  15. ],\n",
        "        ..., \n",
        "        [  2. ,   2.5,   3. , ...,  14. ,  14.5,  15. ],\n",
        "        [  2. ,   2.5,   3. , ...,  14. ,  14.5,  15. ],\n",
        "        [  2. ,   2.5,   3. , ...,  14. ,  14.5,  15. ]]),\n",
        " [])"
       ]
      },
      {
       "metadata": {},
       "output_type": "display_data",
       "png": "[encoded data removed]",
       "text": [
        "<matplotlib.figure.Figure at 0x7f5ff8ca7950>"
       ]
      }
     ],
     "prompt_number": 23
    },
    {
     "cell_type": "code",
     "collapsed": false,
     "input": [
      "run=3\n",
      "idx = 0#np.int(run)-1\n",
      "plt.figure()\n",
      "CarbonylDensityAnalysis_BS(case, idx=idx, loopType=\"K2 to Oxy distance in run 3\", calIdx = 1107, binMax=15)"
     ],
     "language": "python",
     "metadata": {},
     "outputs": [
      {
       "output_type": "stream",
       "stream": "stdout",
       "text": [
        "<GROUP PERIODIC='(111.893,111.893,168.169)'>\n",
        "   <ATOM INDEX='18' ID='19' NAME='O' RESID='97' RESNAME='ILE' COORDS='(-1.49898,13.0343,9.52347)' ALTLOC='' CHAINID='X' ICODE='' SEGID='PROA' B='0' Q='1' CHARGE='0' MASS='1' ATOMICNUMBER='-1' MASK='201'/>\n",
        "   <ATOM INDEX='37' ID='38' NAME='O' RESID='98' RESNAME='LEU' COORDS='(-3.91844,13.1937,11.9807)' ALTLOC='' CHAINID='X' ICODE='' SEGID='PROA' B='0' Q='1' CHARGE='0' MASS='1' ATOMICNUMBER='-1' MASK='201'/>\n",
        "   <ATOM INDEX='46' ID='47' NAME='OD1' RESID='101' RESNAME='ASN' COORDS='(1.54878,13.2503,11.7258)' ALTLOC='' CHAINID='X' ICODE='' SEGID='PROA' B='0' Q='1' CHARGE='0' MASS='1' ATOMICNUMBER='-1' MASK='201'/>\n",
        "   <ATOM INDEX='51' ID='52' NAME='O' RESID='101' RESNAME='ASN' COORDS='(-0.57413,11.7958,15.401)' ALTLOC='' CHAINID='X' ICODE='' SEGID='PROA' B='0' Q='1' CHARGE='0' MASS='1' ATOMICNUMBER='-1' MASK='201'/>\n",
        "   <ATOM INDEX='67' ID='68' NAME='O' RESID='104' RESNAME='VAL' COORDS='(1.86097,8.59245,18.138)' ALTLOC='' CHAINID='X' ICODE='' SEGID='PROA' B='0' Q='1' CHARGE='0' MASS='1' ATOMICNUMBER='-1' MASK='201'/>\n",
        "   <ATOM INDEX='79' ID='80' NAME='OE1' RESID='108' RESNAME='GLN' COORDS='(6.00258,10.7038,19.5605)' ALTLOC='' CHAINID='X' ICODE='' SEGID='PROA' B='0' Q='1' CHARGE='0' MASS='1' ATOMICNUMBER='-1' MASK='201'/>\n",
        "   <ATOM INDEX='84' ID='85' NAME='O' RESID='108' RESNAME='GLN' COORDS='(2.74766,8.29264,24.3533)' ALTLOC='' CHAINID='X' ICODE='' SEGID='PROA' B='0' Q='1' CHARGE='0' MASS='1' ATOMICNUMBER='-1' MASK='201'/>\n",
        "   <ATOM INDEX='103' ID='104' NAME='O' RESID='264' RESNAME='ILE' COORDS='(10.7128,30.1484,4.88163)' ALTLOC='' CHAINID='X' ICODE='' SEGID='PROA' B='0' Q='1' CHARGE='0' MASS='1' ATOMICNUMBER='-1' MASK='201'/>\n",
        "   <ATOM INDEX='113' ID='114' NAME='O' RESID='301' RESNAME='ALA' COORDS='(5.22761,22.1889,3.90069)' ALTLOC='' CHAINID='X' ICODE='' SEGID='PROA' B='0' Q='1' CHARGE='0' MASS='1' ATOMICNUMBER='-1' MASK='201'/>\n",
        "   <ATOM INDEX='132' ID='133' NAME='O' RESID='302' RESNAME='LEU' COORDS='(7.65836,23.7344,5.6394)' ALTLOC='' CHAINID='X' ICODE='' SEGID='PROA' B='0' Q='1' CHARGE='0' MASS='1' ATOMICNUMBER='-1' MASK='201'/>\n",
        "   <ATOM INDEX='142' ID='143' NAME='O' RESID='303' RESNAME='ALA' COORDS='(5.92848,24.8228,8.44133)' ALTLOC='' CHAINID='X' ICODE='' SEGID='PROA' B='0' Q='1' CHARGE='0' MASS='1' ATOMICNUMBER='-1' MASK='201'/>\n",
        "   <ATOM INDEX='158' ID='159' NAME='O' RESID='304' RESNAME='VAL' COORDS='(4.28914,21.6191,9.23787)' ALTLOC='' CHAINID='X' ICODE='' SEGID='PROA' B='0' Q='1' CHARGE='0' MASS='1' ATOMICNUMBER='-1' MASK='201'/>\n",
        "   <ATOM INDEX='168' ID='169' NAME='O' RESID='305' RESNAME='ALA' COORDS='(7.6694,20.2274,9.31715)' ALTLOC='' CHAINID='X' ICODE='' SEGID='PROA' B='0' Q='1' CHARGE='0' MASS='1' ATOMICNUMBER='-1' MASK='201'/>\n",
        "   <ATOM INDEX='178' ID='179' NAME='O' RESID='306' RESNAME='ALA' COORDS='(8.45192,24.3658,11.3465)' ALTLOC='' CHAINID='X' ICODE='' SEGID='PROA' B='0' Q='1' CHARGE='0' MASS='1' ATOMICNUMBER='-1' MASK='201'/>\n",
        "   <ATOM INDEX='197' ID='198' NAME='O' RESID='307' RESNAME='ILE' COORDS='(7.07204,21.8312,13.3112)' ALTLOC='' CHAINID='X' ICODE='' SEGID='PROA' B='0' Q='1' CHARGE='0' MASS='1' ATOMICNUMBER='-1' MASK='201'/>\n",
        "   <ATOM INDEX='211' ID='212' NAME='O' RESID='308' RESNAME='PRO' COORDS='(7.84882,22.7519,17.8251)' ALTLOC='' CHAINID='X' ICODE='' SEGID='PROA' B='0' Q='1' CHARGE='0' MASS='1' ATOMICNUMBER='-1' MASK='201'/>\n",
        "   <ATOM INDEX='223' ID='224' NAME='OE1' RESID='309' RESNAME='GLU' COORDS='(1.38417,23.8988,18.649)' ALTLOC='' CHAINID='X' ICODE='' SEGID='PROA' B='0' Q='1' CHARGE='0' MASS='1' ATOMICNUMBER='-1' MASK='201'/>\n",
        "   <ATOM INDEX='224' ID='225' NAME='OE2' RESID='309' RESNAME='GLU' COORDS='(1.06612,21.7453,18.4166)' ALTLOC='' CHAINID='X' ICODE='' SEGID='PROA' B='0' Q='1' CHARGE='0' MASS='1' ATOMICNUMBER='-1' MASK='201'/>\n",
        "   <ATOM INDEX='226' ID='227' NAME='O' RESID='309' RESNAME='GLU' COORDS='(6.03121,19.4642,18.9347)' ALTLOC='' CHAINID='X' ICODE='' SEGID='PROA' B='0' Q='1' CHARGE='0' MASS='1' ATOMICNUMBER='-1' MASK='201'/>\n",
        "   <ATOM INDEX='233' ID='234' NAME='O' RESID='310' RESNAME='GLY' COORDS='(8.78341,16.9647,18.2444)' ALTLOC='' CHAINID='X' ICODE='' SEGID='PROA' B='0' Q='1' CHARGE='0' MASS='1' ATOMICNUMBER='-1' MASK='201'/>\n",
        "   <ATOM INDEX='252' ID='253' NAME='O' RESID='311' RESNAME='LEU' COORDS='(11.8054,17.9163,19.9085)' ALTLOC='' CHAINID='X' ICODE='' SEGID='PROA' B='0' Q='1' CHARGE='0' MASS='1' ATOMICNUMBER='-1' MASK='201'/>\n",
        "   <ATOM INDEX='272' ID='273' NAME='O' RESID='760' RESNAME='PHE' COORDS='(16.5227,15.441,15.6617)' ALTLOC='' CHAINID='X' ICODE='' SEGID='PROA' B='0' Q='1' CHARGE='0' MASS='1' ATOMICNUMBER='-1' MASK='201'/>\n",
        "   <ATOM INDEX='291' ID='292' NAME='O' RESID='761' RESNAME='ILE' COORDS='(18.4114,18.274,14.9088)' ALTLOC='' CHAINID='X' ICODE='' SEGID='PROA' B='0' Q='1' CHARGE='0' MASS='1' ATOMICNUMBER='-1' MASK='201'/>\n",
        "   <ATOM INDEX='315' ID='316' NAME='O' RESID='762' RESNAME='ARG' COORDS='(19.2883,16.798,12.1273)' ALTLOC='' CHAINID='X' ICODE='' SEGID='PROA' B='0' Q='1' CHARGE='0' MASS='1' ATOMICNUMBER='-1' MASK='201'/>\n",
        "   <ATOM INDEX='329' ID='330' NAME='OH' RESID='763' RESNAME='TYR' COORDS='(13.0424,11.328,8.96377)' ALTLOC='' CHAINID='X' ICODE='' SEGID='PROA' B='0' Q='1' CHARGE='0' MASS='1' ATOMICNUMBER='-1' MASK='201'/>\n",
        "   <ATOM INDEX='336' ID='337' NAME='O' RESID='763' RESNAME='TYR' COORDS='(16.5042,15.619,10.3656)' ALTLOC='' CHAINID='X' ICODE='' SEGID='PROA' B='0' Q='1' CHARGE='0' MASS='1' ATOMICNUMBER='-1' MASK='201'/>\n",
        "   <ATOM INDEX='355' ID='356' NAME='O' RESID='764' RESNAME='LEU' COORDS='(14.8845,18.757,10.6287)' ALTLOC='' CHAINID='X' ICODE='' SEGID='PROA' B='0' Q='1' CHARGE='0' MASS='1' ATOMICNUMBER='-1' MASK='201'/>\n",
        "   <ATOM INDEX='374' ID='375' NAME='O' RESID='765' RESNAME='ILE' COORDS='(17.1913,21.0019,9.47821)' ALTLOC='' CHAINID='X' ICODE='' SEGID='PROA' B='0' Q='1' CHARGE='0' MASS='1' ATOMICNUMBER='-1' MASK='201'/>\n",
        "   <ATOM INDEX='382' ID='383' NAME='OG' RESID='766' RESNAME='SER' COORDS='(19.6683,16.5526,9.39137)' ALTLOC='' CHAINID='X' ICODE='' SEGID='PROA' B='0' Q='1' CHARGE='0' MASS='1' ATOMICNUMBER='-1' MASK='201'/>\n",
        "   <ATOM INDEX='385' ID='386' NAME='O' RESID='766' RESNAME='SER' COORDS='(18.0935,19.1452,6.65646)' ALTLOC='' CHAINID='X' ICODE='' SEGID='PROA' B='0' Q='1' CHARGE='0' MASS='1' ATOMICNUMBER='-1' MASK='201'/>\n",
        "   <ATOM INDEX='393' ID='394' NAME='OG' RESID='767' RESNAME='SER' COORDS='(15.0957,15.4508,8.15862)' ALTLOC='' CHAINID='X' ICODE='' SEGID='PROA' B='0' Q='1' CHARGE='0' MASS='1' ATOMICNUMBER='-1' MASK='201'/>\n",
        "   <ATOM INDEX='396' ID='397' NAME='O' RESID='767' RESNAME='SER' COORDS='(14.6846,19.1331,5.63218)' ALTLOC='' CHAINID='X' ICODE='' SEGID='PROA' B='0' Q='1' CHARGE='0' MASS='1' ATOMICNUMBER='-1' MASK='201'/>\n",
        "   <ATOM INDEX='405' ID='406' NAME='OD1' RESID='768' RESNAME='ASN' COORDS='(13.0798,21.5515,10.849)' ALTLOC='' CHAINID='X' ICODE='' SEGID='PROA' B='0' Q='1' CHARGE='0' MASS='1' ATOMICNUMBER='-1' MASK='201'/>\n",
        "   <ATOM INDEX='410' ID='411' NAME='O' RESID='768' RESNAME='ASN' COORDS='(14.2271,22.5471,5.33839)' ALTLOC='' CHAINID='X' ICODE='' SEGID='PROA' B='0' Q='1' CHARGE='0' MASS='1' ATOMICNUMBER='-1' MASK='201'/>\n",
        "   <ATOM INDEX='426' ID='427' NAME='O' RESID='769' RESNAME='VAL' COORDS='(17.123,22.7432,3.34813)' ALTLOC='' CHAINID='X' ICODE='' SEGID='PROA' B='0' Q='1' CHARGE='0' MASS='1' ATOMICNUMBER='-1' MASK='201'/>\n",
        "   <ATOM INDEX='433' ID='434' NAME='O' RESID='770' RESNAME='GLY' COORDS='(16.3286,20.6117,1.0022)' ALTLOC='' CHAINID='X' ICODE='' SEGID='PROA' B='0' Q='1' CHARGE='0' MASS='1' ATOMICNUMBER='-1' MASK='201'/>\n",
        "   <ATOM INDEX='445' ID='446' NAME='OE1' RESID='771' RESNAME='GLU' COORDS='(12.1022,17.4501,4.95895)' ALTLOC='' CHAINID='X' ICODE='' SEGID='PROA' B='0' Q='1' CHARGE='0' MASS='1' ATOMICNUMBER='-1' MASK='201'/>\n",
        "   <ATOM INDEX='446' ID='447' NAME='OE2' RESID='771' RESNAME='GLU' COORDS='(10.3342,18.7329,4.5605)' ALTLOC='' CHAINID='X' ICODE='' SEGID='PROA' B='0' Q='1' CHARGE='0' MASS='1' ATOMICNUMBER='-1' MASK='201'/>\n",
        "   <ATOM INDEX='448' ID='449' NAME='O' RESID='771' RESNAME='GLU' COORDS='(13.504,22.13,0.0951322)' ALTLOC='' CHAINID='X' ICODE='' SEGID='PROA' B='0' Q='1' CHARGE='0' MASS='1' ATOMICNUMBER='-1' MASK='201'/>\n",
        "   <ATOM INDEX='464' ID='465' NAME='O' RESID='772' RESNAME='VAL' COORDS='(14.5835,25.3444,0.013961)' ALTLOC='' CHAINID='X' ICODE='' SEGID='PROA' B='0' Q='1' CHARGE='0' MASS='1' ATOMICNUMBER='-1' MASK='201'/>\n",
        "   <ATOM INDEX='483' ID='484' NAME='O' RESID='792' RESNAME='LEU' COORDS='(5.56593,17.1279,0.603066)' ALTLOC='' CHAINID='X' ICODE='' SEGID='PROA' B='0' Q='1' CHARGE='0' MASS='1' ATOMICNUMBER='-1' MASK='201'/>\n",
        "   <ATOM INDEX='502' ID='503' NAME='O' RESID='793' RESNAME='LEU' COORDS='(3.05996,14.9654,2.18919)' ALTLOC='' CHAINID='X' ICODE='' SEGID='PROA' B='0' Q='1' CHARGE='0' MASS='1' ATOMICNUMBER='-1' MASK='201'/>\n",
        "   <ATOM INDEX='526' ID='527' NAME='O' RESID='794' RESNAME='TRP' COORDS='(5.12054,11.7529,1.56709)' ALTLOC='' CHAINID='X' ICODE='' SEGID='PROA' B='0' Q='1' CHARGE='0' MASS='1' ATOMICNUMBER='-1' MASK='201'/>\n",
        "   <ATOM INDEX='542' ID='543' NAME='O' RESID='795' RESNAME='VAL' COORDS='(7.2832,13.0425,3.80924)' ALTLOC='' CHAINID='X' ICODE='' SEGID='PROA' B='0' Q='1' CHARGE='0' MASS='1' ATOMICNUMBER='-1' MASK='201'/>\n",
        "   <ATOM INDEX='551' ID='552' NAME='OD1' RESID='796' RESNAME='ASN' COORDS='(5.13023,16.9674,7.06529)' ALTLOC='' CHAINID='X' ICODE='' SEGID='PROA' B='0' Q='1' CHARGE='0' MASS='1' ATOMICNUMBER='-1' MASK='201'/>\n",
        "   <ATOM INDEX='556' ID='557' NAME='O' RESID='796' RESNAME='ASN' COORDS='(5.06548,13.7547,6.54657)' ALTLOC='' CHAINID='X' ICODE='' SEGID='PROA' B='0' Q='1' CHARGE='0' MASS='1' ATOMICNUMBER='-1' MASK='201'/>\n",
        "   <ATOM INDEX='575' ID='576' NAME='O' RESID='797' RESNAME='LEU' COORDS='(4.19783,10.1227,6.16419)' ALTLOC='' CHAINID='X' ICODE='' SEGID='PROA' B='0' Q='1' CHARGE='0' MASS='1' ATOMICNUMBER='-1' MASK='201'/>\n",
        "   <ATOM INDEX='591' ID='592' NAME='O' RESID='798' RESNAME='VAL' COORDS='(8.32257,8.75721,5.38971)' ALTLOC='' CHAINID='X' ICODE='' SEGID='PROA' B='0' Q='1' CHARGE='0' MASS='1' ATOMICNUMBER='-1' MASK='201'/>\n",
        "   <ATOM INDEX='598' ID='599' NAME='OG1' RESID='799' RESNAME='THR' COORDS='(9.4877,13.4672,5.07585)' ALTLOC='' CHAINID='X' ICODE='' SEGID='PROA' B='0' Q='1' CHARGE='0' MASS='1' ATOMICNUMBER='-1' MASK='201'/>\n",
        "   <ATOM INDEX='605' ID='606' NAME='O' RESID='799' RESNAME='THR' COORDS='(9.96861,12.2284,8.08371)' ALTLOC='' CHAINID='X' ICODE='' SEGID='PROA' B='0' Q='1' CHARGE='0' MASS='1' ATOMICNUMBER='-1' MASK='201'/>\n",
        "   <ATOM INDEX='614' ID='615' NAME='OD1' RESID='800' RESNAME='ASP' COORDS='(5.07945,14.8476,10.9946)' ALTLOC='' CHAINID='X' ICODE='' SEGID='PROA' B='0' Q='1' CHARGE='0' MASS='1' ATOMICNUMBER='-1' MASK='201'/>\n",
        "   <ATOM INDEX='615' ID='616' NAME='OD2' RESID='800' RESNAME='ASP' COORDS='(7.26295,14.7129,11.1246)' ALTLOC='' CHAINID='X' ICODE='' SEGID='PROA' B='0' Q='1' CHARGE='0' MASS='1' ATOMICNUMBER='-1' MASK='201'/>\n",
        "   <ATOM INDEX='617' ID='618' NAME='O' RESID='800' RESNAME='ASP' COORDS='(8.44361,11.2043,10.9971)' ALTLOC='' CHAINID='X' ICODE='' SEGID='PROA' B='0' Q='1' CHARGE='0' MASS='1' ATOMICNUMBER='-1' MASK='201'/>\n",
        "   <ATOM INDEX='624' ID='625' NAME='O' RESID='801' RESNAME='GLY' COORDS='(6.7708,8.09518,12.633)' ALTLOC='' CHAINID='X' ICODE='' SEGID='PROA' B='0' Q='1' CHARGE='0' MASS='1' ATOMICNUMBER='-1' MASK='201'/>\n",
        "   <ATOM INDEX='643' ID='644' NAME='O' RESID='802' RESNAME='LEU' COORDS='(8.45714,5.69613,10.9694)' ALTLOC='' CHAINID='X' ICODE='' SEGID='PROA' B='0' Q='1' CHARGE='0' MASS='1' ATOMICNUMBER='-1' MASK='201'/>\n",
        "   <ATOM INDEX='657' ID='658' NAME='O' RESID='803' RESNAME='PRO' COORDS='(11.431,7.20874,12.6637)' ALTLOC='' CHAINID='X' ICODE='' SEGID='PROA' B='0' Q='1' CHARGE='0' MASS='1' ATOMICNUMBER='-1' MASK='201'/>\n",
        "   <ATOM INDEX='667' ID='668' NAME='O' RESID='804' RESNAME='ALA' COORDS='(10.6129,8.44603,15.82)' ALTLOC='' CHAINID='X' ICODE='' SEGID='PROA' B='0' Q='1' CHARGE='0' MASS='1' ATOMICNUMBER='-1' MASK='201'/>\n",
        "   <ATOM INDEX='674' ID='675' NAME='O' RESID='841' RESNAME='GLY' COORDS='(20.2011,19.9471,3.23503)' ALTLOC='' CHAINID='X' ICODE='' SEGID='PROA' B='0' Q='1' CHARGE='0' MASS='1' ATOMICNUMBER='-1' MASK='201'/>\n",
        "   <ATOM INDEX='690' ID='691' NAME='O' RESID='844' RESNAME='VAL' COORDS='(18.6805,17.1291,-0.994404)' ALTLOC='' CHAINID='X' ICODE='' SEGID='PROA' B='0' Q='1' CHARGE='0' MASS='1' ATOMICNUMBER='-1' MASK='201'/>\n",
        "   <ATOM INDEX='709' ID='710' NAME='O' RESID='904' RESNAME='LEU' COORDS='(14.5537,12.507,0.862574)' ALTLOC='' CHAINID='X' ICODE='' SEGID='PROA' B='0' Q='1' CHARGE='0' MASS='1' ATOMICNUMBER='-1' MASK='201'/>\n",
        "   <ATOM INDEX='725' ID='726' NAME='O' RESID='905' RESNAME='VAL' COORDS='(13.8333,9.04772,1.85617)' ALTLOC='' CHAINID='X' ICODE='' SEGID='PROA' B='0' Q='1' CHARGE='0' MASS='1' ATOMICNUMBER='-1' MASK='201'/>\n",
        "   <ATOM INDEX='744' ID='745' NAME='O' RESID='907' RESNAME='ILE' COORDS='(19.0501,10.7823,3.49385)' ALTLOC='' CHAINID='X' ICODE='' SEGID='PROA' B='0' Q='1' CHARGE='0' MASS='1' ATOMICNUMBER='-1' MASK='201'/>\n",
        "   <ATOM INDEX='756' ID='757' NAME='OE1' RESID='908' RESNAME='GLU' COORDS='(12.9596,14.4134,4.54493)' ALTLOC='' CHAINID='X' ICODE='' SEGID='PROA' B='0' Q='1' CHARGE='0' MASS='1' ATOMICNUMBER='-1' MASK='201'/>\n",
        "   <ATOM INDEX='757' ID='758' NAME='OE2' RESID='908' RESNAME='GLU' COORDS='(14.4801,16.1269,4.54093)' ALTLOC='' CHAINID='X' ICODE='' SEGID='PROA' B='0' Q='1' CHARGE='0' MASS='1' ATOMICNUMBER='-1' MASK='201'/>\n",
        "   <ATOM INDEX='760' ID='761' NAME='O' RESID='908' RESNAME='GLU' COORDS='(16.8578,10.2124,6.30866)' ALTLOC='' CHAINID='X' ICODE='' SEGID='PROA' B='0' Q='1' CHARGE='0' MASS='1' ATOMICNUMBER='-1' MASK='201'/>\n",
        "   <ATOM INDEX='769' ID='770' NAME='OD1' RESID='911' RESNAME='ASN' COORDS='(21.4586,12.1537,9.17929)' ALTLOC='' CHAINID='X' ICODE='' SEGID='PROA' B='0' Q='1' CHARGE='0' MASS='1' ATOMICNUMBER='-1' MASK='201'/>\n",
        "   <ATOM INDEX='774' ID='775' NAME='O' RESID='911' RESNAME='ASN' COORDS='(20.2826,9.55779,9.93249)' ALTLOC='' CHAINID='X' ICODE='' SEGID='PROA' B='0' Q='1' CHARGE='0' MASS='1' ATOMICNUMBER='-1' MASK='201'/>\n",
        "   <ATOM INDEX='784' ID='785' NAME='O' RESID='912' RESNAME='ALA' COORDS='(18.8558,6.35935,11.3551)' ALTLOC='' CHAINID='X' ICODE='' SEGID='PROA' B='0' Q='1' CHARGE='0' MASS='1' ATOMICNUMBER='-1' MASK='201'/>\n",
        "   <ATOM INDEX='787' ID='788' NAME='OH2' RESID='3082' RESNAME='TIP3' COORDS='(-24.3024,-27.9833,24.088)' ALTLOC='' CHAINID='X' ICODE='' SEGID='TIP3' B='0' Q='1' CHARGE='0' MASS='1' ATOMICNUMBER='-1' MASK='201'/>\n",
        "   <ATOM INDEX='790' ID='791' NAME='OH2' RESID='3097' RESNAME='TIP3' COORDS='(-26.6954,20.2365,29.8394)' ALTLOC='' CHAINID='X' ICODE='' SEGID='TIP3' B='0' Q='1' CHARGE='0' MASS='1' ATOMICNUMBER='-1' MASK='201'/>\n",
        "   <ATOM INDEX='793' ID='794' NAME='OH2' RESID='3107' RESNAME='TIP3' COORDS='(42.442,4.56963,-73.0894)' ALTLOC='' CHAINID='X' ICODE='' SEGID='TIP3' B='0' Q='1' CHARGE='0' MASS='1' ATOMICNUMBER='-1' MASK='201'/>\n",
        "   <ATOM INDEX='796' ID='797' NAME='OH2' RESID='50916' RESNAME='TIP3' COORDS='(37.9015,-24.3941,-63.5216)' ALTLOC='' CHAINID='X' ICODE=' ' SEGID='TIP3' B='0' Q='1' CHARGE='0' MASS='1' ATOMICNUMBER='-1' MASK='201'/>\n",
        "   <ATOM INDEX='799' ID='800' NAME='OH2' RESID='50917' RESNAME='TIP3' COORDS='(-47.8055,49.1226,71.7854)' ALTLOC='' CHAINID='X' ICODE=' ' SEGID='TIP3' B='0' Q='1' CHARGE='0' MASS='1' ATOMICNUMBER='-1' MASK='201'/>\n",
        "</GROUP>\n",
        "50000"
       ]
      },
      {
       "output_type": "stream",
       "stream": "stdout",
       "text": [
        "\n",
        "50000"
       ]
      },
      {
       "output_type": "stream",
       "stream": "stdout",
       "text": [
        "\n",
        "50000"
       ]
      },
      {
       "output_type": "stream",
       "stream": "stdout",
       "text": [
        "\n",
        "50000"
       ]
      },
      {
       "output_type": "stream",
       "stream": "stdout",
       "text": [
        "\n",
        "50000"
       ]
      },
      {
       "output_type": "stream",
       "stream": "stdout",
       "text": [
        "\n",
        "50000"
       ]
      },
      {
       "output_type": "stream",
       "stream": "stdout",
       "text": [
        "\n",
        "50000"
       ]
      },
      {
       "output_type": "stream",
       "stream": "stdout",
       "text": [
        "\n",
        "50000"
       ]
      },
      {
       "output_type": "stream",
       "stream": "stdout",
       "text": [
        "\n",
        "50000"
       ]
      },
      {
       "output_type": "stream",
       "stream": "stdout",
       "text": [
        "\n",
        "50000"
       ]
      },
      {
       "output_type": "stream",
       "stream": "stdout",
       "text": [
        "\n",
        "50000"
       ]
      },
      {
       "output_type": "stream",
       "stream": "stdout",
       "text": [
        "\n",
        "50000"
       ]
      },
      {
       "output_type": "stream",
       "stream": "stdout",
       "text": [
        "\n",
        "50000"
       ]
      },
      {
       "output_type": "stream",
       "stream": "stdout",
       "text": [
        "\n",
        "50000"
       ]
      },
      {
       "output_type": "stream",
       "stream": "stdout",
       "text": [
        "\n",
        "50000"
       ]
      },
      {
       "output_type": "stream",
       "stream": "stdout",
       "text": [
        "\n",
        "50000"
       ]
      },
      {
       "output_type": "stream",
       "stream": "stdout",
       "text": [
        "\n",
        "50000"
       ]
      },
      {
       "output_type": "stream",
       "stream": "stdout",
       "text": [
        "\n",
        "50000"
       ]
      },
      {
       "output_type": "stream",
       "stream": "stdout",
       "text": [
        "\n",
        "50000"
       ]
      },
      {
       "output_type": "stream",
       "stream": "stdout",
       "text": [
        "\n",
        "50000"
       ]
      },
      {
       "output_type": "stream",
       "stream": "stdout",
       "text": [
        "\n",
        "50000"
       ]
      },
      {
       "output_type": "stream",
       "stream": "stdout",
       "text": [
        "\n",
        "50000"
       ]
      },
      {
       "output_type": "stream",
       "stream": "stdout",
       "text": [
        "\n",
        "50000"
       ]
      },
      {
       "output_type": "stream",
       "stream": "stdout",
       "text": [
        "\n",
        "50000"
       ]
      },
      {
       "output_type": "stream",
       "stream": "stdout",
       "text": [
        "\n",
        "50000"
       ]
      },
      {
       "output_type": "stream",
       "stream": "stdout",
       "text": [
        "\n",
        "50000"
       ]
      },
      {
       "output_type": "stream",
       "stream": "stdout",
       "text": [
        "\n",
        "50000"
       ]
      },
      {
       "output_type": "stream",
       "stream": "stdout",
       "text": [
        "\n",
        "50000"
       ]
      },
      {
       "output_type": "stream",
       "stream": "stdout",
       "text": [
        "\n",
        "50000"
       ]
      },
      {
       "output_type": "stream",
       "stream": "stdout",
       "text": [
        "\n",
        "50000"
       ]
      },
      {
       "output_type": "stream",
       "stream": "stdout",
       "text": [
        "\n",
        "50000"
       ]
      },
      {
       "output_type": "stream",
       "stream": "stdout",
       "text": [
        "\n",
        "50000"
       ]
      },
      {
       "output_type": "stream",
       "stream": "stdout",
       "text": [
        "\n",
        "50000"
       ]
      },
      {
       "output_type": "stream",
       "stream": "stdout",
       "text": [
        "\n",
        "50000"
       ]
      },
      {
       "output_type": "stream",
       "stream": "stdout",
       "text": [
        "\n",
        "50000"
       ]
      },
      {
       "output_type": "stream",
       "stream": "stdout",
       "text": [
        "\n",
        "50000"
       ]
      },
      {
       "output_type": "stream",
       "stream": "stdout",
       "text": [
        "\n",
        "50000"
       ]
      },
      {
       "output_type": "stream",
       "stream": "stdout",
       "text": [
        "\n",
        "50000"
       ]
      },
      {
       "output_type": "stream",
       "stream": "stdout",
       "text": [
        "\n",
        "50000"
       ]
      },
      {
       "output_type": "stream",
       "stream": "stdout",
       "text": [
        "\n",
        "50000"
       ]
      },
      {
       "output_type": "stream",
       "stream": "stdout",
       "text": [
        "\n",
        "50000"
       ]
      },
      {
       "output_type": "stream",
       "stream": "stdout",
       "text": [
        "\n",
        "50000"
       ]
      },
      {
       "output_type": "stream",
       "stream": "stdout",
       "text": [
        "\n",
        "50000"
       ]
      },
      {
       "output_type": "stream",
       "stream": "stdout",
       "text": [
        "\n",
        "50000"
       ]
      },
      {
       "output_type": "stream",
       "stream": "stdout",
       "text": [
        "\n",
        "50000"
       ]
      },
      {
       "output_type": "stream",
       "stream": "stdout",
       "text": [
        "\n",
        "50000"
       ]
      },
      {
       "output_type": "stream",
       "stream": "stdout",
       "text": [
        "\n",
        "50000"
       ]
      },
      {
       "output_type": "stream",
       "stream": "stdout",
       "text": [
        "\n",
        "50000"
       ]
      },
      {
       "output_type": "stream",
       "stream": "stdout",
       "text": [
        "\n",
        "50000"
       ]
      },
      {
       "output_type": "stream",
       "stream": "stdout",
       "text": [
        "\n",
        "50000"
       ]
      },
      {
       "output_type": "stream",
       "stream": "stdout",
       "text": [
        "\n",
        "50000"
       ]
      },
      {
       "output_type": "stream",
       "stream": "stdout",
       "text": [
        "\n",
        "50000"
       ]
      },
      {
       "output_type": "stream",
       "stream": "stdout",
       "text": [
        "\n",
        "50000"
       ]
      },
      {
       "output_type": "stream",
       "stream": "stdout",
       "text": [
        "\n",
        "50000"
       ]
      },
      {
       "output_type": "stream",
       "stream": "stdout",
       "text": [
        "\n",
        "50000"
       ]
      },
      {
       "output_type": "stream",
       "stream": "stdout",
       "text": [
        "\n",
        "50000"
       ]
      },
      {
       "output_type": "stream",
       "stream": "stdout",
       "text": [
        "\n",
        "50000"
       ]
      },
      {
       "output_type": "stream",
       "stream": "stdout",
       "text": [
        "\n",
        "50000"
       ]
      },
      {
       "output_type": "stream",
       "stream": "stdout",
       "text": [
        "\n",
        "50000"
       ]
      },
      {
       "output_type": "stream",
       "stream": "stdout",
       "text": [
        "\n",
        "50000"
       ]
      },
      {
       "output_type": "stream",
       "stream": "stdout",
       "text": [
        "\n",
        "50000"
       ]
      },
      {
       "output_type": "stream",
       "stream": "stdout",
       "text": [
        "\n",
        "50000"
       ]
      },
      {
       "output_type": "stream",
       "stream": "stdout",
       "text": [
        "\n",
        "50000"
       ]
      },
      {
       "output_type": "stream",
       "stream": "stdout",
       "text": [
        "\n",
        "50000"
       ]
      },
      {
       "output_type": "stream",
       "stream": "stdout",
       "text": [
        "\n",
        "50000"
       ]
      },
      {
       "output_type": "stream",
       "stream": "stdout",
       "text": [
        "\n",
        "50000"
       ]
      },
      {
       "output_type": "stream",
       "stream": "stdout",
       "text": [
        "\n",
        "50000"
       ]
      },
      {
       "output_type": "stream",
       "stream": "stdout",
       "text": [
        "\n",
        "50000"
       ]
      },
      {
       "output_type": "stream",
       "stream": "stdout",
       "text": [
        "\n",
        "50000"
       ]
      },
      {
       "output_type": "stream",
       "stream": "stdout",
       "text": [
        "\n",
        "50000"
       ]
      },
      {
       "output_type": "stream",
       "stream": "stdout",
       "text": [
        "\n",
        "50000"
       ]
      },
      {
       "output_type": "stream",
       "stream": "stdout",
       "text": [
        "\n",
        "50000"
       ]
      },
      {
       "output_type": "stream",
       "stream": "stdout",
       "text": [
        "\n",
        "50000"
       ]
      },
      {
       "output_type": "stream",
       "stream": "stdout",
       "text": [
        "\n",
        "6.0"
       ]
      },
      {
       "output_type": "stream",
       "stream": "stdout",
       "text": [
        "\n"
       ]
      },
      {
       "metadata": {},
       "output_type": "pyout",
       "prompt_number": 24,
       "text": [
        "(array([[  0.00000000e+00,   0.00000000e+00,   0.00000000e+00, ...,\n",
        "           0.00000000e+00,   0.00000000e+00,   0.00000000e+00],\n",
        "        [  1.00000000e+00,   1.00000000e+00,   1.00000000e+00, ...,\n",
        "           1.00000000e+00,   1.00000000e+00,   1.00000000e+00],\n",
        "        [  2.00000000e+00,   2.00000000e+00,   2.00000000e+00, ...,\n",
        "           2.00000000e+00,   2.00000000e+00,   2.00000000e+00],\n",
        "        ..., \n",
        "        [  4.99970000e+04,   4.99970000e+04,   4.99970000e+04, ...,\n",
        "           4.99970000e+04,   4.99970000e+04,   4.99970000e+04],\n",
        "        [  4.99980000e+04,   4.99980000e+04,   4.99980000e+04, ...,\n",
        "           4.99980000e+04,   4.99980000e+04,   4.99980000e+04],\n",
        "        [  4.99990000e+04,   4.99990000e+04,   4.99990000e+04, ...,\n",
        "           4.99990000e+04,   4.99990000e+04,   4.99990000e+04]]),\n",
        " array([[  2. ,   2.5,   3. , ...,  14. ,  14.5,  15. ],\n",
        "        [  2. ,   2.5,   3. , ...,  14. ,  14.5,  15. ],\n",
        "        [  2. ,   2.5,   3. , ...,  14. ,  14.5,  15. ],\n",
        "        ..., \n",
        "        [  2. ,   2.5,   3. , ...,  14. ,  14.5,  15. ],\n",
        "        [  2. ,   2.5,   3. , ...,  14. ,  14.5,  15. ],\n",
        "        [  2. ,   2.5,   3. , ...,  14. ,  14.5,  15. ]]),\n",
        " [])"
       ]
      },
      {
       "metadata": {},
       "output_type": "display_data",
       "png": "[encoded data removed]",
       "text": [
        "<matplotlib.figure.Figure at 0x7f5ff8b303d0>"
       ]
      }
     ],
     "prompt_number": 24
    },
    {
     "cell_type": "code",
     "collapsed": false,
     "input": [],
     "language": "python",
     "metadata": {},
     "outputs": []
    }
   ],
   "metadata": {}
  }
 ]
}