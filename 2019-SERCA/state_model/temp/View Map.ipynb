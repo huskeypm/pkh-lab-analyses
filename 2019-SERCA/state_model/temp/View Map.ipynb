{
 "metadata": {
  "name": "",
  "signature": "sha256:323de624cc8a68d9d725eaab3cce93af8cf2b9dc2da04ba3ec50982c98e16c74"
 },
 "nbformat": 3,
 "nbformat_minor": 0,
 "worksheets": [
  {
   "cells": [
    {
     "cell_type": "code",
     "collapsed": false,
     "input": [
      "import matplotlib\n",
      "import matplotlib.pylab as plt\n"
     ],
     "language": "python",
     "metadata": {},
     "outputs": [],
     "prompt_number": 1
    },
    {
     "cell_type": "code",
     "collapsed": false,
     "input": [],
     "language": "python",
     "metadata": {},
     "outputs": []
    }
   ],
   "metadata": {}
  }
 ]
}