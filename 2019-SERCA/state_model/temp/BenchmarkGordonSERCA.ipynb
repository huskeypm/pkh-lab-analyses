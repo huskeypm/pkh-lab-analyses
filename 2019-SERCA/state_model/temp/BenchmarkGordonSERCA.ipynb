{
 "metadata": {
  "name": "",
  "signature": "sha256:19c16b326ae3b99739fcf0bcaa834fc263e4fb51bbe6c2959d0f92ad9780f730"
 },
 "nbformat": 3,
 "nbformat_minor": 0,
 "worksheets": [
  {
   "cells": [
    {
     "cell_type": "code",
     "collapsed": false,
     "input": [
      "numProcs = 2**(1+np.arange(10))\n",
      "print numProcs"
     ],
     "language": "python",
     "metadata": {},
     "outputs": [
      {
       "output_type": "stream",
       "stream": "stdout",
       "text": [
        "[   2    4    8   16   32   64  128  256  512 1024]\n"
       ]
      }
     ],
     "prompt_number": 1
    },
    {
     "cell_type": "code",
     "collapsed": false,
     "input": [
      "#myResults = np.array([3600,1800,900,450,225,200,190,180,170,160],dtype=float)\n",
      "#ideal = np.array((7200/numProcs),dtype=float)\n",
      "myResults = np.array([0.0277,0.055,0.11,0.22,0.44,0.5,0.526,0.555,0.588,0.625],dtype=float)\n",
      "ideal = np.array(1/(72.0/numProcs),dtype=float)\n",
      "print ideal"
     ],
     "language": "python",
     "metadata": {},
     "outputs": [
      {
       "output_type": "stream",
       "stream": "stdout",
       "text": [
        "[  0.02777778   0.05555556   0.11111111   0.22222222   0.44444444\n",
        "   0.88888889   1.77777778   3.55555556   7.11111111  14.22222222]\n"
       ]
      }
     ],
     "prompt_number": 51
    },
    {
     "cell_type": "code",
     "collapsed": false,
     "input": [
      "lg2 = np.log(numProcs)/np.log(2)\n",
      "myResultslg2 = np.log(myResults)/np.log(2)\n",
      "ideallg2 = np.log(ideal)/np.log(2)\n",
      "plt.plot(lg2,myResultslg2,'b-')\n",
      "plt.plot(lg2,ideallg2,'b.')\n",
      "#yscale('log')\n",
      "plt.xlabel(\"processors (lg2)\")\n",
      "plt.ylabel(\"ns/day (lg2)\") "
     ],
     "language": "python",
     "metadata": {},
     "outputs": [
      {
       "metadata": {},
       "output_type": "pyout",
       "prompt_number": 52,
       "text": [
        "<matplotlib.text.Text at 0x7f94707bfbd0>"
       ]
      },
      {
       "metadata": {},
       "output_type": "display_data",
       "png": "[encoded data removed]",
       "text": [
        "<matplotlib.figure.Figure at 0x7f9470f569d0>"
       ]
      }
     ],
     "prompt_number": 52
    },
    {
     "cell_type": "code",
     "collapsed": false,
     "input": [
      "benchmarkResults = np.array([0.1102, 0.2256, 0.3648, 0.6632, 1.0537, 1.8049, 4.1818, 7.9712, 10.0533, 16.0611])\n",
      "#benchmarkResults = np.array([7.9712, 4.1818, 1.8049, 1.0537, 0.6632, 0.3648, 0.2256, 0.1102])\n",
      "#benchmarkResults = np.array([9.0744, 4.4326, 2.7412, 1.5078, 0.9490, 0.5540, 0.2391, 0.1255, 0.0995])\n",
      "lg2 = np.log(numProcs)/np.log(2)\n",
      "benchlg2 = np.log(benchmarkResults)/np.log(2)\n",
      "plt.plot(lg2, benchlg2, 'b.')\n",
      "#plt.plot(lg2, benchmarkResults, 'b-')\n",
      "#yscale('log')\n",
      "plt.xlabel(\"processors (lg2)\")\n",
      "plt.ylabel(\"ns/day (lg2)\") "
     ],
     "language": "python",
     "metadata": {},
     "outputs": [
      {
       "metadata": {},
       "output_type": "pyout",
       "prompt_number": 8,
       "text": [
        "<matplotlib.text.Text at 0x7f94710dba50>"
       ]
      },
      {
       "metadata": {},
       "output_type": "display_data",
       "png": "[encoded data removed]",
       "text": [
        "<matplotlib.figure.Figure at 0x7f94781afb10>"
       ]
      }
     ],
     "prompt_number": 8
    },
    {
     "cell_type": "code",
     "collapsed": false,
     "input": [
      "benchmarkResults = np.array([9.0744, 4.4326, 2.7412, 1.5078, 0.9490, 0.5540, 0.2391, 0.1255, 0.0995, 0.06226])\n",
      "lg2 = np.log(numProcs)/np.log(2)\n",
      "benchlg2 = np.log(benchmarkResults)/np.log(2)\n",
      "plt.plot(lg2, benchlg2, 'b-')\n",
      "#yscale('log')\n",
      "plt.xlabel(\"processors (lg2)\")\n",
      "plt.ylabel(\"days/ns\") "
     ],
     "language": "python",
     "metadata": {},
     "outputs": [
      {
       "metadata": {},
       "output_type": "pyout",
       "prompt_number": 5,
       "text": [
        "<matplotlib.text.Text at 0x7f94712a9610>"
       ]
      },
      {
       "metadata": {},
       "output_type": "display_data",
       "png": "[encoded data removed]",
       "text": [
        "<matplotlib.figure.Figure at 0x7f94781bd590>"
       ]
      }
     ],
     "prompt_number": 5
    },
    {
     "cell_type": "code",
     "collapsed": false,
     "input": [],
     "language": "python",
     "metadata": {},
     "outputs": []
    },
    {
     "cell_type": "code",
     "collapsed": false,
     "input": [],
     "language": "python",
     "metadata": {},
     "outputs": []
    }
   ],
   "metadata": {}
  }
 ]
}