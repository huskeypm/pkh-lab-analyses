{
 "metadata": {
  "name": "",
  "signature": "sha256:668bc5dd6bfc1b662335d8e737de9a0f2283027a7f01b256f3e15803ae26ade3"
 },
 "nbformat": 3,
 "nbformat_minor": 0,
 "worksheets": [
  {
   "cells": [
    {
     "cell_type": "code",
     "collapsed": false,
     "input": [
      "import loos\n",
      "import sys\n",
      "import math\n",
      "import PyTraj\n",
      "\n",
      "class empty:pass\n",
      "\n",
      "%load_ext autoreload\n",
      "%autoreload 2"
     ],
     "language": "python",
     "metadata": {},
     "outputs": [
      {
       "output_type": "stream",
       "stream": "stdout",
       "text": [
        "The autoreload extension is already loaded. To reload it, use:\n",
        "  %reload_ext autoreload\n"
       ]
      }
     ],
     "prompt_number": 43
    },
    {
     "cell_type": "code",
     "collapsed": false,
     "input": [
      "# add python path\n",
      "sys.path.append(\"/home/AD/cesc235/labscripts/parvalbumin/\")\n",
      "import parvfuncs as pf\n"
     ],
     "language": "python",
     "metadata": {},
     "outputs": [],
     "prompt_number": 44
    },
    {
     "cell_type": "code",
     "collapsed": false,
     "input": [
      "font = {'weight' : 'bold',\n",
      "        'size'   : 12}\n",
      "matplotlib.rc('font', **font)"
     ],
     "language": "python",
     "metadata": {},
     "outputs": [],
     "prompt_number": 45
    },
    {
     "cell_type": "code",
     "collapsed": false,
     "input": [
      "#%cd /net/home/huskeypm/localTemp/parv/amber_holo/\n",
      "prefix = \"/home/AD/bdst227/namd-mg-lipid/analysis/\"\n",
      "#caseName= \"WT\"\n",
      "#case= \"WT_holo_1\"\n",
      "#case= \"L85A_apo_1\"\n",
      "#case= \"L85A_holo_1\"\n",
      "#prefix = \"/home/AD/pmke226/localTemp/parv/xx/\"\n",
      "#runs = [\"2\"]#,\"2\",\"3\"]  # expects all three triplicate runs to be available for apo/holo states\n",
      "# might consider http://matplotlib.org/1.2.1/examples/pylab_examples/dash_control.html\n",
      "cols = [\"-\",\"-.\",\"--\"]\n",
      "\n",
      "cases = []\n",
      "case=\"mg50nsRun\"\n",
      "caseNames = [\"3\"]#,\"L85F\", \"L85A\"]\n",
      "\n",
      "# timing \n",
      "NS_PER_FRAME=0.002 # [ps/fr] Verified \n",
      "PTRAJ_DOWNSAMPLE = 1 # Verified, was 10 \n",
      "FRAME_TO_TIME = NS_PER_FRAME * PTRAJ_DOWNSAMPLE\n",
      "\n",
      "\n",
      "#dbg\n",
      "#runs = [\"1\",\"2\",\"3\"]\n",
      "#caseNames = [\"WT\"]\n",
      "\n",
      "for i, caseName in enumerate(caseNames):\n",
      " \n",
      "    holo = empty()\n",
      "    holo.dcdFile = prefix+case+caseName+\"_10\"#+ run + \".dcd\"\n",
      "    #holo.pdbFile = prefix+caseName+\"_holo_2LP3_\"#+ run + \".pdb\"\n",
      "    holo.pdbFile = prefix+\"step5_assemblyJustProtein_10\" #+runs+\".pdb\"\" \n",
      "    holo.col='r'\n",
      "    holo.name = case+\" \"+caseName#+run\n",
      "    holo.frame_to_time = FRAME_TO_TIME\n",
      "    cases.append(holo)\n",
      "\n",
      "\n",
      "# hack\n",
      "#apos = cases[0::2]\n",
      "\n",
      "holos = cases[0::1]   \n",
      "#cases = [apo, holo]\n",
      "\n",
      "\n",
      "pf.FRAME_TO_TIME = FRAME_TO_TIME\n",
      "pf.cols = cols\n",
      "\n",
      "import binfuncs as bf"
     ],
     "language": "python",
     "metadata": {},
     "outputs": [],
     "prompt_number": 67
    },
    {
     "cell_type": "code",
     "collapsed": false,
     "input": [
      "for i, case in enumerate(cases):\n",
      "    case.trajs = []\n",
      "    for j, run in enumerate(runs):\n",
      "        pdbFile = case.pdbFile+\".pdb\"\n",
      "        dcdFile = case.dcdFile+\".dcd\"\n",
      "        print \"Loading \" + dcdFile\n",
      "        print \"Loading \" + pdbFile\n",
      "        case.system=loos.createSystem(pdbFile) # only loading once, since should be same across runs\n",
      "        traj=loos.createTrajectory(dcdFile,case.system)\n",
      "        case.trajs.append(traj)\n",
      "        print \"Frames for %s: %d\" %(case.name, traj.nframes())"
     ],
     "language": "python",
     "metadata": {},
     "outputs": [
      {
       "output_type": "stream",
       "stream": "stdout",
       "text": [
        "Loading /home/AD/bdst227/namd-mg-lipid/analysis/mg50nsRun3_10.dcd\n",
        "Loading /home/AD/bdst227/namd-mg-lipid/analysis/step5_assemblyJustProtein_10.pdb\n",
        "Frames for mg50nsRun 3: 25000\n"
       ]
      }
     ],
     "prompt_number": 68
    },
    {
     "cell_type": "code",
     "collapsed": false,
     "input": [
      "case = holos[0]\n",
      "idx = 1\n",
      "selAllOs = loos.selectAtoms(case.system,'name=~\"O\"')\n",
      "selCa = loos.selectAtoms(case.system,'name==\"MG\"&& resid==1002')\n",
      "nOs = selAllOs.size()\n",
      "\n",
      "#nTs = case.trajs[idx].nframes()\n",
      "\n",
      "nTs = 25000\n",
      "allDists = np.zeros((nOs,nTs))\n",
      "ts = np.zeros(nTs)\n",
      "for i in range(nOs):\n",
      "    run=idx-1\n",
      "    selO = selAllOs.subset(i,1)\n",
      "    dists = pf.dodist(case,run,selO,selCa)\n",
      "    allDists[i,:] = dists[:,1]\n",
      "    ts  = dists[:,0]"
     ],
     "language": "python",
     "metadata": {},
     "outputs": [
      {
       "output_type": "stream",
       "stream": "stdout",
       "text": [
        "25000\n",
        "25000"
       ]
      },
      {
       "output_type": "stream",
       "stream": "stdout",
       "text": [
        "\n",
        "25000"
       ]
      },
      {
       "output_type": "stream",
       "stream": "stdout",
       "text": [
        "\n",
        "25000"
       ]
      },
      {
       "output_type": "stream",
       "stream": "stdout",
       "text": [
        "\n",
        "25000"
       ]
      },
      {
       "output_type": "stream",
       "stream": "stdout",
       "text": [
        "\n",
        "25000"
       ]
      },
      {
       "output_type": "stream",
       "stream": "stdout",
       "text": [
        "\n",
        "25000"
       ]
      },
      {
       "output_type": "stream",
       "stream": "stdout",
       "text": [
        "\n",
        "25000"
       ]
      },
      {
       "output_type": "stream",
       "stream": "stdout",
       "text": [
        "\n",
        "25000"
       ]
      },
      {
       "output_type": "stream",
       "stream": "stdout",
       "text": [
        "\n",
        "25000"
       ]
      },
      {
       "output_type": "stream",
       "stream": "stdout",
       "text": [
        "\n",
        "25000"
       ]
      },
      {
       "output_type": "stream",
       "stream": "stdout",
       "text": [
        "\n",
        "25000"
       ]
      },
      {
       "output_type": "stream",
       "stream": "stdout",
       "text": [
        "\n",
        "25000"
       ]
      },
      {
       "output_type": "stream",
       "stream": "stdout",
       "text": [
        "\n",
        "25000"
       ]
      },
      {
       "output_type": "stream",
       "stream": "stdout",
       "text": [
        "\n",
        "25000"
       ]
      },
      {
       "output_type": "stream",
       "stream": "stdout",
       "text": [
        "\n",
        "25000"
       ]
      },
      {
       "output_type": "stream",
       "stream": "stdout",
       "text": [
        "\n",
        "25000"
       ]
      },
      {
       "output_type": "stream",
       "stream": "stdout",
       "text": [
        "\n",
        "25000"
       ]
      },
      {
       "output_type": "stream",
       "stream": "stdout",
       "text": [
        "\n",
        "25000"
       ]
      },
      {
       "output_type": "stream",
       "stream": "stdout",
       "text": [
        "\n",
        "25000"
       ]
      },
      {
       "output_type": "stream",
       "stream": "stdout",
       "text": [
        "\n",
        "25000"
       ]
      },
      {
       "output_type": "stream",
       "stream": "stdout",
       "text": [
        "\n",
        "25000"
       ]
      },
      {
       "output_type": "stream",
       "stream": "stdout",
       "text": [
        "\n",
        "25000"
       ]
      },
      {
       "output_type": "stream",
       "stream": "stdout",
       "text": [
        "\n",
        "25000"
       ]
      },
      {
       "output_type": "stream",
       "stream": "stdout",
       "text": [
        "\n",
        "25000"
       ]
      },
      {
       "output_type": "stream",
       "stream": "stdout",
       "text": [
        "\n",
        "25000"
       ]
      },
      {
       "output_type": "stream",
       "stream": "stdout",
       "text": [
        "\n",
        "25000"
       ]
      },
      {
       "output_type": "stream",
       "stream": "stdout",
       "text": [
        "\n",
        "25000"
       ]
      },
      {
       "output_type": "stream",
       "stream": "stdout",
       "text": [
        "\n",
        "25000"
       ]
      },
      {
       "output_type": "stream",
       "stream": "stdout",
       "text": [
        "\n",
        "25000"
       ]
      },
      {
       "output_type": "stream",
       "stream": "stdout",
       "text": [
        "\n",
        "25000"
       ]
      },
      {
       "output_type": "stream",
       "stream": "stdout",
       "text": [
        "\n",
        "25000"
       ]
      },
      {
       "output_type": "stream",
       "stream": "stdout",
       "text": [
        "\n",
        "25000"
       ]
      },
      {
       "output_type": "stream",
       "stream": "stdout",
       "text": [
        "\n",
        "25000"
       ]
      },
      {
       "output_type": "stream",
       "stream": "stdout",
       "text": [
        "\n",
        "25000"
       ]
      },
      {
       "output_type": "stream",
       "stream": "stdout",
       "text": [
        "\n",
        "25000"
       ]
      },
      {
       "output_type": "stream",
       "stream": "stdout",
       "text": [
        "\n",
        "25000"
       ]
      },
      {
       "output_type": "stream",
       "stream": "stdout",
       "text": [
        "\n",
        "25000"
       ]
      },
      {
       "output_type": "stream",
       "stream": "stdout",
       "text": [
        "\n",
        "25000"
       ]
      },
      {
       "output_type": "stream",
       "stream": "stdout",
       "text": [
        "\n",
        "25000"
       ]
      },
      {
       "output_type": "stream",
       "stream": "stdout",
       "text": [
        "\n",
        "25000"
       ]
      },
      {
       "output_type": "stream",
       "stream": "stdout",
       "text": [
        "\n",
        "25000"
       ]
      },
      {
       "output_type": "stream",
       "stream": "stdout",
       "text": [
        "\n",
        "25000"
       ]
      },
      {
       "output_type": "stream",
       "stream": "stdout",
       "text": [
        "\n",
        "25000"
       ]
      },
      {
       "output_type": "stream",
       "stream": "stdout",
       "text": [
        "\n",
        "25000"
       ]
      },
      {
       "output_type": "stream",
       "stream": "stdout",
       "text": [
        "\n",
        "25000"
       ]
      },
      {
       "output_type": "stream",
       "stream": "stdout",
       "text": [
        "\n",
        "25000"
       ]
      },
      {
       "output_type": "stream",
       "stream": "stdout",
       "text": [
        "\n",
        "25000"
       ]
      },
      {
       "output_type": "stream",
       "stream": "stdout",
       "text": [
        "\n",
        "25000"
       ]
      },
      {
       "output_type": "stream",
       "stream": "stdout",
       "text": [
        "\n",
        "25000"
       ]
      },
      {
       "output_type": "stream",
       "stream": "stdout",
       "text": [
        "\n",
        "25000"
       ]
      },
      {
       "output_type": "stream",
       "stream": "stdout",
       "text": [
        "\n",
        "25000"
       ]
      },
      {
       "output_type": "stream",
       "stream": "stdout",
       "text": [
        "\n",
        "25000"
       ]
      },
      {
       "output_type": "stream",
       "stream": "stdout",
       "text": [
        "\n",
        "25000"
       ]
      },
      {
       "output_type": "stream",
       "stream": "stdout",
       "text": [
        "\n",
        "25000"
       ]
      },
      {
       "output_type": "stream",
       "stream": "stdout",
       "text": [
        "\n",
        "25000"
       ]
      },
      {
       "output_type": "stream",
       "stream": "stdout",
       "text": [
        "\n",
        "25000"
       ]
      },
      {
       "output_type": "stream",
       "stream": "stdout",
       "text": [
        "\n"
       ]
      }
     ],
     "prompt_number": 69
    },
    {
     "cell_type": "code",
     "collapsed": false,
     "input": [
      "def BinTimeSeries_BS(data,binMin,binMax,res=1.,plot=True):\n",
      "    \n",
      "    # define bins \n",
      "    nBins = np.int((1/res)*(binMax-binMin)+1)\n",
      "    bins = (np.linspace(binMin, binMax, nBins)) - 0.25\n",
      "    #print \"bins: \" , bins\n",
      "\n",
      "    \n",
      "    #digitize into bins \n",
      "    digitized = np.digitize(data, bins)\n",
      "\n",
      "    # create 2D matrix of bin versus time\n",
      "    nTs = np.shape(data)[0]\n",
      "    z=np.zeros((nBins,nTs))\n",
      "    for i in range(nBins):\n",
      "      z[i,np.where(digitized==i)]=1\n",
      "\n",
      "    # create 2D coordinates and plot\n",
      "    grid_t,grid_r = np.mgrid[0:(nTs-1):(nTs*1j),binMin:binMax:(nBins*1j)]\n",
      "    #np.shape(grid_x)\n",
      "    #pcolormesh(z)\n",
      "    if plot:\n",
      "      plt.figure()\n",
      "      plt.pcolormesh(grid_t,grid_r,z.transpose())\n",
      "  #  print np.shape(grid_t),np.shape(grid_r) \n",
      "    \n",
      "    return grid_t,grid_r,z\n"
     ],
     "language": "python",
     "metadata": {},
     "outputs": [],
     "prompt_number": 70
    },
    {
     "cell_type": "code",
     "collapsed": false,
     "input": [
      "binMin=0.; binMax=12.\n",
      "res = 0.5\n",
      "\n",
      "zs=[]\n",
      "for i in range(nOs):\n",
      "  grid_t,grid_r,z = BinTimeSeries_BS(allDists[i,:],binMin,binMax,res=res,plot=False)\n",
      "  zs.append(z)\n",
      "print np.shape(zs)"
     ],
     "language": "python",
     "metadata": {},
     "outputs": [
      {
       "output_type": "stream",
       "stream": "stdout",
       "text": [
        "(57, 25, 25000)\n"
       ]
      }
     ],
     "prompt_number": 71
    },
    {
     "cell_type": "code",
     "collapsed": false,
     "input": [
      "def plotOxyDensity(grid_t,grid_r,zs,title=\"NONE\"):\n",
      "  nCalCoord = 6.\n",
      "  scaleByCoordinationNumber=1/nCalCoord\n",
      "  frames_to_time = 0.002\n",
      "  ar = np.sum(zs,axis=0)\n",
      "\n",
      "  plt.subplot(211)\n",
      "  plt.tight_layout()  \n",
      "  plt.title(title)\n",
      "  plt.xlabel(\"Time (ns)\",fontsize=14, weight=\"bold\")\n",
      "  plt.ylabel(\"Mg/O \\n distance [A]\",fontsize=14, weight=\"bold\")  \n",
      "  plt.pcolormesh(grid_t*frames_to_time,grid_r,ar.transpose())\n",
      "  plt.colorbar()\n",
      "  plt.clim([0,nCalCoord])\n",
      "    \n",
      "  plt.subplot(212)\n",
      "  plt.tight_layout()\n",
      "  plt.xlabel(\"Mg/O distance [A]\",fontsize=14, weight=\"bold\")\n",
      "  plt.ylabel(\"Radial \\n Distribution\",fontsize=14, weight=\"bold\") \n",
      "  histo=np.sum(ar,axis=1)\n",
      "  nTs  = np.shape(ar)[1]\n",
      "  plt.plot(grid_r[0,:],histo/nTs)\n",
      "  \n",
      "  plt.ylim([0,7])\n",
      "     \n",
      " # output=np.column_stack((grid_r[0,:],ar))  \n",
      "  ar_title=\"ar_\"+title+\".txt\"\n",
      "  np.savetxt(ar_title,ar)\n",
      " # print ar\n",
      "    \n",
      "  plt.gcf().savefig(title+\".png\")\n",
      "\n",
      "  l=np.mean(ar,axis=1) #Same as summing up and averaging over nTs.  See above.\n",
      "  s=np.std(ar,axis=1)\n",
      "  j=np.zeros([np.shape(l)[0],3])\n",
      "  j[:,0]=grid_r[0,:]\n",
      "  j[:,1]=l\n",
      "  j[:,2]=s \n",
      "\n",
      "  np.savetxt(title+\".txt\",j) \n",
      "\n",
      "np.shape(zs)\n",
      "np.shape(grid_r)    \n",
      "plotOxyDensity(grid_t,grid_r,zs,title=\"SERCA run 3\")    \n",
      "\n",
      "\n",
      "v=np.sum(zs,axis=0)"
     ],
     "language": "python",
     "metadata": {},
     "outputs": [
      {
       "metadata": {},
       "output_type": "display_data",
       "png": "[encoded data removed]",
       "text": [
        "<matplotlib.figure.Figure at 0x7f5e9131d110>"
       ]
      }
     ],
     "prompt_number": 72
    },
    {
     "cell_type": "code",
     "collapsed": false,
     "input": [],
     "language": "python",
     "metadata": {},
     "outputs": []
    }
   ],
   "metadata": {}
  }
 ]
}