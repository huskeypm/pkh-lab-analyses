{
 "metadata": {
  "name": "",
  "signature": "sha256:60e06f135cab667e8a747ad1473999060e386e3c97125d93d27546e67a4b0e56"
 },
 "nbformat": 3,
 "nbformat_minor": 0,
 "worksheets": [
  {
   "cells": [
    {
     "cell_type": "markdown",
     "metadata": {},
     "source": [
      "An example demonstrating how to plot dolfin meshes with mayavi "
     ]
    },
    {
     "cell_type": "code",
     "collapsed": false,
     "input": [
      "from dolfin import *"
     ],
     "language": "python",
     "metadata": {},
     "outputs": [],
     "prompt_number": 52
    },
    {
     "cell_type": "code",
     "collapsed": false,
     "input": [],
     "language": "python",
     "metadata": {},
     "outputs": []
    },
    {
     "cell_type": "markdown",
     "metadata": {},
     "source": [
      "### Define grid"
     ]
    },
    {
     "cell_type": "code",
     "collapsed": false,
     "input": [
      "mesh = SphereMesh(Point(0.0, 0.0, 0.0), 1.0, 0.2)\n",
      "coords = mesh.coordinates()[:]\n",
      "x = coords[:,0]\n",
      "y = coords[:,1]\n",
      "z = coords[:,2]\n"
     ],
     "language": "python",
     "metadata": {},
     "outputs": []
    },
    {
     "cell_type": "markdown",
     "metadata": {},
     "source": [
      "### Define values "
     ]
    },
    {
     "cell_type": "code",
     "collapsed": false,
     "input": [
      "# add colors \n",
      "values = np.zeros(np.shape(x)[0])\n",
      "values[np.where(x<-0.5)]=-1.\n",
      "values[np.where(x>0.5)]=1.\n"
     ],
     "language": "python",
     "metadata": {},
     "outputs": []
    },
    {
     "cell_type": "markdown",
     "metadata": {},
     "source": [
      "### Interpolate onto grid "
     ]
    },
    {
     "cell_type": "code",
     "collapsed": false,
     "input": [
      "from scipy.interpolate import griddata\n",
      "mmin= np.min(coords,axis=0)\n",
      "mmax = np.max(coords,axis=0)\n",
      "res = 100.\n",
      "(gx,gy,gz) = np.mgrid[mmin[0]:mmax[0]:(res*1j),\n",
      "                      mmin[1]:mmax[1]:(res*1j),\n",
      "                      mmin[2]:mmax[2]:(res*1j)]\n",
      "img0 = griddata(mesh.coordinates(),values,(gx,gy,gz))\n"
     ],
     "language": "python",
     "metadata": {},
     "outputs": []
    },
    {
     "cell_type": "code",
     "collapsed": false,
     "input": [
      "print np.shape(img0)"
     ],
     "language": "python",
     "metadata": {},
     "outputs": []
    },
    {
     "cell_type": "markdown",
     "metadata": {},
     "source": [
      "### Display via maya"
     ]
    },
    {
     "cell_type": "code",
     "collapsed": false,
     "input": [
      "from mayavi import mlab\n",
      "# display contours at regular intervals \n",
      "obj  = mlab.contour3d(img0,contours=2,transparent=True)\n",
      "# display volume \n",
      "obj = mlab.pipeline.volume(mlab.pipeline.scalar_field(img0))\n",
      "mlab.show()\n",
      "\n"
     ],
     "language": "python",
     "metadata": {},
     "outputs": [
      {
       "output_type": "stream",
       "stream": "stderr",
       "text": [
        "WARNING:root:DEPRECATED: pyface.wx.clipboard, use pyface.api instead.\n"
       ]
      }
     ]
    },
    {
     "cell_type": "code",
     "collapsed": false,
     "input": [],
     "language": "python",
     "metadata": {},
     "outputs": []
    }
   ],
   "metadata": {}
  }
 ]
}