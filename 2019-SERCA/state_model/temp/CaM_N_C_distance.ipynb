{
 "metadata": {
  "name": "",
  "signature": "sha256:e361fb4705aa11d11aeeffc1f41a346e1cbd6fff9d9d9ca948923afdffc9e4c6"
 },
 "nbformat": 3,
 "nbformat_minor": 0,
 "worksheets": [
  {
   "cells": [
    {
     "cell_type": "code",
     "collapsed": false,
     "input": [
      "import loos\n",
      "import sys\n",
      "import math\n",
      "import PyTraj\n",
      "\n",
      "class empty:pass\n",
      "\n",
      "# autoreload modules \n",
      "%load_ext autoreload\n",
      "%autoreload 2"
     ],
     "language": "python",
     "metadata": {},
     "outputs": [
      {
       "output_type": "stream",
       "stream": "stdout",
       "text": [
        "The autoreload extension is already loaded. To reload it, use:\n",
        "  %reload_ext autoreload\n"
       ]
      }
     ],
     "prompt_number": 4
    },
    {
     "cell_type": "code",
     "collapsed": false,
     "input": [
      "prefix = \"/home/AD/pmke226/localTemp/parv/\"\n",
      "#caseName= \"WT\"\n",
      "#case= \"WT_holo_1\"\n",
      "#case= \"L85A_apo_1\"\n",
      "#case= \"L85A_holo_1\"\n",
      "#prefix = \"/home/AD/pmke226/localTemp/parv/xx/\"\n",
      "runs = [\"1\",\"2\",\"3\"]  # expects all three triplicate runs to be available for apo/holo states\n",
      "# might consider http://matplotlib.org/1.2.1/examples/pylab_examples/dash_control.html\n",
      "cols = [\"-\",\"-.\",\"--\"]\n",
      "\n",
      "cases = []\n",
      "caseNames = [\"L85A\",\"WT\",\"L85F\"]\n",
      "\n",
      "# timing \n",
      "NS_PER_FRAME=0.002 # [ps/fr] Verified \n",
      "PTRAJ_DOWNSAMPLE = 10 # Verified \n",
      "FRAME_TO_TIME = NS_PER_FRAME * PTRAJ_DOWNSAMPLE\n",
      "\n",
      "\n",
      "#dbg\n",
      "runs = [\"1\",\"2\",\"3\"]\n",
      "#caseNames = [\"WT\"]\n",
      "\n",
      "for i, caseName in enumerate(caseNames):\n",
      "    apo = empty()\n",
      "    apo.dcdFile = prefix+caseName+\"_apo_\"#+ run + \".dcd\"\n",
      "    apo.pdbFile = prefix+caseName+\"_apo_\"#+ run + \".pdb\"\n",
      "    apo.col='b'\n",
      "    apo.name = caseName+'_apo_'#+run\n",
      "    apo.frame_to_time = FRAME_TO_TIME\n",
      "    print apo.pdbFile\n",
      "    cases.append(apo)\n",
      "    \n",
      "    holo = empty()\n",
      "    holo.dcdFile = prefix+caseName+\"_holo_\"#+ run + \".dcd\"\n",
      "    holo.pdbFile = prefix+caseName+\"_holo_\"#+ run + \".pdb\"\n",
      "    holo.col='r'\n",
      "    holo.name = caseName+'_holo_'#+run\n",
      "    holo.frame_to_time = FRAME_TO_TIME\n",
      "    cases.append(holo)\n",
      "\n",
      "\n",
      "# hack\n",
      "apos = cases[0::2]\n",
      "holos = cases[1::2]\n",
      "    \n",
      "#cases = [apo,holo]\n",
      "\n",
      "\n",
      "import parvfuncs as pf\n",
      "pf.FRAME_TO_TIME = FRAME_TO_TIME\n",
      "pf.cols = cols"
     ],
     "language": "python",
     "metadata": {},
     "outputs": [
      {
       "output_type": "stream",
       "stream": "stdout",
       "text": [
        "/home/AD/pmke226/localTemp/parv/L85A_apo_\n",
        "/home/AD/pmke226/localTemp/parv/WT_apo_\n",
        "/home/AD/pmke226/localTemp/parv/L85F_apo_\n"
       ]
      },
      {
       "ename": "ImportError",
       "evalue": "No module named parvfuncs",
       "output_type": "pyerr",
       "traceback": [
        "\u001b[0;31m---------------------------------------------------------------------------\u001b[0m\n\u001b[0;31mImportError\u001b[0m                               Traceback (most recent call last)",
        "\u001b[0;32m<ipython-input-6-3f1fb22ba666>\u001b[0m in \u001b[0;36m<module>\u001b[0;34m()\u001b[0m\n\u001b[1;32m     48\u001b[0m \u001b[0;34m\u001b[0m\u001b[0m\n\u001b[1;32m     49\u001b[0m \u001b[0;34m\u001b[0m\u001b[0m\n\u001b[0;32m---> 50\u001b[0;31m \u001b[0;32mimport\u001b[0m \u001b[0mparvfuncs\u001b[0m \u001b[0;32mas\u001b[0m \u001b[0mpf\u001b[0m\u001b[0;34m\u001b[0m\u001b[0m\n\u001b[0m\u001b[1;32m     51\u001b[0m \u001b[0mpf\u001b[0m\u001b[0;34m.\u001b[0m\u001b[0mFRAME_TO_TIME\u001b[0m \u001b[0;34m=\u001b[0m \u001b[0mFRAME_TO_TIME\u001b[0m\u001b[0;34m\u001b[0m\u001b[0m\n\u001b[1;32m     52\u001b[0m \u001b[0mpf\u001b[0m\u001b[0;34m.\u001b[0m\u001b[0mcols\u001b[0m \u001b[0;34m=\u001b[0m \u001b[0mcols\u001b[0m\u001b[0;34m\u001b[0m\u001b[0m\n",
        "\u001b[0;31mImportError\u001b[0m: No module named parvfuncs"
       ]
      }
     ],
     "prompt_number": 6
    },
    {
     "cell_type": "code",
     "collapsed": false,
     "input": [],
     "language": "python",
     "metadata": {},
     "outputs": [],
     "prompt_number": 6
    },
    {
     "cell_type": "code",
     "collapsed": false,
     "input": [],
     "language": "python",
     "metadata": {},
     "outputs": []
    }
   ],
   "metadata": {}
  }
 ]
}