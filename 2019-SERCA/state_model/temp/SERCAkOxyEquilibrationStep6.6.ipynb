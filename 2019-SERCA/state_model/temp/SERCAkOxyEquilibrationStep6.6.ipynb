{
 "metadata": {
  "name": "",
  "signature": "sha256:e1e705a83492be82959db80985de1a327bec60a3743ff4913c5252a9d48145c8"
 },
 "nbformat": 3,
 "nbformat_minor": 0,
 "worksheets": [
  {
   "cells": [
    {
     "cell_type": "code",
     "collapsed": false,
     "input": [
      "import loos\n",
      "import sys\n",
      "import math\n",
      "import PyTraj\n",
      "import carbonylDensityAnalysis as cda\n",
      "import binfuncs as bf\n",
      "\n",
      "class empty:pass\n",
      "\n",
      "# autoreload modules \n",
      "%load_ext autoreload\n",
      "%autoreload 2"
     ],
     "language": "python",
     "metadata": {},
     "outputs": [],
     "prompt_number": 2
    },
    {
     "cell_type": "code",
     "collapsed": false,
     "input": [
      "prefix = \"/home/AD/bdst227/namd-mg-lipid/analysis/\"\n",
      "cols = [\"-\",\"-.\",\"--\"]\n",
      "\n",
      "cases = []\n",
      "caseNames = [\"mg50nsRun\"]\n",
      "\n",
      "# timing \n",
      "NS_PER_FRAME = 0.002 # [ns/fr] Verified \n",
      "PTRAJ_DOWNSAMPLE = 1 # Verified \n",
      "FRAME_TO_TIME = NS_PER_FRAME * PTRAJ_DOWNSAMPLE\n",
      "\n",
      "runs = [\"1\", \"2\", \"3\"]\n",
      "\n",
      "for i, caseName in enumerate(caseNames):\n",
      "    \n",
      "    for j, run in enumerate(runs):\n",
      "        \n",
      "        holo = empty()\n",
      "        holo.dcdFile = prefix+caseName+run#+ run + \".dcd\"\n",
      "        holo.pdbFile = prefix+\"step5_assemblyJustProtein\"#+ run + \".pdb\"\n",
      "        #holo.col='r'\n",
      "        holo.name = caseName#+run\n",
      "        holo.frame_to_time = FRAME_TO_TIME\n",
      "        cases.append(holo)\n",
      "        print holo.dcdFile\n",
      "\n",
      "# hack\n",
      "#apos = cases[0::2]\n",
      "holos = cases[:]\n",
      "\n",
      "import parvfuncs as pf\n",
      "pf.FRAME_TO_TIME = FRAME_TO_TIME\n",
      "#pf.cols = cols"
     ],
     "language": "python",
     "metadata": {},
     "outputs": [
      {
       "output_type": "stream",
       "stream": "stdout",
       "text": [
        "/home/AD/bdst227/namd-mg-lipid/analysis/mg50nsRun1\n",
        "/home/AD/bdst227/namd-mg-lipid/analysis/mg50nsRun2\n",
        "/home/AD/bdst227/namd-mg-lipid/analysis/mg50nsRun3\n"
       ]
      }
     ],
     "prompt_number": 21
    },
    {
     "cell_type": "code",
     "collapsed": false,
     "input": [
      "for i, case in enumerate(cases):\n",
      "    case.trajs = []\n",
      "    #for j, run in enumerate(runs):\n",
      "    pdbFile = case.pdbFile+\".pdb\"\n",
      "    dcdFile = case.dcdFile+\".dcd\"\n",
      "    print \"Loading \" + dcdFile\n",
      "    case.system=loos.createSystem(pdbFile) # only loading once, since should be same across runs\n",
      "    traj=loos.createTrajectory(dcdFile,case.system)\n",
      "    case.trajs.append(traj)\n",
      "    print \"Frames for %s: %d\" %(case.name,traj.nframes())"
     ],
     "language": "python",
     "metadata": {},
     "outputs": [
      {
       "output_type": "stream",
       "stream": "stdout",
       "text": [
        "Loading /home/AD/bdst227/namd-mg-lipid/analysis/mg50nsRun1.dcd\n",
        "Frames for mg50nsRun: 25000"
       ]
      },
      {
       "output_type": "stream",
       "stream": "stdout",
       "text": [
        "\n",
        "Loading /home/AD/bdst227/namd-mg-lipid/analysis/mg50nsRun2.dcd\n",
        "Frames for mg50nsRun: 25000"
       ]
      },
      {
       "output_type": "stream",
       "stream": "stdout",
       "text": [
        "\n",
        "Loading /home/AD/bdst227/namd-mg-lipid/analysis/mg50nsRun3.dcd\n",
        "Frames for mg50nsRun: 25000"
       ]
      },
      {
       "output_type": "stream",
       "stream": "stdout",
       "text": [
        "\n"
       ]
      }
     ],
     "prompt_number": 22
    },
    {
     "cell_type": "code",
     "collapsed": false,
     "input": [
      "alldists = []\n",
      "alltimes = []\n",
      "for i,case in enumerate(holos):\n",
      "  sel1 = loos.selectAtoms(case.system,'name == \"MG\" && resid == 1002')\n",
      "  sel2 = loos.selectAtoms(case.system,'name == \"OE1\" && resid == 771')\n",
      "  #for j, run in enumerate(runs):\n",
      "  run = 1\n",
      "  idx = np.int(run)-1 # since not zero-indexes    \n",
      "  dists = pf.dodist(case,idx,sel1,sel2)\n",
      "  alldists.append(dists[:,1])\n",
      "  alltimes.append(dists[:,0])\n",
      "  plot(dists[:,0],dists[:,1],label = \"SERCA_lipid_MG_run%s\" %(i+1))\n",
      " # plot(dists[:,1],case.col,label=\"%s\"%(case.name) )\n",
      "        \n",
      "plt.xlabel(\"time [ns]\")\n",
      "plt.ylabel(\"Dist [Ang]\") \n",
      "plt.title(\"MGdist_OE1_771\")\n",
      "plt.legend(loc=2)\n",
      "plt.gcf().savefig(\"_MGDist.png\")\n",
      "\n"
     ],
     "language": "python",
     "metadata": {},
     "outputs": [
      {
       "output_type": "stream",
       "stream": "stdout",
       "text": [
        "25000\n",
        "25000"
       ]
      },
      {
       "output_type": "stream",
       "stream": "stdout",
       "text": [
        "\n",
        "25000"
       ]
      },
      {
       "output_type": "stream",
       "stream": "stdout",
       "text": [
        "\n"
       ]
      },
      {
       "metadata": {},
       "output_type": "display_data",
       "png": "[encoded data removed]",
       "text": [
        "<matplotlib.figure.Figure at 0x7fe69c180410>"
       ]
      }
     ],
     "prompt_number": 31
    },
    {
     "cell_type": "code",
     "collapsed": false,
     "input": [
      "alldists = []\n",
      "alltimes = []\n",
      "for i,case in enumerate(holos):\n",
      "  sel1 = loos.selectAtoms(case.system,'name == \"MG\" && resid == 1002')\n",
      "  sel2 = loos.selectAtoms(case.system,'name == \"OE2\" && resid == 771')\n",
      "  #for j, run in enumerate(runs):\n",
      "  run = 1\n",
      "  idx = np.int(run)-1 # since not zero-indexes    \n",
      "  dists = pf.dodist(case,idx,sel1,sel2)\n",
      "  alldists.append(dists[:,1])\n",
      "  alltimes.append(dists[:,0])\n",
      "  plot(dists[:,0],dists[:,1],label = \"SERCA_lipid_MG_run%s\" %(i+1))\n",
      " # plot(dists[:,1],case.col,label=\"%s\"%(case.name) )\n",
      "        \n",
      "plt.xlabel(\"time [ns]\")\n",
      "plt.ylabel(\"Dist [Ang]\") \n",
      "plt.title(\"MGdist_OE2_771\")\n",
      "plt.legend(loc=2)\n",
      "plt.gcf().savefig(\"_MGDist.png\")\n",
      "\n"
     ],
     "language": "python",
     "metadata": {},
     "outputs": [
      {
       "output_type": "stream",
       "stream": "stdout",
       "text": [
        "25000\n",
        "25000"
       ]
      },
      {
       "output_type": "stream",
       "stream": "stdout",
       "text": [
        "\n",
        "25000"
       ]
      },
      {
       "output_type": "stream",
       "stream": "stdout",
       "text": [
        "\n"
       ]
      },
      {
       "metadata": {},
       "output_type": "display_data",
       "png": "[encoded data removed]",
       "text": [
        "<matplotlib.figure.Figure at 0x7fe6940a2650>"
       ]
      }
     ],
     "prompt_number": 32
    },
    {
     "cell_type": "code",
     "collapsed": false,
     "input": [
      "alldists = []\n",
      "alltimes = []\n",
      "for i,case in enumerate(holos):\n",
      "  sel1 = loos.selectAtoms(case.system,'name == \"MG\" && resid == 1002')\n",
      "  sel2 = loos.selectAtoms(case.system,'name == \"OD2\" && resid == 800')\n",
      "  #for j, run in enumerate(runs):\n",
      "  run = 1\n",
      "  idx = np.int(run)-1 # since not zero-indexes    \n",
      "  dists = pf.dodist(case,idx,sel1,sel2)\n",
      "  alldists.append(dists[:,1])\n",
      "  alltimes.append(dists[:,0])\n",
      "  plot(dists[:,0],dists[:,1],label = \"SERCA_lipid_MG_run%s\" %(i+1))\n",
      " # plot(dists[:,1],case.col,label=\"%s\"%(case.name) )\n",
      "        \n",
      "plt.xlabel(\"time [ns]\")\n",
      "plt.ylabel(\"Dist [Ang]\") \n",
      "plt.title(\"MGdist_OD2_800\")\n",
      "plt.legend(loc=2)\n",
      "plt.gcf().savefig(\"_MGDist.png\")\n",
      "\n"
     ],
     "language": "python",
     "metadata": {},
     "outputs": [
      {
       "output_type": "stream",
       "stream": "stdout",
       "text": [
        "25000\n",
        "25000"
       ]
      },
      {
       "output_type": "stream",
       "stream": "stdout",
       "text": [
        "\n",
        "25000"
       ]
      },
      {
       "output_type": "stream",
       "stream": "stdout",
       "text": [
        "\n"
       ]
      },
      {
       "metadata": {},
       "output_type": "display_data",
       "png": "[encoded data removed]",
       "text": [
        "<matplotlib.figure.Figure at 0x7fe69d7b8510>"
       ]
      }
     ],
     "prompt_number": 33
    },
    {
     "cell_type": "code",
     "collapsed": false,
     "input": [
      "alldists = []\n",
      "alltimes = []\n",
      "for i,case in enumerate(holos):\n",
      "  sel1 = loos.selectAtoms(case.system,'name == \"MG\" && resid == 1002')\n",
      "  sel2 = loos.selectAtoms(case.system,'name == \"OD1\" && resid == 796')\n",
      "  #for j, run in enumerate(runs):\n",
      "  run = 1\n",
      "  idx = np.int(run)-1 # since not zero-indexes    \n",
      "  dists = pf.dodist(case,idx,sel1,sel2)\n",
      "  alldists.append(dists[:,1])\n",
      "  alltimes.append(dists[:,0])\n",
      "  plot(dists[:,0],dists[:,1],label = \"SERCA_lipid_MG_run%s\" %(i+1))\n",
      " # plot(dists[:,1],case.col,label=\"%s\"%(case.name) )\n",
      "        \n",
      "plt.xlabel(\"time [ns]\")\n",
      "plt.ylabel(\"Dist [Ang]\") \n",
      "plt.title(\"MGdist_OD1_796\")\n",
      "plt.legend(loc=2)\n",
      "plt.gcf().savefig(\"_MGDist.png\")\n",
      "\n"
     ],
     "language": "python",
     "metadata": {},
     "outputs": [
      {
       "output_type": "stream",
       "stream": "stdout",
       "text": [
        "25000\n",
        "25000"
       ]
      },
      {
       "output_type": "stream",
       "stream": "stdout",
       "text": [
        "\n",
        "25000"
       ]
      },
      {
       "output_type": "stream",
       "stream": "stdout",
       "text": [
        "\n"
       ]
      },
      {
       "metadata": {},
       "output_type": "display_data",
       "png": "[encoded data removed]",
       "text": [
        "<matplotlib.figure.Figure at 0x7fe69c05bcd0>"
       ]
      }
     ],
     "prompt_number": 34
    },
    {
     "cell_type": "code",
     "collapsed": false,
     "input": [
      "alldists = []\n",
      "alltimes = []\n",
      "for i,case in enumerate(holos):\n",
      "  sel1 = loos.selectAtoms(case.system,'name == \"MG\" && resid == 1002')\n",
      "  sel2 = loos.selectAtoms(case.system,'name == \"OD1\" && resid == 768')\n",
      "  #for j, run in enumerate(runs):\n",
      "  run = 1\n",
      "  idx = np.int(run)-1 # since not zero-indexes    \n",
      "  dists = pf.dodist(case,idx,sel1,sel2)\n",
      "  alldists.append(dists[:,1])\n",
      "  alltimes.append(dists[:,0])\n",
      "  plot(dists[:,0],dists[:,1],label = \"SERCA_lipid_MG_run%s\" %(i+1))\n",
      " # plot(dists[:,1],case.col,label=\"%s\"%(case.name) )\n",
      "        \n",
      "plt.xlabel(\"time [ns]\")\n",
      "plt.ylabel(\"Dist [Ang]\") \n",
      "plt.title(\"MGdist_OD1_768\")\n",
      "plt.legend(loc=2)\n",
      "plt.gcf().savefig(\"_MGDist.png\")\n",
      "\n"
     ],
     "language": "python",
     "metadata": {},
     "outputs": [
      {
       "output_type": "stream",
       "stream": "stdout",
       "text": [
        "25000\n",
        "25000"
       ]
      },
      {
       "output_type": "stream",
       "stream": "stdout",
       "text": [
        "\n",
        "25000"
       ]
      },
      {
       "output_type": "stream",
       "stream": "stdout",
       "text": [
        "\n"
       ]
      },
      {
       "metadata": {},
       "output_type": "display_data",
       "png": "[encoded data removed]",
       "text": [
        "<matplotlib.figure.Figure at 0x7fe69c005ad0>"
       ]
      }
     ],
     "prompt_number": 35
    },
    {
     "cell_type": "code",
     "collapsed": false,
     "input": [
      "alldists = []\n",
      "alltimes = []\n",
      "for i,case in enumerate(holos):\n",
      "  sel1 = loos.selectAtoms(case.system,'name == \"MG\" && resid == 1002')\n",
      "  sel2 = loos.selectAtoms(case.system,'name == \"O\" && resid == 305')\n",
      "  #for j, run in enumerate(runs):\n",
      "  run = 1\n",
      "  idx = np.int(run)-1 # since not zero-indexes    \n",
      "  dists = pf.dodist(case,idx,sel1,sel2)\n",
      "  alldists.append(dists[:,1])\n",
      "  alltimes.append(dists[:,0])\n",
      "  plot(dists[:,0],dists[:,1],label = \"SERCA_lipid_MG_run%s\" %(i+1))\n",
      " # plot(dists[:,1],case.col,label=\"%s\"%(case.name) )\n",
      "        \n",
      "plt.xlabel(\"time [ns]\")\n",
      "plt.ylabel(\"Dist [Ang]\") \n",
      "plt.title(\"MGdist_O_305\")\n",
      "plt.legend(loc=2)\n",
      "plt.gcf().savefig(\"_MGDist.png\")\n",
      "\n"
     ],
     "language": "python",
     "metadata": {},
     "outputs": [
      {
       "output_type": "stream",
       "stream": "stdout",
       "text": [
        "25000\n",
        "25000"
       ]
      },
      {
       "output_type": "stream",
       "stream": "stdout",
       "text": [
        "\n",
        "25000"
       ]
      },
      {
       "output_type": "stream",
       "stream": "stdout",
       "text": [
        "\n"
       ]
      },
      {
       "metadata": {},
       "output_type": "display_data",
       "png": "[encoded data removed]",
       "text": [
        "<matplotlib.figure.Figure at 0x7fe69c011350>"
       ]
      }
     ],
     "prompt_number": 36
    },
    {
     "cell_type": "code",
     "collapsed": false,
     "input": [
      "alldists = []\n",
      "alltimes = []\n",
      "for i,case in enumerate(holos):\n",
      "  sel1 = loos.selectAtoms(case.system,'name == \"MG\" && resid == 1002')\n",
      "  sel2 = loos.selectAtoms(case.system,'name == \"OD1\" && resid == 800')\n",
      "  #for j, run in enumerate(runs):\n",
      "  run = 1\n",
      "  idx = np.int(run)-1 # since not zero-indexes    \n",
      "  dists = pf.dodist(case,idx,sel1,sel2)\n",
      "  alldists.append(dists[:,1])\n",
      "  alltimes.append(dists[:,0])\n",
      "  plot(dists[:,0],dists[:,1],label = \"SERCA_lipid_MG_run%s\" %(i+1))\n",
      " # plot(dists[:,1],case.col,label=\"%s\"%(case.name) )\n",
      "        \n",
      "plt.xlabel(\"time [ns]\")\n",
      "plt.ylabel(\"Dist [Ang]\") \n",
      "plt.title(\"MGdist_OD1_800\")\n",
      "plt.legend(loc=2)\n",
      "plt.gcf().savefig(\"_MGDist.png\")\n"
     ],
     "language": "python",
     "metadata": {},
     "outputs": [
      {
       "output_type": "stream",
       "stream": "stdout",
       "text": [
        "25000\n",
        "25000"
       ]
      },
      {
       "output_type": "stream",
       "stream": "stdout",
       "text": [
        "\n",
        "25000"
       ]
      },
      {
       "output_type": "stream",
       "stream": "stdout",
       "text": [
        "\n"
       ]
      },
      {
       "metadata": {},
       "output_type": "display_data",
       "png": "[encoded data removed]",
       "text": [
        "<matplotlib.figure.Figure at 0x7fe69c180910>"
       ]
      }
     ],
     "prompt_number": 37
    },
    {
     "cell_type": "code",
     "collapsed": false,
     "input": [
      "prefix = \"/home/AD/bdst227/namd-k-lipid/analysis/\"\n",
      "cols = [\"-\",\"-.\",\"--\"]\n",
      "\n",
      "cases = []\n",
      "caseNames = [\"step6.6_equilibration\"]\n",
      "\n",
      "# timing \n",
      "NS_PER_FRAME = 0.002 # [ns/fr] Verified \n",
      "PTRAJ_DOWNSAMPLE = 1 # Verified \n",
      "FRAME_TO_TIME = NS_PER_FRAME * PTRAJ_DOWNSAMPLE\n",
      "\n",
      "#runs = [\"1\", \"2\", \"3\"]\n",
      "runs = [\"1\"]\n",
      "\n",
      "for i, caseName in enumerate(caseNames):\n",
      "    \n",
      "   for j, run in enumerate(runs):\n",
      "        holo = empty()\n",
      "        holo.dcdFile = prefix+caseName+\"_10\"#+ run + \".dcd\"\n",
      "        holo.pdbFile = prefix+\"step5_assemblyJustProtein_10\"#+ run + \".pdb\"\n",
      "        holo.col='r'\n",
      "        holo.name = caseName#+run\n",
      "        holo.frame_to_time = FRAME_TO_TIME\n",
      "        cases.append(holo)\n",
      "        print holo.dcdFile\n",
      "\n",
      "# hack\n",
      "#apos = cases[0::2]\n",
      "holos = cases[:]\n",
      "\n",
      "import parvfuncs as pf\n",
      "pf.FRAME_TO_TIME = FRAME_TO_TIME\n",
      "pf.cols = cols"
     ],
     "language": "python",
     "metadata": {},
     "outputs": [
      {
       "output_type": "stream",
       "stream": "stdout",
       "text": [
        "/home/AD/bdst227/namd-k-lipid/analysis/step6.6_equilibration_10\n"
       ]
      }
     ],
     "prompt_number": 3
    },
    {
     "cell_type": "code",
     "collapsed": false,
     "input": [
      "for i, case in enumerate(cases):\n",
      "    case.trajs = []\n",
      "    #for j, run in enumerate(runs):\n",
      "    pdbFile = case.pdbFile+\".pdb\"\n",
      "    dcdFile = case.dcdFile+\".dcd\"\n",
      "    print \"Loading \" + dcdFile\n",
      "    case.system=loos.createSystem(pdbFile) # only loading once, since should be same across runs\n",
      "    traj=loos.createTrajectory(dcdFile,case.system)\n",
      "    case.trajs.append(traj)\n",
      "    print \"Frames for %s: %d\" %(case.name,traj.nframes())"
     ],
     "language": "python",
     "metadata": {},
     "outputs": [
      {
       "output_type": "stream",
       "stream": "stdout",
       "text": [
        "Loading /home/AD/bdst227/namd-k-lipid/analysis/step6.6_equilibration_10.dcd\n",
        "Frames for step6.6_equilibration: 100\n"
       ]
      }
     ],
     "prompt_number": 4
    },
    {
     "cell_type": "code",
     "collapsed": false,
     "input": [
      "for i, case in enumerate(cases):\n",
      "    case.trajs = []\n",
      "    for j, run in enumerate(runs):\n",
      "        print case.traj[j].nframes())"
     ],
     "language": "python",
     "metadata": {},
     "outputs": [
      {
       "ename": "SyntaxError",
       "evalue": "invalid syntax (<ipython-input-122-f5fd8c82eb2b>, line 4)",
       "output_type": "pyerr",
       "traceback": [
        "\u001b[0;36m  File \u001b[0;32m\"<ipython-input-122-f5fd8c82eb2b>\"\u001b[0;36m, line \u001b[0;32m4\u001b[0m\n\u001b[0;31m    print case.traj[j].nframes())\u001b[0m\n\u001b[0m                                ^\u001b[0m\n\u001b[0;31mSyntaxError\u001b[0m\u001b[0;31m:\u001b[0m invalid syntax\n"
       ]
      }
     ],
     "prompt_number": 122
    },
    {
     "cell_type": "code",
     "collapsed": false,
     "input": [
      "def CarbonylDensityAnalysis_BS(case,idx=0,\\\n",
      "                            loopType = \"cEF\", \n",
      "                            calIdx = 109,\n",
      "                            binMin=-1,\n",
      "                            binMax=-1,\n",
      "                            res = 0.5, # Angstroms\n",
      "                            timeStepMax = None\n",
      "                            ):\n",
      "\n",
      "    ## Make selection\n",
      "    selAllOs = loos.selectAtoms(case.system,'name=~\"O\"') # &&segid==\"PROA\"')\n",
      "    selCa = loos.selectAtoms(case.system,'name==\"POT\"&& resid==%d'%(calIdx))\n",
      "    #print selAllOs\n",
      "\n",
      "    ## compute all distancers\n",
      "    nOs = selAllOs.size()\n",
      "    #print nOs\n",
      "    if timeStepMax==None:\n",
      "    #  print \"Trajs Idx \", case.trajs[idx].nframes()\n",
      "      nTs = case.trajs[idx].nframes()\n",
      "    else:\n",
      "      nTs = timeStepMax\n",
      "      # use value passed in\n",
      "        \n",
      "    #print \"nFrame \" , nTs\n",
      "    allDists = np.zeros((nOs,nTs))\n",
      "    ts = np.zeros(nTs)\n",
      "    coordinating=[]\n",
      "    for i in range(nOs):\n",
      "        selO = selAllOs.subset(i,1)\n",
      "        dists = pf.dodist(case,idx,selO,selCa)\n",
      "       # print np.shape(dists)\n",
      "        allDists[i,:] = dists[0:nTs,1] \n",
      "        ts  = dists[0:nTs,0]\n",
      "        \n",
      "     #   singleDist = allDists[i,-1]\n",
      "     #   if singleDist < 3.0:\n",
      "     #     coordinating.append(i)  \n",
      "     #     print \"im coordinating at %f/%s Ang\"%(singleDist,\"cat\")\n",
      "     #     print selO\n",
      "       # print allDists[i,:]\n",
      "    \n",
      "    #myFile = \"case0idx%d_dists.txt\"%idx\n",
      "    #np.savetxt(myFile,allDists)\n",
      "    #myFile = \"case0idx%d_ts.txt\"%idx\n",
      "    #np.savetxt(myFile,ts)\n",
      "\n",
      "    ## get bounds for binning \n",
      "    if binMin<0:\n",
      "        binMin=np.floor(np.min(allDists))\n",
      "    if binMax<0:\n",
      "        binMax=np.ceil(np.max(allDists))\n",
      "\n",
      "    ## do binning for each O-Ca dist\n",
      "    zs=[]\n",
      "    zCs=[]\n",
      "    for i in range(nOs):\n",
      "      grid_t,grid_r,z = BinTimeSeries_BS(allDists[i,:],binMin,binMax,res=res,plot=False)#plot=True)\n",
      "      zs.append(z)\n",
      "        \n",
      "      # debug \n",
      "   #   if i in coordinating:  \n",
      "   #     grid_t,grid_r,z = BinTimeSeries_BS(allDists[i,:],binMin,binMax,res=res,plot=True)\n",
      "   #     zCs.append(z)\n",
      "\n",
      "           \n",
      "    ## display density \n",
      "    dummy=plotOxyDensity_BS(grid_t,grid_r,zs,title=loopType)\n",
      "\n",
      "    return grid_t,grid_r,zCs    \n",
      " \n"
     ],
     "language": "python",
     "metadata": {},
     "outputs": [],
     "prompt_number": 10
    },
    {
     "cell_type": "code",
     "collapsed": false,
     "input": [
      "def BinTimeSeries_BS(data,binMin,binMax,res=1.,plot=True):\n",
      "    \n",
      "    # define bins \n",
      "    nBins = np.int((1/res)*(binMax-binMin)+1)\n",
      "    bins = (np.linspace(binMin, binMax, nBins)) - 0.25\n",
      "    #print \"bins: \" , bins\n",
      "\n",
      "    \n",
      "    #digitize into bins \n",
      "    digitized = np.digitize(data, bins)\n",
      "\n",
      "    # create 2D matrix of bin versus time\n",
      "    nTs = np.shape(data)[0]\n",
      "    z=np.zeros((nBins,nTs))\n",
      "    for i in range(nBins):\n",
      "      z[i,np.where(digitized==i)]=1\n",
      "\n",
      "    # create 2D coordinates and plot\n",
      "    grid_t,grid_r = np.mgrid[0:(nTs-1):(nTs*1j),binMin:binMax:(nBins*1j)]\n",
      "    #np.shape(grid_x)\n",
      "    #pcolormesh(z)\n",
      "    if plot:\n",
      "      plt.figure()\n",
      "      plt.pcolormesh(grid_t,grid_r,z.transpose())\n",
      "    return grid_t,grid_r,z\n"
     ],
     "language": "python",
     "metadata": {},
     "outputs": [],
     "prompt_number": 6
    },
    {
     "cell_type": "code",
     "collapsed": false,
     "input": [
      "ts,rs,zs=CarbonylDensityAnalysis_BS(case, idx=idx, loopType=\"Mg to Oxy distance in run %d\"%idx, calIdx = 1002, binMax=15,\\\n",
      "                                   timeStepMax=3)"
     ],
     "language": "python",
     "metadata": {},
     "outputs": [
      {
       "output_type": "stream",
       "stream": "stdout",
       "text": [
        "25000\n",
        "25000"
       ]
      },
      {
       "output_type": "stream",
       "stream": "stdout",
       "text": [
        "\n",
        "25000"
       ]
      },
      {
       "output_type": "stream",
       "stream": "stdout",
       "text": [
        "\n",
        "25000"
       ]
      },
      {
       "output_type": "stream",
       "stream": "stdout",
       "text": [
        "\n",
        "25000"
       ]
      },
      {
       "output_type": "stream",
       "stream": "stdout",
       "text": [
        "\n",
        "25000"
       ]
      },
      {
       "output_type": "stream",
       "stream": "stdout",
       "text": [
        "\n",
        "25000"
       ]
      },
      {
       "output_type": "stream",
       "stream": "stdout",
       "text": [
        "\n",
        "25000"
       ]
      },
      {
       "output_type": "stream",
       "stream": "stdout",
       "text": [
        "\n",
        "25000"
       ]
      },
      {
       "output_type": "stream",
       "stream": "stdout",
       "text": [
        "\n",
        "25000"
       ]
      },
      {
       "output_type": "stream",
       "stream": "stdout",
       "text": [
        "\n",
        "25000"
       ]
      },
      {
       "output_type": "stream",
       "stream": "stdout",
       "text": [
        "\n",
        "25000"
       ]
      },
      {
       "output_type": "stream",
       "stream": "stdout",
       "text": [
        "\n",
        "25000"
       ]
      },
      {
       "output_type": "stream",
       "stream": "stdout",
       "text": [
        "\n",
        "25000"
       ]
      },
      {
       "output_type": "stream",
       "stream": "stdout",
       "text": [
        "\n",
        "25000"
       ]
      },
      {
       "output_type": "stream",
       "stream": "stdout",
       "text": [
        "\n",
        "25000"
       ]
      },
      {
       "output_type": "stream",
       "stream": "stdout",
       "text": [
        "\n",
        "25000"
       ]
      },
      {
       "output_type": "stream",
       "stream": "stdout",
       "text": [
        "\n",
        "25000"
       ]
      },
      {
       "output_type": "stream",
       "stream": "stdout",
       "text": [
        "\n",
        "25000"
       ]
      },
      {
       "output_type": "stream",
       "stream": "stdout",
       "text": [
        "\n",
        "25000"
       ]
      },
      {
       "output_type": "stream",
       "stream": "stdout",
       "text": [
        "\n",
        "25000"
       ]
      },
      {
       "output_type": "stream",
       "stream": "stdout",
       "text": [
        "\n",
        "25000"
       ]
      },
      {
       "output_type": "stream",
       "stream": "stdout",
       "text": [
        "\n",
        "25000"
       ]
      },
      {
       "output_type": "stream",
       "stream": "stdout",
       "text": [
        "\n",
        "25000"
       ]
      },
      {
       "output_type": "stream",
       "stream": "stdout",
       "text": [
        "\n",
        "25000"
       ]
      },
      {
       "output_type": "stream",
       "stream": "stdout",
       "text": [
        "\n",
        "25000"
       ]
      },
      {
       "output_type": "stream",
       "stream": "stdout",
       "text": [
        "\n",
        "25000"
       ]
      },
      {
       "output_type": "stream",
       "stream": "stdout",
       "text": [
        "\n",
        "25000"
       ]
      },
      {
       "output_type": "stream",
       "stream": "stdout",
       "text": [
        "\n",
        "25000"
       ]
      },
      {
       "output_type": "stream",
       "stream": "stdout",
       "text": [
        "\n",
        "25000"
       ]
      },
      {
       "output_type": "stream",
       "stream": "stdout",
       "text": [
        "\n",
        "25000"
       ]
      },
      {
       "output_type": "stream",
       "stream": "stdout",
       "text": [
        "\n",
        "25000"
       ]
      },
      {
       "output_type": "stream",
       "stream": "stdout",
       "text": [
        "\n",
        "25000"
       ]
      },
      {
       "output_type": "stream",
       "stream": "stdout",
       "text": [
        "\n",
        "25000"
       ]
      },
      {
       "output_type": "stream",
       "stream": "stdout",
       "text": [
        "\n",
        "25000"
       ]
      },
      {
       "output_type": "stream",
       "stream": "stdout",
       "text": [
        "\n",
        "25000"
       ]
      },
      {
       "output_type": "stream",
       "stream": "stdout",
       "text": [
        "\n",
        "25000"
       ]
      },
      {
       "output_type": "stream",
       "stream": "stdout",
       "text": [
        "\n",
        "25000"
       ]
      },
      {
       "output_type": "stream",
       "stream": "stdout",
       "text": [
        "\n",
        "25000"
       ]
      },
      {
       "output_type": "stream",
       "stream": "stdout",
       "text": [
        "\n",
        "25000"
       ]
      },
      {
       "output_type": "stream",
       "stream": "stdout",
       "text": [
        "\n",
        "25000"
       ]
      },
      {
       "output_type": "stream",
       "stream": "stdout",
       "text": [
        "\n",
        "25000"
       ]
      },
      {
       "output_type": "stream",
       "stream": "stdout",
       "text": [
        "\n",
        "25000"
       ]
      },
      {
       "output_type": "stream",
       "stream": "stdout",
       "text": [
        "\n",
        "25000"
       ]
      },
      {
       "output_type": "stream",
       "stream": "stdout",
       "text": [
        "\n",
        "25000"
       ]
      },
      {
       "output_type": "stream",
       "stream": "stdout",
       "text": [
        "\n",
        "25000"
       ]
      },
      {
       "output_type": "stream",
       "stream": "stdout",
       "text": [
        "\n",
        "25000"
       ]
      },
      {
       "output_type": "stream",
       "stream": "stdout",
       "text": [
        "\n",
        "25000"
       ]
      },
      {
       "output_type": "stream",
       "stream": "stdout",
       "text": [
        "\n",
        "25000"
       ]
      },
      {
       "output_type": "stream",
       "stream": "stdout",
       "text": [
        "\n",
        "25000"
       ]
      },
      {
       "output_type": "stream",
       "stream": "stdout",
       "text": [
        "\n",
        "25000"
       ]
      },
      {
       "output_type": "stream",
       "stream": "stdout",
       "text": [
        "\n",
        "25000"
       ]
      },
      {
       "output_type": "stream",
       "stream": "stdout",
       "text": [
        "\n",
        "25000"
       ]
      },
      {
       "output_type": "stream",
       "stream": "stdout",
       "text": [
        "\n",
        "25000"
       ]
      },
      {
       "output_type": "stream",
       "stream": "stdout",
       "text": [
        "\n",
        "25000"
       ]
      },
      {
       "output_type": "stream",
       "stream": "stdout",
       "text": [
        "\n",
        "25000"
       ]
      },
      {
       "output_type": "stream",
       "stream": "stdout",
       "text": [
        "\n",
        "25000"
       ]
      },
      {
       "output_type": "stream",
       "stream": "stdout",
       "text": [
        "\n",
        "6.0\n"
       ]
      },
      {
       "metadata": {},
       "output_type": "display_data",
       "png": "[encoded data removed]",
       "text": [
        "<matplotlib.figure.Figure at 0x7fe6816e7810>"
       ]
      }
     ],
     "prompt_number": 86
    },
    {
     "cell_type": "code",
     "collapsed": false,
     "input": [
      "zs=z\n",
      "print np.shape(z)\n",
      "\n",
      "# z[oxyNum,rBin,time]\n",
      "for i in range(7):\n",
      "#print (z[0])[:,0]\n",
      "  print (z[i])[:,-1]\n",
      "\n",
      "print rs    \n",
      "\n",
      "#print np.sum(zs,axis=0)[:,-1]\n",
      "newzs = []\n",
      "#newzs.append()\n",
      "print zs"
     ],
     "language": "python",
     "metadata": {},
     "outputs": [
      {
       "ename": "NameError",
       "evalue": "name 'z' is not defined",
       "output_type": "pyerr",
       "traceback": [
        "\u001b[0;31m---------------------------------------------------------------------------\u001b[0m\n\u001b[0;31mNameError\u001b[0m                                 Traceback (most recent call last)",
        "\u001b[0;32m<ipython-input-87-8c35b330979f>\u001b[0m in \u001b[0;36m<module>\u001b[0;34m()\u001b[0m\n\u001b[0;32m----> 1\u001b[0;31m \u001b[0mzs\u001b[0m\u001b[0;34m=\u001b[0m\u001b[0mz\u001b[0m\u001b[0;34m\u001b[0m\u001b[0m\n\u001b[0m\u001b[1;32m      2\u001b[0m \u001b[0;32mprint\u001b[0m \u001b[0mnp\u001b[0m\u001b[0;34m.\u001b[0m\u001b[0mshape\u001b[0m\u001b[0;34m(\u001b[0m\u001b[0mz\u001b[0m\u001b[0;34m)\u001b[0m\u001b[0;34m\u001b[0m\u001b[0m\n\u001b[1;32m      3\u001b[0m \u001b[0;34m\u001b[0m\u001b[0m\n\u001b[1;32m      4\u001b[0m \u001b[0;31m# z[oxyNum,rBin,time]\u001b[0m\u001b[0;34m\u001b[0m\u001b[0;34m\u001b[0m\u001b[0m\n\u001b[1;32m      5\u001b[0m \u001b[0;32mfor\u001b[0m \u001b[0mi\u001b[0m \u001b[0;32min\u001b[0m \u001b[0mrange\u001b[0m\u001b[0;34m(\u001b[0m\u001b[0;36m7\u001b[0m\u001b[0;34m)\u001b[0m\u001b[0;34m:\u001b[0m\u001b[0;34m\u001b[0m\u001b[0m\n",
        "\u001b[0;31mNameError\u001b[0m: name 'z' is not defined"
       ]
      }
     ],
     "prompt_number": 87
    },
    {
     "cell_type": "code",
     "collapsed": false,
     "input": [
      "ar = np.sum(zs,axis=0)\n",
      "histo = np.sum(ar,axis=1)\n",
      "print ar.T\n",
      "print histo\n",
      "\n",
      "np.shape(zs)\n",
      "v = np.zeros((7,29,3))\n",
      "v[0,2,:] = 6\n",
      "#print v\n",
      "\n",
      "\n",
      "l=plotOxyDensity_BS(ts,rs,v,nCalCoord=1.,ylimMax=7.)"
     ],
     "language": "python",
     "metadata": {},
     "outputs": [
      {
       "ename": "ValueError",
       "evalue": "'axis' entry is out of bounds",
       "output_type": "pyerr",
       "traceback": [
        "\u001b[0;31m---------------------------------------------------------------------------\u001b[0m\n\u001b[0;31mValueError\u001b[0m                                Traceback (most recent call last)",
        "\u001b[0;32m<ipython-input-88-778a8e526fa5>\u001b[0m in \u001b[0;36m<module>\u001b[0;34m()\u001b[0m\n\u001b[1;32m      1\u001b[0m \u001b[0mar\u001b[0m \u001b[0;34m=\u001b[0m \u001b[0mnp\u001b[0m\u001b[0;34m.\u001b[0m\u001b[0msum\u001b[0m\u001b[0;34m(\u001b[0m\u001b[0mzs\u001b[0m\u001b[0;34m,\u001b[0m\u001b[0maxis\u001b[0m\u001b[0;34m=\u001b[0m\u001b[0;36m0\u001b[0m\u001b[0;34m)\u001b[0m\u001b[0;34m\u001b[0m\u001b[0m\n\u001b[0;32m----> 2\u001b[0;31m \u001b[0mhisto\u001b[0m \u001b[0;34m=\u001b[0m \u001b[0mnp\u001b[0m\u001b[0;34m.\u001b[0m\u001b[0msum\u001b[0m\u001b[0;34m(\u001b[0m\u001b[0mar\u001b[0m\u001b[0;34m,\u001b[0m\u001b[0maxis\u001b[0m\u001b[0;34m=\u001b[0m\u001b[0;36m1\u001b[0m\u001b[0;34m)\u001b[0m\u001b[0;34m\u001b[0m\u001b[0m\n\u001b[0m\u001b[1;32m      3\u001b[0m \u001b[0;32mprint\u001b[0m \u001b[0mar\u001b[0m\u001b[0;34m.\u001b[0m\u001b[0mT\u001b[0m\u001b[0;34m\u001b[0m\u001b[0m\n\u001b[1;32m      4\u001b[0m \u001b[0;32mprint\u001b[0m \u001b[0mhisto\u001b[0m\u001b[0;34m\u001b[0m\u001b[0m\n\u001b[1;32m      5\u001b[0m \u001b[0;34m\u001b[0m\u001b[0m\n",
        "\u001b[0;32m/usr/lib/python2.7/dist-packages/numpy/core/fromnumeric.pyc\u001b[0m in \u001b[0;36msum\u001b[0;34m(a, axis, dtype, out, keepdims)\u001b[0m\n\u001b[1;32m   1709\u001b[0m                                 out=out, keepdims=keepdims)\n\u001b[1;32m   1710\u001b[0m         \u001b[0;31m# NOTE: Dropping the keepdims parameters here...\u001b[0m\u001b[0;34m\u001b[0m\u001b[0;34m\u001b[0m\u001b[0m\n\u001b[0;32m-> 1711\u001b[0;31m         \u001b[0;32mreturn\u001b[0m \u001b[0msum\u001b[0m\u001b[0;34m(\u001b[0m\u001b[0maxis\u001b[0m\u001b[0;34m=\u001b[0m\u001b[0maxis\u001b[0m\u001b[0;34m,\u001b[0m \u001b[0mdtype\u001b[0m\u001b[0;34m=\u001b[0m\u001b[0mdtype\u001b[0m\u001b[0;34m,\u001b[0m \u001b[0mout\u001b[0m\u001b[0;34m=\u001b[0m\u001b[0mout\u001b[0m\u001b[0;34m)\u001b[0m\u001b[0;34m\u001b[0m\u001b[0m\n\u001b[0m\u001b[1;32m   1712\u001b[0m     \u001b[0;32melse\u001b[0m\u001b[0;34m:\u001b[0m\u001b[0;34m\u001b[0m\u001b[0m\n\u001b[1;32m   1713\u001b[0m         return _methods._sum(a, axis=axis, dtype=dtype,\n",
        "\u001b[0;32m/usr/lib/python2.7/dist-packages/numpy/core/_methods.pyc\u001b[0m in \u001b[0;36m_sum\u001b[0;34m(a, axis, dtype, out, keepdims)\u001b[0m\n\u001b[1;32m     23\u001b[0m \u001b[0;32mdef\u001b[0m \u001b[0m_sum\u001b[0m\u001b[0;34m(\u001b[0m\u001b[0ma\u001b[0m\u001b[0;34m,\u001b[0m \u001b[0maxis\u001b[0m\u001b[0;34m=\u001b[0m\u001b[0mNone\u001b[0m\u001b[0;34m,\u001b[0m \u001b[0mdtype\u001b[0m\u001b[0;34m=\u001b[0m\u001b[0mNone\u001b[0m\u001b[0;34m,\u001b[0m \u001b[0mout\u001b[0m\u001b[0;34m=\u001b[0m\u001b[0mNone\u001b[0m\u001b[0;34m,\u001b[0m \u001b[0mkeepdims\u001b[0m\u001b[0;34m=\u001b[0m\u001b[0mFalse\u001b[0m\u001b[0;34m)\u001b[0m\u001b[0;34m:\u001b[0m\u001b[0;34m\u001b[0m\u001b[0m\n\u001b[1;32m     24\u001b[0m     return um.add.reduce(a, axis=axis, dtype=dtype,\n\u001b[0;32m---> 25\u001b[0;31m                             out=out, keepdims=keepdims)\n\u001b[0m\u001b[1;32m     26\u001b[0m \u001b[0;34m\u001b[0m\u001b[0m\n\u001b[1;32m     27\u001b[0m \u001b[0;32mdef\u001b[0m \u001b[0m_prod\u001b[0m\u001b[0;34m(\u001b[0m\u001b[0ma\u001b[0m\u001b[0;34m,\u001b[0m \u001b[0maxis\u001b[0m\u001b[0;34m=\u001b[0m\u001b[0mNone\u001b[0m\u001b[0;34m,\u001b[0m \u001b[0mdtype\u001b[0m\u001b[0;34m=\u001b[0m\u001b[0mNone\u001b[0m\u001b[0;34m,\u001b[0m \u001b[0mout\u001b[0m\u001b[0;34m=\u001b[0m\u001b[0mNone\u001b[0m\u001b[0;34m,\u001b[0m \u001b[0mkeepdims\u001b[0m\u001b[0;34m=\u001b[0m\u001b[0mFalse\u001b[0m\u001b[0;34m)\u001b[0m\u001b[0;34m:\u001b[0m\u001b[0;34m\u001b[0m\u001b[0m\n",
        "\u001b[0;31mValueError\u001b[0m: 'axis' entry is out of bounds"
       ]
      }
     ],
     "prompt_number": 88
    },
    {
     "cell_type": "code",
     "collapsed": false,
     "input": [
      "def plotOxyDensity_BS(grid_t, grid_r, zs, title = \"NONE\",nCalCoord = 6.,ylimMax=1.):\n",
      "      xlimLim = [0,12]\n",
      "      frames_to_time = 0.002\n",
      "      print nCalCoord\n",
      "      scaleByCoordinationNumber = 1 / nCalCoord\n",
      "      ylimLim = [0,ylimMax]\n",
      "  \n",
      "      ar = np.sum(zs,axis=0)\n",
      "\n",
      "      \n",
      "        \n",
      "      # density plot \n",
      "      plt.subplot(211)\n",
      "      plt.tight_layout()\n",
      "      plt.title(title)\n",
      "      plt.xlabel(\"Time (ns)\",fontsize=14, weight=\"bold\")\n",
      "      plt.ylabel(\"K/O \\n distance [A]\",fontsize=14, weight=\"bold\")\n",
      "      plt.pcolormesh(grid_t * frames_to_time,grid_r,ar.transpose())\n",
      "      plt.colorbar()\n",
      "      plt.clim([0,nCalCoord])\n",
      "      plt.ylim([0,12])\n",
      "\n",
      "      # histogram plot\n",
      "      plt.subplot(212)\n",
      "      plt.tight_layout()\n",
      "      plt.xlabel(\"K/O distance [A]\",fontsize=14, weight=\"bold\")\n",
      "      plt.ylabel(\"Radial \\n Distribution\",fontsize=14, weight=\"bold\") \n",
      "      histo=np.sum(ar,axis=1)\n",
      "      nTs  = np.shape(ar)[1]\n",
      "      plt.plot(grid_r[0,:],histo/nTs,'-o')\n",
      "      plt.tight_layout()\n",
      "      plt.xlim([0,12])\n",
      "      plt.ylim([0,7])\n",
      "     \n",
      "     # output=np.column_stack((grid_r[0,:],ar))  \n",
      "      ar_title=\"ar_\"+title+\".txt\"\n",
      "      np.savetxt(ar_title,ar)\n",
      "          \n",
      "      plt.gcf().savefig(title+\".png\")\n",
      "        \n",
      "      # save data \n",
      "      l = np.mean(ar,axis=1) #Same as summing up and averaging over nTs.  See above.\n",
      "      s = np.std(ar,axis=1)\n",
      "      j = np.zeros([np.shape(l)[0],3])\n",
      "      j[:,0] = grid_r[0,:]\n",
      "      j[:,1] = l\n",
      "      j[:,2] = s\n",
      "\n",
      "      np.savetxt(title + \".txt\",j)\n",
      "      return ar\n"
     ],
     "language": "python",
     "metadata": {},
     "outputs": [],
     "prompt_number": 25
    },
    {
     "cell_type": "code",
     "collapsed": false,
     "input": [
      "for i, case in enumerate(cases):\n",
      "    for j, run in enumerate(runs):\n",
      "        idx = np.int(run)-1\n",
      "        plt.figure()\n",
      "        CarbonylDensityAnalysis_BS(case, idx=idx, loopType=\"K1_to_Oxy_distance_in_run_1\", calIdx = 1106, binMax=15)"
     ],
     "language": "python",
     "metadata": {},
     "outputs": [
      {
       "output_type": "stream",
       "stream": "stdout",
       "text": [
        "100\n",
        "100\n",
        "100\n",
        "100\n",
        "100\n",
        "100\n",
        "100\n",
        "100"
       ]
      },
      {
       "output_type": "stream",
       "stream": "stdout",
       "text": [
        "\n",
        "100\n",
        "100\n",
        "100\n",
        "100\n",
        "100\n",
        "100\n",
        "100\n",
        "100"
       ]
      },
      {
       "output_type": "stream",
       "stream": "stdout",
       "text": [
        "\n",
        "100\n",
        "100\n",
        "100\n",
        "100\n",
        "100\n",
        "100\n",
        "100\n",
        "100\n",
        "100\n",
        "100"
       ]
      },
      {
       "output_type": "stream",
       "stream": "stdout",
       "text": [
        "\n",
        "100\n",
        "100\n",
        "100\n",
        "100\n",
        "100\n",
        "100\n",
        "100\n",
        "100\n",
        "100\n",
        "100\n",
        "100\n",
        "100"
       ]
      },
      {
       "output_type": "stream",
       "stream": "stdout",
       "text": [
        "\n",
        "100\n",
        "100\n",
        "100\n",
        "100\n",
        "100\n",
        "100\n",
        "100\n",
        "100\n",
        "100\n",
        "100\n",
        "100\n",
        "100\n",
        "100"
       ]
      },
      {
       "output_type": "stream",
       "stream": "stdout",
       "text": [
        "\n",
        "100\n",
        "100\n",
        "100\n",
        "100\n",
        "100\n",
        "100\n",
        "100\n",
        "100\n",
        "100\n",
        "100\n",
        "100\n",
        "100\n",
        "100"
       ]
      },
      {
       "output_type": "stream",
       "stream": "stdout",
       "text": [
        "\n",
        "100\n",
        "100\n",
        "100\n",
        "100\n",
        "100\n",
        "100\n",
        "100\n",
        "100\n",
        "100\n",
        "100\n",
        "100\n",
        "6.0"
       ]
      },
      {
       "output_type": "stream",
       "stream": "stdout",
       "text": [
        "\n"
       ]
      },
      {
       "metadata": {},
       "output_type": "display_data",
       "png": "[encoded data removed]",
       "text": [
        "<matplotlib.figure.Figure at 0x7ff8fd5115d0>"
       ]
      }
     ],
     "prompt_number": 26
    },
    {
     "cell_type": "code",
     "collapsed": false,
     "input": [
      "#for i, case in enumerate(cases):\n",
      "#   for j, run in enumerate(runs):\n",
      "run=1\n",
      "idx = 0#np.int(run)-1\n",
      "plt.figure()\n",
      "CarbonylDensityAnalysis_BS(case, idx=idx, loopType=\"K2_to_Oxy_distance_in_run_1\", calIdx = 1107, binMax=15)"
     ],
     "language": "python",
     "metadata": {},
     "outputs": [
      {
       "output_type": "stream",
       "stream": "stdout",
       "text": [
        "100\n",
        "100\n",
        "100\n",
        "100\n",
        "100\n",
        "100\n",
        "100\n",
        "100"
       ]
      },
      {
       "output_type": "stream",
       "stream": "stdout",
       "text": [
        "\n",
        "100\n",
        "100\n",
        "100\n",
        "100\n",
        "100\n",
        "100\n",
        "100"
       ]
      },
      {
       "output_type": "stream",
       "stream": "stdout",
       "text": [
        "\n",
        "100\n",
        "100\n",
        "100\n",
        "100\n",
        "100\n",
        "100\n",
        "100\n",
        "100\n",
        "100\n",
        "100"
       ]
      },
      {
       "output_type": "stream",
       "stream": "stdout",
       "text": [
        "\n",
        "100\n",
        "100\n",
        "100\n",
        "100\n",
        "100\n",
        "100\n",
        "100\n",
        "100\n",
        "100\n",
        "100\n",
        "100\n",
        "100"
       ]
      },
      {
       "output_type": "stream",
       "stream": "stdout",
       "text": [
        "\n",
        "100\n",
        "100\n",
        "100\n",
        "100\n",
        "100\n",
        "100\n",
        "100\n",
        "100\n",
        "100\n",
        "100\n",
        "100\n",
        "100\n",
        "100"
       ]
      },
      {
       "output_type": "stream",
       "stream": "stdout",
       "text": [
        "\n",
        "100\n",
        "100\n",
        "100\n",
        "100\n",
        "100\n",
        "100\n",
        "100\n",
        "100\n",
        "100\n",
        "100\n",
        "100\n",
        "100\n",
        "100"
       ]
      },
      {
       "output_type": "stream",
       "stream": "stdout",
       "text": [
        "\n",
        "100\n",
        "100\n",
        "100\n",
        "100\n",
        "100\n",
        "100\n",
        "100\n",
        "100\n",
        "100\n",
        "100\n",
        "100\n",
        "100\n",
        "6.0"
       ]
      },
      {
       "output_type": "stream",
       "stream": "stdout",
       "text": [
        "\n"
       ]
      },
      {
       "metadata": {},
       "output_type": "pyout",
       "prompt_number": 27,
       "text": [
        "(array([[  0.,   0.,   0., ...,   0.,   0.,   0.],\n",
        "        [  1.,   1.,   1., ...,   1.,   1.,   1.],\n",
        "        [  2.,   2.,   2., ...,   2.,   2.,   2.],\n",
        "        ..., \n",
        "        [ 97.,  97.,  97., ...,  97.,  97.,  97.],\n",
        "        [ 98.,  98.,  98., ...,  98.,  98.,  98.],\n",
        "        [ 99.,  99.,  99., ...,  99.,  99.,  99.]]),\n",
        " array([[  0. ,   0.5,   1. , ...,  14. ,  14.5,  15. ],\n",
        "        [  0. ,   0.5,   1. , ...,  14. ,  14.5,  15. ],\n",
        "        [  0. ,   0.5,   1. , ...,  14. ,  14.5,  15. ],\n",
        "        ..., \n",
        "        [  0. ,   0.5,   1. , ...,  14. ,  14.5,  15. ],\n",
        "        [  0. ,   0.5,   1. , ...,  14. ,  14.5,  15. ],\n",
        "        [  0. ,   0.5,   1. , ...,  14. ,  14.5,  15. ]]),\n",
        " [])"
       ]
      },
      {
       "metadata": {},
       "output_type": "display_data",
       "png": "[encoded data removed]",
       "text": [
        "<matplotlib.figure.Figure at 0x7ff8fd821050>"
       ]
      }
     ],
     "prompt_number": 27
    },
    {
     "cell_type": "code",
     "collapsed": false,
     "input": [
      "run=2\n",
      "idx = 0#np.int(run)-1\n",
      "plt.figure()\n",
      "CarbonylDensityAnalysis_BS(case, idx=idx, loopType=\"Mg to Oxy distance in run 2\", calIdx = 1002, binMax=15)"
     ],
     "language": "python",
     "metadata": {},
     "outputs": [
      {
       "output_type": "stream",
       "stream": "stdout",
       "text": [
        "25000\n",
        "25000"
       ]
      },
      {
       "output_type": "stream",
       "stream": "stdout",
       "text": [
        "\n",
        "25000"
       ]
      },
      {
       "output_type": "stream",
       "stream": "stdout",
       "text": [
        "\n",
        "25000"
       ]
      },
      {
       "output_type": "stream",
       "stream": "stdout",
       "text": [
        "\n",
        "25000"
       ]
      },
      {
       "output_type": "stream",
       "stream": "stdout",
       "text": [
        "\n",
        "25000"
       ]
      },
      {
       "output_type": "stream",
       "stream": "stdout",
       "text": [
        "\n",
        "25000"
       ]
      },
      {
       "output_type": "stream",
       "stream": "stdout",
       "text": [
        "\n",
        "25000"
       ]
      },
      {
       "output_type": "stream",
       "stream": "stdout",
       "text": [
        "\n",
        "25000"
       ]
      },
      {
       "output_type": "stream",
       "stream": "stdout",
       "text": [
        "\n",
        "25000"
       ]
      },
      {
       "output_type": "stream",
       "stream": "stdout",
       "text": [
        "\n",
        "25000"
       ]
      },
      {
       "output_type": "stream",
       "stream": "stdout",
       "text": [
        "\n",
        "25000"
       ]
      },
      {
       "output_type": "stream",
       "stream": "stdout",
       "text": [
        "\n",
        "25000"
       ]
      },
      {
       "output_type": "stream",
       "stream": "stdout",
       "text": [
        "\n",
        "25000"
       ]
      },
      {
       "output_type": "stream",
       "stream": "stdout",
       "text": [
        "\n",
        "25000"
       ]
      },
      {
       "output_type": "stream",
       "stream": "stdout",
       "text": [
        "\n",
        "25000"
       ]
      },
      {
       "output_type": "stream",
       "stream": "stdout",
       "text": [
        "\n",
        "25000"
       ]
      },
      {
       "output_type": "stream",
       "stream": "stdout",
       "text": [
        "\n",
        "25000"
       ]
      },
      {
       "output_type": "stream",
       "stream": "stdout",
       "text": [
        "\n",
        "25000"
       ]
      },
      {
       "output_type": "stream",
       "stream": "stdout",
       "text": [
        "\n",
        "25000"
       ]
      },
      {
       "output_type": "stream",
       "stream": "stdout",
       "text": [
        "\n",
        "25000"
       ]
      },
      {
       "output_type": "stream",
       "stream": "stdout",
       "text": [
        "\n",
        "25000"
       ]
      },
      {
       "output_type": "stream",
       "stream": "stdout",
       "text": [
        "\n",
        "25000"
       ]
      },
      {
       "output_type": "stream",
       "stream": "stdout",
       "text": [
        "\n",
        "25000"
       ]
      },
      {
       "output_type": "stream",
       "stream": "stdout",
       "text": [
        "\n",
        "25000"
       ]
      },
      {
       "output_type": "stream",
       "stream": "stdout",
       "text": [
        "\n",
        "25000"
       ]
      },
      {
       "output_type": "stream",
       "stream": "stdout",
       "text": [
        "\n",
        "25000"
       ]
      },
      {
       "output_type": "stream",
       "stream": "stdout",
       "text": [
        "\n",
        "25000"
       ]
      },
      {
       "output_type": "stream",
       "stream": "stdout",
       "text": [
        "\n",
        "25000"
       ]
      },
      {
       "output_type": "stream",
       "stream": "stdout",
       "text": [
        "\n",
        "25000"
       ]
      },
      {
       "output_type": "stream",
       "stream": "stdout",
       "text": [
        "\n",
        "25000"
       ]
      },
      {
       "output_type": "stream",
       "stream": "stdout",
       "text": [
        "\n",
        "25000"
       ]
      },
      {
       "output_type": "stream",
       "stream": "stdout",
       "text": [
        "\n",
        "25000"
       ]
      },
      {
       "output_type": "stream",
       "stream": "stdout",
       "text": [
        "\n",
        "25000"
       ]
      },
      {
       "output_type": "stream",
       "stream": "stdout",
       "text": [
        "\n",
        "25000"
       ]
      },
      {
       "output_type": "stream",
       "stream": "stdout",
       "text": [
        "\n",
        "25000"
       ]
      },
      {
       "output_type": "stream",
       "stream": "stdout",
       "text": [
        "\n",
        "25000"
       ]
      },
      {
       "output_type": "stream",
       "stream": "stdout",
       "text": [
        "\n",
        "25000"
       ]
      },
      {
       "output_type": "stream",
       "stream": "stdout",
       "text": [
        "\n",
        "25000"
       ]
      },
      {
       "output_type": "stream",
       "stream": "stdout",
       "text": [
        "\n",
        "25000"
       ]
      },
      {
       "output_type": "stream",
       "stream": "stdout",
       "text": [
        "\n",
        "25000"
       ]
      },
      {
       "output_type": "stream",
       "stream": "stdout",
       "text": [
        "\n",
        "25000"
       ]
      },
      {
       "output_type": "stream",
       "stream": "stdout",
       "text": [
        "\n",
        "25000"
       ]
      },
      {
       "output_type": "stream",
       "stream": "stdout",
       "text": [
        "\n",
        "25000"
       ]
      },
      {
       "output_type": "stream",
       "stream": "stdout",
       "text": [
        "\n",
        "25000"
       ]
      },
      {
       "output_type": "stream",
       "stream": "stdout",
       "text": [
        "\n",
        "25000"
       ]
      },
      {
       "output_type": "stream",
       "stream": "stdout",
       "text": [
        "\n",
        "25000"
       ]
      },
      {
       "output_type": "stream",
       "stream": "stdout",
       "text": [
        "\n",
        "25000"
       ]
      },
      {
       "output_type": "stream",
       "stream": "stdout",
       "text": [
        "\n",
        "25000"
       ]
      },
      {
       "output_type": "stream",
       "stream": "stdout",
       "text": [
        "\n",
        "25000"
       ]
      },
      {
       "output_type": "stream",
       "stream": "stdout",
       "text": [
        "\n",
        "25000"
       ]
      },
      {
       "output_type": "stream",
       "stream": "stdout",
       "text": [
        "\n",
        "25000"
       ]
      },
      {
       "output_type": "stream",
       "stream": "stdout",
       "text": [
        "\n",
        "25000"
       ]
      },
      {
       "output_type": "stream",
       "stream": "stdout",
       "text": [
        "\n",
        "25000"
       ]
      },
      {
       "output_type": "stream",
       "stream": "stdout",
       "text": [
        "\n",
        "25000"
       ]
      },
      {
       "output_type": "stream",
       "stream": "stdout",
       "text": [
        "\n",
        "25000"
       ]
      },
      {
       "output_type": "stream",
       "stream": "stdout",
       "text": [
        "\n",
        "25000"
       ]
      },
      {
       "output_type": "stream",
       "stream": "stdout",
       "text": [
        "\n",
        "6.0"
       ]
      },
      {
       "output_type": "stream",
       "stream": "stdout",
       "text": [
        "\n"
       ]
      },
      {
       "metadata": {},
       "output_type": "pyout",
       "prompt_number": 168,
       "text": [
        "(array([[  0.00000000e+00,   0.00000000e+00,   0.00000000e+00, ...,\n",
        "           0.00000000e+00,   0.00000000e+00,   0.00000000e+00],\n",
        "        [  1.00000000e+00,   1.00000000e+00,   1.00000000e+00, ...,\n",
        "           1.00000000e+00,   1.00000000e+00,   1.00000000e+00],\n",
        "        [  2.00000000e+00,   2.00000000e+00,   2.00000000e+00, ...,\n",
        "           2.00000000e+00,   2.00000000e+00,   2.00000000e+00],\n",
        "        ..., \n",
        "        [  2.49970000e+04,   2.49970000e+04,   2.49970000e+04, ...,\n",
        "           2.49970000e+04,   2.49970000e+04,   2.49970000e+04],\n",
        "        [  2.49980000e+04,   2.49980000e+04,   2.49980000e+04, ...,\n",
        "           2.49980000e+04,   2.49980000e+04,   2.49980000e+04],\n",
        "        [  2.49990000e+04,   2.49990000e+04,   2.49990000e+04, ...,\n",
        "           2.49990000e+04,   2.49990000e+04,   2.49990000e+04]]),\n",
        " array([[  1. ,   1.5,   2. , ...,  14. ,  14.5,  15. ],\n",
        "        [  1. ,   1.5,   2. , ...,  14. ,  14.5,  15. ],\n",
        "        [  1. ,   1.5,   2. , ...,  14. ,  14.5,  15. ],\n",
        "        ..., \n",
        "        [  1. ,   1.5,   2. , ...,  14. ,  14.5,  15. ],\n",
        "        [  1. ,   1.5,   2. , ...,  14. ,  14.5,  15. ],\n",
        "        [  1. ,   1.5,   2. , ...,  14. ,  14.5,  15. ]]),\n",
        " [])"
       ]
      },
      {
       "metadata": {},
       "output_type": "display_data",
       "png": "[encoded data removed]",
       "text": [
        "<matplotlib.figure.Figure at 0x7fe683fa1a90>"
       ]
      }
     ],
     "prompt_number": 168
    },
    {
     "cell_type": "code",
     "collapsed": false,
     "input": [
      "run=3\n",
      "idx = 0#np.int(run)-1\n",
      "plt.figure()\n",
      "CarbonylDensityAnalysis_BS(case, idx=idx, loopType=\"Mg to Oxy distance in run 3\", calIdx = 1002, binMax=15)"
     ],
     "language": "python",
     "metadata": {},
     "outputs": [
      {
       "output_type": "stream",
       "stream": "stdout",
       "text": [
        "25000\n",
        "25000"
       ]
      },
      {
       "output_type": "stream",
       "stream": "stdout",
       "text": [
        "\n",
        "25000"
       ]
      },
      {
       "output_type": "stream",
       "stream": "stdout",
       "text": [
        "\n",
        "25000"
       ]
      },
      {
       "output_type": "stream",
       "stream": "stdout",
       "text": [
        "\n",
        "25000"
       ]
      },
      {
       "output_type": "stream",
       "stream": "stdout",
       "text": [
        "\n",
        "25000"
       ]
      },
      {
       "output_type": "stream",
       "stream": "stdout",
       "text": [
        "\n",
        "25000"
       ]
      },
      {
       "output_type": "stream",
       "stream": "stdout",
       "text": [
        "\n",
        "25000"
       ]
      },
      {
       "output_type": "stream",
       "stream": "stdout",
       "text": [
        "\n",
        "25000"
       ]
      },
      {
       "output_type": "stream",
       "stream": "stdout",
       "text": [
        "\n",
        "25000"
       ]
      },
      {
       "output_type": "stream",
       "stream": "stdout",
       "text": [
        "\n",
        "25000"
       ]
      },
      {
       "output_type": "stream",
       "stream": "stdout",
       "text": [
        "\n",
        "25000"
       ]
      },
      {
       "output_type": "stream",
       "stream": "stdout",
       "text": [
        "\n",
        "25000"
       ]
      },
      {
       "output_type": "stream",
       "stream": "stdout",
       "text": [
        "\n",
        "25000"
       ]
      },
      {
       "output_type": "stream",
       "stream": "stdout",
       "text": [
        "\n",
        "25000"
       ]
      },
      {
       "output_type": "stream",
       "stream": "stdout",
       "text": [
        "\n",
        "25000"
       ]
      },
      {
       "output_type": "stream",
       "stream": "stdout",
       "text": [
        "\n",
        "25000"
       ]
      },
      {
       "output_type": "stream",
       "stream": "stdout",
       "text": [
        "\n",
        "25000"
       ]
      },
      {
       "output_type": "stream",
       "stream": "stdout",
       "text": [
        "\n",
        "25000"
       ]
      },
      {
       "output_type": "stream",
       "stream": "stdout",
       "text": [
        "\n",
        "25000"
       ]
      },
      {
       "output_type": "stream",
       "stream": "stdout",
       "text": [
        "\n",
        "25000"
       ]
      },
      {
       "output_type": "stream",
       "stream": "stdout",
       "text": [
        "\n",
        "25000"
       ]
      },
      {
       "output_type": "stream",
       "stream": "stdout",
       "text": [
        "\n",
        "25000"
       ]
      },
      {
       "output_type": "stream",
       "stream": "stdout",
       "text": [
        "\n",
        "25000"
       ]
      },
      {
       "output_type": "stream",
       "stream": "stdout",
       "text": [
        "\n",
        "25000"
       ]
      },
      {
       "output_type": "stream",
       "stream": "stdout",
       "text": [
        "\n",
        "25000"
       ]
      },
      {
       "output_type": "stream",
       "stream": "stdout",
       "text": [
        "\n",
        "25000"
       ]
      },
      {
       "output_type": "stream",
       "stream": "stdout",
       "text": [
        "\n",
        "25000"
       ]
      },
      {
       "output_type": "stream",
       "stream": "stdout",
       "text": [
        "\n",
        "25000"
       ]
      },
      {
       "output_type": "stream",
       "stream": "stdout",
       "text": [
        "\n",
        "25000"
       ]
      },
      {
       "output_type": "stream",
       "stream": "stdout",
       "text": [
        "\n",
        "25000"
       ]
      },
      {
       "output_type": "stream",
       "stream": "stdout",
       "text": [
        "\n",
        "25000"
       ]
      },
      {
       "output_type": "stream",
       "stream": "stdout",
       "text": [
        "\n",
        "25000"
       ]
      },
      {
       "output_type": "stream",
       "stream": "stdout",
       "text": [
        "\n",
        "25000"
       ]
      },
      {
       "output_type": "stream",
       "stream": "stdout",
       "text": [
        "\n",
        "25000"
       ]
      },
      {
       "output_type": "stream",
       "stream": "stdout",
       "text": [
        "\n",
        "25000"
       ]
      },
      {
       "output_type": "stream",
       "stream": "stdout",
       "text": [
        "\n",
        "25000"
       ]
      },
      {
       "output_type": "stream",
       "stream": "stdout",
       "text": [
        "\n",
        "25000"
       ]
      },
      {
       "output_type": "stream",
       "stream": "stdout",
       "text": [
        "\n",
        "25000"
       ]
      },
      {
       "output_type": "stream",
       "stream": "stdout",
       "text": [
        "\n",
        "25000"
       ]
      },
      {
       "output_type": "stream",
       "stream": "stdout",
       "text": [
        "\n",
        "25000"
       ]
      },
      {
       "output_type": "stream",
       "stream": "stdout",
       "text": [
        "\n",
        "25000"
       ]
      },
      {
       "output_type": "stream",
       "stream": "stdout",
       "text": [
        "\n",
        "25000"
       ]
      },
      {
       "output_type": "stream",
       "stream": "stdout",
       "text": [
        "\n",
        "25000"
       ]
      },
      {
       "output_type": "stream",
       "stream": "stdout",
       "text": [
        "\n",
        "25000"
       ]
      },
      {
       "output_type": "stream",
       "stream": "stdout",
       "text": [
        "\n",
        "25000"
       ]
      },
      {
       "output_type": "stream",
       "stream": "stdout",
       "text": [
        "\n",
        "25000"
       ]
      },
      {
       "output_type": "stream",
       "stream": "stdout",
       "text": [
        "\n",
        "25000"
       ]
      },
      {
       "output_type": "stream",
       "stream": "stdout",
       "text": [
        "\n",
        "25000"
       ]
      },
      {
       "output_type": "stream",
       "stream": "stdout",
       "text": [
        "\n",
        "25000"
       ]
      },
      {
       "output_type": "stream",
       "stream": "stdout",
       "text": [
        "\n",
        "25000"
       ]
      },
      {
       "output_type": "stream",
       "stream": "stdout",
       "text": [
        "\n",
        "25000"
       ]
      },
      {
       "output_type": "stream",
       "stream": "stdout",
       "text": [
        "\n",
        "25000"
       ]
      },
      {
       "output_type": "stream",
       "stream": "stdout",
       "text": [
        "\n",
        "25000"
       ]
      },
      {
       "output_type": "stream",
       "stream": "stdout",
       "text": [
        "\n",
        "25000"
       ]
      },
      {
       "output_type": "stream",
       "stream": "stdout",
       "text": [
        "\n",
        "25000"
       ]
      },
      {
       "output_type": "stream",
       "stream": "stdout",
       "text": [
        "\n",
        "25000"
       ]
      },
      {
       "output_type": "stream",
       "stream": "stdout",
       "text": [
        "\n",
        "6.0"
       ]
      },
      {
       "output_type": "stream",
       "stream": "stdout",
       "text": [
        "\n"
       ]
      },
      {
       "metadata": {},
       "output_type": "pyout",
       "prompt_number": 162,
       "text": [
        "(array([[  0.00000000e+00,   0.00000000e+00,   0.00000000e+00, ...,\n",
        "           0.00000000e+00,   0.00000000e+00,   0.00000000e+00],\n",
        "        [  1.00000000e+00,   1.00000000e+00,   1.00000000e+00, ...,\n",
        "           1.00000000e+00,   1.00000000e+00,   1.00000000e+00],\n",
        "        [  2.00000000e+00,   2.00000000e+00,   2.00000000e+00, ...,\n",
        "           2.00000000e+00,   2.00000000e+00,   2.00000000e+00],\n",
        "        ..., \n",
        "        [  2.49970000e+04,   2.49970000e+04,   2.49970000e+04, ...,\n",
        "           2.49970000e+04,   2.49970000e+04,   2.49970000e+04],\n",
        "        [  2.49980000e+04,   2.49980000e+04,   2.49980000e+04, ...,\n",
        "           2.49980000e+04,   2.49980000e+04,   2.49980000e+04],\n",
        "        [  2.49990000e+04,   2.49990000e+04,   2.49990000e+04, ...,\n",
        "           2.49990000e+04,   2.49990000e+04,   2.49990000e+04]]),\n",
        " array([[  1. ,   1.5,   2. , ...,  14. ,  14.5,  15. ],\n",
        "        [  1. ,   1.5,   2. , ...,  14. ,  14.5,  15. ],\n",
        "        [  1. ,   1.5,   2. , ...,  14. ,  14.5,  15. ],\n",
        "        ..., \n",
        "        [  1. ,   1.5,   2. , ...,  14. ,  14.5,  15. ],\n",
        "        [  1. ,   1.5,   2. , ...,  14. ,  14.5,  15. ],\n",
        "        [  1. ,   1.5,   2. , ...,  14. ,  14.5,  15. ]]),\n",
        " [])"
       ]
      },
      {
       "metadata": {},
       "output_type": "display_data",
       "png": "[encoded data removed]",
       "text": [
        "<matplotlib.figure.Figure at 0x7fe6861603d0>"
       ]
      }
     ],
     "prompt_number": 162
    },
    {
     "cell_type": "code",
     "collapsed": false,
     "input": [],
     "language": "python",
     "metadata": {},
     "outputs": []
    }
   ],
   "metadata": {}
  }
 ]
}