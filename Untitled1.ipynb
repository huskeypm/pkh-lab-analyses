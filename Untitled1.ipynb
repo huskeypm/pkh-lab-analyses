{
 "metadata": {
  "name": "",
  "signature": "sha256:7c835113990c2fac73346e56065c99b6b7743087feb7261687d2d8d692a2732c"
 },
 "nbformat": 3,
 "nbformat_minor": 0,
 "worksheets": [
  {
   "cells": [
    {
     "cell_type": "code",
     "collapsed": false,
     "input": [
      "from dolfin import *\n",
      "import numpy as np\n",
      "import matplotlib.pyplot as plt\n",
      "from scipy.interpolate import griddata\n",
      "import sys"
     ],
     "language": "python",
     "metadata": {},
     "outputs": [],
     "prompt_number": 11
    },
    {
     "cell_type": "code",
     "collapsed": false,
     "input": [
      "msg = \"\"\"\n",
      "Try to write the script to solve Poisson-Nernst-Planck equation\n",
      "\"\"\""
     ],
     "language": "python",
     "metadata": {},
     "outputs": [],
     "prompt_number": 12
    },
    {
     "cell_type": "markdown",
     "metadata": {},
     "source": [
      "$$-\\epsilon \\epsilon_{r}\\nabla^2 \\psi = \\sum c_{i}z{i} $$   \n",
      "$$ J_{i} = -D (\\nabla c + \\beta c \\nabla \\psi ) $$ $$( \\beta = \\frac{q}{kT}) $$"
     ]
    },
    {
     "cell_type": "markdown",
     "metadata": {},
     "source": [
      "for eqation 1, we will use the linearized PB equation : $$ \\nabla^2 \\psi = \\kappa^2 \\psi$$"
     ]
    },
    {
     "cell_type": "code",
     "collapsed": false,
     "input": [
      "class params:\n",
      "    def __init__(self):\n",
      "        self.eco4pieps = 14.384e3\n",
      "        self.kT = 0.593 \n",
      "        self.beta = 1/self.kT\n",
      "        self.ec = 8.854187817e-12\n",
      "        self.epsilonExterior = 80\n",
      "        self.lambdaB = 7 # Bjerrum length [A]\n",
      "        \n",
      "        F = 96485.3365 # Faradays constant [C/mol]\n",
      "        R = 8.3143 # Gas constabt\n",
      "        T = 298 \n",
      "        \n",
      "        self.dim = 2\n",
      "        self.molRad = 20\n",
      "        self.molMarker = 1\n",
      "        self.domMarker = 2\n",
      "        self.epsError = 0.001\n",
      "        \n",
      "        self.zLig = 1 # Now only consider cation \n",
      "        self.zProt = -3\n",
      "        self.ionC = 0.150 # unit [M]\n",
      "        self.ionRad = 2 # unit [A], actually not used in this simulation\n",
      "    def changeionC(self,newC):\n",
      "        self.ionC = newC\n",
      "    def update(self):\n",
      "        self.center = np.zeros(self.dim)\n",
      "        self.kappa = 0.328 *np.sqrt(self.ionC)\n",
      "        self.ikappa = 1/self.kappa"
     ],
     "language": "python",
     "metadata": {},
     "outputs": [],
     "prompt_number": 13
    },
    {
     "cell_type": "code",
     "collapsed": false,
     "input": [
      "parms = params()\n",
      "parms.update()"
     ],
     "language": "python",
     "metadata": {},
     "outputs": [],
     "prompt_number": 14
    },
    {
     "cell_type": "code",
     "collapsed": false,
     "input": [
      "print parms.kappa, parms.ikappa"
     ],
     "language": "python",
     "metadata": {},
     "outputs": [
      {
       "output_type": "stream",
       "stream": "stdout",
       "text": [
        "0.127033853756 7.87191737034\n"
       ]
      }
     ],
     "prompt_number": 10
    },
    {
     "cell_type": "code",
     "collapsed": false,
     "input": [
      "# the meshfile \n",
      "fileIn = \"/home/AD/bsu233/hustscripts/FEniCS/pb/firsttest/t1.xml\""
     ],
     "language": "python",
     "metadata": {},
     "outputs": [],
     "prompt_number": 15
    },
    {
     "cell_type": "code",
     "collapsed": false,
     "input": [
      "mesh = Mesh(fileIn)\n",
      "print mesh.coordinates()"
     ],
     "language": "python",
     "metadata": {},
     "outputs": [
      {
       "output_type": "stream",
       "stream": "stdout",
       "text": [
        "[[-0.5        -0.5       ]\n",
        " [ 0.5        -0.5       ]\n",
        " [ 0.5         0.5       ]\n",
        " ..., \n",
        " [-0.08562252  0.12175979]\n",
        " [-0.2638399   0.1411925 ]\n",
        " [ 0.08168232 -0.06451452]]\n"
       ]
      }
     ],
     "prompt_number": 20
    },
    {
     "cell_type": "code",
     "collapsed": false,
     "input": [
      "# no define debye-huckel expression\n",
      "def DebyeHuckel(dim=2):\n",
      "    "
     ],
     "language": "python",
     "metadata": {},
     "outputs": [
      {
       "ename": "IndentationError",
       "evalue": "expected an indented block (<ipython-input-21-85f1c32057fd>, line 2)",
       "output_type": "pyerr",
       "traceback": [
        "\u001b[0;36m  File \u001b[0;32m\"<ipython-input-21-85f1c32057fd>\"\u001b[0;36m, line \u001b[0;32m2\u001b[0m\n\u001b[0;31m    def DebyeHuckel(dim=2):\u001b[0m\n\u001b[0m                           ^\u001b[0m\n\u001b[0;31mIndentationError\u001b[0m\u001b[0;31m:\u001b[0m expected an indented block\n"
       ]
      }
     ],
     "prompt_number": 21
    },
    {
     "cell_type": "code",
     "collapsed": false,
     "input": [],
     "language": "python",
     "metadata": {},
     "outputs": []
    },
    {
     "cell_type": "code",
     "collapsed": false,
     "input": [],
     "language": "python",
     "metadata": {},
     "outputs": []
    },
    {
     "cell_type": "code",
     "collapsed": false,
     "input": [],
     "language": "python",
     "metadata": {},
     "outputs": []
    },
    {
     "cell_type": "code",
     "collapsed": false,
     "input": [],
     "language": "python",
     "metadata": {},
     "outputs": []
    },
    {
     "cell_type": "code",
     "collapsed": false,
     "input": [],
     "language": "python",
     "metadata": {},
     "outputs": []
    }
   ],
   "metadata": {}
  }
 ]
}