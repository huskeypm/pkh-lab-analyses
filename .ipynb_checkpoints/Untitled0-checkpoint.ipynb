{
 "metadata": {
  "name": "",
  "signature": "sha256:8ef8bd51bc49c2fe944b4ac4b0b58a643556c1164047e3d2a1de8f9453e7315c"
 },
 "nbformat": 3,
 "nbformat_minor": 0,
 "worksheets": []
}