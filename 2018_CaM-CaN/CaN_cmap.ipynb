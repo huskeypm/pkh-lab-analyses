{
 "cells": [
  {
   "cell_type": "code",
   "execution_count": 1,
   "metadata": {},
   "outputs": [],
   "source": [
    "%matplotlib inline\n",
    "import numpy as np\n",
    "import matplotlib.pylab as plt\n",
    "from pylab import rcParams\n",
    "rcParams['figure.figsize'] = 3,2.75\n",
    "rcParams['savefig.dpi'] = 300"
   ]
  },
  {
   "cell_type": "code",
   "execution_count": 66,
   "metadata": {},
   "outputs": [],
   "source": [
    "# for pCaN, reasign the residue number\n",
    "#file=\"/net/share/bsu233/CaM/Con_bding_kinetes/microsecondMD/0.15M/pCaN/newtraj/nativecontacts/aa/newmap\"\n",
    "\n",
    "#file=\"/net/share/bsu233/CaM/Con_bding_kinetes/microsecondMD/1.5M/lpcCaN/newtraj/nativecontacts/nonnative.cmap\"\n",
    "file = '/net/share/bsu233/CaM/Con_bding_kinetes/microsecondMD/0.15M/pCaN/three/nativecontacts/newmap'\n",
    "data=np.genfromtxt(file,comments=\"#\",usecols=[2])\n",
    "#DD=list(\"RSAFRRTDLAGAGRRTDDSHED\")\n",
    "#SS=list(\"RSAFRRTSLAGAGRRTSDSHED\")\n",
    "#axiss=np.arange(22)\n",
    "#print (axiss)\n",
    "data = data.reshape(34,34)\n",
    "#print (data)"
   ]
  },
  {
   "cell_type": "code",
   "execution_count": 67,
   "metadata": {},
   "outputs": [],
   "source": [
    "#data=data.reshape(22,22)"
   ]
  },
  {
   "cell_type": "code",
   "execution_count": 68,
   "metadata": {},
   "outputs": [],
   "source": [
    "#for i, k in enumerate(zip(axiss,DD)):\n",
    " #   print (k)\n",
    "\n",
    "#aa=np.zeros((22,22))\n",
    "#for i in np.arange(22):\n",
    "#    for j in np.arange(22):\n",
    "#        aa[i,21-j]=data[i,j]"
   ]
  },
  {
   "cell_type": "code",
   "execution_count": null,
   "metadata": {},
   "outputs": [],
   "source": []
  },
  {
   "cell_type": "code",
   "execution_count": 69,
   "metadata": {},
   "outputs": [
    {
     "name": "stdout",
     "output_type": "stream",
     "text": [
      "[ 0  4  8 12 16 20 24 28 32]\n"
     ]
    }
   ],
   "source": [
    "position=np.arange(0,34,4) \n",
    "print (position)\n"
   ]
  },
  {
   "cell_type": "code",
   "execution_count": 70,
   "metadata": {},
   "outputs": [
    {
     "data": {
      "image/png": "[encoded data removed]",
      "text/plain": [
       "<matplotlib.figure.Figure at 0x7f03572a6908>"
      ]
     },
     "metadata": {},
     "output_type": "display_data"
    }
   ],
   "source": [
    "#position=np.arange(0,28,4)\n",
    "xdistance=position+1\n",
    "ygr=position+1\n",
    "from matplotlib.colors import LinearSegmentedColormap\n",
    "vmax = 40\n",
    "cmap = LinearSegmentedColormap.from_list('mycmap',[(0, 'w'),(0.33, 'aqua'),(0.66, 'yellow'),(1, 'r')])\n",
    "#rcParams['savefig.size']=3,2.75\n",
    "\n",
    "#from matplotlib import rc\n",
    "#rc('text',usetex=True)\n",
    "\n",
    "plt.imshow(data,cmap=cmap,interpolation=\"none\",vmin=0.0, vmax=40)\n",
    "plt.xlabel(\"Residue Numbers\", fontsize=12)\n",
    "plt.ylabel('Residue Numbers', fontsize=12)\n",
    "plt.xticks(position,xdistance,fontsize=10)\n",
    "plt.title(r'pCaN-traj 3',fontsize=15)\n",
    "plt.yticks(position,ygr,fontsize=10)\n",
    "ax = plt.gca()\n",
    "ax.set_ylim(ax.get_ylim()[::-1])\n",
    "cax=plt.colorbar().ax\n",
    "#cax.cticks(position,position)\n",
    "cax.tick_params(labelsize=12)\n",
    "\n",
    "plt.savefig('pCaN-traj 3.png')\n",
    "#print (aa[0,21])\n"
   ]
  },
  {
   "cell_type": "code",
   "execution_count": 76,
   "metadata": {
    "collapsed": true
   },
   "outputs": [],
   "source": []
  },
  {
   "cell_type": "code",
   "execution_count": null,
   "metadata": {
    "collapsed": true
   },
   "outputs": [],
   "source": []
  }
 ],
 "metadata": {
  "kernelspec": {
   "display_name": "Python 3",
   "language": "python",
   "name": "python3"
  },
  "language_info": {
   "codemirror_mode": {
    "name": "ipython",
    "version": 3
   },
   "file_extension": ".py",
   "mimetype": "text/x-python",
   "name": "python",
   "nbconvert_exporter": "python",
   "pygments_lexer": "ipython3",
   "version": "3.6.4"
  }
 },
 "nbformat": 4,
 "nbformat_minor": 1
}
