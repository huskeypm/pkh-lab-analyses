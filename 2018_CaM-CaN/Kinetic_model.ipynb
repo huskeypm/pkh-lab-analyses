{
 "metadata": {
  "name": "",
  "signature": "sha256:aa22b84e3a808710d11b69e0ff19972c1f69906fbb577ef4d807d80f49b6f182"
 },
 "nbformat": 3,
 "nbformat_minor": 0,
 "worksheets": [
  {
   "cells": [
    {
     "cell_type": "code",
     "collapsed": false,
     "input": [
      "from pynoramix import *\n"
     ],
     "language": "python",
     "metadata": {},
     "outputs": [],
     "prompt_number": 1
    },
    {
     "cell_type": "code",
     "collapsed": false,
     "input": [
      "trajfile = \"/home/AD/bsu233/RG.dat\"\n"
     ],
     "language": "python",
     "metadata": {},
     "outputs": [],
     "prompt_number": 2
    },
    {
     "cell_type": "code",
     "collapsed": false,
     "input": [
      "kin_test = kinetic_1D_analysis('/home/AD/bsu233/RG.dat',1) "
     ],
     "language": "python",
     "metadata": {},
     "outputs": [
      {
       "output_type": "stream",
       "stream": "stdout",
       "text": [
        "# Loaded:\n",
        "#  150000 frames, 1 particles, 1 dimensions.\n"
       ]
      }
     ],
     "prompt_number": 3
    },
    {
     "cell_type": "code",
     "collapsed": false,
     "input": [
      "print kin_test.traj.min(), kin_test.traj.max(),kin_test.traj.mean()"
     ],
     "language": "python",
     "metadata": {},
     "outputs": [
      {
       "output_type": "stream",
       "stream": "stdout",
       "text": [
        "7.8075 19.8827 9.52288474333\n"
       ]
      }
     ],
     "prompt_number": 4
    },
    {
     "cell_type": "code",
     "collapsed": false,
     "input": [],
     "language": "python",
     "metadata": {},
     "outputs": [],
     "prompt_number": 4
    },
    {
     "cell_type": "code",
     "collapsed": false,
     "input": [],
     "language": "python",
     "metadata": {},
     "outputs": [],
     "prompt_number": 4
    },
    {
     "cell_type": "code",
     "collapsed": false,
     "input": [],
     "language": "python",
     "metadata": {},
     "outputs": [],
     "prompt_number": 4
    },
    {
     "cell_type": "code",
     "collapsed": false,
     "input": [
      "kin_test.traj_clusters=[]\n",
      "for xx in kin_test.traj[:]:\n",
      "    if xx >=11.5 and xx <= 16.3:\n",
      "        kin_test.traj_clusters.append(1)\n",
      "    else:\n",
      "        kin_test.traj_clusters.append(0)"
     ],
     "language": "python",
     "metadata": {},
     "outputs": [],
     "prompt_number": 5
    },
    {
     "cell_type": "code",
     "collapsed": false,
     "input": [],
     "language": "python",
     "metadata": {},
     "outputs": [],
     "prompt_number": 5
    },
    {
     "cell_type": "code",
     "collapsed": false,
     "input": [
      "kin_test.kinetic_network(traj='clusters',verbose=True)"
     ],
     "language": "python",
     "metadata": {},
     "outputs": [
      {
       "output_type": "stream",
       "stream": "stdout",
       "text": [
        "# Network:\n",
        "# 2 nodes\n",
        "# 4 links out\n",
        "# 149999.0 total weight nodes\n"
       ]
      }
     ],
     "prompt_number": 6
    },
    {
     "cell_type": "code",
     "collapsed": false,
     "input": [
      "kin_test.network_clusters.symmetrize(new=False,verbose=True)"
     ],
     "language": "python",
     "metadata": {},
     "outputs": [
      {
       "output_type": "stream",
       "stream": "stdout",
       "text": [
        "# Network:\n",
        "# 2 nodes\n",
        "# 4 links out\n",
        "# 149999.0 total weight nodes\n"
       ]
      }
     ],
     "prompt_number": 7
    },
    {
     "cell_type": "code",
     "collapsed": false,
     "input": [
      "for ii in range(2):\n",
      "    ww = kin_test.network_clusters.node[ii].weight\n",
      "    for jj in range(2):\n",
      "            if ii != jj :\n",
      "                print 'P'+str(jj)+str(ii)+\"=\",kin_test.network_clusters.node[ii].link[jj]/ww"
     ],
     "language": "python",
     "metadata": {},
     "outputs": [
      {
       "output_type": "stream",
       "stream": "stdout",
       "text": [
        "P10= 0.0237237194462\n",
        "P01= 0.347304764884\n"
       ]
      }
     ],
     "prompt_number": 8
    },
    {
     "cell_type": "code",
     "collapsed": false,
     "input": [
      "ww = kin_test.network_clusters.weight\n",
      "for ii in range(2):\n",
      "    print \"P\"+str(ii)+'^s=',kin_test.network_clusters.node[ii].weight/ww"
     ],
     "language": "python",
     "metadata": {},
     "outputs": [
      {
       "output_type": "stream",
       "stream": "stdout",
       "text": [
        "P0^s= 0.93605957373\n",
        "P1^s= 0.0639404262695\n"
       ]
      }
     ],
     "prompt_number": 9
    },
    {
     "cell_type": "code",
     "collapsed": false,
     "input": [
      "ltx_1,lty_1 = kin_test.life_time(traj='clusters',state=0,norm=True,verbose=True)"
     ],
     "language": "python",
     "metadata": {},
     "outputs": [
      {
       "output_type": "stream",
       "stream": "stdout",
       "text": [
        "# Mean life time: 42.0192134494 frames.\n"
       ]
      }
     ],
     "prompt_number": 10
    },
    {
     "cell_type": "code",
     "collapsed": false,
     "input": [
      "ltx_2,lty_2 = kin_test.life_time(traj='clusters',state=1,norm=True,verbose=True)\n",
      "print ltx_2,lty_2"
     ],
     "language": "python",
     "metadata": {},
     "outputs": [
      {
       "output_type": "stream",
       "stream": "stdout",
       "text": [
        "# Mean life time: 2.87931552086 frames.\n",
        "[  1.   2.   3.   4.   5.   6.   7.   8.   9.  10.  11.  12.  13.  14.  15.\n",
        "  16.  17.  18.  19.  20.  21.  22.  23.  24.  25.  26.  27.  28.  29.  32.\n",
        "  33.  45.] [  1.63799395e-01   6.77718695e-02   3.51371077e-02   2.26253780e-02\n",
        "   1.33458451e-02   1.09477635e-02   7.61130226e-03   6.04733604e-03\n",
        "   5.10895631e-03   2.39808153e-03   2.39808153e-03   2.18955271e-03\n",
        "   8.34115316e-04   1.66823063e-03   9.38379731e-04   8.34115316e-04\n",
        "   1.04264415e-04   5.21322073e-04   3.12793244e-04   5.21322073e-04\n",
        "   3.12793244e-04   3.12793244e-04   1.04264415e-04   1.04264415e-04\n",
        "   2.08528829e-04   1.04264415e-04   2.08528829e-04   2.08528829e-04\n",
        "   1.04264415e-04   3.12793244e-04   1.04264415e-04   1.04264415e-04]\n"
       ]
      }
     ],
     "prompt_number": 11
    },
    {
     "cell_type": "code",
     "collapsed": false,
     "input": [
      "from matplotlib import pylab\n",
      "\n",
      "pylab.plot(ltx_2,lty_2,\"r-\")\n",
      "pylab.yscale('log')\n",
      "pylab.xscale('log')"
     ],
     "language": "python",
     "metadata": {},
     "outputs": [],
     "prompt_number": 12
    },
    {
     "cell_type": "code",
     "collapsed": false,
     "input": [
      "pylab.show()"
     ],
     "language": "python",
     "metadata": {},
     "outputs": [],
     "prompt_number": 13
    },
    {
     "cell_type": "code",
     "collapsed": false,
     "input": [
      "print ltx_2"
     ],
     "language": "python",
     "metadata": {},
     "outputs": [
      {
       "output_type": "stream",
       "stream": "stdout",
       "text": [
        "[  1.   2.   3.   4.   5.   6.   7.   8.   9.  10.  11.  12.  13.  14.  15.\n",
        "  16.  17.  18.  19.  20.  21.  22.  23.  24.  25.  26.  27.  28.  29.  32.\n",
        "  33.  45.]\n"
       ]
      }
     ],
     "prompt_number": 30
    },
    {
     "cell_type": "code",
     "collapsed": false,
     "input": [
      "print lty_2"
     ],
     "language": "python",
     "metadata": {},
     "outputs": [
      {
       "output_type": "stream",
       "stream": "stdout",
       "text": [
        "[  1.63799395e-01   6.77718695e-02   3.51371077e-02   2.26253780e-02\n",
        "   1.33458451e-02   1.09477635e-02   7.61130226e-03   6.04733604e-03\n",
        "   5.10895631e-03   2.39808153e-03   2.39808153e-03   2.18955271e-03\n",
        "   8.34115316e-04   1.66823063e-03   9.38379731e-04   8.34115316e-04\n",
        "   1.04264415e-04   5.21322073e-04   3.12793244e-04   5.21322073e-04\n",
        "   3.12793244e-04   3.12793244e-04   1.04264415e-04   1.04264415e-04\n",
        "   2.08528829e-04   1.04264415e-04   2.08528829e-04   2.08528829e-04\n",
        "   1.04264415e-04   3.12793244e-04   1.04264415e-04   1.04264415e-04]\n"
       ]
      }
     ],
     "prompt_number": 31
    },
    {
     "cell_type": "code",
     "collapsed": false,
     "input": [],
     "language": "python",
     "metadata": {},
     "outputs": []
    }
   ],
   "metadata": {}
  }
 ]
}