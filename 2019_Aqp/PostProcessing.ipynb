{
 "cells": [
  {
   "cell_type": "code",
   "execution_count": 1,
   "metadata": {
    "collapsed": true
   },
   "outputs": [],
   "source": [
    "import numpy as np\n",
    "import matplotlib.pyplot as plt\n",
    "%matplotlib inline"
   ]
  },
  {
   "cell_type": "code",
   "execution_count": 2,
   "metadata": {
    "collapsed": true
   },
   "outputs": [],
   "source": [
    "fileList =[]\n",
    "import glob, os\n",
    "for file in glob.glob(\"*.txt\"):\n",
    "    fileList.append(file)"
   ]
  },
  {
   "cell_type": "code",
   "execution_count": 3,
   "metadata": {
    "collapsed": true
   },
   "outputs": [],
   "source": [
    "nm=1e-9\n",
    "noAQs = []\n",
    "noAQ = {}\n",
    "AQs = []\n",
    "AQ = {}\n",
    "AQ2 = {} \n",
    "AQ3 = {}\n",
    "noAQvals = []\n",
    "noAQvals2 = []\n",
    "for item in fileList:\n",
    "    if item[0] == 'n':\n",
    "        noAQs.append(item)\n",
    "        f = open(item,'r')\n",
    "        search=f.readlines()\n",
    "        f.close()\n",
    "        val = search[0][5:]\n",
    "        val2 = search[1][5:]\n",
    "        noAQ['{}'.format(item[5])] = float(val)/nm\n",
    "        noAQvals.append(float(val)/nm)\n",
    "        noAQvals2.append(float(val2)/nm)\n",
    "    else:\n",
    "        AQs.append(item)\n",
    "        AQ['{}'.format(item[3])] ={}\n",
    "        AQ2['{}'.format(item[3])] ={}\n",
    "        AQ3['{}'.format(item[3])] ={}\n",
    "        \n",
    "\n",
    "for item in AQs:\n",
    "    L,R = item.split(\".\")\n",
    "    num1 = L[3]\n",
    "    f = open(item,\"r\")\n",
    "    search = f.readlines()\n",
    "    f.close()\n",
    "    val = search[0][5:]\n",
    "    val2 = search[1][5:]\n",
    "    val3 = search[2][8:]\n",
    "    AQ['{}'.format(str(num1))]=float(val)/nm\n",
    "    AQ2['{}'.format(str(num1))]=float(val2)/nm\n",
    "    AQ3['{}'.format(str(num1))]=float(val3)\n",
    "    \n",
    "AQkeys = AQ.keys()\n",
    "\n"
   ]
  },
  {
   "cell_type": "code",
   "execution_count": 4,
   "metadata": {},
   "outputs": [
    {
     "name": "stdout",
     "output_type": "stream",
     "text": [
      "{'3': 0.197738752095, '5': 0.164419473368, '4': 0.176505772214, '7': 0.11684078988299998, '6': 0.14550856983699997, '8': 0.09625001044119999}\n",
      "['3', '5', '4', '7', '6', '8']\n"
     ]
    }
   ],
   "source": [
    "### So I want to compare noAQ to AQ with the same # of pores across all charges\n",
    "print AQ\n",
    "print AQ.keys()"
   ]
  },
  {
   "cell_type": "code",
   "execution_count": null,
   "metadata": {
    "collapsed": true
   },
   "outputs": [],
   "source": []
  },
  {
   "cell_type": "code",
   "execution_count": 5,
   "metadata": {
    "collapsed": true
   },
   "outputs": [],
   "source": [
    "### From notebook \"Priyesh_update\"\n",
    "\n",
    "D_experimental_aqp = np.mean([5.84054089e-07, 4.55903537e-07, 3.03720426e-07, 3.17304903e-07])*1e5\n",
    "D_exp_aqp =[]\n",
    "D_experimental = np.mean([1.34204016e-06, 8.07443611e-07, 9.38828308e-07, 1.33036245e-06])*1e5\n",
    "D_exp =[]\n",
    "\n",
    "for i in range(6):\n",
    "    D_exp.append(D_experimental)\n",
    "    D_exp_aqp.append(D_experimental_aqp)\n",
    "    \n",
    "\n"
   ]
  },
  {
   "cell_type": "code",
   "execution_count": 6,
   "metadata": {
    "collapsed": true
   },
   "outputs": [],
   "source": [
    "xs = []\n",
    "ys=[]\n",
    "y2=[]\n",
    "ys2 = []\n",
    "y3=[]\n",
    "count =1\n",
    "for key in sorted(AQ.iterkeys()):\n",
    "    xs.append(float(key)**2/100)\n",
    "    ys.append((AQ['{}'.format(key)])/2)\n",
    "\n",
    "z= np.polyfit(xs,ys,3)\n",
    "fittedCurve = np.poly1d(z)"
   ]
  },
  {
   "cell_type": "code",
   "execution_count": 8,
   "metadata": {},
   "outputs": [
    {
     "data": {
      "text/plain": [
       "<Figure size 3000x2000 with 0 Axes>"
      ]
     },
     "metadata": {},
     "output_type": "display_data"
    },
    {
     "data": {
      "image/png": "[encoded data removed]",
      "text/plain": [
       "<Figure size 432x288 with 1 Axes>"
      ]
     },
     "metadata": {},
     "output_type": "display_data"
    }
   ],
   "source": [
    "plt.figure(dpi=500)\n",
    "fig, ax1 = plt.subplots()\n",
    "\n",
    "ax1.plot(xs,D_exp,'k--',label=\"Experimental diffusivity PBI/PVA\")\n",
    "ax1.plot(xs,D_exp_aqp, 'k', label=\"Experimental difffusivity PBI/PVA-Aqp\")\n",
    "ax1.plot(xs,ys[:],'b.',label=\"PBI/PVA-Aqp (sim)\")\n",
    "\n",
    "ax1.plot(xs,fittedCurve(xs),'b',label='Model fit')\n",
    "plt.ylim(0,np.max(ys)+.02)\n",
    "ax1.set_ylabel(r\"$Effective diffusivity ( \\frac{m^2}{s} * 1e9)$\")\n",
    "ax1.set_xlabel(\"Packing fraction of AQP\")\n",
    "plt.axvline(x=0.64,color='r', label = \"Estimate of surface occluded\")\n",
    "\n",
    "ax1.legend(bbox_to_anchor=(0., 0.05, 1.75, 0),loc=4)\n",
    "fig.savefig(\"figure11.png\", dpi=300) \n",
    "\n",
    "\n",
    "\n",
    "\n",
    "\n",
    "\n"
   ]
  },
  {
   "cell_type": "code",
   "execution_count": null,
   "metadata": {
    "collapsed": true
   },
   "outputs": [],
   "source": []
  }
 ],
 "metadata": {
  "kernelspec": {
   "display_name": "Python 2",
   "language": "python",
   "name": "python2"
  },
  "language_info": {
   "codemirror_mode": {
    "name": "ipython",
    "version": 2
   },
   "file_extension": ".py",
   "mimetype": "text/x-python",
   "name": "python",
   "nbconvert_exporter": "python",
   "pygments_lexer": "ipython2",
   "version": "2.7.12"
  }
 },
 "nbformat": 4,
 "nbformat_minor": 2
}
