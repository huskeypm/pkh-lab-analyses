{
 "metadata": {
  "name": "",
  "signature": "sha256:4e60157fc7f5176445eaebd0ff1a752fc604768d984b26229be1af944a9ba8c4"
 },
 "nbformat": 3,
 "nbformat_minor": 0,
 "worksheets": [
  {
   "cells": [
    {
     "cell_type": "code",
     "collapsed": false,
     "input": [
      "%load_ext autoreload\n",
      "%autoreload 2\n"
     ],
     "language": "python",
     "metadata": {},
     "outputs": [],
     "prompt_number": 1
    },
    {
     "cell_type": "code",
     "collapsed": false,
     "input": [
      "import sys\n",
      "sys.path.append(\"/home/AD/pmke226/sources/\")\n",
      "sys.path.append(\"/home/AD/pmke226/sources/modified-pb/example/\")\n",
      "import poissonboltzmann as pb \n"
     ],
     "language": "python",
     "metadata": {},
     "outputs": [],
     "prompt_number": 8
    },
    {
     "cell_type": "code",
     "collapsed": false,
     "input": [
      "dir(pb.params())"
     ],
     "language": "python",
     "metadata": {},
     "outputs": [
      {
       "metadata": {},
       "output_type": "pyout",
       "prompt_number": 9,
       "text": [
        "['F_o_RT',\n",
        " 'J_TO_KCAL',\n",
        " 'M_TO_ANG',\n",
        " 'RT_o_F',\n",
        " 'V0',\n",
        " '__doc__',\n",
        " '__init__',\n",
        " '__module__',\n",
        " 'beta',\n",
        " 'dim',\n",
        " 'domMarker',\n",
        " 'domRad',\n",
        " 'ec',\n",
        " 'eco4pieps',\n",
        " 'epsError',\n",
        " 'epsilonExterior',\n",
        " 'ionC',\n",
        " 'ionRad',\n",
        " 'kT',\n",
        " 'lambdaB',\n",
        " 'mode',\n",
        " 'molMarker',\n",
        " 'molRad',\n",
        " 'sigma',\n",
        " 'update',\n",
        " 'zLig',\n",
        " 'zProt']"
       ]
      }
     ],
     "prompt_number": 9
    },
    {
     "cell_type": "code",
     "collapsed": false,
     "input": [
      "import poissonboltzmann as pb \n",
      "import numpy as np\n",
      "\n",
      "parms = pb.parms\n",
      "parms.res =4 \n",
      "parms.sigma = -0.01 # C/m^2  -0.005\n",
      "#parms.V0 = -19.2 # mV\n",
      "eps0 = 8.85418e-12 # F/m\n",
      "epsf = 78.5\n",
      "R = 8.31  # J/mol/K\n",
      "T = 298   # K\n",
      "\n",
      "F = 96485.3365  # C/mol\n",
      "\n",
      "#parms.ionC2 = np.array([500])*1e-3\n",
      "\n",
      "parms.ionC2 = np.array([5, 7, 10, 20, 30, 50, 70, 100, 500, 1000 ])*1e-3\n",
      "\n",
      "LambdaDs = np.sqrt((eps0*epsf*R*T)/(2*F*F*parms.ionC2*1e3)) # EDL thickness nm .\n",
      "parms.pot = (parms.sigma*LambdaDs)/(eps0*epsf) # graham eq.\n",
      "#parms.ionC = np.array([50.0e-3,150.0e-3]) # (no lower, since otherwise Grahame invalid) mol/m^3 --> M\n",
      "\n",
      "#parms.ionC = 50 *1e-3\n",
      "#print parms.ionC\n",
      "kappa = 1/LambdaDs\n",
      "print \"surface potentials (mV)=\", parms.pot"
     ],
     "language": "python",
     "metadata": {},
     "outputs": [
      {
       "output_type": "stream",
       "stream": "stdout",
       "text": [
        "surface potentials (mV)= [-0.06186405 -0.05228466 -0.04374449 -0.03093202 -0.02525589 -0.01956313\n",
        " -0.01653386 -0.01383322 -0.0061864  -0.00437445]\n"
       ]
      }
     ],
     "prompt_number": 10
    },
    {
     "cell_type": "code",
     "collapsed": false,
     "input": [
      "import MC\n",
      "length = 600 # box size\n",
      "radGyr = 30.  # crowders size\n",
      "comAvg = 100. # distance between centers of mass [A]\n",
      "keep=1\n",
      "\n",
      "H = (comAvg - 2*radGyr)*1e-10   # real spacing between crowders\n",
      "\n",
      "print \"H (m) =\", H \n",
      "\n",
      "# locs/radScale=0 for uniform meshes\n",
      "passingLocs, passingRads = MC.GenLocsRads(\n",
      "  length=length,  \n",
      "  keep=keep,\n",
      "  ptsPerSide=False, # if False, we compute ptsPerSide based on box length and comAvg\n",
      "  ptRad = radGyr,\n",
      "  comDist = comAvg,\n",
      "  uniform=True     # randomly distribute particles if False, uniform mesh if True\n",
      ")\n",
      "\n",
      "N = len(passingRads[0])  # number of crowders inside the box\n",
      "print \"N=\", N\n",
      "#print \"Volume Fraction\",volFracs\n",
      "\n",
      "#passingLocs"
     ],
     "language": "python",
     "metadata": {},
     "outputs": [
      {
       "output_type": "stream",
       "stream": "stdout",
       "text": [
        "H (m) = 4e-09\n",
        "PtsPerSide 6.000000 L/D 6.000000\n",
        "(36, 2)\n",
        "(36,)\n",
        "(36,)\n",
        "Found 1 Keeping 1 (of 1 requested)\n",
        "[0]\n",
        "N= 36\n"
       ]
      }
     ],
     "prompt_number": 11
    },
    {
     "cell_type": "code",
     "collapsed": false,
     "input": [
      "import runLattice as rL\n",
      "\n",
      "#parms.ionC2 = np.array([1, 2])*1e-3\n",
      "#parms.ionC2 = np.array([1, 2, 3, 4, 5, 10, 12, 14, 16, 20, 30, 40, 50, 60, 70, 80, 90, 100, 200, 300, 400, 500, 1000 ])*1e-3\n",
      "#print parms.ionC2\n",
      "\n",
      "parms.zLig = -1. \n",
      "res = 3 # mesh refinement; bigger is coarser\n",
      "\n",
      "dxsNegs_list = []\n",
      "\n",
      "for i in range(len(parms.ionC2)):\n",
      "    \n",
      "    parms.ionC = parms.ionC2[i]\n",
      "    \n",
      "    dxsNeg,volFracs = rL.runLatticeNonUnif(passingLocs,passingRads,length,pb=pb,res=res)\n",
      "    dxsNegs_list.append(dxsNeg)  \n",
      "\n",
      "dxsNegs_list = np.squeeze(np.asarray(dxsNegs_list))\n"
     ],
     "language": "python",
     "metadata": {},
     "outputs": [
      {
       "output_type": "stream",
       "stream": "stdout",
       "text": [
        "Running on kafka using dolfin version 1.5.0\n",
        "Running on kafka using dolfin version 1.5.0\n",
        "Running on kafka using dolfin version 1.5.0\n",
        "Creating mesh with 36 points \n",
        "Wrote  temp_Draw0_Cell0.geo\n",
        "Wrote "
       ]
      },
      {
       "output_type": "stream",
       "stream": "stderr",
       "text": [
        "DEBUG:FFC:Reusing form from cache.\n"
       ]
      },
      {
       "output_type": "stream",
       "stream": "stdout",
       "text": [
        " temp_Draw0_Cell0.xml\n",
        "Assuming everything within box dims are crowders"
       ]
      },
      {
       "output_type": "stream",
       "stream": "stderr",
       "text": [
        "DEBUG:FFC:Reusing form from cache.\n"
       ]
      },
      {
       "output_type": "stream",
       "stream": "stderr",
       "text": [
        "DEBUG:FFC:Reusing form from cache.\n"
       ]
      },
      {
       "output_type": "stream",
       "stream": "stdout",
       "text": [
        "\n",
        "Attempting to load "
       ]
      },
      {
       "output_type": "stream",
       "stream": "stderr",
       "text": [
        "DEBUG:FFC:Reusing form from cache.\n"
       ]
      },
      {
       "output_type": "stream",
       "stream": "stderr",
       "text": [
        "DEBUG:FFC:Reusing form from cache.\n"
       ]
      },
      {
       "output_type": "stream",
       "stream": "stderr",
       "text": [
        "DEBUG:FFC:Reusing form from cache.\n"
       ]
      },
      {
       "output_type": "stream",
       "stream": "stderr",
       "text": [
        "DEBUG:FFC:Reusing form from cache.\n"
       ]
      },
      {
       "output_type": "stream",
       "stream": "stderr",
       "text": [
        "DEBUG:FFC:Reusing form from cache.\n"
       ]
      },
      {
       "output_type": "stream",
       "stream": "stdout",
       "text": [
        " temp_Draw0_Cell0.xml\n",
        "Loading electrostatic potential from argument"
       ]
      },
      {
       "output_type": "stream",
       "stream": "stdout",
       "text": [
        "\n",
        "Using q=-1.000000 for the ligand\n",
        "Potential range: 0.896961 - 1.212542 "
       ]
      },
      {
       "output_type": "stream",
       "stream": "stderr",
       "text": [
        "DEBUG:FFC:Reusing form from cache.\n"
       ]
      },
      {
       "output_type": "stream",
       "stream": "stderr",
       "text": [
        "DEBUG:FFC:Reusing form from cache.\n"
       ]
      },
      {
       "output_type": "stream",
       "stream": "stderr",
       "text": [
        "DEBUG:FFC:Reusing form from cache.\n"
       ]
      },
      {
       "output_type": "stream",
       "stream": "stdout",
       "text": [
        "\n",
        "WARNING: Your potential does not seem to cross through 0 (reguirement at outer boundary\n",
        "Total volume (assuming rectangular): 3.600000e+05 [um^3]"
       ]
      },
      {
       "output_type": "stream",
       "stream": "stdout",
       "text": [
        "\n",
        "volume fraction (assuming rectangular): 7.177106e-01 [um^3]\n",
        "Adding in electrostatic component"
       ]
      },
      {
       "output_type": "stream",
       "stream": "stderr",
       "text": [
        "DEBUG:FFC:Reusing form from cache.\n"
       ]
      },
      {
       "output_type": "stream",
       "stream": "stdout",
       "text": [
        "\n",
        "pmf REMOVEME 0.896961,1.212542 "
       ]
      },
      {
       "output_type": "stream",
       "stream": "stdout",
       "text": [
        "\n",
        "Intfact: exp(p); 0.129411,0.220340 "
       ]
      },
      {
       "output_type": "stream",
       "stream": "stderr",
       "text": [
        "DEBUG:FFC:Reusing form from cache.\n"
       ]
      },
      {
       "output_type": "stream",
       "stream": "stderr",
       "text": [
        "DEBUG:FFC:Reusing form from cache.\n"
       ]
      },
      {
       "output_type": "stream",
       "stream": "stderr",
       "text": [
        "DEBUG:FFC:Reusing form from cache.\n"
       ]
      },
      {
       "output_type": "stream",
       "stream": "stderr",
       "text": [
        "DEBUG:FFC:Reusing form from cache.\n"
       ]
      },
      {
       "output_type": "stream",
       "stream": "stderr",
       "text": [
        "DEBUG:FFC:Reusing form from cache.\n"
       ]
      },
      {
       "output_type": "stream",
       "stream": "stderr",
       "text": [
        "DEBUG:FFC:Reusing form from cache.\n"
       ]
      },
      {
       "output_type": "stream",
       "stream": "stderr",
       "text": [
        "DEBUG:FFC:Reusing form from cache.\n"
       ]
      },
      {
       "output_type": "stream",
       "stream": "stdout",
       "text": [
        "\n",
        "Writing "
       ]
      },
      {
       "output_type": "stream",
       "stream": "stderr",
       "text": [
        "DEBUG:FFC:Reusing form from cache.\n"
       ]
      },
      {
       "output_type": "stream",
       "stream": "stderr",
       "text": [
        "DEBUG:FFC:Reusing form from cache.\n"
       ]
      },
      {
       "output_type": "stream",
       "stream": "stderr",
       "text": [
        "DEBUG:FFC:Reusing form from cache.\n"
       ]
      },
      {
       "output_type": "stream",
       "stream": "stderr",
       "text": [
        "DEBUG:FFC:Reusing form from cache.\n"
       ]
      },
      {
       "output_type": "stream",
       "stream": "stderr",
       "text": [
        "DEBUG:FFC:Reusing form from cache.\n"
       ]
      },
      {
       "output_type": "stream",
       "stream": "stderr",
       "text": [
        "DEBUG:FFC:Reusing form from cache.\n"
       ]
      },
      {
       "output_type": "stream",
       "stream": "stderr",
       "text": [
        "DEBUG:FFC:Reusing form from cache.\n"
       ]
      },
      {
       "output_type": "stream",
       "stream": "stderr",
       "text": [
        "DEBUG:FFC:Reusing form from cache.\n"
       ]
      },
      {
       "output_type": "stream",
       "stream": "stdout",
       "text": [
        " ./Molecular_unit.pvd\n",
        "omegasO "
       ]
      },
      {
       "output_type": "stream",
       "stream": "stdout",
       "text": [
        " [ 34780.79819679  34780.78347886]\n",
        "d_eff= [0.10,0.10] for d=1.00\n",
        "problem.volUnitCell 360000.0\n",
        "Deff/HS [ 0.09661333  0.09661329] 0.628939210886\n",
        "volume Fraction  [0.71771063585085815]\n",
        "Creating mesh with 36 points \n",
        "Wrote  temp_Draw0_Cell0.geo\n",
        "Wrote "
       ]
      },
      {
       "output_type": "stream",
       "stream": "stderr",
       "text": [
        "DEBUG:FFC:Reusing form from cache.\n"
       ]
      },
      {
       "output_type": "stream",
       "stream": "stdout",
       "text": [
        " temp_Draw0_Cell0.xml\n",
        "Assuming everything within box dims are crowders"
       ]
      },
      {
       "output_type": "stream",
       "stream": "stderr",
       "text": [
        "DEBUG:FFC:Reusing form from cache.\n"
       ]
      },
      {
       "output_type": "stream",
       "stream": "stderr",
       "text": [
        "DEBUG:FFC:Reusing form from cache.\n"
       ]
      },
      {
       "output_type": "stream",
       "stream": "stdout",
       "text": [
        "\n",
        "Attempting to load "
       ]
      },
      {
       "output_type": "stream",
       "stream": "stderr",
       "text": [
        "DEBUG:FFC:Reusing form from cache.\n"
       ]
      },
      {
       "output_type": "stream",
       "stream": "stderr",
       "text": [
        "DEBUG:FFC:Reusing form from cache.\n"
       ]
      },
      {
       "output_type": "stream",
       "stream": "stderr",
       "text": [
        "DEBUG:FFC:Reusing form from cache.\n"
       ]
      },
      {
       "output_type": "stream",
       "stream": "stderr",
       "text": [
        "DEBUG:FFC:Reusing form from cache.\n"
       ]
      },
      {
       "output_type": "stream",
       "stream": "stderr",
       "text": [
        "DEBUG:FFC:Reusing form from cache.\n"
       ]
      },
      {
       "output_type": "stream",
       "stream": "stdout",
       "text": [
        " temp_Draw0_Cell0.xml\n",
        "Loading electrostatic potential from argument"
       ]
      },
      {
       "output_type": "stream",
       "stream": "stdout",
       "text": [
        "\n",
        "Using q=-1.000000 for the ligand\n",
        "Potential range: 0.804179 - 1.212542 "
       ]
      },
      {
       "output_type": "stream",
       "stream": "stderr",
       "text": [
        "DEBUG:FFC:Reusing form from cache.\n"
       ]
      },
      {
       "output_type": "stream",
       "stream": "stderr",
       "text": [
        "DEBUG:FFC:Reusing form from cache.\n"
       ]
      },
      {
       "output_type": "stream",
       "stream": "stderr",
       "text": [
        "DEBUG:FFC:Reusing form from cache.\n"
       ]
      },
      {
       "output_type": "stream",
       "stream": "stdout",
       "text": [
        "\n",
        "WARNING: Your potential does not seem to cross through 0 (reguirement at outer boundary\n",
        "Total volume (assuming rectangular): 3.600000e+05 [um^3]"
       ]
      },
      {
       "output_type": "stream",
       "stream": "stdout",
       "text": [
        "\n",
        "volume fraction (assuming rectangular): 7.177106e-01 [um^3]\n",
        "Adding in electrostatic component"
       ]
      },
      {
       "output_type": "stream",
       "stream": "stderr",
       "text": [
        "DEBUG:FFC:Reusing form from cache.\n"
       ]
      }
     ]
    },
    {
     "cell_type": "code",
     "collapsed": false,
     "input": [
      "#print \"Deff_z=-1=\", dxsNeg\n",
      "#print \"Deff_z=0=\",dxsNeut\n",
      "#print \"Deff_z=1=\",dxsPos\n",
      "print \"Volume Fraction\",volFracs\n",
      "print \"Normalized effective diffusivity\", dxsNegs_list\n",
      "#print len(dxsNegs_list), len(LambdaDs)\n",
      "#print \"surface potentials (V)=\", parms.pot*1000"
     ],
     "language": "python",
     "metadata": {},
     "outputs": []
    },
    {
     "cell_type": "code",
     "collapsed": false,
     "input": [
      "# HS Bound updated with electrostatic \n",
      "KappaH= kappa*H\n",
      "gamma = 0.7\n",
      "tetha = 0.5   #gamma = 0.8            # attractive interaction\n",
      "R= radGyr*1e-10  \n",
      "L = length*1e-10 \n",
      "phia = ((pi*(R+gamma*LambdaDs)**2*N)/L**2)         # repulsive interaction\n",
      "#phia = (pi*(R-gamma*LambdaDs)**2*N)/(tetha*L**2)  # attractive interaction\n",
      "phi = 1-phia\n",
      "Dhs = 2*phi/(3-phi)\n",
      "\n",
      "## Pete's analytical derivation\n",
      "q = 1.609e-19\n",
      "kb = 1.38e-23\n",
      "beta = 1.609e-19/(kb * T) \n",
      "print beta\n",
      "\n",
      "alpha = beta * parms.V0\n",
      "print alpha\n",
      "alpha = -parms.V0/25.6e-3\n",
      "print alpha\n",
      "\n",
      "reff = LambdaDs - exp(-alpha) * ((LambdaDs - R) + (kappa*alpha/2)*(LambdaDs-R)**2)\n",
      "\n",
      "#                  LambdaDs-R \n",
      "#                  R-LambdaDs\n",
      "\n",
      "phipa = (pi*reff**2*N)/L**2\n",
      "phip = 1- phipa\n",
      "Dphs = (2*phip/(3-phip))\n",
      "\n",
      "##\n",
      "\n",
      "plt.plot(KappaH, dxsNegs_list,'k', label=\"Smol. Homog\",\n",
      " linewidth=2.0)\n",
      "#\n",
      "#plt.plot(KappaH, dxsNegs_list,'b^', label=\"Continuum\", markersize=10)\n",
      "#plt.plot(KappaH,Dhs,'ro', label=\"$D_{HS}$ with electrostatic\", markersize=6)  #mfc='None',\n",
      "\n",
      "#plt.plot(KappaH, Dphs,'k--s', label=\"Analytic by PKH\", linewidth=2.0)\n",
      "\n",
      "\n",
      "plt.legend(loc=4)\n",
      "plt.tick_params(axis='both', which='major', labelsize=18)\n",
      "plt.tick_params(axis='both', which='minor', labelsize=18)\n",
      "plt.xlabel('$\\kappa$H',fontsize=20)\n",
      "plt.ylabel('$D_{Eff}/D_{Bulk}$',fontsize=20)\n",
      "plt.show()"
     ],
     "language": "python",
     "metadata": {},
     "outputs": [
      {
       "output_type": "stream",
       "stream": "stdout",
       "text": [
        "39.1255714425\n",
        "-751.210971695\n",
        "750.0\n"
       ]
      },
      {
       "metadata": {},
       "output_type": "display_data",
       "png": "[encoded data removed]",
       "text": [
        "<matplotlib.figure.Figure at 0x7fc601818a10>"
       ]
      }
     ],
     "prompt_number": 65
    },
    {
     "cell_type": "code",
     "collapsed": false,
     "input": [
      "cols = 2 # 3 lig charges* mean/std + vol Frac + HS\n",
      "outar = np.zeros([np.shape(LambdaDs)[0],cols])\n",
      "\n",
      "outar[:,0] = np.array(KappaH)\n",
      "outar[:,1] = np.array(dxsNegs_list)\n",
      "#outar[:,2] = np.array(Dhs)\n",
      "#outar[:,3] = np.array(parms.ionC2)\n",
      "#outar[:,4] = np.array(parms.pot)\n",
      "\n",
      "outName = \"0.717_attractive_sigma\"\n",
      "#print outar\n",
      "np.savetxt(outName,outar)\n",
      "\n",
      "\n",
      "\n"
     ],
     "language": "python",
     "metadata": {},
     "outputs": [],
     "prompt_number": 66
    },
    {
     "cell_type": "code",
     "collapsed": false,
     "input": [
      "print H*1e9, \"nm\"\n",
      "print parms.zLig\n",
      "print parms.sigma, \"C/m^2\"\n"
     ],
     "language": "python",
     "metadata": {},
     "outputs": [
      {
       "output_type": "stream",
       "stream": "stdout",
       "text": [
        "14.0 nm\n",
        "-1.0\n",
        "0.01 C/m^2\n"
       ]
      }
     ],
     "prompt_number": 132
    },
    {
     "cell_type": "code",
     "collapsed": false,
     "input": [
      "sur_pot = np.array([-5e-3, -10e-3, -15e-3, -20e-3, -40e-3])\n",
      "LambdaDs = np.sqrt((eps0*epsf*R*T)/(F*F*parms.ionC2*1e3)) # EDL thickness nm .\n",
      "parms.pot = (parms.sigma*LambdaDs)/(eps0*epsf) # graham eq."
     ],
     "language": "python",
     "metadata": {},
     "outputs": []
    },
    {
     "cell_type": "code",
     "collapsed": false,
     "input": [
      "Volume Fraction [0.61625299487305218]\n",
      "Normalized effective diffusivity [ 0.55566791  0.53410955  0.51533346  0.48802757  0.47645137  0.46550238\n",
      "  0.46013143  0.45574442  0.44651474  0.44525108]  # -0.001 c/m2\n",
      "surface potentials (V)= [-0.0061864  -0.00522847 -0.00437445 -0.0030932  -0.00252559 -0.00195631\n",
      " -0.00165339 -0.00138332 -0.00061864 -0.00043744]"
     ],
     "language": "python",
     "metadata": {},
     "outputs": []
    },
    {
     "cell_type": "code",
     "collapsed": false,
     "input": [
      "1.5*25.6\n"
     ],
     "language": "python",
     "metadata": {},
     "outputs": [
      {
       "metadata": {},
       "output_type": "pyout",
       "prompt_number": 66,
       "text": [
        "38.400000000000006"
       ]
      }
     ],
     "prompt_number": 66
    },
    {
     "cell_type": "code",
     "collapsed": false,
     "input": [],
     "language": "python",
     "metadata": {},
     "outputs": []
    }
   ],
   "metadata": {}
  }
 ]
}