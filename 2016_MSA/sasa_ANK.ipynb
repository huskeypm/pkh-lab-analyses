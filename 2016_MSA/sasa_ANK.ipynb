{
 "metadata": {
  "name": "",
  "signature": "sha256:31bcf8bd54cb3caaaae46732183455629deff5f925b4c8922409b62f984656f0"
 },
 "nbformat": 3,
 "nbformat_minor": 0,
 "worksheets": [
  {
   "cells": [
    {
     "cell_type": "markdown",
     "metadata": {},
     "source": [
      "### SASA \n",
      "- computed values according to 151111_sasa.tex (summarized below), and stored results in pvtable.tex\n",
      "\n",
      "Using VMD/tcl:\n",
      "<code>\n",
      "\n",
      "set hyd [atomselect  0 \"protein and hydrophobic and noh\"]\n",
      "set sasa [measure sasa 1.4 $hyd]\n",
      "echo hydrophob $sasa\n",
      "\n",
      "set hyd [atomselect  0 \"protein and not hydrophobic and noh\"]\n",
      "set sasa [measure sasa 1.4 $hyd]\n",
      "echo hydrophil $sasa\n",
      "\n",
      "</code>\n",
      "\n",
      "- cut and pasting here"
     ]
    },
    {
     "cell_type": "code",
     "collapsed": false,
     "input": [
      "class empty():\n",
      "    def __init__(self,label,delSASAhydrophob,delSASAhydrophil,delGCa):\n",
      "        self.label = label\n",
      "        self.delSASAhydrophob = delSASAhydrophob \n",
      "        self.delSASAhydrophil = delSASAhydrophil \n",
      "        self.delGCa = delGCa         "
     ],
     "language": "python",
     "metadata": {},
     "outputs": [],
     "prompt_number": 13
    },
    {
     "cell_type": "code",
     "collapsed": false,
     "input": [
      "alpharat = empty(\"aPV rat\",-183.,590.,-22.)\n",
      "betarat = empty(\"bPV rat\",-309.,225.,-18.4)\n",
      "ath = empty(\"ATH\",-705.,-500.,-22.3)\n",
      "cpv3 = empty(\"CPV3\",-229.,-468.,-20.4)\n",
      "\n",
      "cases = [alpharat,betarat,ath,cpv3]"
     ],
     "language": "python",
     "metadata": {},
     "outputs": [],
     "prompt_number": 15
    },
    {
     "cell_type": "code",
     "collapsed": false,
     "input": [
      "fig, ax1 = plt.subplots()\n",
      "\n",
      "inds = np.array(range(len(cases)))\n",
      "width = 0.5\n",
      "\n",
      "# dSASA\n",
      "vs = [j.delSASAhydrophob for i,j in enumerate(cases)]\n",
      "rects1=ax1.bar(inds,vs, width=width,color=\"red\",label=\"Hydrophobic\")\n",
      "\n",
      "vs = [j.delSASAhydrophil for i,j in enumerate(cases)]\n",
      "rects2 = ax1.bar(inds+width,vs, width=width,color=\"blue\",label=\"Hydrophilic\")\n",
      "\n",
      "ax1.set_ylabel('$\\Delta SASA\\;[\\AA]$ ')\n",
      "ax1.set_title('Solvent Accessible Surface Area during Calcium binding')\n",
      "ax1.set_xticks(inds + width)\n",
      "vs = [j.label for i,j in enumerate(cases)]\n",
      "ax1.set_xticklabels(vs)\n",
      "\n",
      "ax1.legend((rects1[0], rects2[0]), ('Hydrophobic', 'Hydrophilic'))\n",
      "\n",
      "\n",
      "# Ca \n",
      "ax2 = ax1.twinx()\n",
      "vs = [j.delGCa for i,j in enumerate(cases)]\n",
      "rects3 = ax2.scatter(inds+width,vs, color=\"black\",label=\"$\\Delta$ GCa\")\n",
      "ax2.set_ylabel(\"$\\Delta G_{Ca}$ [kcal/mol]\")\n",
      "ax2.legend(loc=3)\n",
      "plt.gcf().savefig(\"/home/AD/pmke226/grants/151101_EF_NSF/figs/pvsasa.png\",dpi=300)\n"
     ],
     "language": "python",
     "metadata": {},
     "outputs": [
      {
       "metadata": {},
       "output_type": "display_data",
       "png": "[encoded data removed]",
       "text": [
        "<matplotlib.figure.Figure at 0x7f5fc4466950>"
       ]
      }
     ],
     "prompt_number": 49
    },
    {
     "cell_type": "markdown",
     "metadata": {},
     "source": [
      "## <font color=red> DATA BELOW ARE HYPOTHESIS AND ARE NOT ACTUAL EXPTL VALUES!!!!</font>"
     ]
    },
    {
     "cell_type": "markdown",
     "metadata": {},
     "source": [
      "### Selectivity plots "
     ]
    },
    {
     "cell_type": "code",
     "collapsed": false,
     "input": [
      "multiple_bars = plt.figure()\n",
      "\n",
      "width=0.25\n",
      "\n",
      "\n",
      "muCa = {u'WT':-10, u'S55D': -9.8, u'E52D':-9.7}\n",
      "muMg = {u'WT': -5, u'S55D': -8.0, u'E52D':-7.9}\n",
      "\n",
      "\n",
      "\n",
      "# Ca\n",
      "inds = np.arange(len(muCa))\n",
      "plt.bar(inds, muCa.values(), color='b',align='center',width=width, label=\"Ca\")\n",
      "# Mg\n",
      "plt.bar(inds+width, muMg.values(), color='g',align='center',width=width, label=\"Mg\")\n",
      "\n",
      "plt.xticks(inds, muCa.keys())\n",
      "\n",
      "plt.legend()\n",
      "plt.ylabel(\"$\\mu$ kcal/mol\")\n",
      "plt.title(\"Ideal chem potent data (NOT REAL DATA YET)\")\n",
      "plt.gcf().savefig(\"/home/AD/pmke226/grants/151101_EF_NSF/figs/barsel.png\")"
     ],
     "language": "python",
     "metadata": {},
     "outputs": [
      {
       "metadata": {},
       "output_type": "display_data",
       "png": "[encoded data removed]",
       "text": [
        "<matplotlib.figure.Figure at 0x7fd57fddb910>"
       ]
      }
     ],
     "prompt_number": 19
    },
    {
     "cell_type": "markdown",
     "metadata": {},
     "source": [
      "### RMSF/MMPBSA"
     ]
    },
    {
     "cell_type": "code",
     "collapsed": false,
     "input": [
      "multiple_bars = plt.figure()\n",
      "\n",
      "width=0.25\n",
      "\n",
      "\n",
      "RMSFapo = {u'bPV':4, u'dAB': 7, u'L85F':3}\n",
      "RMSFholo = {u'bPV':2, u'dAB': 2.2, u'L85F':1.9}\n",
      "logKds = {u'bPV':-9, u'dAB': -7, u'L85F':-10}\n",
      "fig, ax1 = plt.subplots()\n",
      "\n",
      "## RMSFs\n",
      "# Ca\n",
      "inds = np.arange(len(RMSFapo))\n",
      "ax1.bar(inds, RMSFapo.values(), color='b',align='center',width=width, label=\"apo\")\n",
      "# Mg\n",
      "ax1.bar(inds+width, RMSFholo.values(), color='g',align='center',width=width, label=\"holo\")\n",
      "\n",
      "## -Log KDs\n",
      "ax2=twinx()\n",
      "ax2.bar(inds+2*width, -1*(np.asarray(logKds.values())), color='r',align='center',width=width, label=\"holo\")\n",
      "\n",
      "ax2.set_xticks(inds, RMSFapo.keys())\n",
      "plt.xticks(inds, RMSFapo.keys())\n",
      "\n",
      "ax1.legend(loc=2)\n",
      "ax1.set_ylabel(\"RMSF [A]\")\n",
      "ax2.set_ylabel(\"-logKd\")\n",
      "plt.title(\"Ideal RMSF (NOT REAL DATA YET)\")\n",
      "plt.gcf().savefig(\"/home/AD/pmke226/grants/151101_EF_NSF/figs/score.png\")"
     ],
     "language": "python",
     "metadata": {},
     "outputs": [
      {
       "metadata": {},
       "output_type": "display_data",
       "text": [
        "<matplotlib.figure.Figure at 0x7fd57f1c2e90>"
       ]
      },
      {
       "metadata": {},
       "output_type": "display_data",
       "png": "[encoded data removed]",
       "text": [
        "<matplotlib.figure.Figure at 0x7fd57f880090>"
       ]
      }
     ],
     "prompt_number": 40
    },
    {
     "cell_type": "code",
     "collapsed": false,
     "input": [
      "#hphil PV\n",
      "Chphil1 = np.loadtxt(\"/net/share/anku223/mdjobsbpv/CAWT_holo_amber_1/sasa_hphil.txt\")\n",
      "Chphil2 = np.loadtxt(\"/net/share/anku223/mdjobsbpv/CAWT_holo_amber_2/sasa_hphil.txt\")\n",
      "Chphil3 = np.loadtxt(\"/net/share/anku223/mdjobsbpv/CAWT_holo_amber_3/sasa_hphil.txt\")\n",
      "Mhphil1 = np.loadtxt(\"/net/share/anku223/mdjobsbpv/MGWT_SASA/one/sasa_hphil.txt\")\n",
      "Mhphil2 = np.loadtxt(\"/net/share/anku223/mdjobsbpv/MGWT_SASA/two/sasa_hphil.txt\")\n",
      "Mhphil3 = np.loadtxt(\"/net/share/anku223/mdjobsbpv/MGWT_SASA/three/sasa_hphil.txt\")\n",
      "Ahphil1 = np.loadtxt(\"/net/share/anku223/mdjobsbpv/WT_apo_amber_1/sasa_hphil.txt\")\n",
      "Ahphil2 = np.loadtxt(\"/net/share/anku223/mdjobsbpv/WT_apo_amber_2/sasa_hphil.txt\")\n",
      "Ahphil3 = np.loadtxt(\"/net/share/anku223/mdjobsbpv/WT_apo_amber_3/sasa_hphil.txt\")\n",
      "\n",
      "CI1 = np.mean(Chphil1)\n",
      "CI1err = np.std(Chphil1)\n",
      "\n",
      "CI2 = np.mean(Chphil2)\n",
      "CI2err = np.std(Chphil2)\n",
      "\n",
      "CI3 = np.mean(Chphil3)\n",
      "CI3err = np.std(Chphil3)\n",
      "\n",
      "\n",
      "MI1 = np.mean(Mhphil1)\n",
      "MI1err = np.std(Mhphil1)\n",
      "\n",
      "MI2 = np.mean(Mhphil2)\n",
      "MI2err = np.std(Mhphil2)\n",
      "\n",
      "MI3 = np.mean(Mhphil3)\n",
      "MI3err = np.std(Mhphil3)\n",
      "\n",
      "\n",
      "AI1 = np.mean(Ahphil1)\n",
      "AI1err = np.std(Ahphil1)\n",
      "\n",
      "AI2 = np.mean(Ahphil2)\n",
      "AI2err = np.std(Ahphil2)\n",
      "\n",
      "AI3 = np.mean(Ahphil3)\n",
      "AI3err = np.std(Ahphil3)"
     ],
     "language": "python",
     "metadata": {},
     "outputs": [],
     "prompt_number": 1
    },
    {
     "cell_type": "code",
     "collapsed": false,
     "input": [
      "\n",
      "font = {'weight' : 'bold',\n",
      "        'size'   : 10}\n",
      "matplotlib.rc('font', **font)\n",
      "\n",
      "N = 3\n",
      "\n",
      "ind = np.arange(N)  # the x locations for the groups\n",
      "width = 0.25 \n",
      "CIMeans = (CI1,CI2,CI3)\n",
      "CIStd = (CI1err,CI2err,CI3err)\n",
      "      # the width of the bars\n",
      "\n",
      "fig, ax = plt.subplots()\n",
      "rects1 = ax.bar((0,0.25,0.5), CIMeans, width, color='b', yerr=CIStd)\n",
      "\n",
      "MIMeans = (MI1,MI2,MI3)\n",
      "MIStd = (MI1err,MI2err,MI3err)\n",
      "rects2 = ax.bar((1.0,1.25,1.5), MIMeans, width, color='r', yerr=MIStd)\n",
      "\n",
      "AIMeans = (AI1,AI2,AI3)\n",
      "AIStd = (AI1err,AI2err,AI3err)\n",
      "rects3 = ax.bar((2.0,2.25,2.5), AIMeans, width, color='gray', yerr=AIStd)\n",
      "\n",
      "\n",
      "\n",
      "# add some text for labels, title and axes ticks\n",
      "ax.set_ylabel('SASA ($\\AA ^ 2$)', **font)\n",
      "ax.set_title('SASA for Ca-bound, Mg-bound, and Apo PV \\n Hydrophilic Residues', **font)\n",
      "ax.set_xticks(ind + 1.5*width)\n",
      "ax.set_xticklabels(('Ca', 'Mg', 'Apo'))\n",
      "\n",
      "#ax.legend((rects1[0], rects2[0], rects3[0]), ('Ca', 'Mg', 'Apo'), loc='best')\n",
      "\n",
      "\n",
      "#autolabel(rects1)\n",
      "#autolabel(rects2)\n",
      "#autolabel(rects3)\n",
      "\n",
      "\n",
      "plt.gcf().savefig(\"/net/share/shared/papers/150611_MSA_AS/misc/SASA_hphil.png\", dpi=300.)"
     ],
     "language": "python",
     "metadata": {},
     "outputs": [
      {
       "metadata": {},
       "output_type": "display_data",
       "png": "[encoded data removed]",
       "text": [
        "<matplotlib.figure.Figure at 0x7f89c44a1550>"
       ]
      }
     ],
     "prompt_number": 21
    },
    {
     "cell_type": "code",
     "collapsed": false,
     "input": [
      "#hphob PV\n",
      "Chphob1 = np.loadtxt(\"/net/share/anku223/mdjobsbpv/CAWT_holo_amber_1/sasa_hphob.txt\")\n",
      "Chphob2 = np.loadtxt(\"/net/share/anku223/mdjobsbpv/CAWT_holo_amber_2/sasa_hphob.txt\")\n",
      "Chphob3 = np.loadtxt(\"/net/share/anku223/mdjobsbpv/CAWT_holo_amber_3/sasa_hphob.txt\")\n",
      "Mhphob1 = np.loadtxt(\"/net/share/anku223/mdjobsbpv/MGWT_SASA/one/sasa_hphob.txt\")\n",
      "Mhphob2 = np.loadtxt(\"/net/share/anku223/mdjobsbpv/MGWT_SASA/two/sasa_hphob.txt\")\n",
      "Mhphob3 = np.loadtxt(\"/net/share/anku223/mdjobsbpv/MGWT_SASA/three/sasa_hphob.txt\")\n",
      "Ahphob1 = np.loadtxt(\"/net/share/anku223/mdjobsbpv/WT_apo_amber_1/sasa_hphob.txt\")\n",
      "Ahphob2 = np.loadtxt(\"/net/share/anku223/mdjobsbpv/WT_apo_amber_2/sasa_hphob.txt\")\n",
      "Ahphob3 = np.loadtxt(\"/net/share/anku223/mdjobsbpv/WT_apo_amber_3/sasa_hphob.txt\")\n",
      "\n",
      "CO1 = np.mean(Chphob1)\n",
      "CO1err = np.std(Chphob1)\n",
      "\n",
      "CO2 = np.mean(Chphob2)\n",
      "CO2err = np.std(Chphob2)\n",
      "\n",
      "CO3 = np.mean(Chphob3)\n",
      "CO3err = np.std(Chphob3)\n",
      "\n",
      "\n",
      "MO1 = np.mean(Mhphob1)\n",
      "MO1err = np.std(Mhphob1)\n",
      "\n",
      "MO2 = np.mean(Mhphob2)\n",
      "MO2err = np.std(Mhphob2)\n",
      "\n",
      "MO3 = np.mean(Mhphob3)\n",
      "MO3err = np.std(Mhphob3)\n",
      "\n",
      "\n",
      "AO1 = np.mean(Ahphob1)\n",
      "AO1err = np.std(Ahphob1)\n",
      "\n",
      "AO2 = np.mean(Ahphob2)\n",
      "AO2err = np.std(Ahphob2)\n",
      "\n",
      "AO3 = np.mean(Ahphob3)\n",
      "AO3err = np.std(Ahphob3)"
     ],
     "language": "python",
     "metadata": {},
     "outputs": [],
     "prompt_number": 10
    },
    {
     "cell_type": "code",
     "collapsed": false,
     "input": [
      "font = {'weight' : 'bold',\n",
      "        'size'   : 10}\n",
      "matplotlib.rc('font', **font)\n",
      "\n",
      "N = 3\n",
      "\n",
      "ind = np.arange(N)  # the x locations for the groups\n",
      "width = 0.25 \n",
      "COMeans = (CO1,CO2,CO3)\n",
      "COStd = (CO1err,CO2err,CO3err)\n",
      "      # the width of the bars\n",
      "\n",
      "fig, ax = plt.subplots()\n",
      "rects1 = ax.bar((0,0.25,0.5), COMeans, width, color='b', yerr=COStd)\n",
      "\n",
      "MOMeans = (MO1,MO2,MO3)\n",
      "MOStd = (MO1err,MO2err,MO3err)\n",
      "rects2 = ax.bar((1.0,1.25,1.5), MOMeans, width, color='r', yerr=MOStd)\n",
      "\n",
      "AOMeans = (AO1,AO2,AO3)\n",
      "AOStd = (AO1err,AO2err,AO3err)\n",
      "rects3 = ax.bar((2.0,2.25,2.5), AOMeans, width, color='gray', yerr=AOStd)\n",
      "\n",
      "\n",
      "\n",
      "# add some text for labels, title and axes ticks\n",
      "ax.set_ylabel('SASA ($\\AA ^ 2$)', **font)\n",
      "ax.set_title('SASA for Ca-bound, Mg-bound, and Apo PV \\n Hydrophobic Residues', **font)\n",
      "ax.set_xticks(ind + 1.5*width)\n",
      "ax.set_xticklabels(('Ca', 'Mg', 'Apo'))\n",
      "\n",
      "#ax.legend((rects1[0], rects2[0], rects3[0]), ('Ca', 'Mg', 'Apo'), loc='best')\n",
      "plt.ylim(0,9000)\n",
      "\n",
      "\n",
      "\n",
      "\n",
      "plt.gcf().savefig(\"/net/share/shared/papers/150611_MSA_AS/misc/SASA_hphob.png\", dpi=300.)"
     ],
     "language": "python",
     "metadata": {},
     "outputs": [
      {
       "metadata": {},
       "output_type": "display_data",
       "png": "[encoded data removed]",
       "text": [
        "<matplotlib.figure.Figure at 0x7f89c4791e10>"
       ]
      }
     ],
     "prompt_number": 20
    },
    {
     "cell_type": "code",
     "collapsed": false,
     "input": [],
     "language": "python",
     "metadata": {},
     "outputs": []
    }
   ],
   "metadata": {}
  }
 ]
}